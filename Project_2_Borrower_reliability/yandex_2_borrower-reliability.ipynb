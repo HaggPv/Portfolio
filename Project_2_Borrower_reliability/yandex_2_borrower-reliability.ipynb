{
 "cells": [
  {
   "cell_type": "markdown",
   "id": "386f2ae7",
   "metadata": {
    "deletable": false,
    "editable": false,
    "id": "386f2ae7"
   },
   "source": [
    "# Исследование надежности заемщиков\n"
   ]
  },
  {
   "cell_type": "markdown",
   "id": "ffe86f65",
   "metadata": {
    "deletable": false,
    "editable": false,
    "id": "ffe86f65"
   },
   "source": [
    "Во второй части проекта вы выполните шаги 3 и 4. Их вручную проверит ревьюер.\n",
    "Чтобы вам не пришлось писать код заново для шагов 1 и 2, мы добавили авторские решения в ячейки с кодом. \n",
    "\n"
   ]
  },
  {
   "cell_type": "markdown",
   "id": "26613308",
   "metadata": {
    "deletable": false,
    "editable": false,
    "id": "26613308"
   },
   "source": [
    "## Откройте таблицу и изучите общую информацию о данных"
   ]
  },
  {
   "cell_type": "markdown",
   "id": "3c9f838e",
   "metadata": {
    "deletable": false,
    "editable": false,
    "id": "3c9f838e"
   },
   "source": [
    "**Задание 1. Импортируйте библиотеку pandas. Считайте данные из csv-файла в датафрейм и сохраните в переменную `data`. Путь к файлу:**\n",
    "\n",
    "`/datasets/data.csv`"
   ]
  },
  {
   "cell_type": "code",
   "execution_count": 1,
   "id": "77a68a90",
   "metadata": {
    "deletable": false,
    "id": "77a68a90"
   },
   "outputs": [],
   "source": [
    "import pandas as pd\n",
    "\n",
    "try:\n",
    "    data = pd.read_csv('/datasets/data.csv')\n",
    "except:\n",
    "    data = pd.read_csv('https://code.s3.yandex.net/datasets/data.csv')"
   ]
  },
  {
   "cell_type": "markdown",
   "id": "45365635",
   "metadata": {
    "deletable": false,
    "editable": false,
    "id": "45365635"
   },
   "source": [
    "**Задание 2. Выведите первые 20 строчек датафрейма `data` на экран.**"
   ]
  },
  {
   "cell_type": "code",
   "execution_count": 2,
   "id": "b0451a9a",
   "metadata": {
    "deletable": false,
    "id": "b0451a9a",
    "outputId": "1a8f3ef2-d323-4ec2-ddf7-89670b5944c4",
    "scrolled": true
   },
   "outputs": [
    {
     "data": {
      "text/html": [
       "<div>\n",
       "<style scoped>\n",
       "    .dataframe tbody tr th:only-of-type {\n",
       "        vertical-align: middle;\n",
       "    }\n",
       "\n",
       "    .dataframe tbody tr th {\n",
       "        vertical-align: top;\n",
       "    }\n",
       "\n",
       "    .dataframe thead th {\n",
       "        text-align: right;\n",
       "    }\n",
       "</style>\n",
       "<table border=\"1\" class=\"dataframe\">\n",
       "  <thead>\n",
       "    <tr style=\"text-align: right;\">\n",
       "      <th></th>\n",
       "      <th>children</th>\n",
       "      <th>days_employed</th>\n",
       "      <th>dob_years</th>\n",
       "      <th>education</th>\n",
       "      <th>education_id</th>\n",
       "      <th>family_status</th>\n",
       "      <th>family_status_id</th>\n",
       "      <th>gender</th>\n",
       "      <th>income_type</th>\n",
       "      <th>debt</th>\n",
       "      <th>total_income</th>\n",
       "      <th>purpose</th>\n",
       "    </tr>\n",
       "  </thead>\n",
       "  <tbody>\n",
       "    <tr>\n",
       "      <th>0</th>\n",
       "      <td>1</td>\n",
       "      <td>-8437.673028</td>\n",
       "      <td>42</td>\n",
       "      <td>высшее</td>\n",
       "      <td>0</td>\n",
       "      <td>женат / замужем</td>\n",
       "      <td>0</td>\n",
       "      <td>F</td>\n",
       "      <td>сотрудник</td>\n",
       "      <td>0</td>\n",
       "      <td>253875.639453</td>\n",
       "      <td>покупка жилья</td>\n",
       "    </tr>\n",
       "    <tr>\n",
       "      <th>1</th>\n",
       "      <td>1</td>\n",
       "      <td>-4024.803754</td>\n",
       "      <td>36</td>\n",
       "      <td>среднее</td>\n",
       "      <td>1</td>\n",
       "      <td>женат / замужем</td>\n",
       "      <td>0</td>\n",
       "      <td>F</td>\n",
       "      <td>сотрудник</td>\n",
       "      <td>0</td>\n",
       "      <td>112080.014102</td>\n",
       "      <td>приобретение автомобиля</td>\n",
       "    </tr>\n",
       "    <tr>\n",
       "      <th>2</th>\n",
       "      <td>0</td>\n",
       "      <td>-5623.422610</td>\n",
       "      <td>33</td>\n",
       "      <td>Среднее</td>\n",
       "      <td>1</td>\n",
       "      <td>женат / замужем</td>\n",
       "      <td>0</td>\n",
       "      <td>M</td>\n",
       "      <td>сотрудник</td>\n",
       "      <td>0</td>\n",
       "      <td>145885.952297</td>\n",
       "      <td>покупка жилья</td>\n",
       "    </tr>\n",
       "    <tr>\n",
       "      <th>3</th>\n",
       "      <td>3</td>\n",
       "      <td>-4124.747207</td>\n",
       "      <td>32</td>\n",
       "      <td>среднее</td>\n",
       "      <td>1</td>\n",
       "      <td>женат / замужем</td>\n",
       "      <td>0</td>\n",
       "      <td>M</td>\n",
       "      <td>сотрудник</td>\n",
       "      <td>0</td>\n",
       "      <td>267628.550329</td>\n",
       "      <td>дополнительное образование</td>\n",
       "    </tr>\n",
       "    <tr>\n",
       "      <th>4</th>\n",
       "      <td>0</td>\n",
       "      <td>340266.072047</td>\n",
       "      <td>53</td>\n",
       "      <td>среднее</td>\n",
       "      <td>1</td>\n",
       "      <td>гражданский брак</td>\n",
       "      <td>1</td>\n",
       "      <td>F</td>\n",
       "      <td>пенсионер</td>\n",
       "      <td>0</td>\n",
       "      <td>158616.077870</td>\n",
       "      <td>сыграть свадьбу</td>\n",
       "    </tr>\n",
       "    <tr>\n",
       "      <th>5</th>\n",
       "      <td>0</td>\n",
       "      <td>-926.185831</td>\n",
       "      <td>27</td>\n",
       "      <td>высшее</td>\n",
       "      <td>0</td>\n",
       "      <td>гражданский брак</td>\n",
       "      <td>1</td>\n",
       "      <td>M</td>\n",
       "      <td>компаньон</td>\n",
       "      <td>0</td>\n",
       "      <td>255763.565419</td>\n",
       "      <td>покупка жилья</td>\n",
       "    </tr>\n",
       "    <tr>\n",
       "      <th>6</th>\n",
       "      <td>0</td>\n",
       "      <td>-2879.202052</td>\n",
       "      <td>43</td>\n",
       "      <td>высшее</td>\n",
       "      <td>0</td>\n",
       "      <td>женат / замужем</td>\n",
       "      <td>0</td>\n",
       "      <td>F</td>\n",
       "      <td>компаньон</td>\n",
       "      <td>0</td>\n",
       "      <td>240525.971920</td>\n",
       "      <td>операции с жильем</td>\n",
       "    </tr>\n",
       "    <tr>\n",
       "      <th>7</th>\n",
       "      <td>0</td>\n",
       "      <td>-152.779569</td>\n",
       "      <td>50</td>\n",
       "      <td>СРЕДНЕЕ</td>\n",
       "      <td>1</td>\n",
       "      <td>женат / замужем</td>\n",
       "      <td>0</td>\n",
       "      <td>M</td>\n",
       "      <td>сотрудник</td>\n",
       "      <td>0</td>\n",
       "      <td>135823.934197</td>\n",
       "      <td>образование</td>\n",
       "    </tr>\n",
       "    <tr>\n",
       "      <th>8</th>\n",
       "      <td>2</td>\n",
       "      <td>-6929.865299</td>\n",
       "      <td>35</td>\n",
       "      <td>ВЫСШЕЕ</td>\n",
       "      <td>0</td>\n",
       "      <td>гражданский брак</td>\n",
       "      <td>1</td>\n",
       "      <td>F</td>\n",
       "      <td>сотрудник</td>\n",
       "      <td>0</td>\n",
       "      <td>95856.832424</td>\n",
       "      <td>на проведение свадьбы</td>\n",
       "    </tr>\n",
       "    <tr>\n",
       "      <th>9</th>\n",
       "      <td>0</td>\n",
       "      <td>-2188.756445</td>\n",
       "      <td>41</td>\n",
       "      <td>среднее</td>\n",
       "      <td>1</td>\n",
       "      <td>женат / замужем</td>\n",
       "      <td>0</td>\n",
       "      <td>M</td>\n",
       "      <td>сотрудник</td>\n",
       "      <td>0</td>\n",
       "      <td>144425.938277</td>\n",
       "      <td>покупка жилья для семьи</td>\n",
       "    </tr>\n",
       "    <tr>\n",
       "      <th>10</th>\n",
       "      <td>2</td>\n",
       "      <td>-4171.483647</td>\n",
       "      <td>36</td>\n",
       "      <td>высшее</td>\n",
       "      <td>0</td>\n",
       "      <td>женат / замужем</td>\n",
       "      <td>0</td>\n",
       "      <td>M</td>\n",
       "      <td>компаньон</td>\n",
       "      <td>0</td>\n",
       "      <td>113943.491460</td>\n",
       "      <td>покупка недвижимости</td>\n",
       "    </tr>\n",
       "    <tr>\n",
       "      <th>11</th>\n",
       "      <td>0</td>\n",
       "      <td>-792.701887</td>\n",
       "      <td>40</td>\n",
       "      <td>среднее</td>\n",
       "      <td>1</td>\n",
       "      <td>женат / замужем</td>\n",
       "      <td>0</td>\n",
       "      <td>F</td>\n",
       "      <td>сотрудник</td>\n",
       "      <td>0</td>\n",
       "      <td>77069.234271</td>\n",
       "      <td>покупка коммерческой недвижимости</td>\n",
       "    </tr>\n",
       "    <tr>\n",
       "      <th>12</th>\n",
       "      <td>0</td>\n",
       "      <td>NaN</td>\n",
       "      <td>65</td>\n",
       "      <td>среднее</td>\n",
       "      <td>1</td>\n",
       "      <td>гражданский брак</td>\n",
       "      <td>1</td>\n",
       "      <td>M</td>\n",
       "      <td>пенсионер</td>\n",
       "      <td>0</td>\n",
       "      <td>NaN</td>\n",
       "      <td>сыграть свадьбу</td>\n",
       "    </tr>\n",
       "    <tr>\n",
       "      <th>13</th>\n",
       "      <td>0</td>\n",
       "      <td>-1846.641941</td>\n",
       "      <td>54</td>\n",
       "      <td>неоконченное высшее</td>\n",
       "      <td>2</td>\n",
       "      <td>женат / замужем</td>\n",
       "      <td>0</td>\n",
       "      <td>F</td>\n",
       "      <td>сотрудник</td>\n",
       "      <td>0</td>\n",
       "      <td>130458.228857</td>\n",
       "      <td>приобретение автомобиля</td>\n",
       "    </tr>\n",
       "    <tr>\n",
       "      <th>14</th>\n",
       "      <td>0</td>\n",
       "      <td>-1844.956182</td>\n",
       "      <td>56</td>\n",
       "      <td>высшее</td>\n",
       "      <td>0</td>\n",
       "      <td>гражданский брак</td>\n",
       "      <td>1</td>\n",
       "      <td>F</td>\n",
       "      <td>компаньон</td>\n",
       "      <td>1</td>\n",
       "      <td>165127.911772</td>\n",
       "      <td>покупка жилой недвижимости</td>\n",
       "    </tr>\n",
       "    <tr>\n",
       "      <th>15</th>\n",
       "      <td>1</td>\n",
       "      <td>-972.364419</td>\n",
       "      <td>26</td>\n",
       "      <td>среднее</td>\n",
       "      <td>1</td>\n",
       "      <td>женат / замужем</td>\n",
       "      <td>0</td>\n",
       "      <td>F</td>\n",
       "      <td>сотрудник</td>\n",
       "      <td>0</td>\n",
       "      <td>116820.904450</td>\n",
       "      <td>строительство собственной недвижимости</td>\n",
       "    </tr>\n",
       "    <tr>\n",
       "      <th>16</th>\n",
       "      <td>0</td>\n",
       "      <td>-1719.934226</td>\n",
       "      <td>35</td>\n",
       "      <td>среднее</td>\n",
       "      <td>1</td>\n",
       "      <td>женат / замужем</td>\n",
       "      <td>0</td>\n",
       "      <td>F</td>\n",
       "      <td>сотрудник</td>\n",
       "      <td>0</td>\n",
       "      <td>289202.704229</td>\n",
       "      <td>недвижимость</td>\n",
       "    </tr>\n",
       "    <tr>\n",
       "      <th>17</th>\n",
       "      <td>0</td>\n",
       "      <td>-2369.999720</td>\n",
       "      <td>33</td>\n",
       "      <td>высшее</td>\n",
       "      <td>0</td>\n",
       "      <td>гражданский брак</td>\n",
       "      <td>1</td>\n",
       "      <td>M</td>\n",
       "      <td>сотрудник</td>\n",
       "      <td>0</td>\n",
       "      <td>90410.586745</td>\n",
       "      <td>строительство недвижимости</td>\n",
       "    </tr>\n",
       "    <tr>\n",
       "      <th>18</th>\n",
       "      <td>0</td>\n",
       "      <td>400281.136913</td>\n",
       "      <td>53</td>\n",
       "      <td>среднее</td>\n",
       "      <td>1</td>\n",
       "      <td>вдовец / вдова</td>\n",
       "      <td>2</td>\n",
       "      <td>F</td>\n",
       "      <td>пенсионер</td>\n",
       "      <td>0</td>\n",
       "      <td>56823.777243</td>\n",
       "      <td>на покупку подержанного автомобиля</td>\n",
       "    </tr>\n",
       "    <tr>\n",
       "      <th>19</th>\n",
       "      <td>0</td>\n",
       "      <td>-10038.818549</td>\n",
       "      <td>48</td>\n",
       "      <td>СРЕДНЕЕ</td>\n",
       "      <td>1</td>\n",
       "      <td>в разводе</td>\n",
       "      <td>3</td>\n",
       "      <td>F</td>\n",
       "      <td>сотрудник</td>\n",
       "      <td>0</td>\n",
       "      <td>242831.107982</td>\n",
       "      <td>на покупку своего автомобиля</td>\n",
       "    </tr>\n",
       "  </tbody>\n",
       "</table>\n",
       "</div>"
      ],
      "text/plain": [
       "    children  days_employed  dob_years            education  education_id  \\\n",
       "0          1   -8437.673028         42               высшее             0   \n",
       "1          1   -4024.803754         36              среднее             1   \n",
       "2          0   -5623.422610         33              Среднее             1   \n",
       "3          3   -4124.747207         32              среднее             1   \n",
       "4          0  340266.072047         53              среднее             1   \n",
       "5          0    -926.185831         27               высшее             0   \n",
       "6          0   -2879.202052         43               высшее             0   \n",
       "7          0    -152.779569         50              СРЕДНЕЕ             1   \n",
       "8          2   -6929.865299         35               ВЫСШЕЕ             0   \n",
       "9          0   -2188.756445         41              среднее             1   \n",
       "10         2   -4171.483647         36               высшее             0   \n",
       "11         0    -792.701887         40              среднее             1   \n",
       "12         0            NaN         65              среднее             1   \n",
       "13         0   -1846.641941         54  неоконченное высшее             2   \n",
       "14         0   -1844.956182         56               высшее             0   \n",
       "15         1    -972.364419         26              среднее             1   \n",
       "16         0   -1719.934226         35              среднее             1   \n",
       "17         0   -2369.999720         33               высшее             0   \n",
       "18         0  400281.136913         53              среднее             1   \n",
       "19         0  -10038.818549         48              СРЕДНЕЕ             1   \n",
       "\n",
       "       family_status  family_status_id gender income_type  debt  \\\n",
       "0    женат / замужем                 0      F   сотрудник     0   \n",
       "1    женат / замужем                 0      F   сотрудник     0   \n",
       "2    женат / замужем                 0      M   сотрудник     0   \n",
       "3    женат / замужем                 0      M   сотрудник     0   \n",
       "4   гражданский брак                 1      F   пенсионер     0   \n",
       "5   гражданский брак                 1      M   компаньон     0   \n",
       "6    женат / замужем                 0      F   компаньон     0   \n",
       "7    женат / замужем                 0      M   сотрудник     0   \n",
       "8   гражданский брак                 1      F   сотрудник     0   \n",
       "9    женат / замужем                 0      M   сотрудник     0   \n",
       "10   женат / замужем                 0      M   компаньон     0   \n",
       "11   женат / замужем                 0      F   сотрудник     0   \n",
       "12  гражданский брак                 1      M   пенсионер     0   \n",
       "13   женат / замужем                 0      F   сотрудник     0   \n",
       "14  гражданский брак                 1      F   компаньон     1   \n",
       "15   женат / замужем                 0      F   сотрудник     0   \n",
       "16   женат / замужем                 0      F   сотрудник     0   \n",
       "17  гражданский брак                 1      M   сотрудник     0   \n",
       "18    вдовец / вдова                 2      F   пенсионер     0   \n",
       "19         в разводе                 3      F   сотрудник     0   \n",
       "\n",
       "     total_income                                 purpose  \n",
       "0   253875.639453                           покупка жилья  \n",
       "1   112080.014102                 приобретение автомобиля  \n",
       "2   145885.952297                           покупка жилья  \n",
       "3   267628.550329              дополнительное образование  \n",
       "4   158616.077870                         сыграть свадьбу  \n",
       "5   255763.565419                           покупка жилья  \n",
       "6   240525.971920                       операции с жильем  \n",
       "7   135823.934197                             образование  \n",
       "8    95856.832424                   на проведение свадьбы  \n",
       "9   144425.938277                 покупка жилья для семьи  \n",
       "10  113943.491460                    покупка недвижимости  \n",
       "11   77069.234271       покупка коммерческой недвижимости  \n",
       "12            NaN                         сыграть свадьбу  \n",
       "13  130458.228857                 приобретение автомобиля  \n",
       "14  165127.911772              покупка жилой недвижимости  \n",
       "15  116820.904450  строительство собственной недвижимости  \n",
       "16  289202.704229                            недвижимость  \n",
       "17   90410.586745              строительство недвижимости  \n",
       "18   56823.777243      на покупку подержанного автомобиля  \n",
       "19  242831.107982            на покупку своего автомобиля  "
      ]
     },
     "execution_count": 2,
     "metadata": {},
     "output_type": "execute_result"
    }
   ],
   "source": [
    "data.head(20)"
   ]
  },
  {
   "cell_type": "markdown",
   "id": "0ed8f27f",
   "metadata": {
    "deletable": false,
    "editable": false,
    "id": "0ed8f27f"
   },
   "source": [
    "**Задание 3. Выведите основную информацию о датафрейме с помощью метода `info()`.**"
   ]
  },
  {
   "cell_type": "code",
   "execution_count": 3,
   "id": "ab3f863b",
   "metadata": {
    "deletable": false,
    "id": "ab3f863b",
    "outputId": "15376089-8dad-46c9-b520-c05248d43158"
   },
   "outputs": [
    {
     "name": "stdout",
     "output_type": "stream",
     "text": [
      "<class 'pandas.core.frame.DataFrame'>\n",
      "RangeIndex: 21525 entries, 0 to 21524\n",
      "Data columns (total 12 columns):\n",
      " #   Column            Non-Null Count  Dtype  \n",
      "---  ------            --------------  -----  \n",
      " 0   children          21525 non-null  int64  \n",
      " 1   days_employed     19351 non-null  float64\n",
      " 2   dob_years         21525 non-null  int64  \n",
      " 3   education         21525 non-null  object \n",
      " 4   education_id      21525 non-null  int64  \n",
      " 5   family_status     21525 non-null  object \n",
      " 6   family_status_id  21525 non-null  int64  \n",
      " 7   gender            21525 non-null  object \n",
      " 8   income_type       21525 non-null  object \n",
      " 9   debt              21525 non-null  int64  \n",
      " 10  total_income      19351 non-null  float64\n",
      " 11  purpose           21525 non-null  object \n",
      "dtypes: float64(2), int64(5), object(5)\n",
      "memory usage: 2.0+ MB\n"
     ]
    }
   ],
   "source": [
    "data.info()"
   ]
  },
  {
   "cell_type": "markdown",
   "id": "60e3e22d",
   "metadata": {
    "deletable": false,
    "editable": false,
    "id": "60e3e22d"
   },
   "source": [
    "## Предобработка данных"
   ]
  },
  {
   "cell_type": "markdown",
   "id": "03dc170c",
   "metadata": {
    "deletable": false,
    "editable": false,
    "id": "03dc170c"
   },
   "source": [
    "### Удаление пропусков"
   ]
  },
  {
   "cell_type": "markdown",
   "id": "a4f54eef",
   "metadata": {
    "deletable": false,
    "editable": false,
    "id": "a4f54eef"
   },
   "source": [
    "**Задание 4. Выведите количество пропущенных значений для каждого столбца. Используйте комбинацию двух методов.**"
   ]
  },
  {
   "cell_type": "code",
   "execution_count": 4,
   "id": "2dc372b2",
   "metadata": {
    "deletable": false,
    "id": "2dc372b2",
    "outputId": "81f4d817-781c-465c-ed15-91ce4446810d"
   },
   "outputs": [
    {
     "data": {
      "text/plain": [
       "children               0\n",
       "days_employed       2174\n",
       "dob_years              0\n",
       "education              0\n",
       "education_id           0\n",
       "family_status          0\n",
       "family_status_id       0\n",
       "gender                 0\n",
       "income_type            0\n",
       "debt                   0\n",
       "total_income        2174\n",
       "purpose                0\n",
       "dtype: int64"
      ]
     },
     "execution_count": 4,
     "metadata": {},
     "output_type": "execute_result"
    }
   ],
   "source": [
    "data.isna().sum()"
   ]
  },
  {
   "cell_type": "markdown",
   "id": "14f011b1",
   "metadata": {
    "deletable": false,
    "editable": false,
    "id": "14f011b1"
   },
   "source": [
    "**Задание 5. В двух столбцах есть пропущенные значения. Один из них — `days_employed`. Пропуски в этом столбце вы обработаете на следующем этапе. Другой столбец с пропущенными значениями — `total_income` — хранит данные о доходах. На сумму дохода сильнее всего влияет тип занятости, поэтому заполнить пропуски в этом столбце нужно медианным значением по каждому типу из столбца `income_type`. Например, у человека с типом занятости `сотрудник` пропуск в столбце `total_income` должен быть заполнен медианным доходом среди всех записей с тем же типом.**"
   ]
  },
  {
   "cell_type": "code",
   "execution_count": 5,
   "id": "bdabfb6e",
   "metadata": {
    "deletable": false,
    "id": "bdabfb6e"
   },
   "outputs": [],
   "source": [
    "for t in data['income_type'].unique():\n",
    "    data.loc[(data['income_type'] == t) & (data['total_income'].isna()), 'total_income'] = \\\n",
    "    data.loc[(data['income_type'] == t), 'total_income'].median()"
   ]
  },
  {
   "cell_type": "markdown",
   "id": "5be34059",
   "metadata": {
    "deletable": false,
    "editable": false,
    "id": "5be34059"
   },
   "source": [
    "### Обработка аномальных значений"
   ]
  },
  {
   "cell_type": "markdown",
   "id": "a87606cb",
   "metadata": {
    "deletable": false,
    "editable": false,
    "id": "a87606cb"
   },
   "source": [
    "**Задание 6. В данных могут встречаться артефакты (аномалии) — значения, которые не отражают действительность и появились по какой-то ошибке. таким артефактом будет отрицательное количество дней трудового стажа в столбце `days_employed`. Для реальных данных это нормально. Обработайте значения в этом столбце: замените все отрицательные значения положительными с помощью метода `abs()`.**"
   ]
  },
  {
   "cell_type": "code",
   "execution_count": 6,
   "id": "020c46cc",
   "metadata": {
    "deletable": false,
    "id": "020c46cc"
   },
   "outputs": [],
   "source": [
    "data['days_employed'] = data['days_employed'].abs()"
   ]
  },
  {
   "cell_type": "markdown",
   "id": "45538a3a",
   "metadata": {
    "deletable": false,
    "editable": false,
    "id": "45538a3a"
   },
   "source": [
    "**Задание 7. Для каждого типа занятости выведите медианное значение трудового стажа `days_employed` в днях.**"
   ]
  },
  {
   "cell_type": "code",
   "execution_count": 7,
   "id": "cd3e6328",
   "metadata": {
    "deletable": false,
    "id": "cd3e6328",
    "outputId": "801ef80e-522b-4668-f34e-565af7432bcf"
   },
   "outputs": [
    {
     "data": {
      "text/plain": [
       "income_type\n",
       "безработный        366413.652744\n",
       "в декрете            3296.759962\n",
       "госслужащий          2689.368353\n",
       "компаньон            1547.382223\n",
       "пенсионер          365213.306266\n",
       "предприниматель       520.848083\n",
       "сотрудник            1574.202821\n",
       "студент               578.751554\n",
       "Name: days_employed, dtype: float64"
      ]
     },
     "execution_count": 7,
     "metadata": {},
     "output_type": "execute_result"
    }
   ],
   "source": [
    "data.groupby('income_type')['days_employed'].agg('median')"
   ]
  },
  {
   "cell_type": "markdown",
   "id": "90c5f058",
   "metadata": {
    "deletable": false,
    "editable": false,
    "id": "90c5f058"
   },
   "source": [
    "У двух типов (безработные и пенсионеры) получатся аномально большие значения. Исправить такие значения сложно, поэтому оставьте их как есть."
   ]
  },
  {
   "cell_type": "markdown",
   "id": "9652e50d",
   "metadata": {
    "deletable": false,
    "editable": false,
    "id": "9652e50d"
   },
   "source": [
    "**Задание 8. Выведите перечень уникальных значений столбца `children`.**"
   ]
  },
  {
   "cell_type": "code",
   "execution_count": 8,
   "id": "dbb37b8e",
   "metadata": {
    "deletable": false,
    "id": "dbb37b8e",
    "outputId": "6975b15c-7f95-4697-d16d-a0c79b657b03"
   },
   "outputs": [
    {
     "data": {
      "text/plain": [
       "array([ 1,  0,  3,  2, -1,  4, 20,  5], dtype=int64)"
      ]
     },
     "execution_count": 8,
     "metadata": {},
     "output_type": "execute_result"
    }
   ],
   "source": [
    "data['children'].unique()"
   ]
  },
  {
   "cell_type": "markdown",
   "id": "2b8b0715",
   "metadata": {
    "deletable": false,
    "editable": false,
    "id": "2b8b0715"
   },
   "source": [
    "**Задание 9. В столбце `children` есть два аномальных значения. Удалите строки, в которых встречаются такие аномальные значения из датафрейма `data`.**"
   ]
  },
  {
   "cell_type": "code",
   "execution_count": 9,
   "id": "20009df8",
   "metadata": {
    "deletable": false,
    "id": "20009df8"
   },
   "outputs": [],
   "source": [
    "data = data[(data['children'] != -1) & (data['children'] != 20)]"
   ]
  },
  {
   "cell_type": "markdown",
   "id": "8c6ac9f1",
   "metadata": {
    "deletable": false,
    "editable": false,
    "id": "8c6ac9f1"
   },
   "source": [
    "**Задание 10. Ещё раз выведите перечень уникальных значений столбца `children`, чтобы убедиться, что артефакты удалены.**"
   ]
  },
  {
   "cell_type": "code",
   "execution_count": 10,
   "id": "07337b81",
   "metadata": {
    "deletable": false,
    "id": "07337b81",
    "outputId": "b2097101-d49d-44d9-901b-32a65c9463d1"
   },
   "outputs": [
    {
     "data": {
      "text/plain": [
       "array([1, 0, 3, 2, 4, 5], dtype=int64)"
      ]
     },
     "execution_count": 10,
     "metadata": {},
     "output_type": "execute_result"
    }
   ],
   "source": [
    "data['children'].unique()"
   ]
  },
  {
   "cell_type": "markdown",
   "id": "ee3f52d4",
   "metadata": {
    "deletable": false,
    "editable": false,
    "id": "ee3f52d4"
   },
   "source": [
    "### Удаление пропусков (продолжение)"
   ]
  },
  {
   "cell_type": "markdown",
   "id": "a700b0e4",
   "metadata": {
    "deletable": false,
    "editable": false,
    "id": "a700b0e4"
   },
   "source": [
    "**Задание 11. Заполните пропуски в столбце `days_employed` медианными значениями по каждого типа занятости `income_type`.**"
   ]
  },
  {
   "cell_type": "code",
   "execution_count": 11,
   "id": "61946b83",
   "metadata": {
    "deletable": false,
    "id": "61946b83"
   },
   "outputs": [],
   "source": [
    "for t in data['income_type'].unique():\n",
    "    data.loc[(data['income_type'] == t) & (data['days_employed'].isna()), 'days_employed'] = \\\n",
    "    data.loc[(data['income_type'] == t), 'days_employed'].median()"
   ]
  },
  {
   "cell_type": "markdown",
   "id": "550dcd9b",
   "metadata": {
    "deletable": false,
    "editable": false,
    "id": "550dcd9b"
   },
   "source": [
    "**Задание 12. Убедитесь, что все пропуски заполнены. Проверьте себя и ещё раз выведите количество пропущенных значений для каждого столбца с помощью двух методов.**"
   ]
  },
  {
   "cell_type": "code",
   "execution_count": 12,
   "id": "937c7014",
   "metadata": {
    "deletable": false,
    "id": "937c7014",
    "outputId": "8da1e4e1-358e-4e87-98c9-f261bce0a7b2",
    "scrolled": true
   },
   "outputs": [
    {
     "data": {
      "text/plain": [
       "children            0\n",
       "days_employed       0\n",
       "dob_years           0\n",
       "education           0\n",
       "education_id        0\n",
       "family_status       0\n",
       "family_status_id    0\n",
       "gender              0\n",
       "income_type         0\n",
       "debt                0\n",
       "total_income        0\n",
       "purpose             0\n",
       "dtype: int64"
      ]
     },
     "execution_count": 12,
     "metadata": {},
     "output_type": "execute_result"
    }
   ],
   "source": [
    "data.isna().sum()"
   ]
  },
  {
   "cell_type": "markdown",
   "id": "d522e295",
   "metadata": {
    "deletable": false,
    "editable": false,
    "id": "d522e295"
   },
   "source": [
    "### Изменение типов данных"
   ]
  },
  {
   "cell_type": "markdown",
   "id": "c229c581",
   "metadata": {
    "deletable": false,
    "editable": false,
    "id": "c229c581"
   },
   "source": [
    "**Задание 13. Замените вещественный тип данных в столбце `total_income` на целочисленный с помощью метода `astype()`.**"
   ]
  },
  {
   "cell_type": "code",
   "execution_count": 13,
   "id": "31036462",
   "metadata": {
    "deletable": false,
    "id": "31036462"
   },
   "outputs": [],
   "source": [
    "data['total_income'] = data['total_income'].astype(int)"
   ]
  },
  {
   "cell_type": "markdown",
   "id": "b8e3d1d9",
   "metadata": {
    "deletable": false,
    "editable": false,
    "id": "b8e3d1d9"
   },
   "source": [
    "### Обработка дубликатов"
   ]
  },
  {
   "cell_type": "markdown",
   "id": "9be53c49",
   "metadata": {
    "deletable": false,
    "editable": false,
    "id": "9be53c49"
   },
   "source": [
    "**Задание 14. Обработайте неявные дубликаты в столбце `education`. В этом столбце есть одни и те же значения, но записанные по-разному: с использованием заглавных и строчных букв. Приведите их к нижнему регистру.**"
   ]
  },
  {
   "cell_type": "code",
   "execution_count": 14,
   "id": "d89e73e1",
   "metadata": {
    "deletable": false,
    "id": "d89e73e1"
   },
   "outputs": [],
   "source": [
    "data['education'] = data['education'].str.lower()"
   ]
  },
  {
   "cell_type": "markdown",
   "id": "01d4500e",
   "metadata": {
    "deletable": false,
    "editable": false,
    "id": "01d4500e"
   },
   "source": [
    "**Задание 15. Выведите на экран количество строк-дубликатов в данных. Если такие строки присутствуют, удалите их.**"
   ]
  },
  {
   "cell_type": "code",
   "execution_count": 15,
   "id": "e10efb23",
   "metadata": {
    "deletable": false,
    "id": "e10efb23",
    "outputId": "9684deba-1934-42d1-99e1-cda61740f822"
   },
   "outputs": [
    {
     "data": {
      "text/plain": [
       "71"
      ]
     },
     "execution_count": 15,
     "metadata": {},
     "output_type": "execute_result"
    }
   ],
   "source": [
    "data.duplicated().sum()"
   ]
  },
  {
   "cell_type": "code",
   "execution_count": 16,
   "id": "df853f20",
   "metadata": {
    "deletable": false,
    "id": "df853f20"
   },
   "outputs": [],
   "source": [
    "data = data.drop_duplicates()"
   ]
  },
  {
   "cell_type": "markdown",
   "id": "627be38f",
   "metadata": {
    "deletable": false,
    "editable": false,
    "id": "627be38f"
   },
   "source": [
    "### Категоризация данных"
   ]
  },
  {
   "cell_type": "markdown",
   "id": "4684c3e0",
   "metadata": {
    "deletable": false,
    "editable": false,
    "id": "4684c3e0"
   },
   "source": [
    "**Задание 16. На основании диапазонов, указанных ниже, создайте в датафрейме `data` столбец `total_income_category` с категориями:**\n",
    "\n",
    "- 0–30000 — `'E'`;\n",
    "- 30001–50000 — `'D'`;\n",
    "- 50001–200000 — `'C'`;\n",
    "- 200001–1000000 — `'B'`;\n",
    "- 1000001 и выше — `'A'`.\n",
    "\n",
    "\n",
    "**Например, кредитополучателю с доходом 25000 нужно назначить категорию `'E'`, а клиенту, получающему 235000, — `'B'`. Используйте собственную функцию с именем `categorize_income()` и метод `apply()`.**"
   ]
  },
  {
   "cell_type": "code",
   "execution_count": 17,
   "id": "78965238",
   "metadata": {
    "deletable": false,
    "id": "78965238"
   },
   "outputs": [],
   "source": [
    "def categorize_income(income):\n",
    "    try:\n",
    "        if 0 <= income <= 30000:\n",
    "            return 'E'\n",
    "        elif 30001 <= income <= 50000:\n",
    "            return 'D'\n",
    "        elif 50001 <= income <= 200000:\n",
    "            return 'C'\n",
    "        elif 200001 <= income <= 1000000:\n",
    "            return 'B'\n",
    "        elif income >= 1000001:\n",
    "            return 'A'\n",
    "    except:\n",
    "        pass"
   ]
  },
  {
   "cell_type": "code",
   "execution_count": 18,
   "id": "0980ada1",
   "metadata": {
    "deletable": false,
    "id": "0980ada1"
   },
   "outputs": [],
   "source": [
    "data['total_income_category'] = data['total_income'].apply(categorize_income)"
   ]
  },
  {
   "cell_type": "markdown",
   "id": "9917bba0",
   "metadata": {
    "deletable": false,
    "editable": false,
    "id": "9917bba0"
   },
   "source": [
    "**Задание 17. Выведите на экран перечень уникальных целей взятия кредита из столбца `purpose`.**"
   ]
  },
  {
   "cell_type": "code",
   "execution_count": 19,
   "id": "ee07b65e",
   "metadata": {
    "deletable": false,
    "id": "ee07b65e",
    "outputId": "673c12d9-7d7e-4ae0-9812-c622c89dd244"
   },
   "outputs": [
    {
     "data": {
      "text/plain": [
       "array(['покупка жилья', 'приобретение автомобиля',\n",
       "       'дополнительное образование', 'сыграть свадьбу',\n",
       "       'операции с жильем', 'образование', 'на проведение свадьбы',\n",
       "       'покупка жилья для семьи', 'покупка недвижимости',\n",
       "       'покупка коммерческой недвижимости', 'покупка жилой недвижимости',\n",
       "       'строительство собственной недвижимости', 'недвижимость',\n",
       "       'строительство недвижимости', 'на покупку подержанного автомобиля',\n",
       "       'на покупку своего автомобиля',\n",
       "       'операции с коммерческой недвижимостью',\n",
       "       'строительство жилой недвижимости', 'жилье',\n",
       "       'операции со своей недвижимостью', 'автомобили',\n",
       "       'заняться образованием', 'сделка с подержанным автомобилем',\n",
       "       'получение образования', 'автомобиль', 'свадьба',\n",
       "       'получение дополнительного образования', 'покупка своего жилья',\n",
       "       'операции с недвижимостью', 'получение высшего образования',\n",
       "       'свой автомобиль', 'сделка с автомобилем',\n",
       "       'профильное образование', 'высшее образование',\n",
       "       'покупка жилья для сдачи', 'на покупку автомобиля', 'ремонт жилью',\n",
       "       'заняться высшим образованием'], dtype=object)"
      ]
     },
     "execution_count": 19,
     "metadata": {},
     "output_type": "execute_result"
    }
   ],
   "source": [
    "data['purpose'].unique()"
   ]
  },
  {
   "cell_type": "markdown",
   "id": "52b79d56",
   "metadata": {
    "deletable": false,
    "editable": false,
    "id": "52b79d56"
   },
   "source": [
    "**Задание 18. Создайте функцию, которая на основании данных из столбца `purpose` сформирует новый столбец `purpose_category`, в который войдут следующие категории:**\n",
    "\n",
    "- `'операции с автомобилем'`,\n",
    "- `'операции с недвижимостью'`,\n",
    "- `'проведение свадьбы'`,\n",
    "- `'получение образования'`.\n",
    "\n",
    "**Например, если в столбце `purpose` находится подстрока `'на покупку автомобиля'`, то в столбце `purpose_category` должна появиться строка `'операции с автомобилем'`.**\n",
    "\n",
    "**Используйте собственную функцию с именем `categorize_purpose()` и метод `apply()`. Изучите данные в столбце `purpose` и определите, какие подстроки помогут вам правильно определить категорию.**"
   ]
  },
  {
   "cell_type": "code",
   "execution_count": 20,
   "id": "be41da5d",
   "metadata": {
    "deletable": false,
    "id": "be41da5d"
   },
   "outputs": [],
   "source": [
    "def categorize_purpose(row):\n",
    "    try:\n",
    "        if 'автом' in row:\n",
    "            return 'операции с автомобилем'\n",
    "        elif 'жил' in row or 'недвиж' in row:\n",
    "            return 'операции с недвижимостью'\n",
    "        elif 'свад' in row:\n",
    "            return 'проведение свадьбы'\n",
    "        elif 'образов' in row:\n",
    "            return 'получение образования'\n",
    "    except:\n",
    "        return 'нет категории'"
   ]
  },
  {
   "cell_type": "code",
   "execution_count": 21,
   "id": "94c4a19a",
   "metadata": {
    "deletable": false,
    "id": "94c4a19a"
   },
   "outputs": [],
   "source": [
    "data['purpose_category'] = data['purpose'].apply(categorize_purpose)"
   ]
  },
  {
   "cell_type": "markdown",
   "id": "3d596c34",
   "metadata": {
    "deletable": false,
    "editable": false,
    "id": "3d596c34"
   },
   "source": [
    "### Шаг 3. Исследуйте данные и ответьте на вопросы"
   ]
  },
  {
   "cell_type": "markdown",
   "id": "648db036",
   "metadata": {
    "deletable": false,
    "editable": false,
    "id": "648db036"
   },
   "source": [
    "#### 3.1 Есть ли зависимость между количеством детей и возвратом кредита в срок?"
   ]
  },
  {
   "cell_type": "code",
   "execution_count": 22,
   "id": "7fcff25e",
   "metadata": {
    "deletable": false,
    "id": "7fcff25e",
    "scrolled": true
   },
   "outputs": [
    {
     "data": {
      "text/html": [
       "<div>\n",
       "<style scoped>\n",
       "    .dataframe tbody tr th:only-of-type {\n",
       "        vertical-align: middle;\n",
       "    }\n",
       "\n",
       "    .dataframe tbody tr th {\n",
       "        vertical-align: top;\n",
       "    }\n",
       "\n",
       "    .dataframe thead th {\n",
       "        text-align: right;\n",
       "    }\n",
       "</style>\n",
       "<table border=\"1\" class=\"dataframe\">\n",
       "  <thead>\n",
       "    <tr style=\"text-align: right;\">\n",
       "      <th></th>\n",
       "      <th>count_clients</th>\n",
       "      <th>debt_mean_%</th>\n",
       "    </tr>\n",
       "    <tr>\n",
       "      <th>children</th>\n",
       "      <th></th>\n",
       "      <th></th>\n",
       "    </tr>\n",
       "  </thead>\n",
       "  <tbody>\n",
       "    <tr>\n",
       "      <th>0</th>\n",
       "      <td>14091</td>\n",
       "      <td>7.54</td>\n",
       "    </tr>\n",
       "    <tr>\n",
       "      <th>1</th>\n",
       "      <td>4808</td>\n",
       "      <td>9.23</td>\n",
       "    </tr>\n",
       "    <tr>\n",
       "      <th>2</th>\n",
       "      <td>2052</td>\n",
       "      <td>9.45</td>\n",
       "    </tr>\n",
       "    <tr>\n",
       "      <th>3</th>\n",
       "      <td>330</td>\n",
       "      <td>8.18</td>\n",
       "    </tr>\n",
       "    <tr>\n",
       "      <th>4</th>\n",
       "      <td>41</td>\n",
       "      <td>9.76</td>\n",
       "    </tr>\n",
       "    <tr>\n",
       "      <th>5</th>\n",
       "      <td>9</td>\n",
       "      <td>0.00</td>\n",
       "    </tr>\n",
       "  </tbody>\n",
       "</table>\n",
       "</div>"
      ],
      "text/plain": [
       "          count_clients  debt_mean_%\n",
       "children                            \n",
       "0                 14091         7.54\n",
       "1                  4808         9.23\n",
       "2                  2052         9.45\n",
       "3                   330         8.18\n",
       "4                    41         9.76\n",
       "5                     9         0.00"
      ]
     },
     "execution_count": 22,
     "metadata": {},
     "output_type": "execute_result"
    }
   ],
   "source": [
    "# Определим долю задержек возвратов ('debt') для каждой группы по кол-ву детей ('children').\n",
    "# Так как кол-во ункальных значений ко-ва детей не велико,\n",
    "# то категоризацию по столбцу 'children' делать нет необходимости.\n",
    "\n",
    "children_debt_mean = data.groupby('children').agg({'debt': ['count', 'mean']})\n",
    "children_debt_mean.columns = children_debt_mean.columns.droplevel()\n",
    "children_debt_mean.columns = ['count_clients', 'debt_mean_%']\n",
    "\n",
    "# переводим доли в проценты и округляем значения до 2-х знаков\n",
    "children_debt_mean['debt_mean_%']=children_debt_mean['debt_mean_%']*100\n",
    "children_debt_mean = children_debt_mean.round(decimals=2)\n",
    "children_debt_mean"
   ]
  },
  {
   "cell_type": "code",
   "execution_count": 23,
   "id": "669ffe60",
   "metadata": {},
   "outputs": [
    {
     "data": {
      "text/plain": [
       "'9.15%'"
      ]
     },
     "metadata": {},
     "output_type": "display_data"
    }
   ],
   "source": [
    "# посчитаем средний процент задержек возврата для групп, имеющих от 1 до 4 детей.\n",
    "# Группа заёмщиков с пятью детьми малочисленна и не может в данном случае приниматься во внимание.\n",
    "\n",
    "with_children_mean = children_debt_mean.loc[1:4,'debt_mean_%' ].mean()\n",
    "display ('{:.2f}' '%'.format(with_children_mean))"
   ]
  },
  {
   "cell_type": "markdown",
   "id": "2eb9088e",
   "metadata": {
    "deletable": false,
    "id": "2eb9088e"
   },
   "source": [
    "**Вывод:**\n",
    "\n",
    "Доля имевших задолжность среди клиентов без детей составляет 7.54%, что ниже, чем среднее значение для групп с детьми (9.16%).\n",
    "Группа заёмщиков с пятью детьми малочисленна и не может в данном случае приниматься во внимание.\n",
    "\n",
    "Сам Факт наличия детей, независимо от их количества, влияет на соблюдение сроков возврата кредитов.\n",
    "Заёмщики с детьми имеют более высокую долю задеожек платежей. \n",
    "\n",
    "Влияние же именно количества детей на возврат кредита в срок не обнаружено.\n",
    "Доли задержек в категориях, имеющих детей, находятся в диапазоне от 8,2% до 9,8% и не коррелируют с количеством детей в семье.\n",
    "\n"
   ]
  },
  {
   "cell_type": "markdown",
   "id": "74c9b3a7",
   "metadata": {
    "deletable": false,
    "editable": false,
    "id": "74c9b3a7"
   },
   "source": [
    "#### 3.2 Есть ли зависимость между семейным положением и возвратом кредита в срок?"
   ]
  },
  {
   "cell_type": "code",
   "execution_count": 24,
   "id": "8098ab3b",
   "metadata": {
    "deletable": false,
    "id": "8098ab3b"
   },
   "outputs": [
    {
     "data": {
      "text/html": [
       "<div>\n",
       "<style scoped>\n",
       "    .dataframe tbody tr th:only-of-type {\n",
       "        vertical-align: middle;\n",
       "    }\n",
       "\n",
       "    .dataframe tbody tr th {\n",
       "        vertical-align: top;\n",
       "    }\n",
       "\n",
       "    .dataframe thead th {\n",
       "        text-align: right;\n",
       "    }\n",
       "</style>\n",
       "<table border=\"1\" class=\"dataframe\">\n",
       "  <thead>\n",
       "    <tr style=\"text-align: right;\">\n",
       "      <th></th>\n",
       "      <th></th>\n",
       "      <th>count_clients</th>\n",
       "      <th>debt_mean_%</th>\n",
       "    </tr>\n",
       "    <tr>\n",
       "      <th>family_status_id</th>\n",
       "      <th>family_status</th>\n",
       "      <th></th>\n",
       "      <th></th>\n",
       "    </tr>\n",
       "  </thead>\n",
       "  <tbody>\n",
       "    <tr>\n",
       "      <th>2</th>\n",
       "      <th>вдовец / вдова</th>\n",
       "      <td>951</td>\n",
       "      <td>6.62</td>\n",
       "    </tr>\n",
       "    <tr>\n",
       "      <th>3</th>\n",
       "      <th>в разводе</th>\n",
       "      <td>1189</td>\n",
       "      <td>7.06</td>\n",
       "    </tr>\n",
       "    <tr>\n",
       "      <th>0</th>\n",
       "      <th>женат / замужем</th>\n",
       "      <td>12261</td>\n",
       "      <td>7.56</td>\n",
       "    </tr>\n",
       "    <tr>\n",
       "      <th>1</th>\n",
       "      <th>гражданский брак</th>\n",
       "      <td>4134</td>\n",
       "      <td>9.31</td>\n",
       "    </tr>\n",
       "    <tr>\n",
       "      <th>4</th>\n",
       "      <th>Не женат / не замужем</th>\n",
       "      <td>2796</td>\n",
       "      <td>9.76</td>\n",
       "    </tr>\n",
       "  </tbody>\n",
       "</table>\n",
       "</div>"
      ],
      "text/plain": [
       "                                        count_clients  debt_mean_%\n",
       "family_status_id family_status                                    \n",
       "2                вдовец / вдова                   951         6.62\n",
       "3                в разводе                       1189         7.06\n",
       "0                женат / замужем                12261         7.56\n",
       "1                гражданский брак                4134         9.31\n",
       "4                Не женат / не замужем           2796         9.76"
      ]
     },
     "execution_count": 24,
     "metadata": {},
     "output_type": "execute_result"
    }
   ],
   "source": [
    "# Группируем по 'family_status_id' и 'family_status', затем считаем количество клиентов и среднее значение 'debt' для каждого id\n",
    "family_debt_mean = data.groupby(['family_status_id', 'family_status']).agg({'debt': ['count', 'mean']})\n",
    "\n",
    "# Убираем двойную индексацию столбцов переименовав их\n",
    "family_debt_mean.columns = ['count_clients', 'debt_mean_%']\n",
    "\n",
    "# переводим доли в проценты, затем сортируем таблицу по возрастанию\n",
    "family_debt_mean['debt_mean_%'] = family_debt_mean['debt_mean_%']*100\n",
    "family_debt_mean = family_debt_mean.sort_values('debt_mean_%',ascending=True)\n",
    "\n",
    "# округляем значения до 2-х знаков\n",
    "family_debt_mean = family_debt_mean.round(decimals=2)\n",
    "family_debt_mean"
   ]
  },
  {
   "cell_type": "markdown",
   "id": "c389ca63",
   "metadata": {
    "deletable": false,
    "id": "c389ca63"
   },
   "source": [
    "**Вывод:**\n",
    "\n",
    "Семейное положение влияет на возврат кредита в срок. \n",
    "\n",
    "При этом состоящие в гражданском браке, с точки зрения возврата кредитов, находятся на близком уровне с холостыми. Две эти группы наиболее рискованные для банка. Наблюдается заметный разрыв между этими двуми и остальными категориями."
   ]
  },
  {
   "cell_type": "markdown",
   "id": "9529de68",
   "metadata": {
    "deletable": false,
    "editable": false,
    "id": "9529de68"
   },
   "source": [
    "#### 3.3 Есть ли зависимость между уровнем дохода и возвратом кредита в срок?"
   ]
  },
  {
   "cell_type": "code",
   "execution_count": 25,
   "id": "8787f44a",
   "metadata": {
    "deletable": false,
    "id": "8787f44a"
   },
   "outputs": [
    {
     "data": {
      "text/html": [
       "<div>\n",
       "<style scoped>\n",
       "    .dataframe tbody tr th:only-of-type {\n",
       "        vertical-align: middle;\n",
       "    }\n",
       "\n",
       "    .dataframe tbody tr th {\n",
       "        vertical-align: top;\n",
       "    }\n",
       "\n",
       "    .dataframe thead th {\n",
       "        text-align: right;\n",
       "    }\n",
       "</style>\n",
       "<table border=\"1\" class=\"dataframe\">\n",
       "  <thead>\n",
       "    <tr style=\"text-align: right;\">\n",
       "      <th></th>\n",
       "      <th>count_clients</th>\n",
       "      <th>debt_mean_%</th>\n",
       "    </tr>\n",
       "    <tr>\n",
       "      <th>total_income_category</th>\n",
       "      <th></th>\n",
       "      <th></th>\n",
       "    </tr>\n",
       "  </thead>\n",
       "  <tbody>\n",
       "    <tr>\n",
       "      <th>A</th>\n",
       "      <td>25</td>\n",
       "      <td>8.00</td>\n",
       "    </tr>\n",
       "    <tr>\n",
       "      <th>B</th>\n",
       "      <td>5014</td>\n",
       "      <td>7.06</td>\n",
       "    </tr>\n",
       "    <tr>\n",
       "      <th>C</th>\n",
       "      <td>15921</td>\n",
       "      <td>8.50</td>\n",
       "    </tr>\n",
       "    <tr>\n",
       "      <th>D</th>\n",
       "      <td>349</td>\n",
       "      <td>6.02</td>\n",
       "    </tr>\n",
       "    <tr>\n",
       "      <th>E</th>\n",
       "      <td>22</td>\n",
       "      <td>9.09</td>\n",
       "    </tr>\n",
       "  </tbody>\n",
       "</table>\n",
       "</div>"
      ],
      "text/plain": [
       "                       count_clients  debt_mean_%\n",
       "total_income_category                            \n",
       "A                                 25         8.00\n",
       "B                               5014         7.06\n",
       "C                              15921         8.50\n",
       "D                                349         6.02\n",
       "E                                 22         9.09"
      ]
     },
     "execution_count": 25,
     "metadata": {},
     "output_type": "execute_result"
    }
   ],
   "source": [
    "# Группируем данные и считаем 'count' и среднее значение 'debt' для каждой категории\n",
    "income_debt_mean = data.groupby('total_income_category').agg({'debt': ['count', 'mean']})\n",
    "\n",
    "# Убираем двойную индексацию столбцов, затем переименовываем их\n",
    "income_debt_mean.columns = income_debt_mean.columns.droplevel()\n",
    "income_debt_mean.columns = ['count_clients', 'debt_mean_%']\n",
    "\n",
    "# переводим доли в проценты, округляем значения до 2-х знаков\n",
    "income_debt_mean['debt_mean_%'] = income_debt_mean['debt_mean_%']*100\n",
    "income_debt_mean = income_debt_mean.round(decimals=2)\n",
    "\n",
    "income_debt_mean"
   ]
  },
  {
   "cell_type": "markdown",
   "id": "6dd14b57",
   "metadata": {
    "deletable": false,
    "id": "6dd14b57"
   },
   "source": [
    "Категории от A до E расположены в таблице в порядке убывания дохода.\n",
    "- A - наиболее богатые клиенты с доходом более 1 млн,\n",
    "- B - доход от 200 тыс до 1 млн,\n",
    "- C - доход от 50 до 200 тыс,\n",
    "- D - доход от 30 до 50 тыс,\n",
    "- E - наименее обеспеченные клиенты с доходом до 30 тыс.\n",
    "\n",
    "Можно вилеть:\n",
    "1. Категория E демонстрирует наихудший показатель возвратов, что кажется объяснимым;\n",
    "2. с другой стороны, категория A также имеет высокий показатель нарушений, сопоставимый с категорией E;\n",
    "3. наилучший показатель у категории D с доходами нижне-среднего диапазона, согласно имеющейся категоризации;\n",
    "4. категория C, следующая по доходам за категорией D, демонстрирует резкое снижение надёжности заёмщиков.\n",
    "\n",
    "**Вывод:** \n",
    "\n",
    "Из полученных результатов нельзя сделать однозначный вывод о влиянии уровня доход на надёжность заёмщзиков.\n",
    "Похожие показатели у диаметрально противоположных категорий и резкие скачки при перехеде между соседними категориями,\n",
    "могут быть результатом некорректной категоризации. \n",
    "\n",
    ">Сомнения в корректности применнённых для категоризации критериев подкрепляются в том числе, немногочисленностью крайних категорий - 22 и 25 клиентов из более чем 21 тыс.\n",
    "\n",
    "**Рекомендации**\n",
    "\n",
    "Проверить обоснованность критериев категоризации клоиентов по уровня дохода.\n",
    "\n"
   ]
  },
  {
   "cell_type": "markdown",
   "id": "1dcc9b12",
   "metadata": {
    "deletable": false,
    "editable": false,
    "id": "1dcc9b12"
   },
   "source": [
    "#### 3.4 Как разные цели кредита влияют на его возврат в срок?"
   ]
  },
  {
   "cell_type": "code",
   "execution_count": 26,
   "id": "c602bc8b",
   "metadata": {
    "deletable": false,
    "id": "c602bc8b"
   },
   "outputs": [
    {
     "data": {
      "text/html": [
       "<div>\n",
       "<style scoped>\n",
       "    .dataframe tbody tr th:only-of-type {\n",
       "        vertical-align: middle;\n",
       "    }\n",
       "\n",
       "    .dataframe tbody tr th {\n",
       "        vertical-align: top;\n",
       "    }\n",
       "\n",
       "    .dataframe thead th {\n",
       "        text-align: right;\n",
       "    }\n",
       "</style>\n",
       "<table border=\"1\" class=\"dataframe\">\n",
       "  <thead>\n",
       "    <tr style=\"text-align: right;\">\n",
       "      <th></th>\n",
       "      <th>count_clients</th>\n",
       "      <th>debt_mean_%</th>\n",
       "    </tr>\n",
       "    <tr>\n",
       "      <th>purpose_category</th>\n",
       "      <th></th>\n",
       "      <th></th>\n",
       "    </tr>\n",
       "  </thead>\n",
       "  <tbody>\n",
       "    <tr>\n",
       "      <th>операции с недвижимостью</th>\n",
       "      <td>10751</td>\n",
       "      <td>7.26</td>\n",
       "    </tr>\n",
       "    <tr>\n",
       "      <th>проведение свадьбы</th>\n",
       "      <td>2313</td>\n",
       "      <td>7.91</td>\n",
       "    </tr>\n",
       "    <tr>\n",
       "      <th>получение образования</th>\n",
       "      <td>3988</td>\n",
       "      <td>9.25</td>\n",
       "    </tr>\n",
       "    <tr>\n",
       "      <th>операции с автомобилем</th>\n",
       "      <td>4279</td>\n",
       "      <td>9.35</td>\n",
       "    </tr>\n",
       "  </tbody>\n",
       "</table>\n",
       "</div>"
      ],
      "text/plain": [
       "                          count_clients  debt_mean_%\n",
       "purpose_category                                    \n",
       "операции с недвижимостью          10751         7.26\n",
       "проведение свадьбы                 2313         7.91\n",
       "получение образования              3988         9.25\n",
       "операции с автомобилем             4279         9.35"
      ]
     },
     "execution_count": 26,
     "metadata": {},
     "output_type": "execute_result"
    }
   ],
   "source": [
    "# Определим долю задержек по возвратам ('debt') для каждой категории цели ('purpose_category').\n",
    "purpose_debt_mean = data.groupby('purpose_category').agg({'debt': ['count', 'mean']})\n",
    "\n",
    "# Убираем двойную индексацию столбцов, переименовав их\n",
    "purpose_debt_mean.columns = ['count_clients', 'debt_mean_%']\n",
    "\n",
    "# переводим доли в проценты, округляем значения до 2-х знаков и сортируем по возрастанию\n",
    "purpose_debt_mean['debt_mean_%'] = purpose_debt_mean['debt_mean_%']*100\n",
    "purpose_debt_mean = purpose_debt_mean.round(decimals=2)\n",
    "purpose_debt_mean = purpose_debt_mean.sort_values('debt_mean_%',ascending=True)\n",
    "\n",
    "purpose_debt_mean"
   ]
  },
  {
   "cell_type": "markdown",
   "id": "a1c8e530",
   "metadata": {},
   "source": [
    "**Вывод:**\n",
    "\n",
    "Заметна зависимость задержек платежей от целей кредита.\n",
    "Наименьшим риском обладают операции с недвихимостью (7,3%), наибольшим - опервции с автомобилем (9.3%).\n",
    ">Данное положение вызывает интерес, так как кредиты в сфере недвижимости предоставляются на большие суммы и на более долгие сроки по сравнению с кредитами на операции с автомобилем и кажутся, на первый взгляд, более рискованными.\n",
    "Но предоставленные данные опровергают такое суждение.\n",
    "Целесообразно сегментировать операции с недвижимостью, разделив их на две категории:\n",
    ">- а) некоммерческие операции с недвижимостью (частные),\n",
    ">- б) коммерческие операции с недвижимостью.\n",
    "Показатели в таких группах могут отличаться.\n",
    "\n",
    "**Проверим возможность новой категоризации на основе имеющегося датасета.**\n"
   ]
  },
  {
   "cell_type": "code",
   "execution_count": 27,
   "id": "1fee63b0",
   "metadata": {},
   "outputs": [
    {
     "data": {
      "text/plain": [
       "array(['покупка жилья', 'операции с жильем', 'покупка жилья для семьи',\n",
       "       'покупка недвижимости', 'покупка коммерческой недвижимости',\n",
       "       'покупка жилой недвижимости',\n",
       "       'строительство собственной недвижимости', 'недвижимость',\n",
       "       'строительство недвижимости',\n",
       "       'операции с коммерческой недвижимостью',\n",
       "       'строительство жилой недвижимости', 'жилье',\n",
       "       'операции со своей недвижимостью', 'покупка своего жилья',\n",
       "       'операции с недвижимостью', 'покупка жилья для сдачи',\n",
       "       'ремонт жилью'], dtype=object)"
      ]
     },
     "execution_count": 27,
     "metadata": {},
     "output_type": "execute_result"
    }
   ],
   "source": [
    "# Выводим уникальные значения 'purpose' из категории 'операции с недвижимостью'\n",
    "\n",
    "purpose_realestate = (data[data['purpose_category']=='операции с недвижимостью'])\n",
    "purpose_realestate = purpose_realestate['purpose'].unique()\n",
    "\n",
    "purpose_realestate"
   ]
  },
  {
   "cell_type": "markdown",
   "id": "afc560a0",
   "metadata": {},
   "source": [
    "**К сожалению, разделение операций с недвижимостью  на коммерческие и частные в данном случае невозможно.**\n",
    "\n",
    ">Некоторые комментарий в столбце 'purpose' не позволяет однозначно дифференцировать цели.\\\n",
    "Например, такие формулировки, как: 'операции с жильем', 'покупка недвижимости', 'строительство жилой недвижимости', 'жилье' и др. не дают оснований для более детальной категоризаци.\\\n",
    "Кроме того, попавшая в категорию операций с недвижимостью, цель \"ремонт жилья\", может быть как сферой коммерческой деятельности, так и разновидностью потребительского кредита, без каких-либо признакой операций с недвижимостью вообще. "
   ]
  },
  {
   "cell_type": "markdown",
   "id": "cf05ed63",
   "metadata": {
    "deletable": false,
    "id": "cf05ed63"
   },
   "source": [
    "**Рекомендации**\n",
    "\n",
    "Представляется целесообразным рекомендовать банку разработать алгоритм более точной категоризации клиентов по целям кредита.\n",
    "\n"
   ]
  },
  {
   "cell_type": "markdown",
   "id": "46c1f10b",
   "metadata": {
    "deletable": false,
    "editable": false,
    "id": "46c1f10b"
   },
   "source": [
    "#### 3.5 Приведите возможные причины появления пропусков в исходных данных."
   ]
  },
  {
   "cell_type": "markdown",
   "id": "3697d2a9",
   "metadata": {
    "deletable": false,
    "id": "3697d2a9"
   },
   "source": [
    "**Ответ:**\n",
    "\n",
    "Пропуски данных были обнаружены в столбцах days_employed и total_income.\n",
    "Количество пропусков в столбцах одинаковое - 2174. (Согласно результату ранее сделанной проверки методами isna() и sum().)\n",
    "Посчитаем для наглядности долю пропущенных значений:"
   ]
  },
  {
   "cell_type": "code",
   "execution_count": 28,
   "id": "55c73877",
   "metadata": {},
   "outputs": [
    {
     "name": "stdout",
     "output_type": "stream",
     "text": [
      "10%\n"
     ]
    }
   ],
   "source": [
    "# берём колическво значений из резулитатов ранее сделанной проверки методом info()\n",
    "entries_total = 21525 \n",
    "entries_days_empl = 19351\n",
    "entries_total_inc = 19351\n",
    "\n",
    "# так как количество пропущенных значений в обоих столбцах равны, то возтмём только один столбец\n",
    "prop = 1-(entries_days_empl/entries_total)\n",
    "print('{:.0%}'.format(prop))"
   ]
  },
  {
   "cell_type": "markdown",
   "id": "16208187",
   "metadata": {},
   "source": [
    "Всего пропущенных значений:\n",
    "\n",
    "- в столбце days_employed - 2174, что составляет 10% от общего количества записей\n",
    "- в столбце total_income также 2174 (10% записей)\n",
    "\n",
    "Тот факт, что оба столбца - \"Дни работы\" и \"Суммарный доход\" - имеют равное количество пропусков, вряд ли является случайным совпадением. Вероятно, эти параметры связаны: либо алгоритмом рассчетов, либо алгоритмом ввода данных.\n",
    "\n",
    "Параметр total_incom содержит дробное число с большим количеством знаков после запятой, и это говорит о том, что total_incom - расчетное значение, полученное, вероятно, на основе накопленных данных за определённый период. А значит, и отсутствие значений в таком случае представляется тоже результатом работы алгоритма системы (не ошибкой, не случайным пропуском, например).\n",
    "\n",
    "**Наиболее вероятные причины пропусков:**\n",
    "- а) показатели рассчитываются автоматически только после накопления данных за период не меньше установленного. Таким образом, эти 10 % - новые клиенты, данных о которых пока недостаточно для расчета показателя (допустим, нужны сведения за 6 мес, а есть пока только за 4); \n",
    "- б) данные вводятся путём сканирования бумажных бланков, и - в том случае, когда документ содержит критические ошибки, - данные не поступают в систему (например, расчетная ведомость от работодателя имеет нестандартную форму, с которой система банка не может работать).\n",
    "\n",
    ">**Проверим эту гипотезу.**\n",
    "Есть основания полагать, что показатели days_employed и total_income связаны между собой, и если NaN (отсутствие данных) в этих столбцах располагается в одних и тех же строках, то гипотеза будет верна: отсутствие данных зависит от\n",
    ">- а) настройки системы, либо\n",
    ">- б) некорректности исходников, загружаемых в систему;\\\n",
    "если в разных строках - от других факторов.\n",
    "\n",
    ">Для проверки отфильтруем строки, где данные отсутствуют одновременно в двух столбцах, и посчитаем их количество. Если значение будет равно 2174, то есть разнице между полностью заполненными строками (21525) и строками с пропусками (19351), то гипотеза верна. Если это значение меньше (что говорит о наличии элементов, не попадающих в пересечение исследуемых множеств), то гипотеза не верна.\n"
   ]
  },
  {
   "cell_type": "code",
   "execution_count": 29,
   "id": "a66f4526",
   "metadata": {},
   "outputs": [
    {
     "data": {
      "text/plain": [
       "2174"
      ]
     },
     "execution_count": 29,
     "metadata": {},
     "output_type": "execute_result"
    }
   ],
   "source": [
    "# Для проверки гипотезы проведём последовательную логическую фильтрацию и посчитаем её результат.\n",
    "# Для подсчёта возьмём любой полностью заполненный столбец, например 'dob_years'.\n",
    "# Обратимся к исходному датасету, сохранив его в отдельную переменную\n",
    "\n",
    "try:\n",
    "    df_hyp = pd.read_csv('/datasets/data.csv')\n",
    "except:\n",
    "    df_hyp = pd.read_csv('https://code.s3.yandex.net/datasets/data.csv')\n",
    "\n",
    "hypothesis = df_hyp[(df_hyp['days_employed'].isna()) & (df_hyp['total_income'].isna())]['dob_years'].count()\n",
    "hypothesis"
   ]
  },
  {
   "cell_type": "markdown",
   "id": "15afa5ae",
   "metadata": {},
   "source": [
    "**Вывод**\n",
    "\n",
    "**Гипотеза верна** - пропуски вызваны: либо\n",
    "- а) настройками системы,\n",
    "- б) либо некорректностью первичных документов, загружаемых в систему техническими средствами.\n",
    "\n",
    "В первом случае рекомендуется выяснить у компетентных сотрудников компании, насколько оправданы данные настройки.\\\n",
    "Во втором случае - проверить, как и из каких источников вносились данные, попавшие в исследуемый срез: что в них общего, что отличает их от других источников.\n"
   ]
  },
  {
   "cell_type": "markdown",
   "id": "3137d257",
   "metadata": {
    "deletable": false,
    "editable": false,
    "id": "3137d257"
   },
   "source": [
    "#### 3.6 Объясните, почему заполнить пропуски медианным значением — лучшее решение для количественных переменных."
   ]
  },
  {
   "cell_type": "markdown",
   "id": "cf40012a",
   "metadata": {
    "deletable": false,
    "id": "cf40012a"
   },
   "source": [
    "**Ответ:**\n",
    "\n",
    "Заполнить пропуски медианным значением — лучшее решение для количественных переменных, связанных с социально-экономическими явлениями.\n",
    ">Медиана – значение, которое делит отсортированные по возрастанию данные на две равные части. То есть медиана показывает середину ряда данных.\n",
    "Медиана почти не чувствительна к экстремальным значениям, находящимся на краях ряда, в отличие от среднего арифметического.\n",
    "\n",
    "Медианное значение в большей степени учитывает вероятностное распределение значений в ряду, являясь \"представителем\" диапазона наиболее часто встречающихся значений. При заполнении пропусков медиана  подходит наилучшим образом, именно как наиболее вероятное значение."
   ]
  },
  {
   "cell_type": "markdown",
   "id": "57bc304e",
   "metadata": {
    "deletable": false,
    "editable": false,
    "id": "57bc304e"
   },
   "source": [
    "### Шаг 4: общий вывод."
   ]
  },
  {
   "cell_type": "markdown",
   "id": "fe1a90e0",
   "metadata": {
    "deletable": false,
    "id": "1ab75d1c"
   },
   "source": [
    "**ЗАДАЧА:** выявить факторы, оказывающие влияние на надёжность заёмщиков и оценить степень их влияния.\n",
    "\n",
    "**ВЫОДЫ:**\n",
    "1. Не все факторы, которые исследовались на основании предоставленных данных и предложенных методик, оказывают значимое влияние на поведение заёмщиков.\n",
    "2. Некоторые факторы не удалось оценить с достаточной достоверностью. Требуется уточнение исходных данных, либо дополнительные исследования.\n",
    "\n",
    "**Ниже приведены результаты исследований отдельно по каждому фактору.**\n",
    "\n",
    "1. КОЛИЧЕСТВО ДЕТЕЙ\n",
    "\n",
    "Сам факт наличия детей, независимо от их количества, влияет на соблюдение сроков возврата кредитов.\\\n",
    "Заёмщики без детей более надёжны по параметру задеожек платежей по кредитам, чем заёмщики с детьми.\n",
    "\n",
    "Влияние же именно количества детей на возврат кредита в срок не обнаружено. \n",
    "\n",
    ">Доля имевших задолжность среди клиентов без детей составляет 7.54%, что ниже, чем среднее значение для групп с детьми (9.16%).\n",
    "Группа заёмщиков с пятью детьми малочисленна и не может в данном случае приниматься во внимание.\n",
    "Доли задержек в категориях, имеющих детей, находятся в диапазоне от 8,2% до 9,8% и не коррелируют с количеством детей в семье.\n",
    "\n",
    "**Рекомендации**\n",
    "\n",
    "Целесообразно сопоставить имеющиеся данные с данными общей статистики региона о составе семей и их доходах, чтобы оценить значимость группы с 5 детьми в статистике банка.\n",
    "А также, сравнить данные из других отделений банка в регионе (если такие имеются), либо - разделить предоставленные данные на группы по отделениям, если предоставленные данные - общие для нескольких отделений банка (что нам в данном случае не известно), либо сравнить с данными других банков в регионе, если есть такая возможность.\\\n",
    "**Цель** - определить корректность исследуемых данных и подтвердить или опровергнуть вывод о том, что количество детей в семье не влияет на надёжность заёмщиков.\n",
    "\n",
    "2. СЕМЕЙНОЕ ПОЛОЖЕНИЕ\n",
    "\n",
    "Семейное положение влияет на возврат кредита в срок.\n",
    "\n",
    "При этом состоящие в гражданском браке, с точки зрения надёжности, находятся на очень близком уровне с холостыми.\\\n",
    "Две эти группы наиболее рискованные для банка. Наблюдается заметный разрыв между этими двуми и остальными категориями.\\\n",
    ".\n",
    "\n",
    "\n",
    "3. УРОВЕНЬ ДОХОДА\n",
    "\n",
    "Из полученных результатов нельзя сделать однозначный вывод о влиянии уровня доход на надёжность заёмщзиков.\\\n",
    "Похожие показатели у диаметрально противоположных категорий и резкие скачки при перехеде между соседними категориями, могут быть результатом некорректной категоризации.\n",
    "\n",
    "> **Обоснование**\n",
    "\n",
    "> C одной стороны, категория E (нижний уровень доходов) демонстрирует наихудший показатель возвратов,\\\n",
    "с другой стороны, категория A (ниболее обеспеченные) также имеет высокий показатель нарушений, сопоставимый с категорией E.\\\n",
    "Наилучший показатель у категории D с доходами нижне-среднего диапазона, согласно имеющейся категоризации,\\\n",
    "однако, категория C, следующая по доходам непосредственно за категорией D, демонстрирует резкое снижение надёжности заёмщиков.\n",
    "\n",
    ">Сомнения в корректности применнённых для категоризации критериев подкрепляются, в том числе, немногочисленностью этих крайних категорий - 22 и 25 клиентов из более чем 21 тысячи.\n",
    "\n",
    "**Рекомендации**\n",
    "\n",
    "Проверить обоснованность критериев категоризации клоиентов по уровню дохода. Желательно с привлечением не только экономистов, но и социологов и\\или социальных психологов.  \n",
    "\n",
    "4. ЦЕЛИ КРЕДИТА\n",
    "\n",
    "Заметна зависимость задержек платежей от целей кредита.\\\n",
    "Наименьшим риском обладают операции с недвихимостью (7,3%), наибольшим - опервции с автомобилем (9.3%).\n",
    "\n",
    ">Данное положение вызывает интерес, так как кредиты в сфере недвижимости предоставляются на большие суммы и на более долгие сроки по сравнению с кредитами на операции с автомобилем и поэтому кажутся более рискованными.\\\n",
    "Но предоставленные данные опровергают такое суждение.\\\n",
    ">Целесообразно, на наш взгляд, сегментировать операции с недвижимостью, разделив их на две категории:\n",
    ">- некоммерческие операции с недвижимостью (частные),\n",
    ">- колммерческие операции с недвижимостью. Показатели в таких группах могут отличаться.\n",
    "\n",
    "\n",
    "**Рекомендации**\n",
    "\n",
    "Представляется целесообразным рекомендовать банку разработать алгоритм более точной категоризации клиентов по целям кредита.\n",
    "\n",
    ">Некоторые комментарий в столбце 'purpose' не позволяет однозначно дифференцировать цели.\\\n",
    "Например, такие формулировки, как: 'операции с жильем', 'покупка недвижимости', 'строительство жилой недвижимости', 'жилье' и др. не дают оснований для категоризаци.\\\n",
    "Кроме того, попавшая в категорию операций с недвижимостью, цель \"ремонт жилья\", может быть как сферой коммерческой деятельности, так и разновидностью потребительского кредита, без каких-либо свойств операций с недвижимостью вообще.\n",
    "\n",
    "\\\n",
    "\\\n",
    "5.  ПРОБЛЕМА ПРОПУЩЕННЫХ ЗНАЧЕНИЙ В БАЗЕ ДАННЫХ\n",
    "\n",
    "Доля пропущенных значений составляет:\n",
    "- в столбце days_employed - 10%\n",
    "- в столбце total_income - 10%.\n",
    "\n",
    "Ниже приводим аиболее вероятные причины пропусков.\\\n",
    "Основания для выводов описаны в части, посвящённой этапам анализа. \n",
    "\n",
    "- **Настройки системы,**\n",
    "вероятно данные рассчитываются автоматически только после накопления данных за период не меньше установленного. Таким образом, эти 10 % - новые клиенты, данных о которых пока недостаточно для расчета показателя (допустим, нужны сведения за 6 мес, а есть пока только за 4);\n",
    "\n",
    "- **некорректностью первичных документов**, загружаемых в систему техническими средствами.\n",
    "Возможно, данные вводятся путём сканирования бумажных бланков, и - в том случае, когда документ содержит критические ошибки, - данные не поступают в систему (например, расчетная ведомость от работодателя имеет нестандартную форму, с которой система банка не может работать).\n",
    "\n",
    "**Рекомендации**\n",
    "\n",
    "- рекомендуется выяснить у компетентных сотрудников компании, насколько оправданы именно такие настройки системы;\n",
    "- проверить, как и из каких источников вносятся данные, попавшие в исследуемый срез: что в них общего, что отличает их от других источников.\n",
    "\n"
   ]
  }
 ],
 "metadata": {
  "ExecuteTimeLog": [
   {
    "duration": 4,
    "start_time": "2023-12-29T14:45:10.076Z"
   },
   {
    "duration": 9,
    "start_time": "2023-12-29T15:38:59.430Z"
   },
   {
    "duration": 53,
    "start_time": "2023-12-29T15:43:35.536Z"
   },
   {
    "duration": 47,
    "start_time": "2023-12-30T16:14:55.364Z"
   },
   {
    "duration": 562,
    "start_time": "2023-12-30T16:15:07.801Z"
   },
   {
    "duration": 21,
    "start_time": "2023-12-30T16:15:08.365Z"
   },
   {
    "duration": 14,
    "start_time": "2023-12-30T16:15:08.388Z"
   },
   {
    "duration": 13,
    "start_time": "2023-12-30T16:15:08.404Z"
   },
   {
    "duration": 42,
    "start_time": "2023-12-30T16:15:08.418Z"
   },
   {
    "duration": 3,
    "start_time": "2023-12-30T16:15:08.461Z"
   },
   {
    "duration": 17,
    "start_time": "2023-12-30T16:15:08.466Z"
   },
   {
    "duration": 5,
    "start_time": "2023-12-30T16:15:08.485Z"
   },
   {
    "duration": 27,
    "start_time": "2023-12-30T16:15:08.491Z"
   },
   {
    "duration": 18,
    "start_time": "2023-12-30T16:15:08.520Z"
   },
   {
    "duration": 37,
    "start_time": "2023-12-30T16:15:08.540Z"
   },
   {
    "duration": 10,
    "start_time": "2023-12-30T16:15:08.578Z"
   },
   {
    "duration": 7,
    "start_time": "2023-12-30T16:15:08.589Z"
   },
   {
    "duration": 13,
    "start_time": "2023-12-30T16:15:08.597Z"
   },
   {
    "duration": 28,
    "start_time": "2023-12-30T16:15:08.612Z"
   },
   {
    "duration": 17,
    "start_time": "2023-12-30T16:15:08.642Z"
   },
   {
    "duration": 4,
    "start_time": "2023-12-30T16:15:08.660Z"
   },
   {
    "duration": 18,
    "start_time": "2023-12-30T16:15:08.665Z"
   },
   {
    "duration": 15,
    "start_time": "2023-12-30T16:15:08.685Z"
   },
   {
    "duration": 3,
    "start_time": "2023-12-30T16:15:08.702Z"
   },
   {
    "duration": 27,
    "start_time": "2023-12-30T16:15:08.707Z"
   },
   {
    "duration": 2,
    "start_time": "2023-12-30T16:15:08.736Z"
   },
   {
    "duration": 11,
    "start_time": "2023-12-30T16:15:08.740Z"
   },
   {
    "duration": 10,
    "start_time": "2023-12-30T16:15:08.752Z"
   },
   {
    "duration": 6,
    "start_time": "2023-12-30T16:15:08.763Z"
   },
   {
    "duration": 8,
    "start_time": "2023-12-30T16:15:08.771Z"
   },
   {
    "duration": 61,
    "start_time": "2023-12-30T16:15:08.781Z"
   },
   {
    "duration": 7,
    "start_time": "2023-12-30T18:26:38.673Z"
   },
   {
    "duration": 6,
    "start_time": "2023-12-30T18:29:54.049Z"
   },
   {
    "duration": 9,
    "start_time": "2023-12-30T18:30:08.945Z"
   },
   {
    "duration": 66,
    "start_time": "2023-12-30T18:31:05.100Z"
   },
   {
    "duration": 12,
    "start_time": "2023-12-30T18:31:20.280Z"
   },
   {
    "duration": 8,
    "start_time": "2023-12-30T18:31:35.872Z"
   },
   {
    "duration": 9,
    "start_time": "2023-12-30T18:33:34.863Z"
   },
   {
    "duration": 8,
    "start_time": "2023-12-30T18:37:35.291Z"
   },
   {
    "duration": 8,
    "start_time": "2023-12-30T18:40:04.419Z"
   },
   {
    "duration": 9,
    "start_time": "2023-12-30T18:40:35.440Z"
   },
   {
    "duration": 9,
    "start_time": "2023-12-30T18:41:27.398Z"
   },
   {
    "duration": 9,
    "start_time": "2023-12-30T18:41:42.583Z"
   },
   {
    "duration": 6,
    "start_time": "2023-12-30T18:44:15.758Z"
   },
   {
    "duration": 8,
    "start_time": "2023-12-30T18:48:23.910Z"
   },
   {
    "duration": 5,
    "start_time": "2023-12-30T18:48:38.254Z"
   },
   {
    "duration": 8,
    "start_time": "2023-12-30T18:48:49.336Z"
   },
   {
    "duration": 9,
    "start_time": "2023-12-30T18:49:54.408Z"
   },
   {
    "duration": 11,
    "start_time": "2023-12-30T18:50:53.653Z"
   },
   {
    "duration": 4,
    "start_time": "2023-12-30T18:51:40.686Z"
   },
   {
    "duration": 8,
    "start_time": "2023-12-30T18:52:21.603Z"
   },
   {
    "duration": 9,
    "start_time": "2023-12-30T18:53:18.480Z"
   },
   {
    "duration": 9,
    "start_time": "2023-12-30T18:53:53.924Z"
   },
   {
    "duration": 6,
    "start_time": "2023-12-30T18:54:13.711Z"
   },
   {
    "duration": 12,
    "start_time": "2023-12-30T19:07:36.347Z"
   },
   {
    "duration": 10,
    "start_time": "2023-12-30T19:08:47.985Z"
   },
   {
    "duration": 12,
    "start_time": "2023-12-30T19:09:49.606Z"
   },
   {
    "duration": 15,
    "start_time": "2023-12-30T19:12:03.145Z"
   },
   {
    "duration": 14,
    "start_time": "2023-12-30T19:12:25.643Z"
   },
   {
    "duration": 14,
    "start_time": "2023-12-30T19:12:33.421Z"
   },
   {
    "duration": 13,
    "start_time": "2023-12-30T19:13:36.174Z"
   },
   {
    "duration": 7,
    "start_time": "2023-12-30T19:14:42.807Z"
   },
   {
    "duration": 7,
    "start_time": "2023-12-30T19:19:53.545Z"
   },
   {
    "duration": 12,
    "start_time": "2023-12-30T19:20:05.832Z"
   },
   {
    "duration": 10,
    "start_time": "2023-12-30T19:21:50.056Z"
   },
   {
    "duration": 10,
    "start_time": "2023-12-30T19:21:59.415Z"
   },
   {
    "duration": 10,
    "start_time": "2023-12-30T19:22:20.385Z"
   },
   {
    "duration": 13,
    "start_time": "2023-12-30T19:22:50.239Z"
   },
   {
    "duration": 4,
    "start_time": "2023-12-30T19:23:02.493Z"
   },
   {
    "duration": 11,
    "start_time": "2023-12-30T19:23:17.004Z"
   },
   {
    "duration": 73,
    "start_time": "2023-12-30T19:23:50.696Z"
   },
   {
    "duration": 11,
    "start_time": "2023-12-30T19:24:05.453Z"
   },
   {
    "duration": 15,
    "start_time": "2023-12-30T19:24:21.924Z"
   },
   {
    "duration": 13,
    "start_time": "2023-12-30T19:24:41.319Z"
   },
   {
    "duration": 12,
    "start_time": "2023-12-30T19:24:53.744Z"
   },
   {
    "duration": 13,
    "start_time": "2023-12-30T19:25:15.842Z"
   },
   {
    "duration": 18,
    "start_time": "2023-12-30T19:25:45.724Z"
   },
   {
    "duration": 11,
    "start_time": "2023-12-30T19:25:57.278Z"
   },
   {
    "duration": 9,
    "start_time": "2023-12-30T19:26:28.747Z"
   },
   {
    "duration": 625,
    "start_time": "2023-12-30T19:34:01.819Z"
   },
   {
    "duration": 190,
    "start_time": "2023-12-30T19:35:38.094Z"
   },
   {
    "duration": 525,
    "start_time": "2023-12-30T19:36:20.763Z"
   },
   {
    "duration": 9,
    "start_time": "2023-12-30T19:38:19.495Z"
   },
   {
    "duration": 14,
    "start_time": "2023-12-30T19:38:50.488Z"
   },
   {
    "duration": 32,
    "start_time": "2023-12-30T19:40:00.277Z"
   },
   {
    "duration": 9,
    "start_time": "2023-12-30T19:40:28.192Z"
   },
   {
    "duration": 26,
    "start_time": "2023-12-30T19:47:22.924Z"
   },
   {
    "duration": 14,
    "start_time": "2023-12-30T19:48:30.482Z"
   },
   {
    "duration": 17,
    "start_time": "2023-12-30T19:49:45.386Z"
   },
   {
    "duration": 14,
    "start_time": "2023-12-30T19:50:47.811Z"
   },
   {
    "duration": 15,
    "start_time": "2023-12-30T19:51:34.304Z"
   },
   {
    "duration": 17,
    "start_time": "2023-12-30T19:51:48.731Z"
   },
   {
    "duration": 10,
    "start_time": "2023-12-30T19:53:09.678Z"
   },
   {
    "duration": 15,
    "start_time": "2023-12-30T19:53:53.914Z"
   },
   {
    "duration": 55,
    "start_time": "2023-12-30T19:55:47.299Z"
   },
   {
    "duration": 13,
    "start_time": "2023-12-30T19:55:58.947Z"
   },
   {
    "duration": 12,
    "start_time": "2023-12-30T19:56:19.568Z"
   },
   {
    "duration": 14,
    "start_time": "2023-12-30T19:57:30.807Z"
   },
   {
    "duration": 15,
    "start_time": "2023-12-30T19:57:55.697Z"
   },
   {
    "duration": 17,
    "start_time": "2023-12-30T19:58:23.424Z"
   },
   {
    "duration": 9,
    "start_time": "2023-12-30T20:03:25.473Z"
   },
   {
    "duration": 12,
    "start_time": "2023-12-30T20:03:44.627Z"
   },
   {
    "duration": 12,
    "start_time": "2023-12-30T20:10:25.900Z"
   },
   {
    "duration": 15,
    "start_time": "2023-12-30T20:10:57.599Z"
   },
   {
    "duration": 15,
    "start_time": "2023-12-30T20:11:22.741Z"
   },
   {
    "duration": 12,
    "start_time": "2023-12-30T20:12:08.199Z"
   },
   {
    "duration": 28,
    "start_time": "2023-12-30T20:12:23.899Z"
   },
   {
    "duration": 10,
    "start_time": "2023-12-30T20:13:41.168Z"
   },
   {
    "duration": 14,
    "start_time": "2023-12-30T20:15:16.281Z"
   },
   {
    "duration": 13,
    "start_time": "2023-12-30T20:17:26.896Z"
   },
   {
    "duration": 13,
    "start_time": "2023-12-30T20:18:06.129Z"
   },
   {
    "duration": 12,
    "start_time": "2023-12-30T20:18:38.481Z"
   },
   {
    "duration": 13,
    "start_time": "2023-12-30T20:18:53.856Z"
   },
   {
    "duration": 12,
    "start_time": "2023-12-30T20:20:07.992Z"
   },
   {
    "duration": 13,
    "start_time": "2023-12-30T20:20:24.567Z"
   },
   {
    "duration": 13,
    "start_time": "2023-12-30T20:21:40.051Z"
   },
   {
    "duration": 13,
    "start_time": "2023-12-30T20:21:57.389Z"
   },
   {
    "duration": 12,
    "start_time": "2023-12-30T20:23:37.384Z"
   },
   {
    "duration": 14,
    "start_time": "2023-12-30T20:26:28.684Z"
   },
   {
    "duration": 13,
    "start_time": "2023-12-30T20:35:23.635Z"
   },
   {
    "duration": 13,
    "start_time": "2023-12-30T20:35:45.814Z"
   },
   {
    "duration": 12,
    "start_time": "2023-12-30T20:37:51.390Z"
   },
   {
    "duration": 14,
    "start_time": "2023-12-30T20:38:14.193Z"
   },
   {
    "duration": 15,
    "start_time": "2023-12-30T20:38:37.412Z"
   },
   {
    "duration": 14,
    "start_time": "2023-12-30T20:38:48.902Z"
   },
   {
    "duration": 13,
    "start_time": "2023-12-30T20:39:29.531Z"
   },
   {
    "duration": 13,
    "start_time": "2023-12-30T20:39:43.765Z"
   },
   {
    "duration": 657,
    "start_time": "2023-12-31T09:38:32.902Z"
   },
   {
    "duration": 20,
    "start_time": "2023-12-31T09:38:33.561Z"
   },
   {
    "duration": 15,
    "start_time": "2023-12-31T09:38:33.582Z"
   },
   {
    "duration": 10,
    "start_time": "2023-12-31T09:38:33.599Z"
   },
   {
    "duration": 73,
    "start_time": "2023-12-31T09:38:33.610Z"
   },
   {
    "duration": 4,
    "start_time": "2023-12-31T09:38:33.684Z"
   },
   {
    "duration": 8,
    "start_time": "2023-12-31T09:38:33.689Z"
   },
   {
    "duration": 3,
    "start_time": "2023-12-31T09:38:33.698Z"
   },
   {
    "duration": 6,
    "start_time": "2023-12-31T09:38:33.702Z"
   },
   {
    "duration": 3,
    "start_time": "2023-12-31T09:38:33.712Z"
   },
   {
    "duration": 61,
    "start_time": "2023-12-31T09:38:33.716Z"
   },
   {
    "duration": 10,
    "start_time": "2023-12-31T09:38:33.778Z"
   },
   {
    "duration": 6,
    "start_time": "2023-12-31T09:38:33.789Z"
   },
   {
    "duration": 11,
    "start_time": "2023-12-31T09:38:33.797Z"
   },
   {
    "duration": 20,
    "start_time": "2023-12-31T09:38:33.809Z"
   },
   {
    "duration": 38,
    "start_time": "2023-12-31T09:38:33.831Z"
   },
   {
    "duration": 3,
    "start_time": "2023-12-31T09:38:33.871Z"
   },
   {
    "duration": 10,
    "start_time": "2023-12-31T09:38:33.876Z"
   },
   {
    "duration": 5,
    "start_time": "2023-12-31T09:38:33.888Z"
   },
   {
    "duration": 3,
    "start_time": "2023-12-31T09:38:33.894Z"
   },
   {
    "duration": 10,
    "start_time": "2023-12-31T09:38:33.899Z"
   },
   {
    "duration": 11,
    "start_time": "2023-12-31T09:38:33.911Z"
   },
   {
    "duration": 10,
    "start_time": "2023-12-31T09:38:33.923Z"
   },
   {
    "duration": 11,
    "start_time": "2023-12-31T09:38:33.965Z"
   },
   {
    "duration": 11,
    "start_time": "2023-12-31T09:38:33.977Z"
   },
   {
    "duration": 3,
    "start_time": "2023-12-31T09:38:33.989Z"
   },
   {
    "duration": 75,
    "start_time": "2023-12-31T09:38:33.993Z"
   },
   {
    "duration": 11,
    "start_time": "2023-12-31T09:40:48.428Z"
   },
   {
    "duration": 11,
    "start_time": "2023-12-31T09:43:57.466Z"
   },
   {
    "duration": 62,
    "start_time": "2023-12-31T09:45:35.587Z"
   },
   {
    "duration": 12,
    "start_time": "2023-12-31T09:47:08.247Z"
   },
   {
    "duration": 20,
    "start_time": "2023-12-31T09:48:53.509Z"
   },
   {
    "duration": 13,
    "start_time": "2023-12-31T09:49:59.189Z"
   },
   {
    "duration": 12,
    "start_time": "2023-12-31T09:51:02.805Z"
   },
   {
    "duration": 11,
    "start_time": "2023-12-31T09:52:53.234Z"
   },
   {
    "duration": 14,
    "start_time": "2023-12-31T10:10:14.068Z"
   },
   {
    "duration": 15,
    "start_time": "2023-12-31T10:12:43.635Z"
   },
   {
    "duration": 13,
    "start_time": "2023-12-31T10:12:55.128Z"
   },
   {
    "duration": 15,
    "start_time": "2023-12-31T10:13:03.840Z"
   },
   {
    "duration": 13,
    "start_time": "2023-12-31T10:22:49.208Z"
   },
   {
    "duration": 11,
    "start_time": "2023-12-31T10:23:11.891Z"
   },
   {
    "duration": 11,
    "start_time": "2023-12-31T10:25:36.400Z"
   },
   {
    "duration": 11,
    "start_time": "2023-12-31T10:25:45.715Z"
   },
   {
    "duration": 10,
    "start_time": "2023-12-31T10:26:08.398Z"
   },
   {
    "duration": 11,
    "start_time": "2023-12-31T10:26:45.708Z"
   },
   {
    "duration": 11,
    "start_time": "2023-12-31T10:36:33.255Z"
   },
   {
    "duration": 11,
    "start_time": "2023-12-31T10:37:01.556Z"
   },
   {
    "duration": 10,
    "start_time": "2023-12-31T10:38:16.790Z"
   },
   {
    "duration": 11,
    "start_time": "2023-12-31T10:38:51.703Z"
   },
   {
    "duration": 12,
    "start_time": "2023-12-31T10:42:15.024Z"
   },
   {
    "duration": 14,
    "start_time": "2023-12-31T10:42:28.915Z"
   },
   {
    "duration": 11,
    "start_time": "2023-12-31T10:42:59.716Z"
   },
   {
    "duration": 12,
    "start_time": "2023-12-31T10:43:13.980Z"
   },
   {
    "duration": 12,
    "start_time": "2023-12-31T10:43:32.182Z"
   },
   {
    "duration": 11,
    "start_time": "2023-12-31T10:44:40.026Z"
   },
   {
    "duration": 12,
    "start_time": "2023-12-31T10:45:05.453Z"
   },
   {
    "duration": 11,
    "start_time": "2023-12-31T10:46:23.175Z"
   },
   {
    "duration": 10,
    "start_time": "2023-12-31T10:47:16.852Z"
   },
   {
    "duration": 79,
    "start_time": "2023-12-31T10:50:15.864Z"
   },
   {
    "duration": 76,
    "start_time": "2023-12-31T10:50:28.002Z"
   },
   {
    "duration": 87,
    "start_time": "2023-12-31T10:51:07.258Z"
   },
   {
    "duration": 71,
    "start_time": "2023-12-31T10:52:51.465Z"
   },
   {
    "duration": 11,
    "start_time": "2023-12-31T10:54:35.905Z"
   },
   {
    "duration": 11,
    "start_time": "2023-12-31T10:56:53.614Z"
   },
   {
    "duration": 11,
    "start_time": "2023-12-31T10:57:14.118Z"
   },
   {
    "duration": 11,
    "start_time": "2023-12-31T10:57:49.404Z"
   },
   {
    "duration": 69,
    "start_time": "2023-12-31T10:59:15.202Z"
   },
   {
    "duration": 72,
    "start_time": "2023-12-31T10:59:31.043Z"
   },
   {
    "duration": 98,
    "start_time": "2023-12-31T11:00:01.464Z"
   },
   {
    "duration": 13,
    "start_time": "2023-12-31T11:00:13.745Z"
   },
   {
    "duration": 12,
    "start_time": "2023-12-31T11:01:25.565Z"
   },
   {
    "duration": 78,
    "start_time": "2023-12-31T11:03:42.318Z"
   },
   {
    "duration": 84,
    "start_time": "2023-12-31T11:04:25.291Z"
   },
   {
    "duration": 81,
    "start_time": "2023-12-31T11:05:38.499Z"
   },
   {
    "duration": 72,
    "start_time": "2023-12-31T11:05:51.228Z"
   },
   {
    "duration": 72,
    "start_time": "2023-12-31T11:06:00.282Z"
   },
   {
    "duration": 73,
    "start_time": "2023-12-31T11:06:17.588Z"
   },
   {
    "duration": 12,
    "start_time": "2023-12-31T11:10:14.609Z"
   },
   {
    "duration": 11,
    "start_time": "2023-12-31T11:11:09.433Z"
   },
   {
    "duration": 13,
    "start_time": "2023-12-31T11:12:16.610Z"
   },
   {
    "duration": 12,
    "start_time": "2023-12-31T11:12:56.663Z"
   },
   {
    "duration": 13,
    "start_time": "2023-12-31T11:13:18.801Z"
   },
   {
    "duration": 10,
    "start_time": "2023-12-31T11:20:09.867Z"
   },
   {
    "duration": 17,
    "start_time": "2023-12-31T11:20:44.709Z"
   },
   {
    "duration": 12,
    "start_time": "2023-12-31T11:21:30.347Z"
   },
   {
    "duration": 1167,
    "start_time": "2023-12-31T11:29:09.808Z"
   },
   {
    "duration": 19,
    "start_time": "2023-12-31T11:29:49.585Z"
   },
   {
    "duration": 14,
    "start_time": "2023-12-31T11:30:47.395Z"
   },
   {
    "duration": 13,
    "start_time": "2023-12-31T11:31:07.109Z"
   },
   {
    "duration": 12,
    "start_time": "2023-12-31T11:31:16.174Z"
   },
   {
    "duration": 13,
    "start_time": "2023-12-31T11:31:37.825Z"
   },
   {
    "duration": 68,
    "start_time": "2023-12-31T11:49:00.744Z"
   },
   {
    "duration": 66,
    "start_time": "2023-12-31T11:49:26.773Z"
   },
   {
    "duration": 102,
    "start_time": "2023-12-31T11:49:49.527Z"
   },
   {
    "duration": 1266,
    "start_time": "2023-12-31T11:50:05.201Z"
   },
   {
    "duration": 1115,
    "start_time": "2023-12-31T11:50:17.564Z"
   },
   {
    "duration": 1156,
    "start_time": "2023-12-31T11:50:55.209Z"
   },
   {
    "duration": 5,
    "start_time": "2023-12-31T11:53:02.047Z"
   },
   {
    "duration": 13,
    "start_time": "2023-12-31T11:53:56.271Z"
   },
   {
    "duration": 12,
    "start_time": "2023-12-31T11:54:36.211Z"
   },
   {
    "duration": 5,
    "start_time": "2023-12-31T11:55:02.149Z"
   },
   {
    "duration": 5,
    "start_time": "2023-12-31T11:56:02.249Z"
   },
   {
    "duration": 9,
    "start_time": "2023-12-31T11:57:36.794Z"
   },
   {
    "duration": 4,
    "start_time": "2023-12-31T11:59:21.147Z"
   },
   {
    "duration": 72,
    "start_time": "2023-12-31T11:59:57.853Z"
   },
   {
    "duration": 4,
    "start_time": "2023-12-31T12:00:10.095Z"
   },
   {
    "duration": 5,
    "start_time": "2023-12-31T12:00:48.370Z"
   },
   {
    "duration": 4,
    "start_time": "2023-12-31T12:02:34.697Z"
   },
   {
    "duration": 12,
    "start_time": "2023-12-31T12:03:27.330Z"
   },
   {
    "duration": 4,
    "start_time": "2023-12-31T12:03:31.081Z"
   },
   {
    "duration": 4,
    "start_time": "2023-12-31T12:04:03.092Z"
   },
   {
    "duration": 4,
    "start_time": "2023-12-31T12:04:11.150Z"
   },
   {
    "duration": 4,
    "start_time": "2023-12-31T12:16:51.026Z"
   },
   {
    "duration": 18,
    "start_time": "2023-12-31T12:33:12.265Z"
   },
   {
    "duration": 10,
    "start_time": "2023-12-31T13:04:56.461Z"
   },
   {
    "duration": 6,
    "start_time": "2023-12-31T13:05:43.118Z"
   },
   {
    "duration": 7,
    "start_time": "2023-12-31T13:06:17.252Z"
   },
   {
    "duration": 5,
    "start_time": "2023-12-31T13:12:03.979Z"
   },
   {
    "duration": 5,
    "start_time": "2023-12-31T13:12:50.665Z"
   },
   {
    "duration": 5,
    "start_time": "2023-12-31T13:13:57.102Z"
   },
   {
    "duration": 4,
    "start_time": "2023-12-31T13:15:54.584Z"
   },
   {
    "duration": 5,
    "start_time": "2023-12-31T13:16:07.553Z"
   },
   {
    "duration": 15,
    "start_time": "2023-12-31T13:20:52.127Z"
   },
   {
    "duration": 21,
    "start_time": "2023-12-31T13:21:11.833Z"
   },
   {
    "duration": 9,
    "start_time": "2023-12-31T13:22:39.390Z"
   },
   {
    "duration": 81,
    "start_time": "2023-12-31T13:54:13.243Z"
   },
   {
    "duration": 76,
    "start_time": "2023-12-31T14:02:06.181Z"
   },
   {
    "duration": 423,
    "start_time": "2023-12-31T14:15:37.713Z"
   },
   {
    "duration": 21,
    "start_time": "2023-12-31T14:15:38.138Z"
   },
   {
    "duration": 15,
    "start_time": "2023-12-31T14:15:38.161Z"
   },
   {
    "duration": 10,
    "start_time": "2023-12-31T14:15:38.177Z"
   },
   {
    "duration": 31,
    "start_time": "2023-12-31T14:15:38.189Z"
   },
   {
    "duration": 3,
    "start_time": "2023-12-31T14:15:38.221Z"
   },
   {
    "duration": 7,
    "start_time": "2023-12-31T14:15:38.226Z"
   },
   {
    "duration": 31,
    "start_time": "2023-12-31T14:15:38.235Z"
   },
   {
    "duration": 6,
    "start_time": "2023-12-31T14:15:38.267Z"
   },
   {
    "duration": 5,
    "start_time": "2023-12-31T14:15:38.274Z"
   },
   {
    "duration": 31,
    "start_time": "2023-12-31T14:15:38.280Z"
   },
   {
    "duration": 9,
    "start_time": "2023-12-31T14:15:38.313Z"
   },
   {
    "duration": 3,
    "start_time": "2023-12-31T14:15:38.324Z"
   },
   {
    "duration": 39,
    "start_time": "2023-12-31T14:15:38.330Z"
   },
   {
    "duration": 18,
    "start_time": "2023-12-31T14:15:38.371Z"
   },
   {
    "duration": 15,
    "start_time": "2023-12-31T14:15:38.391Z"
   },
   {
    "duration": 4,
    "start_time": "2023-12-31T14:15:38.407Z"
   },
   {
    "duration": 13,
    "start_time": "2023-12-31T14:15:38.412Z"
   },
   {
    "duration": 6,
    "start_time": "2023-12-31T14:15:38.426Z"
   },
   {
    "duration": 3,
    "start_time": "2023-12-31T14:15:38.434Z"
   },
   {
    "duration": 11,
    "start_time": "2023-12-31T14:15:38.465Z"
   },
   {
    "duration": 14,
    "start_time": "2023-12-31T14:15:38.478Z"
   },
   {
    "duration": 4,
    "start_time": "2023-12-31T14:15:38.493Z"
   },
   {
    "duration": 13,
    "start_time": "2023-12-31T14:15:38.499Z"
   },
   {
    "duration": 13,
    "start_time": "2023-12-31T14:15:38.513Z"
   },
   {
    "duration": 50,
    "start_time": "2023-12-31T14:15:38.527Z"
   },
   {
    "duration": 11,
    "start_time": "2023-12-31T14:15:38.578Z"
   },
   {
    "duration": 3,
    "start_time": "2023-12-31T14:15:38.591Z"
   },
   {
    "duration": 74,
    "start_time": "2023-12-31T14:15:38.595Z"
   },
   {
    "duration": 12,
    "start_time": "2023-12-31T14:27:51.713Z"
   },
   {
    "duration": 4,
    "start_time": "2023-12-31T14:33:28.370Z"
   },
   {
    "duration": 4,
    "start_time": "2023-12-31T14:33:44.669Z"
   },
   {
    "duration": 4,
    "start_time": "2023-12-31T14:33:53.519Z"
   },
   {
    "duration": 4,
    "start_time": "2023-12-31T14:34:07.464Z"
   },
   {
    "duration": 14,
    "start_time": "2023-12-31T15:19:06.332Z"
   },
   {
    "duration": 11,
    "start_time": "2023-12-31T15:19:58.023Z"
   },
   {
    "duration": 12,
    "start_time": "2023-12-31T15:20:48.365Z"
   },
   {
    "duration": 12,
    "start_time": "2023-12-31T15:21:03.208Z"
   },
   {
    "duration": 14,
    "start_time": "2023-12-31T15:26:15.307Z"
   },
   {
    "duration": 11,
    "start_time": "2023-12-31T15:26:26.275Z"
   },
   {
    "duration": 13,
    "start_time": "2023-12-31T15:26:40.477Z"
   },
   {
    "duration": 477,
    "start_time": "2023-12-31T15:26:51.746Z"
   },
   {
    "duration": 21,
    "start_time": "2023-12-31T15:26:52.225Z"
   },
   {
    "duration": 24,
    "start_time": "2023-12-31T15:26:52.248Z"
   },
   {
    "duration": 29,
    "start_time": "2023-12-31T15:26:52.274Z"
   },
   {
    "duration": 37,
    "start_time": "2023-12-31T15:26:52.304Z"
   },
   {
    "duration": 4,
    "start_time": "2023-12-31T15:26:52.342Z"
   },
   {
    "duration": 11,
    "start_time": "2023-12-31T15:26:52.347Z"
   },
   {
    "duration": 6,
    "start_time": "2023-12-31T15:26:52.359Z"
   },
   {
    "duration": 6,
    "start_time": "2023-12-31T15:26:52.367Z"
   },
   {
    "duration": 4,
    "start_time": "2023-12-31T15:26:52.376Z"
   },
   {
    "duration": 39,
    "start_time": "2023-12-31T15:26:52.381Z"
   },
   {
    "duration": 10,
    "start_time": "2023-12-31T15:26:52.421Z"
   },
   {
    "duration": 32,
    "start_time": "2023-12-31T15:26:52.433Z"
   },
   {
    "duration": 13,
    "start_time": "2023-12-31T15:26:52.466Z"
   },
   {
    "duration": 19,
    "start_time": "2023-12-31T15:26:52.480Z"
   },
   {
    "duration": 17,
    "start_time": "2023-12-31T15:26:52.500Z"
   },
   {
    "duration": 4,
    "start_time": "2023-12-31T15:26:52.518Z"
   },
   {
    "duration": 42,
    "start_time": "2023-12-31T15:26:52.524Z"
   },
   {
    "duration": 7,
    "start_time": "2023-12-31T15:26:52.567Z"
   },
   {
    "duration": 3,
    "start_time": "2023-12-31T15:26:52.575Z"
   },
   {
    "duration": 9,
    "start_time": "2023-12-31T15:26:52.579Z"
   },
   {
    "duration": 11,
    "start_time": "2023-12-31T15:26:52.590Z"
   },
   {
    "duration": 3,
    "start_time": "2023-12-31T15:26:52.602Z"
   },
   {
    "duration": 13,
    "start_time": "2023-12-31T15:26:52.607Z"
   },
   {
    "duration": 10,
    "start_time": "2023-12-31T15:26:52.622Z"
   },
   {
    "duration": 13,
    "start_time": "2023-12-31T15:26:52.665Z"
   },
   {
    "duration": 10,
    "start_time": "2023-12-31T15:26:52.679Z"
   },
   {
    "duration": 3,
    "start_time": "2023-12-31T15:26:52.692Z"
   },
   {
    "duration": 72,
    "start_time": "2023-12-31T15:26:52.696Z"
   },
   {
    "duration": 11,
    "start_time": "2023-12-31T15:27:19.136Z"
   },
   {
    "duration": 12,
    "start_time": "2023-12-31T15:27:33.769Z"
   },
   {
    "duration": 12,
    "start_time": "2023-12-31T15:27:58.788Z"
   },
   {
    "duration": 444,
    "start_time": "2023-12-31T15:28:13.980Z"
   },
   {
    "duration": 20,
    "start_time": "2023-12-31T15:28:14.425Z"
   },
   {
    "duration": 14,
    "start_time": "2023-12-31T15:28:14.446Z"
   },
   {
    "duration": 9,
    "start_time": "2023-12-31T15:28:14.462Z"
   },
   {
    "duration": 31,
    "start_time": "2023-12-31T15:28:14.472Z"
   },
   {
    "duration": 2,
    "start_time": "2023-12-31T15:28:14.505Z"
   },
   {
    "duration": 7,
    "start_time": "2023-12-31T15:28:14.509Z"
   },
   {
    "duration": 3,
    "start_time": "2023-12-31T15:28:14.517Z"
   },
   {
    "duration": 6,
    "start_time": "2023-12-31T15:28:14.522Z"
   },
   {
    "duration": 3,
    "start_time": "2023-12-31T15:28:14.531Z"
   },
   {
    "duration": 32,
    "start_time": "2023-12-31T15:28:14.565Z"
   },
   {
    "duration": 10,
    "start_time": "2023-12-31T15:28:14.598Z"
   },
   {
    "duration": 10,
    "start_time": "2023-12-31T15:28:14.609Z"
   },
   {
    "duration": 10,
    "start_time": "2023-12-31T15:28:14.620Z"
   },
   {
    "duration": 36,
    "start_time": "2023-12-31T15:28:14.632Z"
   },
   {
    "duration": 15,
    "start_time": "2023-12-31T15:28:14.670Z"
   },
   {
    "duration": 3,
    "start_time": "2023-12-31T15:28:14.687Z"
   },
   {
    "duration": 12,
    "start_time": "2023-12-31T15:28:14.691Z"
   },
   {
    "duration": 4,
    "start_time": "2023-12-31T15:28:14.705Z"
   },
   {
    "duration": 3,
    "start_time": "2023-12-31T15:28:14.711Z"
   },
   {
    "duration": 8,
    "start_time": "2023-12-31T15:28:14.715Z"
   },
   {
    "duration": 13,
    "start_time": "2023-12-31T15:28:14.724Z"
   },
   {
    "duration": 30,
    "start_time": "2023-12-31T15:28:14.738Z"
   },
   {
    "duration": 13,
    "start_time": "2023-12-31T15:28:14.769Z"
   },
   {
    "duration": 11,
    "start_time": "2023-12-31T15:28:14.783Z"
   },
   {
    "duration": 11,
    "start_time": "2023-12-31T15:28:14.795Z"
   },
   {
    "duration": 11,
    "start_time": "2023-12-31T15:28:14.807Z"
   },
   {
    "duration": 3,
    "start_time": "2023-12-31T15:28:14.821Z"
   },
   {
    "duration": 86,
    "start_time": "2023-12-31T15:28:14.826Z"
   },
   {
    "duration": 14,
    "start_time": "2023-12-31T15:29:33.403Z"
   },
   {
    "duration": 15,
    "start_time": "2023-12-31T15:30:03.683Z"
   },
   {
    "duration": 16,
    "start_time": "2023-12-31T15:30:20.676Z"
   },
   {
    "duration": 13,
    "start_time": "2023-12-31T15:30:29.125Z"
   },
   {
    "duration": 21,
    "start_time": "2023-12-31T15:30:42.607Z"
   },
   {
    "duration": 12,
    "start_time": "2023-12-31T15:30:53.256Z"
   },
   {
    "duration": 463,
    "start_time": "2023-12-31T15:31:02.784Z"
   },
   {
    "duration": 22,
    "start_time": "2023-12-31T15:31:03.249Z"
   },
   {
    "duration": 14,
    "start_time": "2023-12-31T15:31:03.273Z"
   },
   {
    "duration": 9,
    "start_time": "2023-12-31T15:31:03.289Z"
   },
   {
    "duration": 34,
    "start_time": "2023-12-31T15:31:03.299Z"
   },
   {
    "duration": 3,
    "start_time": "2023-12-31T15:31:03.334Z"
   },
   {
    "duration": 33,
    "start_time": "2023-12-31T15:31:03.338Z"
   },
   {
    "duration": 4,
    "start_time": "2023-12-31T15:31:03.372Z"
   },
   {
    "duration": 7,
    "start_time": "2023-12-31T15:31:03.377Z"
   },
   {
    "duration": 3,
    "start_time": "2023-12-31T15:31:03.386Z"
   },
   {
    "duration": 32,
    "start_time": "2023-12-31T15:31:03.390Z"
   },
   {
    "duration": 9,
    "start_time": "2023-12-31T15:31:03.423Z"
   },
   {
    "duration": 34,
    "start_time": "2023-12-31T15:31:03.434Z"
   },
   {
    "duration": 12,
    "start_time": "2023-12-31T15:31:03.469Z"
   },
   {
    "duration": 21,
    "start_time": "2023-12-31T15:31:03.483Z"
   },
   {
    "duration": 15,
    "start_time": "2023-12-31T15:31:03.506Z"
   },
   {
    "duration": 3,
    "start_time": "2023-12-31T15:31:03.523Z"
   },
   {
    "duration": 11,
    "start_time": "2023-12-31T15:31:03.527Z"
   },
   {
    "duration": 27,
    "start_time": "2023-12-31T15:31:03.540Z"
   },
   {
    "duration": 16,
    "start_time": "2023-12-31T15:31:03.569Z"
   },
   {
    "duration": 9,
    "start_time": "2023-12-31T15:31:03.586Z"
   },
   {
    "duration": 13,
    "start_time": "2023-12-31T15:31:03.596Z"
   },
   {
    "duration": 3,
    "start_time": "2023-12-31T15:31:03.611Z"
   },
   {
    "duration": 11,
    "start_time": "2023-12-31T15:31:03.616Z"
   },
   {
    "duration": 37,
    "start_time": "2023-12-31T15:31:03.628Z"
   },
   {
    "duration": 12,
    "start_time": "2023-12-31T15:31:03.667Z"
   },
   {
    "duration": 11,
    "start_time": "2023-12-31T15:31:03.680Z"
   },
   {
    "duration": 5,
    "start_time": "2023-12-31T15:31:03.694Z"
   },
   {
    "duration": 72,
    "start_time": "2023-12-31T15:31:03.701Z"
   },
   {
    "duration": 12,
    "start_time": "2023-12-31T15:31:35.881Z"
   },
   {
    "duration": 13,
    "start_time": "2023-12-31T15:32:06.295Z"
   },
   {
    "duration": 13,
    "start_time": "2023-12-31T15:32:16.252Z"
   },
   {
    "duration": 12,
    "start_time": "2023-12-31T15:32:36.799Z"
   },
   {
    "duration": 484,
    "start_time": "2023-12-31T15:32:45.356Z"
   },
   {
    "duration": 21,
    "start_time": "2023-12-31T15:32:45.841Z"
   },
   {
    "duration": 14,
    "start_time": "2023-12-31T15:32:45.863Z"
   },
   {
    "duration": 9,
    "start_time": "2023-12-31T15:32:45.879Z"
   },
   {
    "duration": 32,
    "start_time": "2023-12-31T15:32:45.889Z"
   },
   {
    "duration": 3,
    "start_time": "2023-12-31T15:32:45.922Z"
   },
   {
    "duration": 29,
    "start_time": "2023-12-31T15:32:45.927Z"
   },
   {
    "duration": 9,
    "start_time": "2023-12-31T15:32:45.957Z"
   },
   {
    "duration": 5,
    "start_time": "2023-12-31T15:32:45.968Z"
   },
   {
    "duration": 4,
    "start_time": "2023-12-31T15:32:45.976Z"
   },
   {
    "duration": 32,
    "start_time": "2023-12-31T15:32:45.981Z"
   },
   {
    "duration": 9,
    "start_time": "2023-12-31T15:32:46.014Z"
   },
   {
    "duration": 2,
    "start_time": "2023-12-31T15:32:46.025Z"
   },
   {
    "duration": 43,
    "start_time": "2023-12-31T15:32:46.029Z"
   },
   {
    "duration": 17,
    "start_time": "2023-12-31T15:32:46.073Z"
   },
   {
    "duration": 14,
    "start_time": "2023-12-31T15:32:46.091Z"
   },
   {
    "duration": 3,
    "start_time": "2023-12-31T15:32:46.106Z"
   },
   {
    "duration": 10,
    "start_time": "2023-12-31T15:32:46.110Z"
   },
   {
    "duration": 5,
    "start_time": "2023-12-31T15:32:46.121Z"
   },
   {
    "duration": 4,
    "start_time": "2023-12-31T15:32:46.127Z"
   },
   {
    "duration": 40,
    "start_time": "2023-12-31T15:32:46.132Z"
   },
   {
    "duration": 11,
    "start_time": "2023-12-31T15:32:46.173Z"
   },
   {
    "duration": 3,
    "start_time": "2023-12-31T15:32:46.185Z"
   },
   {
    "duration": 12,
    "start_time": "2023-12-31T15:32:46.189Z"
   },
   {
    "duration": 12,
    "start_time": "2023-12-31T15:32:46.203Z"
   },
   {
    "duration": 13,
    "start_time": "2023-12-31T15:32:46.216Z"
   },
   {
    "duration": 42,
    "start_time": "2023-12-31T15:32:46.230Z"
   },
   {
    "duration": 3,
    "start_time": "2023-12-31T15:32:46.275Z"
   },
   {
    "duration": 50,
    "start_time": "2023-12-31T15:32:46.279Z"
   },
   {
    "duration": 13,
    "start_time": "2023-12-31T15:33:19.059Z"
   },
   {
    "duration": 13,
    "start_time": "2023-12-31T15:34:25.805Z"
   },
   {
    "duration": 13,
    "start_time": "2023-12-31T15:34:37.065Z"
   },
   {
    "duration": 13,
    "start_time": "2023-12-31T15:34:53.704Z"
   },
   {
    "duration": 11,
    "start_time": "2023-12-31T15:35:28.411Z"
   },
   {
    "duration": 12,
    "start_time": "2023-12-31T15:35:50.991Z"
   },
   {
    "duration": 12,
    "start_time": "2023-12-31T15:36:01.480Z"
   },
   {
    "duration": 465,
    "start_time": "2023-12-31T15:36:08.630Z"
   },
   {
    "duration": 21,
    "start_time": "2023-12-31T15:36:09.097Z"
   },
   {
    "duration": 14,
    "start_time": "2023-12-31T15:36:09.119Z"
   },
   {
    "duration": 9,
    "start_time": "2023-12-31T15:36:09.135Z"
   },
   {
    "duration": 53,
    "start_time": "2023-12-31T15:36:09.146Z"
   },
   {
    "duration": 3,
    "start_time": "2023-12-31T15:36:09.201Z"
   },
   {
    "duration": 15,
    "start_time": "2023-12-31T15:36:09.205Z"
   },
   {
    "duration": 4,
    "start_time": "2023-12-31T15:36:09.221Z"
   },
   {
    "duration": 8,
    "start_time": "2023-12-31T15:36:09.226Z"
   },
   {
    "duration": 3,
    "start_time": "2023-12-31T15:36:09.236Z"
   },
   {
    "duration": 52,
    "start_time": "2023-12-31T15:36:09.241Z"
   },
   {
    "duration": 10,
    "start_time": "2023-12-31T15:36:09.294Z"
   },
   {
    "duration": 14,
    "start_time": "2023-12-31T15:36:09.305Z"
   },
   {
    "duration": 11,
    "start_time": "2023-12-31T15:36:09.321Z"
   },
   {
    "duration": 20,
    "start_time": "2023-12-31T15:36:09.333Z"
   },
   {
    "duration": 22,
    "start_time": "2023-12-31T15:36:09.354Z"
   },
   {
    "duration": 4,
    "start_time": "2023-12-31T15:36:09.377Z"
   },
   {
    "duration": 11,
    "start_time": "2023-12-31T15:36:09.383Z"
   },
   {
    "duration": 7,
    "start_time": "2023-12-31T15:36:09.395Z"
   },
   {
    "duration": 3,
    "start_time": "2023-12-31T15:36:09.403Z"
   },
   {
    "duration": 14,
    "start_time": "2023-12-31T15:36:09.408Z"
   },
   {
    "duration": 12,
    "start_time": "2023-12-31T15:36:09.424Z"
   },
   {
    "duration": 29,
    "start_time": "2023-12-31T15:36:09.438Z"
   },
   {
    "duration": 12,
    "start_time": "2023-12-31T15:36:09.468Z"
   },
   {
    "duration": 12,
    "start_time": "2023-12-31T15:36:09.482Z"
   },
   {
    "duration": 13,
    "start_time": "2023-12-31T15:36:09.495Z"
   },
   {
    "duration": 11,
    "start_time": "2023-12-31T15:36:09.509Z"
   },
   {
    "duration": 3,
    "start_time": "2023-12-31T15:36:09.523Z"
   },
   {
    "duration": 55,
    "start_time": "2023-12-31T15:36:09.565Z"
   },
   {
    "duration": 15,
    "start_time": "2023-12-31T15:37:17.571Z"
   },
   {
    "duration": 480,
    "start_time": "2023-12-31T15:40:20.468Z"
   },
   {
    "duration": 22,
    "start_time": "2023-12-31T15:40:20.949Z"
   },
   {
    "duration": 15,
    "start_time": "2023-12-31T15:40:20.972Z"
   },
   {
    "duration": 10,
    "start_time": "2023-12-31T15:40:20.989Z"
   },
   {
    "duration": 34,
    "start_time": "2023-12-31T15:40:21.000Z"
   },
   {
    "duration": 3,
    "start_time": "2023-12-31T15:40:21.035Z"
   },
   {
    "duration": 8,
    "start_time": "2023-12-31T15:40:21.065Z"
   },
   {
    "duration": 4,
    "start_time": "2023-12-31T15:40:21.075Z"
   },
   {
    "duration": 10,
    "start_time": "2023-12-31T15:40:21.080Z"
   },
   {
    "duration": 7,
    "start_time": "2023-12-31T15:40:21.093Z"
   },
   {
    "duration": 32,
    "start_time": "2023-12-31T15:40:21.101Z"
   },
   {
    "duration": 34,
    "start_time": "2023-12-31T15:40:21.135Z"
   },
   {
    "duration": 5,
    "start_time": "2023-12-31T15:40:21.170Z"
   },
   {
    "duration": 11,
    "start_time": "2023-12-31T15:40:21.177Z"
   },
   {
    "duration": 18,
    "start_time": "2023-12-31T15:40:21.190Z"
   },
   {
    "duration": 16,
    "start_time": "2023-12-31T15:40:21.210Z"
   },
   {
    "duration": 3,
    "start_time": "2023-12-31T15:40:21.227Z"
   },
   {
    "duration": 44,
    "start_time": "2023-12-31T15:40:21.232Z"
   },
   {
    "duration": 8,
    "start_time": "2023-12-31T15:40:21.277Z"
   },
   {
    "duration": 4,
    "start_time": "2023-12-31T15:40:21.286Z"
   },
   {
    "duration": 10,
    "start_time": "2023-12-31T15:40:21.292Z"
   },
   {
    "duration": 12,
    "start_time": "2023-12-31T15:40:21.303Z"
   },
   {
    "duration": 3,
    "start_time": "2023-12-31T15:40:21.317Z"
   },
   {
    "duration": 16,
    "start_time": "2023-12-31T15:40:21.322Z"
   },
   {
    "duration": 13,
    "start_time": "2023-12-31T15:40:21.365Z"
   },
   {
    "duration": 12,
    "start_time": "2023-12-31T15:40:21.380Z"
   },
   {
    "duration": 11,
    "start_time": "2023-12-31T15:40:21.394Z"
   },
   {
    "duration": 4,
    "start_time": "2023-12-31T15:40:21.408Z"
   },
   {
    "duration": 92,
    "start_time": "2023-12-31T15:40:21.413Z"
   },
   {
    "duration": 11,
    "start_time": "2023-12-31T15:44:34.318Z"
   },
   {
    "duration": 70,
    "start_time": "2023-12-31T16:11:16.380Z"
   },
   {
    "duration": 14,
    "start_time": "2023-12-31T16:11:28.046Z"
   },
   {
    "duration": 13,
    "start_time": "2023-12-31T16:12:23.887Z"
   },
   {
    "duration": 12,
    "start_time": "2023-12-31T16:12:35.696Z"
   },
   {
    "duration": 11,
    "start_time": "2023-12-31T16:12:42.513Z"
   },
   {
    "duration": 11,
    "start_time": "2023-12-31T16:12:52.267Z"
   },
   {
    "duration": 11,
    "start_time": "2023-12-31T16:12:58.469Z"
   },
   {
    "duration": 12,
    "start_time": "2023-12-31T16:13:07.624Z"
   },
   {
    "duration": 74,
    "start_time": "2023-12-31T16:13:27.484Z"
   },
   {
    "duration": 12,
    "start_time": "2023-12-31T16:14:02.682Z"
   },
   {
    "duration": 14,
    "start_time": "2023-12-31T16:14:35.645Z"
   },
   {
    "duration": 11,
    "start_time": "2023-12-31T16:15:22.017Z"
   },
   {
    "duration": 11,
    "start_time": "2023-12-31T16:15:55.961Z"
   },
   {
    "duration": 11,
    "start_time": "2023-12-31T16:16:01.177Z"
   },
   {
    "duration": 9,
    "start_time": "2023-12-31T16:16:14.613Z"
   },
   {
    "duration": 12,
    "start_time": "2023-12-31T16:16:21.437Z"
   },
   {
    "duration": 60,
    "start_time": "2023-12-31T16:19:18.631Z"
   },
   {
    "duration": 8,
    "start_time": "2023-12-31T16:19:35.224Z"
   },
   {
    "duration": 7,
    "start_time": "2023-12-31T16:20:12.362Z"
   },
   {
    "duration": 12,
    "start_time": "2023-12-31T16:20:20.530Z"
   },
   {
    "duration": 12,
    "start_time": "2023-12-31T16:22:38.655Z"
   },
   {
    "duration": 11,
    "start_time": "2023-12-31T16:23:34.805Z"
   },
   {
    "duration": 12,
    "start_time": "2023-12-31T16:24:47.825Z"
   },
   {
    "duration": 12,
    "start_time": "2023-12-31T16:25:07.258Z"
   },
   {
    "duration": 12,
    "start_time": "2023-12-31T16:25:25.838Z"
   },
   {
    "duration": 12,
    "start_time": "2023-12-31T16:26:56.713Z"
   },
   {
    "duration": 14,
    "start_time": "2023-12-31T16:27:17.835Z"
   },
   {
    "duration": 14,
    "start_time": "2023-12-31T16:27:44.501Z"
   },
   {
    "duration": 14,
    "start_time": "2023-12-31T16:37:34.293Z"
   },
   {
    "duration": 14,
    "start_time": "2023-12-31T16:39:03.461Z"
   },
   {
    "duration": 24,
    "start_time": "2023-12-31T16:53:35.161Z"
   },
   {
    "duration": 14,
    "start_time": "2023-12-31T16:55:40.596Z"
   },
   {
    "duration": 13,
    "start_time": "2023-12-31T16:56:17.016Z"
   },
   {
    "duration": 14,
    "start_time": "2023-12-31T16:56:36.369Z"
   },
   {
    "duration": 11,
    "start_time": "2023-12-31T16:57:06.826Z"
   },
   {
    "duration": 12,
    "start_time": "2023-12-31T16:57:21.368Z"
   },
   {
    "duration": 14,
    "start_time": "2023-12-31T16:59:00.156Z"
   },
   {
    "duration": 14,
    "start_time": "2023-12-31T16:59:20.448Z"
   },
   {
    "duration": 19,
    "start_time": "2023-12-31T16:59:32.956Z"
   },
   {
    "duration": 13,
    "start_time": "2023-12-31T16:59:56.045Z"
   },
   {
    "duration": 371,
    "start_time": "2023-12-31T17:00:36.820Z"
   },
   {
    "duration": 351,
    "start_time": "2023-12-31T17:01:19.195Z"
   },
   {
    "duration": 14,
    "start_time": "2023-12-31T17:01:41.004Z"
   },
   {
    "duration": 58,
    "start_time": "2023-12-31T17:02:11.524Z"
   },
   {
    "duration": 15,
    "start_time": "2023-12-31T17:02:47.128Z"
   },
   {
    "duration": 20,
    "start_time": "2023-12-31T17:03:32.391Z"
   },
   {
    "duration": 12,
    "start_time": "2023-12-31T17:04:04.973Z"
   },
   {
    "duration": 12,
    "start_time": "2023-12-31T17:04:19.788Z"
   },
   {
    "duration": 15,
    "start_time": "2023-12-31T17:06:14.859Z"
   },
   {
    "duration": 77,
    "start_time": "2023-12-31T17:06:30.208Z"
   },
   {
    "duration": 13,
    "start_time": "2023-12-31T17:07:32.479Z"
   },
   {
    "duration": 12,
    "start_time": "2023-12-31T17:07:50.506Z"
   },
   {
    "duration": 14,
    "start_time": "2023-12-31T17:07:55.367Z"
   },
   {
    "duration": 11,
    "start_time": "2023-12-31T17:08:34.758Z"
   },
   {
    "duration": 7,
    "start_time": "2023-12-31T17:09:16.932Z"
   },
   {
    "duration": 383,
    "start_time": "2023-12-31T17:09:30.444Z"
   },
   {
    "duration": 11,
    "start_time": "2023-12-31T17:09:37.887Z"
   },
   {
    "duration": 9,
    "start_time": "2023-12-31T17:10:52.966Z"
   },
   {
    "duration": 8,
    "start_time": "2023-12-31T17:11:02.895Z"
   },
   {
    "duration": 7,
    "start_time": "2023-12-31T17:11:21.527Z"
   },
   {
    "duration": 9,
    "start_time": "2023-12-31T17:11:52.511Z"
   },
   {
    "duration": 12,
    "start_time": "2023-12-31T17:12:25.738Z"
   },
   {
    "duration": 17,
    "start_time": "2023-12-31T17:12:57.815Z"
   },
   {
    "duration": 13,
    "start_time": "2023-12-31T17:13:35.539Z"
   },
   {
    "duration": 14,
    "start_time": "2023-12-31T17:14:12.544Z"
   },
   {
    "duration": 14,
    "start_time": "2023-12-31T17:14:24.034Z"
   },
   {
    "duration": 15,
    "start_time": "2023-12-31T17:15:08.446Z"
   },
   {
    "duration": 326,
    "start_time": "2023-12-31T17:16:00.699Z"
   },
   {
    "duration": 326,
    "start_time": "2023-12-31T17:16:23.413Z"
   },
   {
    "duration": 10,
    "start_time": "2023-12-31T17:16:31.636Z"
   },
   {
    "duration": 17,
    "start_time": "2023-12-31T17:17:49.784Z"
   },
   {
    "duration": 14,
    "start_time": "2023-12-31T17:19:37.959Z"
   },
   {
    "duration": 14,
    "start_time": "2023-12-31T17:20:56.534Z"
   },
   {
    "duration": 14,
    "start_time": "2023-12-31T17:21:05.310Z"
   },
   {
    "duration": 12,
    "start_time": "2023-12-31T17:21:22.583Z"
   },
   {
    "duration": 73,
    "start_time": "2023-12-31T17:22:04.008Z"
   },
   {
    "duration": 4,
    "start_time": "2023-12-31T17:22:26.362Z"
   },
   {
    "duration": 7,
    "start_time": "2023-12-31T17:22:53.725Z"
   },
   {
    "duration": 4,
    "start_time": "2023-12-31T17:24:11.117Z"
   },
   {
    "duration": 20,
    "start_time": "2023-12-31T17:24:35.229Z"
   },
   {
    "duration": 21,
    "start_time": "2023-12-31T17:26:13.734Z"
   },
   {
    "duration": 4,
    "start_time": "2023-12-31T17:26:57.808Z"
   },
   {
    "duration": 73,
    "start_time": "2023-12-31T17:27:29.728Z"
   },
   {
    "duration": 4,
    "start_time": "2023-12-31T17:27:38.989Z"
   },
   {
    "duration": 3,
    "start_time": "2023-12-31T17:35:15.861Z"
   },
   {
    "duration": 10,
    "start_time": "2023-12-31T17:35:29.943Z"
   },
   {
    "duration": 16,
    "start_time": "2023-12-31T17:36:37.483Z"
   },
   {
    "duration": 16,
    "start_time": "2023-12-31T17:38:27.575Z"
   },
   {
    "duration": 14,
    "start_time": "2023-12-31T17:38:42.522Z"
   },
   {
    "duration": 14,
    "start_time": "2023-12-31T17:39:03.596Z"
   },
   {
    "duration": 26,
    "start_time": "2023-12-31T17:39:21.618Z"
   },
   {
    "duration": 10,
    "start_time": "2023-12-31T17:40:24.429Z"
   },
   {
    "duration": 10,
    "start_time": "2023-12-31T17:42:50.404Z"
   },
   {
    "duration": 15,
    "start_time": "2023-12-31T17:43:22.963Z"
   },
   {
    "duration": 13,
    "start_time": "2023-12-31T17:46:15.075Z"
   },
   {
    "duration": 16,
    "start_time": "2023-12-31T17:47:03.978Z"
   },
   {
    "duration": 9,
    "start_time": "2023-12-31T17:48:13.514Z"
   },
   {
    "duration": 16,
    "start_time": "2023-12-31T17:49:01.904Z"
   },
   {
    "duration": 15,
    "start_time": "2023-12-31T17:50:47.422Z"
   },
   {
    "duration": 17,
    "start_time": "2023-12-31T17:54:15.442Z"
   },
   {
    "duration": 461,
    "start_time": "2023-12-31T17:56:40.604Z"
   },
   {
    "duration": 20,
    "start_time": "2023-12-31T17:56:41.067Z"
   },
   {
    "duration": 14,
    "start_time": "2023-12-31T17:56:41.089Z"
   },
   {
    "duration": 9,
    "start_time": "2023-12-31T17:56:41.105Z"
   },
   {
    "duration": 56,
    "start_time": "2023-12-31T17:56:41.115Z"
   },
   {
    "duration": 3,
    "start_time": "2023-12-31T17:56:41.172Z"
   },
   {
    "duration": 15,
    "start_time": "2023-12-31T17:56:41.176Z"
   },
   {
    "duration": 10,
    "start_time": "2023-12-31T17:56:41.193Z"
   },
   {
    "duration": 9,
    "start_time": "2023-12-31T17:56:41.204Z"
   },
   {
    "duration": 4,
    "start_time": "2023-12-31T17:56:41.215Z"
   },
   {
    "duration": 32,
    "start_time": "2023-12-31T17:56:41.221Z"
   },
   {
    "duration": 10,
    "start_time": "2023-12-31T17:56:41.264Z"
   },
   {
    "duration": 3,
    "start_time": "2023-12-31T17:56:41.275Z"
   },
   {
    "duration": 12,
    "start_time": "2023-12-31T17:56:41.279Z"
   },
   {
    "duration": 20,
    "start_time": "2023-12-31T17:56:41.292Z"
   },
   {
    "duration": 15,
    "start_time": "2023-12-31T17:56:41.313Z"
   },
   {
    "duration": 4,
    "start_time": "2023-12-31T17:56:41.329Z"
   },
   {
    "duration": 34,
    "start_time": "2023-12-31T17:56:41.334Z"
   },
   {
    "duration": 5,
    "start_time": "2023-12-31T17:56:41.370Z"
   },
   {
    "duration": 4,
    "start_time": "2023-12-31T17:56:41.376Z"
   },
   {
    "duration": 10,
    "start_time": "2023-12-31T17:56:41.381Z"
   },
   {
    "duration": 12,
    "start_time": "2023-12-31T17:56:41.392Z"
   },
   {
    "duration": 4,
    "start_time": "2023-12-31T17:56:41.405Z"
   },
   {
    "duration": 20,
    "start_time": "2023-12-31T17:56:41.410Z"
   },
   {
    "duration": 39,
    "start_time": "2023-12-31T17:56:41.432Z"
   },
   {
    "duration": 14,
    "start_time": "2023-12-31T17:56:41.473Z"
   },
   {
    "duration": 12,
    "start_time": "2023-12-31T17:56:41.488Z"
   },
   {
    "duration": 3,
    "start_time": "2023-12-31T17:56:41.503Z"
   },
   {
    "duration": 86,
    "start_time": "2023-12-31T17:56:41.508Z"
   },
   {
    "duration": 459,
    "start_time": "2023-12-31T19:14:03.188Z"
   },
   {
    "duration": 21,
    "start_time": "2023-12-31T19:14:03.648Z"
   },
   {
    "duration": 15,
    "start_time": "2023-12-31T19:14:03.670Z"
   },
   {
    "duration": 10,
    "start_time": "2023-12-31T19:14:03.687Z"
   },
   {
    "duration": 32,
    "start_time": "2023-12-31T19:14:03.699Z"
   },
   {
    "duration": 3,
    "start_time": "2023-12-31T19:14:03.732Z"
   },
   {
    "duration": 35,
    "start_time": "2023-12-31T19:14:03.737Z"
   },
   {
    "duration": 4,
    "start_time": "2023-12-31T19:14:03.773Z"
   },
   {
    "duration": 7,
    "start_time": "2023-12-31T19:14:03.779Z"
   },
   {
    "duration": 4,
    "start_time": "2023-12-31T19:14:03.788Z"
   },
   {
    "duration": 31,
    "start_time": "2023-12-31T19:14:03.793Z"
   },
   {
    "duration": 41,
    "start_time": "2023-12-31T19:14:03.825Z"
   },
   {
    "duration": 4,
    "start_time": "2023-12-31T19:14:03.867Z"
   },
   {
    "duration": 11,
    "start_time": "2023-12-31T19:14:03.872Z"
   },
   {
    "duration": 21,
    "start_time": "2023-12-31T19:14:03.885Z"
   },
   {
    "duration": 15,
    "start_time": "2023-12-31T19:14:03.908Z"
   },
   {
    "duration": 4,
    "start_time": "2023-12-31T19:14:03.924Z"
   },
   {
    "duration": 36,
    "start_time": "2023-12-31T19:14:03.929Z"
   },
   {
    "duration": 7,
    "start_time": "2023-12-31T19:14:03.966Z"
   },
   {
    "duration": 4,
    "start_time": "2023-12-31T19:14:03.974Z"
   },
   {
    "duration": 9,
    "start_time": "2023-12-31T19:14:03.980Z"
   },
   {
    "duration": 14,
    "start_time": "2023-12-31T19:14:03.990Z"
   },
   {
    "duration": 5,
    "start_time": "2023-12-31T19:14:04.005Z"
   },
   {
    "duration": 17,
    "start_time": "2023-12-31T19:14:04.011Z"
   },
   {
    "duration": 46,
    "start_time": "2023-12-31T19:14:04.029Z"
   },
   {
    "duration": 13,
    "start_time": "2023-12-31T19:14:04.076Z"
   },
   {
    "duration": 10,
    "start_time": "2023-12-31T19:14:04.090Z"
   },
   {
    "duration": 3,
    "start_time": "2023-12-31T19:14:04.102Z"
   },
   {
    "duration": 81,
    "start_time": "2023-12-31T19:14:04.107Z"
   },
   {
    "duration": 644,
    "start_time": "2024-01-01T08:10:05.115Z"
   },
   {
    "duration": 21,
    "start_time": "2024-01-01T08:10:05.761Z"
   },
   {
    "duration": 19,
    "start_time": "2024-01-01T08:10:05.783Z"
   },
   {
    "duration": 9,
    "start_time": "2024-01-01T08:10:05.804Z"
   },
   {
    "duration": 36,
    "start_time": "2024-01-01T08:10:05.814Z"
   },
   {
    "duration": 14,
    "start_time": "2024-01-01T08:10:05.851Z"
   },
   {
    "duration": 7,
    "start_time": "2024-01-01T08:10:05.866Z"
   },
   {
    "duration": 5,
    "start_time": "2024-01-01T08:10:05.875Z"
   },
   {
    "duration": 7,
    "start_time": "2024-01-01T08:10:05.881Z"
   },
   {
    "duration": 3,
    "start_time": "2024-01-01T08:10:05.891Z"
   },
   {
    "duration": 46,
    "start_time": "2024-01-01T08:10:05.895Z"
   },
   {
    "duration": 22,
    "start_time": "2024-01-01T08:10:05.943Z"
   },
   {
    "duration": 3,
    "start_time": "2024-01-01T08:10:05.967Z"
   },
   {
    "duration": 23,
    "start_time": "2024-01-01T08:10:05.971Z"
   },
   {
    "duration": 24,
    "start_time": "2024-01-01T08:10:05.995Z"
   },
   {
    "duration": 15,
    "start_time": "2024-01-01T08:10:06.020Z"
   },
   {
    "duration": 3,
    "start_time": "2024-01-01T08:10:06.036Z"
   },
   {
    "duration": 11,
    "start_time": "2024-01-01T08:10:06.040Z"
   },
   {
    "duration": 15,
    "start_time": "2024-01-01T08:10:06.052Z"
   },
   {
    "duration": 4,
    "start_time": "2024-01-01T08:10:06.068Z"
   },
   {
    "duration": 10,
    "start_time": "2024-01-01T08:10:06.073Z"
   },
   {
    "duration": 12,
    "start_time": "2024-01-01T08:10:06.084Z"
   },
   {
    "duration": 3,
    "start_time": "2024-01-01T08:10:06.098Z"
   },
   {
    "duration": 24,
    "start_time": "2024-01-01T08:10:06.102Z"
   },
   {
    "duration": 44,
    "start_time": "2024-01-01T08:10:06.128Z"
   },
   {
    "duration": 13,
    "start_time": "2024-01-01T08:10:06.174Z"
   },
   {
    "duration": 11,
    "start_time": "2024-01-01T08:10:06.188Z"
   },
   {
    "duration": 4,
    "start_time": "2024-01-01T08:10:06.202Z"
   },
   {
    "duration": 78,
    "start_time": "2024-01-01T08:10:06.207Z"
   },
   {
    "duration": 664,
    "start_time": "2024-01-01T16:07:30.299Z"
   },
   {
    "duration": 22,
    "start_time": "2024-01-01T16:07:30.965Z"
   },
   {
    "duration": 56,
    "start_time": "2024-01-01T16:07:30.988Z"
   },
   {
    "duration": 40,
    "start_time": "2024-01-01T16:07:31.047Z"
   },
   {
    "duration": 102,
    "start_time": "2024-01-01T16:07:31.090Z"
   },
   {
    "duration": 7,
    "start_time": "2024-01-01T16:07:31.194Z"
   },
   {
    "duration": 58,
    "start_time": "2024-01-01T16:07:31.202Z"
   },
   {
    "duration": 27,
    "start_time": "2024-01-01T16:07:31.262Z"
   },
   {
    "duration": 37,
    "start_time": "2024-01-01T16:07:31.290Z"
   },
   {
    "duration": 21,
    "start_time": "2024-01-01T16:07:31.331Z"
   },
   {
    "duration": 65,
    "start_time": "2024-01-01T16:07:31.353Z"
   },
   {
    "duration": 12,
    "start_time": "2024-01-01T16:07:31.419Z"
   },
   {
    "duration": 58,
    "start_time": "2024-01-01T16:07:31.432Z"
   },
   {
    "duration": 62,
    "start_time": "2024-01-01T16:07:31.491Z"
   },
   {
    "duration": 52,
    "start_time": "2024-01-01T16:07:31.554Z"
   },
   {
    "duration": 46,
    "start_time": "2024-01-01T16:07:31.608Z"
   },
   {
    "duration": 50,
    "start_time": "2024-01-01T16:07:31.655Z"
   },
   {
    "duration": 37,
    "start_time": "2024-01-01T16:07:31.706Z"
   },
   {
    "duration": 51,
    "start_time": "2024-01-01T16:07:31.744Z"
   },
   {
    "duration": 7,
    "start_time": "2024-01-01T16:07:31.798Z"
   },
   {
    "duration": 57,
    "start_time": "2024-01-01T16:07:31.806Z"
   },
   {
    "duration": 47,
    "start_time": "2024-01-01T16:07:31.865Z"
   },
   {
    "duration": 33,
    "start_time": "2024-01-01T16:07:31.914Z"
   },
   {
    "duration": 51,
    "start_time": "2024-01-01T16:07:31.949Z"
   },
   {
    "duration": 49,
    "start_time": "2024-01-01T16:07:32.001Z"
   },
   {
    "duration": 46,
    "start_time": "2024-01-01T16:07:32.052Z"
   },
   {
    "duration": 48,
    "start_time": "2024-01-01T16:07:32.100Z"
   },
   {
    "duration": 38,
    "start_time": "2024-01-01T16:07:32.152Z"
   },
   {
    "duration": 103,
    "start_time": "2024-01-01T16:07:32.192Z"
   },
   {
    "duration": 3,
    "start_time": "2024-01-01T16:34:12.045Z"
   },
   {
    "duration": 76,
    "start_time": "2024-01-01T16:37:44.738Z"
   },
   {
    "duration": 644,
    "start_time": "2024-01-02T23:20:18.910Z"
   },
   {
    "duration": 20,
    "start_time": "2024-01-02T23:20:19.556Z"
   },
   {
    "duration": 36,
    "start_time": "2024-01-02T23:20:19.577Z"
   },
   {
    "duration": 33,
    "start_time": "2024-01-02T23:20:19.615Z"
   },
   {
    "duration": 53,
    "start_time": "2024-01-02T23:20:19.649Z"
   },
   {
    "duration": 6,
    "start_time": "2024-01-02T23:20:19.704Z"
   },
   {
    "duration": 30,
    "start_time": "2024-01-02T23:20:19.712Z"
   },
   {
    "duration": 22,
    "start_time": "2024-01-02T23:20:19.743Z"
   },
   {
    "duration": 44,
    "start_time": "2024-01-02T23:20:19.767Z"
   },
   {
    "duration": 17,
    "start_time": "2024-01-02T23:20:19.816Z"
   },
   {
    "duration": 81,
    "start_time": "2024-01-02T23:20:19.835Z"
   },
   {
    "duration": 10,
    "start_time": "2024-01-02T23:20:19.918Z"
   },
   {
    "duration": 25,
    "start_time": "2024-01-02T23:20:19.930Z"
   },
   {
    "duration": 50,
    "start_time": "2024-01-02T23:20:19.957Z"
   },
   {
    "duration": 44,
    "start_time": "2024-01-02T23:20:20.009Z"
   },
   {
    "duration": 28,
    "start_time": "2024-01-02T23:20:20.054Z"
   },
   {
    "duration": 13,
    "start_time": "2024-01-02T23:20:20.084Z"
   },
   {
    "duration": 33,
    "start_time": "2024-01-02T23:20:20.098Z"
   },
   {
    "duration": 35,
    "start_time": "2024-01-02T23:20:20.133Z"
   },
   {
    "duration": 30,
    "start_time": "2024-01-02T23:20:20.169Z"
   },
   {
    "duration": 46,
    "start_time": "2024-01-02T23:20:20.200Z"
   },
   {
    "duration": 36,
    "start_time": "2024-01-02T23:20:20.247Z"
   },
   {
    "duration": 25,
    "start_time": "2024-01-02T23:20:20.284Z"
   },
   {
    "duration": 35,
    "start_time": "2024-01-02T23:20:20.311Z"
   },
   {
    "duration": 34,
    "start_time": "2024-01-02T23:20:20.348Z"
   },
   {
    "duration": 26,
    "start_time": "2024-01-02T23:20:20.383Z"
   },
   {
    "duration": 57,
    "start_time": "2024-01-02T23:20:20.410Z"
   },
   {
    "duration": 34,
    "start_time": "2024-01-02T23:20:20.469Z"
   },
   {
    "duration": 102,
    "start_time": "2024-01-02T23:20:20.504Z"
   },
   {
    "duration": 73,
    "start_time": "2024-01-02T23:21:11.760Z"
   },
   {
    "duration": 86,
    "start_time": "2024-01-02T23:21:47.080Z"
   },
   {
    "duration": 74,
    "start_time": "2024-01-02T23:22:32.318Z"
   },
   {
    "duration": 72,
    "start_time": "2024-01-02T23:26:50.837Z"
   },
   {
    "duration": 73,
    "start_time": "2024-01-02T23:27:56.961Z"
   },
   {
    "duration": 76,
    "start_time": "2024-01-02T23:28:18.146Z"
   },
   {
    "duration": 696,
    "start_time": "2024-01-03T18:40:16.273Z"
   },
   {
    "duration": 21,
    "start_time": "2024-01-03T18:40:16.970Z"
   },
   {
    "duration": 15,
    "start_time": "2024-01-03T18:40:16.992Z"
   },
   {
    "duration": 9,
    "start_time": "2024-01-03T18:40:17.008Z"
   },
   {
    "duration": 48,
    "start_time": "2024-01-03T18:40:17.019Z"
   },
   {
    "duration": 3,
    "start_time": "2024-01-03T18:40:17.068Z"
   },
   {
    "duration": 9,
    "start_time": "2024-01-03T18:40:17.072Z"
   },
   {
    "duration": 3,
    "start_time": "2024-01-03T18:40:17.082Z"
   },
   {
    "duration": 6,
    "start_time": "2024-01-03T18:40:17.087Z"
   },
   {
    "duration": 3,
    "start_time": "2024-01-03T18:40:17.096Z"
   },
   {
    "duration": 31,
    "start_time": "2024-01-03T18:40:17.101Z"
   },
   {
    "duration": 35,
    "start_time": "2024-01-03T18:40:17.134Z"
   },
   {
    "duration": 3,
    "start_time": "2024-01-03T18:40:17.170Z"
   },
   {
    "duration": 12,
    "start_time": "2024-01-03T18:40:17.174Z"
   },
   {
    "duration": 17,
    "start_time": "2024-01-03T18:40:17.187Z"
   },
   {
    "duration": 15,
    "start_time": "2024-01-03T18:40:17.205Z"
   },
   {
    "duration": 4,
    "start_time": "2024-01-03T18:40:17.221Z"
   },
   {
    "duration": 12,
    "start_time": "2024-01-03T18:40:17.226Z"
   },
   {
    "duration": 5,
    "start_time": "2024-01-03T18:40:17.265Z"
   },
   {
    "duration": 10,
    "start_time": "2024-01-03T18:40:17.271Z"
   },
   {
    "duration": 14,
    "start_time": "2024-01-03T18:40:17.282Z"
   },
   {
    "duration": 11,
    "start_time": "2024-01-03T18:40:17.298Z"
   },
   {
    "duration": 3,
    "start_time": "2024-01-03T18:40:17.310Z"
   },
   {
    "duration": 16,
    "start_time": "2024-01-03T18:40:17.315Z"
   },
   {
    "duration": 11,
    "start_time": "2024-01-03T18:40:17.333Z"
   },
   {
    "duration": 20,
    "start_time": "2024-01-03T18:40:17.367Z"
   },
   {
    "duration": 15,
    "start_time": "2024-01-03T18:40:17.388Z"
   },
   {
    "duration": 4,
    "start_time": "2024-01-03T18:40:17.407Z"
   },
   {
    "duration": 79,
    "start_time": "2024-01-03T18:40:17.413Z"
   },
   {
    "duration": 8,
    "start_time": "2024-01-03T18:40:45.064Z"
   },
   {
    "duration": 99,
    "start_time": "2024-01-03T19:18:23.464Z"
   },
   {
    "duration": 46,
    "start_time": "2024-01-04T11:03:31.541Z"
   },
   {
    "duration": 5,
    "start_time": "2024-01-04T11:03:34.749Z"
   },
   {
    "duration": 688,
    "start_time": "2024-01-04T11:03:57.972Z"
   },
   {
    "duration": 21,
    "start_time": "2024-01-04T11:03:58.662Z"
   },
   {
    "duration": 15,
    "start_time": "2024-01-04T11:03:58.684Z"
   },
   {
    "duration": 11,
    "start_time": "2024-01-04T11:03:58.701Z"
   },
   {
    "duration": 50,
    "start_time": "2024-01-04T11:03:58.713Z"
   },
   {
    "duration": 3,
    "start_time": "2024-01-04T11:03:58.764Z"
   },
   {
    "duration": 12,
    "start_time": "2024-01-04T11:03:58.768Z"
   },
   {
    "duration": 6,
    "start_time": "2024-01-04T11:03:58.782Z"
   },
   {
    "duration": 13,
    "start_time": "2024-01-04T11:03:58.789Z"
   },
   {
    "duration": 8,
    "start_time": "2024-01-04T11:03:58.803Z"
   },
   {
    "duration": 42,
    "start_time": "2024-01-04T11:03:58.813Z"
   },
   {
    "duration": 13,
    "start_time": "2024-01-04T11:03:58.856Z"
   },
   {
    "duration": 3,
    "start_time": "2024-01-04T11:03:58.871Z"
   },
   {
    "duration": 11,
    "start_time": "2024-01-04T11:03:58.876Z"
   },
   {
    "duration": 20,
    "start_time": "2024-01-04T11:03:58.888Z"
   },
   {
    "duration": 36,
    "start_time": "2024-01-04T11:03:58.909Z"
   },
   {
    "duration": 4,
    "start_time": "2024-01-04T11:03:58.946Z"
   },
   {
    "duration": 15,
    "start_time": "2024-01-04T11:03:58.951Z"
   },
   {
    "duration": 7,
    "start_time": "2024-01-04T11:03:58.967Z"
   },
   {
    "duration": 5,
    "start_time": "2024-01-04T11:03:58.975Z"
   },
   {
    "duration": 14,
    "start_time": "2024-01-04T11:03:58.981Z"
   },
   {
    "duration": 11,
    "start_time": "2024-01-04T11:03:58.997Z"
   },
   {
    "duration": 8,
    "start_time": "2024-01-04T11:03:59.010Z"
   },
   {
    "duration": 36,
    "start_time": "2024-01-04T11:03:59.019Z"
   },
   {
    "duration": 12,
    "start_time": "2024-01-04T11:03:59.056Z"
   },
   {
    "duration": 13,
    "start_time": "2024-01-04T11:03:59.069Z"
   },
   {
    "duration": 10,
    "start_time": "2024-01-04T11:03:59.084Z"
   },
   {
    "duration": 4,
    "start_time": "2024-01-04T11:03:59.095Z"
   },
   {
    "duration": 81,
    "start_time": "2024-01-04T11:03:59.100Z"
   },
   {
    "duration": 11,
    "start_time": "2024-01-04T11:04:42.373Z"
   },
   {
    "duration": 444,
    "start_time": "2024-01-04T11:04:52.977Z"
   },
   {
    "duration": 21,
    "start_time": "2024-01-04T11:04:53.422Z"
   },
   {
    "duration": 20,
    "start_time": "2024-01-04T11:04:53.444Z"
   },
   {
    "duration": 11,
    "start_time": "2024-01-04T11:04:53.466Z"
   },
   {
    "duration": 43,
    "start_time": "2024-01-04T11:04:53.478Z"
   },
   {
    "duration": 5,
    "start_time": "2024-01-04T11:04:53.522Z"
   },
   {
    "duration": 106,
    "start_time": "2024-01-04T11:04:53.528Z"
   },
   {
    "duration": 17,
    "start_time": "2024-01-04T11:04:53.636Z"
   },
   {
    "duration": 21,
    "start_time": "2024-01-04T11:04:53.655Z"
   },
   {
    "duration": 33,
    "start_time": "2024-01-04T11:04:53.677Z"
   },
   {
    "duration": 51,
    "start_time": "2024-01-04T11:04:53.712Z"
   },
   {
    "duration": 9,
    "start_time": "2024-01-04T11:04:53.765Z"
   },
   {
    "duration": 46,
    "start_time": "2024-01-04T11:04:53.775Z"
   },
   {
    "duration": 40,
    "start_time": "2024-01-04T11:04:53.822Z"
   },
   {
    "duration": 43,
    "start_time": "2024-01-04T11:04:53.863Z"
   },
   {
    "duration": 34,
    "start_time": "2024-01-04T11:04:53.908Z"
   },
   {
    "duration": 16,
    "start_time": "2024-01-04T11:04:53.944Z"
   },
   {
    "duration": 49,
    "start_time": "2024-01-04T11:04:53.961Z"
   },
   {
    "duration": 25,
    "start_time": "2024-01-04T11:04:54.012Z"
   },
   {
    "duration": 23,
    "start_time": "2024-01-04T11:04:54.039Z"
   },
   {
    "duration": 29,
    "start_time": "2024-01-04T11:04:54.063Z"
   },
   {
    "duration": 31,
    "start_time": "2024-01-04T11:04:54.094Z"
   },
   {
    "duration": 6,
    "start_time": "2024-01-04T11:04:54.126Z"
   },
   {
    "duration": 51,
    "start_time": "2024-01-04T11:04:54.134Z"
   },
   {
    "duration": 14,
    "start_time": "2024-01-04T11:04:54.187Z"
   },
   {
    "duration": 43,
    "start_time": "2024-01-04T11:04:54.202Z"
   },
   {
    "duration": 23,
    "start_time": "2024-01-04T11:04:54.247Z"
   },
   {
    "duration": 18,
    "start_time": "2024-01-04T11:04:54.272Z"
   },
   {
    "duration": 75,
    "start_time": "2024-01-04T11:04:54.292Z"
   },
   {
    "duration": 53,
    "start_time": "2024-01-04T16:10:34.287Z"
   },
   {
    "duration": 706,
    "start_time": "2024-01-04T16:10:51.933Z"
   },
   {
    "duration": 23,
    "start_time": "2024-01-04T16:10:52.641Z"
   },
   {
    "duration": 16,
    "start_time": "2024-01-04T16:10:52.666Z"
   },
   {
    "duration": 11,
    "start_time": "2024-01-04T16:10:52.684Z"
   },
   {
    "duration": 51,
    "start_time": "2024-01-04T16:10:52.696Z"
   },
   {
    "duration": 4,
    "start_time": "2024-01-04T16:10:52.748Z"
   },
   {
    "duration": 26,
    "start_time": "2024-01-04T16:10:52.753Z"
   },
   {
    "duration": 8,
    "start_time": "2024-01-04T16:10:52.781Z"
   },
   {
    "duration": 7,
    "start_time": "2024-01-04T16:10:52.791Z"
   },
   {
    "duration": 4,
    "start_time": "2024-01-04T16:10:52.801Z"
   },
   {
    "duration": 58,
    "start_time": "2024-01-04T16:10:52.807Z"
   },
   {
    "duration": 11,
    "start_time": "2024-01-04T16:10:52.867Z"
   },
   {
    "duration": 6,
    "start_time": "2024-01-04T16:10:52.880Z"
   },
   {
    "duration": 16,
    "start_time": "2024-01-04T16:10:52.888Z"
   },
   {
    "duration": 34,
    "start_time": "2024-01-04T16:10:52.906Z"
   },
   {
    "duration": 18,
    "start_time": "2024-01-04T16:10:52.942Z"
   },
   {
    "duration": 4,
    "start_time": "2024-01-04T16:10:52.961Z"
   },
   {
    "duration": 13,
    "start_time": "2024-01-04T16:10:52.966Z"
   },
   {
    "duration": 6,
    "start_time": "2024-01-04T16:10:52.981Z"
   },
   {
    "duration": 4,
    "start_time": "2024-01-04T16:10:52.989Z"
   },
   {
    "duration": 9,
    "start_time": "2024-01-04T16:10:53.023Z"
   },
   {
    "duration": 13,
    "start_time": "2024-01-04T16:10:53.033Z"
   },
   {
    "duration": 1228,
    "start_time": "2024-01-04T16:10:53.048Z"
   },
   {
    "duration": 0,
    "start_time": "2024-01-04T16:10:54.278Z"
   },
   {
    "duration": 0,
    "start_time": "2024-01-04T16:10:54.280Z"
   },
   {
    "duration": 0,
    "start_time": "2024-01-04T16:10:54.281Z"
   },
   {
    "duration": 0,
    "start_time": "2024-01-04T16:10:54.282Z"
   },
   {
    "duration": 0,
    "start_time": "2024-01-04T16:10:54.283Z"
   },
   {
    "duration": 0,
    "start_time": "2024-01-04T16:10:54.284Z"
   },
   {
    "duration": 1313,
    "start_time": "2024-01-04T16:11:27.628Z"
   },
   {
    "duration": 14,
    "start_time": "2024-01-04T16:14:10.667Z"
   },
   {
    "duration": 11,
    "start_time": "2024-01-04T16:15:21.800Z"
   },
   {
    "duration": 14,
    "start_time": "2024-01-04T16:19:47.395Z"
   },
   {
    "duration": 4,
    "start_time": "2024-01-04T16:19:52.652Z"
   },
   {
    "duration": 6,
    "start_time": "2024-01-04T16:20:15.914Z"
   },
   {
    "duration": 5,
    "start_time": "2024-01-04T16:21:02.299Z"
   },
   {
    "duration": 5,
    "start_time": "2024-01-04T16:21:11.101Z"
   },
   {
    "duration": 6,
    "start_time": "2024-01-04T16:21:37.070Z"
   },
   {
    "duration": 6,
    "start_time": "2024-01-04T16:21:40.797Z"
   },
   {
    "duration": 4,
    "start_time": "2024-01-04T16:21:55.353Z"
   },
   {
    "duration": 5,
    "start_time": "2024-01-04T16:22:22.325Z"
   },
   {
    "duration": 5,
    "start_time": "2024-01-04T16:23:44.196Z"
   },
   {
    "duration": 16,
    "start_time": "2024-01-04T16:24:05.520Z"
   },
   {
    "duration": 495,
    "start_time": "2024-01-04T16:29:11.882Z"
   },
   {
    "duration": 24,
    "start_time": "2024-01-04T16:29:12.379Z"
   },
   {
    "duration": 35,
    "start_time": "2024-01-04T16:29:12.405Z"
   },
   {
    "duration": 16,
    "start_time": "2024-01-04T16:29:12.442Z"
   },
   {
    "duration": 37,
    "start_time": "2024-01-04T16:29:12.460Z"
   },
   {
    "duration": 25,
    "start_time": "2024-01-04T16:29:12.499Z"
   },
   {
    "duration": 12,
    "start_time": "2024-01-04T16:29:12.527Z"
   },
   {
    "duration": 4,
    "start_time": "2024-01-04T16:29:12.541Z"
   },
   {
    "duration": 10,
    "start_time": "2024-01-04T16:29:12.546Z"
   },
   {
    "duration": 4,
    "start_time": "2024-01-04T16:29:12.558Z"
   },
   {
    "duration": 70,
    "start_time": "2024-01-04T16:29:12.563Z"
   },
   {
    "duration": 14,
    "start_time": "2024-01-04T16:29:12.635Z"
   },
   {
    "duration": 4,
    "start_time": "2024-01-04T16:29:12.651Z"
   },
   {
    "duration": 26,
    "start_time": "2024-01-04T16:29:12.659Z"
   },
   {
    "duration": 37,
    "start_time": "2024-01-04T16:29:12.687Z"
   },
   {
    "duration": 23,
    "start_time": "2024-01-04T16:29:12.726Z"
   },
   {
    "duration": 3,
    "start_time": "2024-01-04T16:29:12.751Z"
   },
   {
    "duration": 13,
    "start_time": "2024-01-04T16:29:12.756Z"
   },
   {
    "duration": 19,
    "start_time": "2024-01-04T16:29:12.771Z"
   },
   {
    "duration": 6,
    "start_time": "2024-01-04T16:29:12.792Z"
   },
   {
    "duration": 15,
    "start_time": "2024-01-04T16:29:12.799Z"
   },
   {
    "duration": 22,
    "start_time": "2024-01-04T16:29:12.823Z"
   },
   {
    "duration": 5,
    "start_time": "2024-01-04T16:29:12.846Z"
   },
   {
    "duration": 17,
    "start_time": "2024-01-04T16:29:12.852Z"
   },
   {
    "duration": 13,
    "start_time": "2024-01-04T16:29:12.871Z"
   },
   {
    "duration": 54,
    "start_time": "2024-01-04T16:29:12.886Z"
   },
   {
    "duration": 13,
    "start_time": "2024-01-04T16:29:12.942Z"
   },
   {
    "duration": 5,
    "start_time": "2024-01-04T16:29:12.957Z"
   },
   {
    "duration": 87,
    "start_time": "2024-01-04T16:29:12.963Z"
   },
   {
    "duration": 2375,
    "start_time": "2024-01-11T17:56:25.530Z"
   },
   {
    "duration": 379,
    "start_time": "2024-01-11T17:56:47.001Z"
   },
   {
    "duration": 2306,
    "start_time": "2024-01-12T18:01:16.981Z"
   },
   {
    "duration": 19,
    "start_time": "2024-01-12T18:01:19.289Z"
   },
   {
    "duration": 23,
    "start_time": "2024-01-12T18:01:19.310Z"
   },
   {
    "duration": 11,
    "start_time": "2024-01-12T18:01:19.335Z"
   },
   {
    "duration": 45,
    "start_time": "2024-01-12T18:01:19.347Z"
   },
   {
    "duration": 4,
    "start_time": "2024-01-12T18:01:19.393Z"
   },
   {
    "duration": 8,
    "start_time": "2024-01-12T18:01:19.398Z"
   },
   {
    "duration": 11,
    "start_time": "2024-01-12T18:01:19.407Z"
   },
   {
    "duration": 14,
    "start_time": "2024-01-12T18:01:19.420Z"
   },
   {
    "duration": 6,
    "start_time": "2024-01-12T18:01:19.437Z"
   },
   {
    "duration": 37,
    "start_time": "2024-01-12T18:01:19.465Z"
   },
   {
    "duration": 14,
    "start_time": "2024-01-12T18:01:19.503Z"
   },
   {
    "duration": 4,
    "start_time": "2024-01-12T18:01:19.519Z"
   },
   {
    "duration": 40,
    "start_time": "2024-01-12T18:01:19.525Z"
   },
   {
    "duration": 26,
    "start_time": "2024-01-12T18:01:19.566Z"
   },
   {
    "duration": 16,
    "start_time": "2024-01-12T18:01:19.593Z"
   },
   {
    "duration": 3,
    "start_time": "2024-01-12T18:01:19.611Z"
   },
   {
    "duration": 13,
    "start_time": "2024-01-12T18:01:19.616Z"
   },
   {
    "duration": 34,
    "start_time": "2024-01-12T18:01:19.631Z"
   },
   {
    "duration": 11,
    "start_time": "2024-01-12T18:01:19.667Z"
   },
   {
    "duration": 15,
    "start_time": "2024-01-12T18:01:19.680Z"
   },
   {
    "duration": 30,
    "start_time": "2024-01-12T18:01:19.697Z"
   },
   {
    "duration": 5,
    "start_time": "2024-01-12T18:01:19.729Z"
   },
   {
    "duration": 37,
    "start_time": "2024-01-12T18:01:19.736Z"
   },
   {
    "duration": 15,
    "start_time": "2024-01-12T18:01:19.775Z"
   },
   {
    "duration": 23,
    "start_time": "2024-01-12T18:01:19.792Z"
   },
   {
    "duration": 21,
    "start_time": "2024-01-12T18:01:19.817Z"
   },
   {
    "duration": 4,
    "start_time": "2024-01-12T18:01:19.841Z"
   },
   {
    "duration": 91,
    "start_time": "2024-01-12T18:01:19.847Z"
   }
  ],
  "colab": {
   "provenance": []
  },
  "kernelspec": {
   "display_name": "Python 3 (ipykernel)",
   "language": "python",
   "name": "python3"
  },
  "language_info": {
   "codemirror_mode": {
    "name": "ipython",
    "version": 3
   },
   "file_extension": ".py",
   "mimetype": "text/x-python",
   "name": "python",
   "nbconvert_exporter": "python",
   "pygments_lexer": "ipython3",
   "version": "3.9.18"
  },
  "toc": {
   "base_numbering": 1,
   "nav_menu": {},
   "number_sections": true,
   "sideBar": true,
   "skip_h1_title": true,
   "title_cell": "Table of Contents",
   "title_sidebar": "Contents",
   "toc_cell": false,
   "toc_position": {},
   "toc_section_display": true,
   "toc_window_display": false
  }
 },
 "nbformat": 4,
 "nbformat_minor": 5
}
