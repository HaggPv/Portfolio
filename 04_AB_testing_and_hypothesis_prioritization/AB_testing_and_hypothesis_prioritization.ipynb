{
 "cells": [
  {
   "cell_type": "markdown",
   "id": "a6ce1599-b370-44a8-84e8-98f2a2698ff0",
   "metadata": {},
   "source": [
    "<font size=\"6\">**Тестирование гипотез роста выручки\\\n",
    "Анализ результатов A/B-теста**</font>"
   ]
  },
  {
   "cell_type": "markdown",
   "id": "f6232380-54fc-4534-a583-590e36559218",
   "metadata": {},
   "source": [
    "# Описание проекта"
   ]
  },
  {
   "cell_type": "markdown",
   "id": "37060536-ad3c-46eb-bb06-594a4e979199",
   "metadata": {},
   "source": [
    "**Цель**\\\n",
    "Поиск путей увеличения выручки интернет-магазина.\n",
    "\n",
    "**Задачи**\n",
    "- Ранжировать предложенные гипотезы по методикам ICE/RICE и выбрать наиболее приоритетные.\n",
    "- Проанализировать результаты проведённого A/B-теста - изучить влияние предлагаемых новаций на поведение посетителей сайта - количество заказов на одного посетителя и средний размер чека.\n",
    "\n",
    "**План**\n",
    "- Изучение имеющихся данных и их предобработка.\n",
    "- Приоритизация предложенных гипотез.\n",
    "- Анализ результатов A/B-теста поведения посетителей интернет-магазина.\n",
    "  - Исследование комулятивного среднего количества заказов на одного пользователя.\n",
    "  - Исследованее комулятивного среднего чека.\n",
    "  -  Определение статистической значимости различий в среднем количестве заказов по тестовым группам.\n",
    "  -  Определение статистической значимости раздичий в среднем чеке по тестовым группам.\n",
    "\n",
    "**Исходные данные**\\\n",
    "Имеются три датасета, содержащие следующую информацию:\n",
    "- Датафрейм, содержащий 9 гипотез с RICE-параметрами.\n",
    "- Данные о покупках клиентов, разделённых на две группы.\n",
    "- Данные о ежедневном количестве участников A/B-теста по группам."
   ]
  },
  {
   "cell_type": "markdown",
   "id": "8fbdd5e1-b2e6-421f-82c2-49650bb781de",
   "metadata": {},
   "source": [
    "<div style=\"background-color: #99FFFF; padding: 10px;\">"
   ]
  },
  {
   "cell_type": "markdown",
   "id": "b3e59492-5a80-4fc8-aa2c-f57a7d1aea4f",
   "metadata": {},
   "source": [
    "# Загрузка и изучение качества данных. Предобработка."
   ]
  },
  {
   "cell_type": "markdown",
   "id": "5250ed28-931e-4e6a-a929-fc962bb6706f",
   "metadata": {},
   "source": [
    "## Загрузка данных, изучение их качества."
   ]
  },
  {
   "cell_type": "code",
   "execution_count": 7,
   "id": "29e45ef1-e8d8-4e75-a14c-d03bf47a9f1c",
   "metadata": {},
   "outputs": [],
   "source": [
    "import pandas as pd\n",
    "import datetime as dt\n",
    "import seaborn as sns\n",
    "from matplotlib import pyplot as plt\n",
    "\n",
    "from pandas.plotting import register_matplotlib_converters\n",
    "# конвертеры, которые позволяют использовать типы pandas в matplotlib  \n",
    "register_matplotlib_converters()\n",
    "\n",
    "from scipy import stats\n",
    "import numpy as np\n",
    "\n",
    "# Отображение вывода в той же ячейке\n",
    "%matplotlib inline\n",
    "\n",
    "# глобальный формат для десятичных дробей\n",
    "pd.options.display.float_format = '{:.2f}'.format\n",
    "\n",
    "# устанавливаем размер ячеек\n",
    "pd.options.display.max_colwidth = 110"
   ]
  },
  {
   "cell_type": "code",
   "execution_count": 8,
   "id": "68669522-523e-4e48-bd2b-2f4a41d51bad",
   "metadata": {},
   "outputs": [],
   "source": [
    "try:\n",
    "    hypothesis_raw = pd.read_csv('hypothesis.csv')\n",
    "except:\n",
    "    hypothesis_raw = pd.read_csv('/datasets/hypothesis.csv')\n",
    "try:\n",
    "    orders_raw = pd.read_csv('orders.csv')\n",
    "except:\n",
    "    orders_raw = pd.read_csv('/datasets/orders.csv')\n",
    "try:\n",
    "    visitors_raw = pd.read_csv('visitors.csv')\n",
    "except:\n",
    "    visitors_raw = pd.read_csv('/datasets/visitors.csv')\n"
   ]
  },
  {
   "cell_type": "code",
   "execution_count": 9,
   "id": "e93c7f34-c520-4ffb-86a0-7a78863ab287",
   "metadata": {},
   "outputs": [
    {
     "data": {
      "text/html": [
       "<div>\n",
       "<style scoped>\n",
       "    .dataframe tbody tr th:only-of-type {\n",
       "        vertical-align: middle;\n",
       "    }\n",
       "\n",
       "    .dataframe tbody tr th {\n",
       "        vertical-align: top;\n",
       "    }\n",
       "\n",
       "    .dataframe thead th {\n",
       "        text-align: right;\n",
       "    }\n",
       "</style>\n",
       "<table border=\"1\" class=\"dataframe\">\n",
       "  <thead>\n",
       "    <tr style=\"text-align: right;\">\n",
       "      <th></th>\n",
       "      <th>Hypothesis</th>\n",
       "      <th>Reach</th>\n",
       "      <th>Impact</th>\n",
       "      <th>Confidence</th>\n",
       "      <th>Efforts</th>\n",
       "    </tr>\n",
       "  </thead>\n",
       "  <tbody>\n",
       "    <tr>\n",
       "      <th>0</th>\n",
       "      <td>Добавить два новых канала привлечения трафика, что позволит привлекать на 30% больше пользователей</td>\n",
       "      <td>3</td>\n",
       "      <td>10</td>\n",
       "      <td>8</td>\n",
       "      <td>6</td>\n",
       "    </tr>\n",
       "    <tr>\n",
       "      <th>1</th>\n",
       "      <td>Запустить собственную службу доставки, что сократит срок доставки заказов</td>\n",
       "      <td>2</td>\n",
       "      <td>5</td>\n",
       "      <td>4</td>\n",
       "      <td>10</td>\n",
       "    </tr>\n",
       "    <tr>\n",
       "      <th>2</th>\n",
       "      <td>Добавить блоки рекомендаций товаров на сайт интернет магазина, чтобы повысить конверсию и средний чек заказа</td>\n",
       "      <td>8</td>\n",
       "      <td>3</td>\n",
       "      <td>7</td>\n",
       "      <td>3</td>\n",
       "    </tr>\n",
       "    <tr>\n",
       "      <th>3</th>\n",
       "      <td>Изменить структура категорий, что увеличит конверсию, т.к. пользователи быстрее найдут нужный товар</td>\n",
       "      <td>8</td>\n",
       "      <td>3</td>\n",
       "      <td>3</td>\n",
       "      <td>8</td>\n",
       "    </tr>\n",
       "    <tr>\n",
       "      <th>4</th>\n",
       "      <td>Изменить цвет фона главной страницы, чтобы увеличить вовлеченность пользователей</td>\n",
       "      <td>3</td>\n",
       "      <td>1</td>\n",
       "      <td>1</td>\n",
       "      <td>1</td>\n",
       "    </tr>\n",
       "    <tr>\n",
       "      <th>5</th>\n",
       "      <td>Добавить страницу отзывов клиентов о магазине, что позволит увеличить количество заказов</td>\n",
       "      <td>3</td>\n",
       "      <td>2</td>\n",
       "      <td>2</td>\n",
       "      <td>3</td>\n",
       "    </tr>\n",
       "    <tr>\n",
       "      <th>6</th>\n",
       "      <td>Показать на главной странице баннеры с актуальными акциями и распродажами, чтобы увеличить конверсию</td>\n",
       "      <td>5</td>\n",
       "      <td>3</td>\n",
       "      <td>8</td>\n",
       "      <td>3</td>\n",
       "    </tr>\n",
       "    <tr>\n",
       "      <th>7</th>\n",
       "      <td>Добавить форму подписки на все основные страницы, чтобы собрать базу клиентов для email-рассылок</td>\n",
       "      <td>10</td>\n",
       "      <td>7</td>\n",
       "      <td>8</td>\n",
       "      <td>5</td>\n",
       "    </tr>\n",
       "    <tr>\n",
       "      <th>8</th>\n",
       "      <td>Запустить акцию, дающую скидку на товар в день рождения</td>\n",
       "      <td>1</td>\n",
       "      <td>9</td>\n",
       "      <td>9</td>\n",
       "      <td>5</td>\n",
       "    </tr>\n",
       "  </tbody>\n",
       "</table>\n",
       "</div>"
      ],
      "text/plain": [
       "                                                                                                     Hypothesis  \\\n",
       "0            Добавить два новых канала привлечения трафика, что позволит привлекать на 30% больше пользователей   \n",
       "1                                     Запустить собственную службу доставки, что сократит срок доставки заказов   \n",
       "2  Добавить блоки рекомендаций товаров на сайт интернет магазина, чтобы повысить конверсию и средний чек заказа   \n",
       "3           Изменить структура категорий, что увеличит конверсию, т.к. пользователи быстрее найдут нужный товар   \n",
       "4                              Изменить цвет фона главной страницы, чтобы увеличить вовлеченность пользователей   \n",
       "5                      Добавить страницу отзывов клиентов о магазине, что позволит увеличить количество заказов   \n",
       "6          Показать на главной странице баннеры с актуальными акциями и распродажами, чтобы увеличить конверсию   \n",
       "7              Добавить форму подписки на все основные страницы, чтобы собрать базу клиентов для email-рассылок   \n",
       "8                                                       Запустить акцию, дающую скидку на товар в день рождения   \n",
       "\n",
       "   Reach  Impact  Confidence  Efforts  \n",
       "0      3      10           8        6  \n",
       "1      2       5           4       10  \n",
       "2      8       3           7        3  \n",
       "3      8       3           3        8  \n",
       "4      3       1           1        1  \n",
       "5      3       2           2        3  \n",
       "6      5       3           8        3  \n",
       "7     10       7           8        5  \n",
       "8      1       9           9        5  "
      ]
     },
     "metadata": {},
     "output_type": "display_data"
    },
    {
     "data": {
      "text/html": [
       "<div>\n",
       "<style scoped>\n",
       "    .dataframe tbody tr th:only-of-type {\n",
       "        vertical-align: middle;\n",
       "    }\n",
       "\n",
       "    .dataframe tbody tr th {\n",
       "        vertical-align: top;\n",
       "    }\n",
       "\n",
       "    .dataframe thead th {\n",
       "        text-align: right;\n",
       "    }\n",
       "</style>\n",
       "<table border=\"1\" class=\"dataframe\">\n",
       "  <thead>\n",
       "    <tr style=\"text-align: right;\">\n",
       "      <th></th>\n",
       "      <th>transactionId</th>\n",
       "      <th>visitorId</th>\n",
       "      <th>date</th>\n",
       "      <th>revenue</th>\n",
       "      <th>group</th>\n",
       "    </tr>\n",
       "  </thead>\n",
       "  <tbody>\n",
       "    <tr>\n",
       "      <th>0</th>\n",
       "      <td>3667963787</td>\n",
       "      <td>3312258926</td>\n",
       "      <td>2019-08-15</td>\n",
       "      <td>1650</td>\n",
       "      <td>B</td>\n",
       "    </tr>\n",
       "    <tr>\n",
       "      <th>1</th>\n",
       "      <td>2804400009</td>\n",
       "      <td>3642806036</td>\n",
       "      <td>2019-08-15</td>\n",
       "      <td>730</td>\n",
       "      <td>B</td>\n",
       "    </tr>\n",
       "    <tr>\n",
       "      <th>2</th>\n",
       "      <td>2961555356</td>\n",
       "      <td>4069496402</td>\n",
       "      <td>2019-08-15</td>\n",
       "      <td>400</td>\n",
       "      <td>A</td>\n",
       "    </tr>\n",
       "  </tbody>\n",
       "</table>\n",
       "</div>"
      ],
      "text/plain": [
       "   transactionId   visitorId        date  revenue group\n",
       "0     3667963787  3312258926  2019-08-15     1650     B\n",
       "1     2804400009  3642806036  2019-08-15      730     B\n",
       "2     2961555356  4069496402  2019-08-15      400     A"
      ]
     },
     "metadata": {},
     "output_type": "display_data"
    },
    {
     "data": {
      "text/html": [
       "<div>\n",
       "<style scoped>\n",
       "    .dataframe tbody tr th:only-of-type {\n",
       "        vertical-align: middle;\n",
       "    }\n",
       "\n",
       "    .dataframe tbody tr th {\n",
       "        vertical-align: top;\n",
       "    }\n",
       "\n",
       "    .dataframe thead th {\n",
       "        text-align: right;\n",
       "    }\n",
       "</style>\n",
       "<table border=\"1\" class=\"dataframe\">\n",
       "  <thead>\n",
       "    <tr style=\"text-align: right;\">\n",
       "      <th></th>\n",
       "      <th>date</th>\n",
       "      <th>group</th>\n",
       "      <th>visitors</th>\n",
       "    </tr>\n",
       "  </thead>\n",
       "  <tbody>\n",
       "    <tr>\n",
       "      <th>57</th>\n",
       "      <td>2019-08-27</td>\n",
       "      <td>B</td>\n",
       "      <td>720</td>\n",
       "    </tr>\n",
       "    <tr>\n",
       "      <th>58</th>\n",
       "      <td>2019-08-28</td>\n",
       "      <td>B</td>\n",
       "      <td>654</td>\n",
       "    </tr>\n",
       "    <tr>\n",
       "      <th>59</th>\n",
       "      <td>2019-08-29</td>\n",
       "      <td>B</td>\n",
       "      <td>531</td>\n",
       "    </tr>\n",
       "    <tr>\n",
       "      <th>60</th>\n",
       "      <td>2019-08-30</td>\n",
       "      <td>B</td>\n",
       "      <td>490</td>\n",
       "    </tr>\n",
       "    <tr>\n",
       "      <th>61</th>\n",
       "      <td>2019-08-31</td>\n",
       "      <td>B</td>\n",
       "      <td>718</td>\n",
       "    </tr>\n",
       "  </tbody>\n",
       "</table>\n",
       "</div>"
      ],
      "text/plain": [
       "          date group  visitors\n",
       "57  2019-08-27     B       720\n",
       "58  2019-08-28     B       654\n",
       "59  2019-08-29     B       531\n",
       "60  2019-08-30     B       490\n",
       "61  2019-08-31     B       718"
      ]
     },
     "metadata": {},
     "output_type": "display_data"
    }
   ],
   "source": [
    "# Смотрим исходные датасеты\n",
    "display (hypothesis_raw)\n",
    "display (orders_raw.head(3))\n",
    "display (visitors_raw.tail(5))"
   ]
  },
  {
   "cell_type": "code",
   "execution_count": 10,
   "id": "095fbcc4-b507-40d6-a081-25133a887871",
   "metadata": {
    "scrolled": true
   },
   "outputs": [
    {
     "name": "stdout",
     "output_type": "stream",
     "text": [
      "<class 'pandas.core.frame.DataFrame'>\n",
      "RangeIndex: 9 entries, 0 to 8\n",
      "Data columns (total 5 columns):\n",
      " #   Column      Non-Null Count  Dtype \n",
      "---  ------      --------------  ----- \n",
      " 0   Hypothesis  9 non-null      object\n",
      " 1   Reach       9 non-null      int64 \n",
      " 2   Impact      9 non-null      int64 \n",
      " 3   Confidence  9 non-null      int64 \n",
      " 4   Efforts     9 non-null      int64 \n",
      "dtypes: int64(4), object(1)\n",
      "memory usage: 492.0+ bytes\n",
      "None\n",
      "\n",
      "<class 'pandas.core.frame.DataFrame'>\n",
      "RangeIndex: 1197 entries, 0 to 1196\n",
      "Data columns (total 5 columns):\n",
      " #   Column         Non-Null Count  Dtype \n",
      "---  ------         --------------  ----- \n",
      " 0   transactionId  1197 non-null   int64 \n",
      " 1   visitorId      1197 non-null   int64 \n",
      " 2   date           1197 non-null   object\n",
      " 3   revenue        1197 non-null   int64 \n",
      " 4   group          1197 non-null   object\n",
      "dtypes: int64(3), object(2)\n",
      "memory usage: 46.9+ KB\n",
      "None\n",
      "\n",
      "<class 'pandas.core.frame.DataFrame'>\n",
      "RangeIndex: 62 entries, 0 to 61\n",
      "Data columns (total 3 columns):\n",
      " #   Column    Non-Null Count  Dtype \n",
      "---  ------    --------------  ----- \n",
      " 0   date      62 non-null     object\n",
      " 1   group     62 non-null     object\n",
      " 2   visitors  62 non-null     int64 \n",
      "dtypes: int64(1), object(2)\n",
      "memory usage: 1.6+ KB\n"
     ]
    }
   ],
   "source": [
    "# Смотрим состав данных датасетов\n",
    "print (hypothesis_raw.info())\n",
    "print ('')\n",
    "print (orders_raw.info())\n",
    "print ('')\n",
    "visitors_raw.info()"
   ]
  },
  {
   "cell_type": "code",
   "execution_count": 11,
   "id": "1d1bd4d6-7fc7-4ca0-99c1-4483a67276c9",
   "metadata": {},
   "outputs": [
    {
     "data": {
      "text/plain": [
       "'Количество полных дубликатов в таблице hypothesis: 0'"
      ]
     },
     "metadata": {},
     "output_type": "display_data"
    },
    {
     "data": {
      "text/plain": [
       "'Количество полных дубликатов в таблице orders: 0'"
      ]
     },
     "metadata": {},
     "output_type": "display_data"
    },
    {
     "data": {
      "text/plain": [
       "'Количество полных дубликатов в таблице visitors: 0'"
      ]
     },
     "metadata": {},
     "output_type": "display_data"
    }
   ],
   "source": [
    "# Проверяем наличие полных дубликатов в датасетах.\n",
    "\n",
    "duplicated_hypothesis_raw = hypothesis_raw.duplicated().sum()\n",
    "display(f\"Количество полных дубликатов в таблице hypothesis: {duplicated_hypothesis_raw}\")\n",
    "duplicated_orders_raw = orders_raw.duplicated().sum()\n",
    "display(f\"Количество полных дубликатов в таблице orders: {duplicated_orders_raw}\")\n",
    "duplicated_visitors_raw = visitors_raw.duplicated().sum()\n",
    "display(f\"Количество полных дубликатов в таблице visitors: {duplicated_visitors_raw}\")"
   ]
  },
  {
   "cell_type": "markdown",
   "id": "4a6caa47-5265-4aaf-9de2-6344042ac2c9",
   "metadata": {},
   "source": [
    "**Результат предварительной проверки данных**:\n",
    "- Пропущенных данных в датасетах нет.\n",
    "- Строк-дубликатов в датасетах нет.\n",
    "- Выбросы проверим на следующих этапах.\n",
    "- В таблице hypothesis имена столбцов с большой буквы. Это желательно откорректировать\n",
    "- Даты представлены в формате object, что требует коррекции."
   ]
  },
  {
   "cell_type": "markdown",
   "id": "67573c20-63c6-4757-a513-9d6a8491f6e3",
   "metadata": {},
   "source": [
    "<div style=\"background-color: #99FFFF; padding: 10px;\">"
   ]
  },
  {
   "cell_type": "markdown",
   "id": "a50e08aa-9df0-45f0-8411-502cd8b1c14a",
   "metadata": {},
   "source": [
    "## Предобработка данных"
   ]
  },
  {
   "cell_type": "code",
   "execution_count": 15,
   "id": "737b8b2a-8b51-49e3-ba81-68bd7edc6d0d",
   "metadata": {},
   "outputs": [],
   "source": [
    "# Для последующих операций с обработанными датафреймами вводим новые переменные.\n",
    "hypothesis = hypothesis_raw.copy()\n",
    "orders = orders_raw.copy()\n",
    "visitors = visitors_raw.copy()"
   ]
  },
  {
   "cell_type": "markdown",
   "id": "7ba3ce15-4306-45f1-9543-1136398a5b5d",
   "metadata": {},
   "source": [
    "- Меняем формат дат на формат danetime.\n",
    "- Приводим имена столбцов к нижнему регистру."
   ]
  },
  {
   "cell_type": "code",
   "execution_count": 17,
   "id": "731a4bdc-f258-46ac-aaa7-949c1504abc9",
   "metadata": {},
   "outputs": [],
   "source": [
    "# Осуществляем запланированные действия по предобработке.\n",
    "# Меняем формат даты\n",
    "orders['date'] = pd.to_datetime(orders['date']).dt.normalize()\n",
    "visitors['date'] = pd.to_datetime(visitors['date']).dt.normalize()\n",
    "\n",
    "# приводим имена столбцов к нижнему регистру\n",
    "hypothesis.columns = hypothesis.columns.str.lower()"
   ]
  },
  {
   "cell_type": "markdown",
   "id": "e941c4b0-ba94-4af6-9224-14bc1dda9022",
   "metadata": {},
   "source": [
    "Проверяем результат предобработки"
   ]
  },
  {
   "cell_type": "code",
   "execution_count": 19,
   "id": "4f507c7b-b513-4b98-9bd2-7a7a397b3a98",
   "metadata": {
    "scrolled": true
   },
   "outputs": [
    {
     "data": {
      "text/html": [
       "<div>\n",
       "<style scoped>\n",
       "    .dataframe tbody tr th:only-of-type {\n",
       "        vertical-align: middle;\n",
       "    }\n",
       "\n",
       "    .dataframe tbody tr th {\n",
       "        vertical-align: top;\n",
       "    }\n",
       "\n",
       "    .dataframe thead th {\n",
       "        text-align: right;\n",
       "    }\n",
       "</style>\n",
       "<table border=\"1\" class=\"dataframe\">\n",
       "  <thead>\n",
       "    <tr style=\"text-align: right;\">\n",
       "      <th></th>\n",
       "      <th>hypothesis</th>\n",
       "      <th>reach</th>\n",
       "      <th>impact</th>\n",
       "      <th>confidence</th>\n",
       "      <th>efforts</th>\n",
       "    </tr>\n",
       "  </thead>\n",
       "  <tbody>\n",
       "    <tr>\n",
       "      <th>0</th>\n",
       "      <td>Добавить два новых канала привлечения трафика, что позволит привлекать на 30% больше пользователей</td>\n",
       "      <td>3</td>\n",
       "      <td>10</td>\n",
       "      <td>8</td>\n",
       "      <td>6</td>\n",
       "    </tr>\n",
       "    <tr>\n",
       "      <th>1</th>\n",
       "      <td>Запустить собственную службу доставки, что сократит срок доставки заказов</td>\n",
       "      <td>2</td>\n",
       "      <td>5</td>\n",
       "      <td>4</td>\n",
       "      <td>10</td>\n",
       "    </tr>\n",
       "  </tbody>\n",
       "</table>\n",
       "</div>"
      ],
      "text/plain": [
       "                                                                                           hypothesis  \\\n",
       "0  Добавить два новых канала привлечения трафика, что позволит привлекать на 30% больше пользователей   \n",
       "1                           Запустить собственную службу доставки, что сократит срок доставки заказов   \n",
       "\n",
       "   reach  impact  confidence  efforts  \n",
       "0      3      10           8        6  \n",
       "1      2       5           4       10  "
      ]
     },
     "metadata": {},
     "output_type": "display_data"
    },
    {
     "name": "stdout",
     "output_type": "stream",
     "text": [
      "<class 'pandas.core.frame.DataFrame'>\n",
      "RangeIndex: 1197 entries, 0 to 1196\n",
      "Data columns (total 5 columns):\n",
      " #   Column         Non-Null Count  Dtype         \n",
      "---  ------         --------------  -----         \n",
      " 0   transactionId  1197 non-null   int64         \n",
      " 1   visitorId      1197 non-null   int64         \n",
      " 2   date           1197 non-null   datetime64[ns]\n",
      " 3   revenue        1197 non-null   int64         \n",
      " 4   group          1197 non-null   object        \n",
      "dtypes: datetime64[ns](1), int64(3), object(1)\n",
      "memory usage: 46.9+ KB\n",
      "None\n",
      "\n",
      "<class 'pandas.core.frame.DataFrame'>\n",
      "RangeIndex: 62 entries, 0 to 61\n",
      "Data columns (total 3 columns):\n",
      " #   Column    Non-Null Count  Dtype         \n",
      "---  ------    --------------  -----         \n",
      " 0   date      62 non-null     datetime64[ns]\n",
      " 1   group     62 non-null     object        \n",
      " 2   visitors  62 non-null     int64         \n",
      "dtypes: datetime64[ns](1), int64(1), object(1)\n",
      "memory usage: 1.6+ KB\n",
      "None\n"
     ]
    }
   ],
   "source": [
    "# Проверяем результат\n",
    "\n",
    "display (hypothesis.head(2))\n",
    "print (orders.info())\n",
    "print ('')\n",
    "print (visitors.info())"
   ]
  },
  {
   "cell_type": "markdown",
   "id": "9a366a3e-263c-4474-949e-4166150fa8da",
   "metadata": {},
   "source": [
    "**Проверяем, за какой период данные в датасетах orders и visitors.**"
   ]
  },
  {
   "cell_type": "code",
   "execution_count": 21,
   "id": "c0d1279e-06d4-4fec-8040-933e62130e33",
   "metadata": {},
   "outputs": [
    {
     "name": "stdout",
     "output_type": "stream",
     "text": [
      "Данные orders представлены за  [2019]  год\n",
      "Данные orders представлены за  [8]  месяц\n",
      "Данные visitors представлены за  [2019]  год\n",
      "Данные visitors представлены за  [8]  месяц\n"
     ]
    }
   ],
   "source": [
    "# Проверяем за один ли год данные\n",
    "print (f\"Данные orders представлены за  {orders['date'].dt.year.unique()}  год\")\n",
    "print (f\"Данные orders представлены за  {orders['date'].dt.month.unique()}  месяц\")\n",
    "print (f\"Данные visitors представлены за  {visitors['date'].dt.year.unique()}  год\")\n",
    "print (f\"Данные visitors представлены за  {visitors['date'].dt.month.unique()}  месяц\")"
   ]
  },
  {
   "cell_type": "markdown",
   "id": "f52a112a-b2ad-488b-afc0-a35978fded80",
   "metadata": {},
   "source": [
    "**Проверяем размеры и состав групп.**"
   ]
  },
  {
   "cell_type": "code",
   "execution_count": 23,
   "id": "8d8c418e-ac21-4ac4-8ce2-77bad5797ffb",
   "metadata": {},
   "outputs": [
    {
     "name": "stdout",
     "output_type": "stream",
     "text": [
      "Количество групп в тесте  2\n"
     ]
    }
   ],
   "source": [
    "print(f\"Количество групп в тесте  {orders['group'].nunique()}\")\n"
   ]
  },
  {
   "cell_type": "code",
   "execution_count": 24,
   "id": "ec5273ac-f7f8-4e0e-adcc-d36f8416cb19",
   "metadata": {},
   "outputs": [
    {
     "name": "stdout",
     "output_type": "stream",
     "text": [
      "Количество посетителей группы А 503\n",
      "Количество посетителей группы В  586\n",
      "Группа А меньше группы В на  14.16 процента\n"
     ]
    }
   ],
   "source": [
    "group_A = orders.query(\"group == 'A'\")\n",
    "group_B = orders.query(\"group == 'B'\")\n",
    "\n",
    "print(f\"Количество посетителей группы А {group_A['visitorId'].nunique()}\")\n",
    "print(f\"Количество посетителей группы В  {group_B['visitorId'].nunique()}\")\n",
    "delta = (1-(group_A['visitorId'].nunique()/group_B['visitorId'].nunique()))*100 \n",
    "print (f\"Группа А меньше группы В на  {delta:.2f} процента\")"
   ]
  },
  {
   "cell_type": "markdown",
   "id": "ec3f392b-3e0a-486e-914a-281cf2eb831c",
   "metadata": {},
   "source": [
    "**Проверим, есть ли посетители, которые попали а в ту и в другую группу.**"
   ]
  },
  {
   "cell_type": "code",
   "execution_count": 26,
   "id": "9d53eb0e-ce09-4ab3-aaec-0bde4b60a3b2",
   "metadata": {},
   "outputs": [
    {
     "name": "stdout",
     "output_type": "stream",
     "text": [
      "Количество посетителей, присутствующих в обеих группах: 58\n"
     ]
    }
   ],
   "source": [
    "# уникальные посетители из group_B\n",
    "visitor_B = group_B['visitorId'].unique()\n",
    "\n",
    "# фильтруем group_A, оставляя только тех посетителей, которце есть в visitor_ids_B\n",
    "visitors_AB = group_A.query('visitorId in @visitor_B')\n",
    "\n",
    "# количество уникальных visitorId в пересечении\n",
    "visitors_AB_count = visitors_AB['visitorId'].nunique()\n",
    "\n",
    "print(f\"Количество посетителей, присутствующих в обеих группах: {visitors_AB_count}\")\n"
   ]
  },
  {
   "cell_type": "markdown",
   "id": "f272dcd5-4eed-45f3-8517-9040763ded81",
   "metadata": {},
   "source": [
    "Удаляем заказы \"двойных посетителей\", так как мы не знаем, в какую сторону ошибка - к какой группе они на самом деле относятся.\\\n",
    "После чего проверяем оставшееся количество участников теста."
   ]
  },
  {
   "cell_type": "code",
   "execution_count": 28,
   "id": "39ad0e6b-d71f-4276-9e0d-5cce91caeb89",
   "metadata": {},
   "outputs": [
    {
     "data": {
      "text/plain": [
       "(1016, 5)"
      ]
     },
     "execution_count": 28,
     "metadata": {},
     "output_type": "execute_result"
    }
   ],
   "source": [
    "# получаем уникальных посетителей из visitors_AB\n",
    "mask = visitors_AB['visitorId'].unique()\n",
    "# отфильтровываем из orders посетителей из списка mask\n",
    "orders = orders[~orders['visitorId'].isin(mask)].reset_index(drop=True)\n",
    "\n",
    "orders.shape"
   ]
  },
  {
   "cell_type": "markdown",
   "id": "5756d2a9-6c20-472f-a28e-fdf04147666b",
   "metadata": {},
   "source": [
    "Было 1197 записей в таблице orders, осталось 1016. Мы потеряли 181 запись.\\\n",
    "То есть 15 процентов данных.\\\n",
    "Стоило бы проверить мощьность теста, но мы не располагаем достаточной для этого информацией.\n",
    "Поэтому принимаем, что данных осталось достаточно для анализа теста."
   ]
  },
  {
   "cell_type": "markdown",
   "id": "4411b970-bfe0-4375-879c-8a83ff008e2c",
   "metadata": {},
   "source": [
    "**Результат предобработки и проверки временного диапазона**\n",
    "- Изменён формат даты на формат danetime.\n",
    "- Имена столбцов в hypothesis приведены к нижнему регистру.\n",
    "- Временной период в датасетах совпадает - август 2019 года.\n",
    "- Удалены посетители, присутствующие в обеих группах."
   ]
  },
  {
   "cell_type": "markdown",
   "id": "3d06a6bc-197e-4fb7-9545-426a3dd18683",
   "metadata": {},
   "source": [
    "**Выводы**\n",
    "- Группы теста неравные по объёму.\n",
    "- Есть группа клиентов, попавшая в обе группы.\n",
    "- > Удалив их, мы лишаемся 15% всех записей.\n",
    "\n",
    "Всё это говорит о том, что тест не был подготовлен тщательным образом, не был проведён АА-тест.\n",
    "Но мы, в рамках задачи, продолжим анализ на основе тех ланных, которыми располагаем после очистки."
   ]
  },
  {
   "cell_type": "markdown",
   "id": "911305e9-02de-4dbf-bd43-5da5a991c89c",
   "metadata": {},
   "source": [
    "<div style=\"background-color: #99FFFF; padding: 10px;\">"
   ]
  },
  {
   "cell_type": "markdown",
   "id": "c2af81a7-3e3e-4427-9154-cab2f0079482",
   "metadata": {},
   "source": [
    "# Приоритизация гипотез"
   ]
  },
  {
   "cell_type": "markdown",
   "id": "05a6b6d2-606b-4c69-9801-1da56768565b",
   "metadata": {},
   "source": [
    "Применяем фреймворки ICE и RICE и сравниваем результаты приоритезации разными методиками.\n",
    ">**НЕ меняем индексы** после сортировки.\\\n",
    "> Первоначальные индексы удобны для сравнения положения гипотез после ранжирования\\\n",
    ">(Текстовое описание для индентификации менее удобно)"
   ]
  },
  {
   "cell_type": "code",
   "execution_count": 35,
   "id": "5f35a66f-932c-4b7d-98b7-859b23917a92",
   "metadata": {
    "scrolled": true
   },
   "outputs": [
    {
     "data": {
      "text/html": [
       "<div>\n",
       "<style scoped>\n",
       "    .dataframe tbody tr th:only-of-type {\n",
       "        vertical-align: middle;\n",
       "    }\n",
       "\n",
       "    .dataframe tbody tr th {\n",
       "        vertical-align: top;\n",
       "    }\n",
       "\n",
       "    .dataframe thead th {\n",
       "        text-align: right;\n",
       "    }\n",
       "</style>\n",
       "<table border=\"1\" class=\"dataframe\">\n",
       "  <thead>\n",
       "    <tr style=\"text-align: right;\">\n",
       "      <th></th>\n",
       "      <th>hypothesis</th>\n",
       "      <th>reach</th>\n",
       "      <th>impact</th>\n",
       "      <th>confidence</th>\n",
       "      <th>efforts</th>\n",
       "      <th>ICE</th>\n",
       "      <th>ICE_Rank</th>\n",
       "    </tr>\n",
       "  </thead>\n",
       "  <tbody>\n",
       "    <tr>\n",
       "      <th>8</th>\n",
       "      <td>Запустить акцию, дающую скидку на товар в день рождения</td>\n",
       "      <td>1</td>\n",
       "      <td>9</td>\n",
       "      <td>9</td>\n",
       "      <td>5</td>\n",
       "      <td>16.20</td>\n",
       "      <td>1</td>\n",
       "    </tr>\n",
       "    <tr>\n",
       "      <th>0</th>\n",
       "      <td>Добавить два новых канала привлечения трафика, что позволит привлекать на 30% больше пользователей</td>\n",
       "      <td>3</td>\n",
       "      <td>10</td>\n",
       "      <td>8</td>\n",
       "      <td>6</td>\n",
       "      <td>13.33</td>\n",
       "      <td>2</td>\n",
       "    </tr>\n",
       "    <tr>\n",
       "      <th>7</th>\n",
       "      <td>Добавить форму подписки на все основные страницы, чтобы собрать базу клиентов для email-рассылок</td>\n",
       "      <td>10</td>\n",
       "      <td>7</td>\n",
       "      <td>8</td>\n",
       "      <td>5</td>\n",
       "      <td>11.20</td>\n",
       "      <td>3</td>\n",
       "    </tr>\n",
       "    <tr>\n",
       "      <th>6</th>\n",
       "      <td>Показать на главной странице баннеры с актуальными акциями и распродажами, чтобы увеличить конверсию</td>\n",
       "      <td>5</td>\n",
       "      <td>3</td>\n",
       "      <td>8</td>\n",
       "      <td>3</td>\n",
       "      <td>8.00</td>\n",
       "      <td>4</td>\n",
       "    </tr>\n",
       "    <tr>\n",
       "      <th>2</th>\n",
       "      <td>Добавить блоки рекомендаций товаров на сайт интернет магазина, чтобы повысить конверсию и средний чек заказа</td>\n",
       "      <td>8</td>\n",
       "      <td>3</td>\n",
       "      <td>7</td>\n",
       "      <td>3</td>\n",
       "      <td>7.00</td>\n",
       "      <td>5</td>\n",
       "    </tr>\n",
       "    <tr>\n",
       "      <th>1</th>\n",
       "      <td>Запустить собственную службу доставки, что сократит срок доставки заказов</td>\n",
       "      <td>2</td>\n",
       "      <td>5</td>\n",
       "      <td>4</td>\n",
       "      <td>10</td>\n",
       "      <td>2.00</td>\n",
       "      <td>6</td>\n",
       "    </tr>\n",
       "    <tr>\n",
       "      <th>5</th>\n",
       "      <td>Добавить страницу отзывов клиентов о магазине, что позволит увеличить количество заказов</td>\n",
       "      <td>3</td>\n",
       "      <td>2</td>\n",
       "      <td>2</td>\n",
       "      <td>3</td>\n",
       "      <td>1.33</td>\n",
       "      <td>7</td>\n",
       "    </tr>\n",
       "    <tr>\n",
       "      <th>3</th>\n",
       "      <td>Изменить структура категорий, что увеличит конверсию, т.к. пользователи быстрее найдут нужный товар</td>\n",
       "      <td>8</td>\n",
       "      <td>3</td>\n",
       "      <td>3</td>\n",
       "      <td>8</td>\n",
       "      <td>1.12</td>\n",
       "      <td>8</td>\n",
       "    </tr>\n",
       "    <tr>\n",
       "      <th>4</th>\n",
       "      <td>Изменить цвет фона главной страницы, чтобы увеличить вовлеченность пользователей</td>\n",
       "      <td>3</td>\n",
       "      <td>1</td>\n",
       "      <td>1</td>\n",
       "      <td>1</td>\n",
       "      <td>1.00</td>\n",
       "      <td>9</td>\n",
       "    </tr>\n",
       "  </tbody>\n",
       "</table>\n",
       "</div>"
      ],
      "text/plain": [
       "                                                                                                     hypothesis  \\\n",
       "8                                                       Запустить акцию, дающую скидку на товар в день рождения   \n",
       "0            Добавить два новых канала привлечения трафика, что позволит привлекать на 30% больше пользователей   \n",
       "7              Добавить форму подписки на все основные страницы, чтобы собрать базу клиентов для email-рассылок   \n",
       "6          Показать на главной странице баннеры с актуальными акциями и распродажами, чтобы увеличить конверсию   \n",
       "2  Добавить блоки рекомендаций товаров на сайт интернет магазина, чтобы повысить конверсию и средний чек заказа   \n",
       "1                                     Запустить собственную службу доставки, что сократит срок доставки заказов   \n",
       "5                      Добавить страницу отзывов клиентов о магазине, что позволит увеличить количество заказов   \n",
       "3           Изменить структура категорий, что увеличит конверсию, т.к. пользователи быстрее найдут нужный товар   \n",
       "4                              Изменить цвет фона главной страницы, чтобы увеличить вовлеченность пользователей   \n",
       "\n",
       "   reach  impact  confidence  efforts   ICE  ICE_Rank  \n",
       "8      1       9           9        5 16.20         1  \n",
       "0      3      10           8        6 13.33         2  \n",
       "7     10       7           8        5 11.20         3  \n",
       "6      5       3           8        3  8.00         4  \n",
       "2      8       3           7        3  7.00         5  \n",
       "1      2       5           4       10  2.00         6  \n",
       "5      3       2           2        3  1.33         7  \n",
       "3      8       3           3        8  1.12         8  \n",
       "4      3       1           1        1  1.00         9  "
      ]
     },
     "metadata": {},
     "output_type": "display_data"
    }
   ],
   "source": [
    "# Применяем фреймворк ICE\n",
    "\n",
    "hypothesis_ICE = hypothesis.copy()\n",
    "hypothesis_ICE['ICE'] = hypothesis_ICE['impact'] * hypothesis_ICE['confidence'] / hypothesis_ICE['efforts']\n",
    "hypothesis_ICE = hypothesis_ICE.sort_values(by='ICE', ascending=False)#.reset_index(drop=True)\n",
    "\n",
    "# Присваиваем ранги по столбцу ICE\n",
    "hypothesis_ICE['ICE_Rank'] = hypothesis_ICE['ICE'].rank(ascending=False, method='first').astype(int)\n",
    "\n",
    "display (hypothesis_ICE)"
   ]
  },
  {
   "cell_type": "code",
   "execution_count": 36,
   "id": "07552f99-6e6c-47a6-8393-74dba5397247",
   "metadata": {},
   "outputs": [
    {
     "name": "stdout",
     "output_type": "stream",
     "text": [
      "Наиболее приоритетная гипотеза по ICE: \"Запустить акцию, дающую скидку на товар в день рождения\"\n",
      "Наименее приоритетная гипотеза по ICE: \"Изменить цвет фона главной страницы, чтобы увеличить вовлеченность пользователей\"\n"
     ]
    }
   ],
   "source": [
    "print (f'Наиболее приоритетная гипотеза по ICE: \"{hypothesis_ICE.iloc[0,0]}\"')\n",
    "print (f'Наименее приоритетная гипотеза по ICE: \"{hypothesis_ICE.iloc[8,0]}\"')"
   ]
  },
  {
   "cell_type": "markdown",
   "id": "77062b5a-8971-4554-8f4b-3bcdcf884e59",
   "metadata": {},
   "source": [
    "- Положение наименее приоритетной теории (№4) обусловлено низкими оценками по всем показателям\\\n",
    "- Позиции трёх лидеров в основном определяются уровнями impact (влияние) и efforts (затраты).\\\n",
    "- Теория №0 проигрывает лидеру (№8) в основном из-за более высокой оценки требуемых затрат. "
   ]
  },
  {
   "cell_type": "code",
   "execution_count": 38,
   "id": "5ab06fde-de83-45fe-b625-7c67a8aaeb11",
   "metadata": {
    "scrolled": true
   },
   "outputs": [
    {
     "data": {
      "text/html": [
       "<div>\n",
       "<style scoped>\n",
       "    .dataframe tbody tr th:only-of-type {\n",
       "        vertical-align: middle;\n",
       "    }\n",
       "\n",
       "    .dataframe tbody tr th {\n",
       "        vertical-align: top;\n",
       "    }\n",
       "\n",
       "    .dataframe thead th {\n",
       "        text-align: right;\n",
       "    }\n",
       "</style>\n",
       "<table border=\"1\" class=\"dataframe\">\n",
       "  <thead>\n",
       "    <tr style=\"text-align: right;\">\n",
       "      <th></th>\n",
       "      <th>hypothesis</th>\n",
       "      <th>reach</th>\n",
       "      <th>impact</th>\n",
       "      <th>confidence</th>\n",
       "      <th>efforts</th>\n",
       "      <th>RICE</th>\n",
       "      <th>RICE_Rank</th>\n",
       "    </tr>\n",
       "  </thead>\n",
       "  <tbody>\n",
       "    <tr>\n",
       "      <th>7</th>\n",
       "      <td>Добавить форму подписки на все основные страницы, чтобы собрать базу клиентов для email-рассылок</td>\n",
       "      <td>10</td>\n",
       "      <td>7</td>\n",
       "      <td>8</td>\n",
       "      <td>5</td>\n",
       "      <td>112.00</td>\n",
       "      <td>1</td>\n",
       "    </tr>\n",
       "    <tr>\n",
       "      <th>2</th>\n",
       "      <td>Добавить блоки рекомендаций товаров на сайт интернет магазина, чтобы повысить конверсию и средний чек заказа</td>\n",
       "      <td>8</td>\n",
       "      <td>3</td>\n",
       "      <td>7</td>\n",
       "      <td>3</td>\n",
       "      <td>56.00</td>\n",
       "      <td>2</td>\n",
       "    </tr>\n",
       "    <tr>\n",
       "      <th>0</th>\n",
       "      <td>Добавить два новых канала привлечения трафика, что позволит привлекать на 30% больше пользователей</td>\n",
       "      <td>3</td>\n",
       "      <td>10</td>\n",
       "      <td>8</td>\n",
       "      <td>6</td>\n",
       "      <td>40.00</td>\n",
       "      <td>3</td>\n",
       "    </tr>\n",
       "    <tr>\n",
       "      <th>6</th>\n",
       "      <td>Показать на главной странице баннеры с актуальными акциями и распродажами, чтобы увеличить конверсию</td>\n",
       "      <td>5</td>\n",
       "      <td>3</td>\n",
       "      <td>8</td>\n",
       "      <td>3</td>\n",
       "      <td>40.00</td>\n",
       "      <td>4</td>\n",
       "    </tr>\n",
       "    <tr>\n",
       "      <th>8</th>\n",
       "      <td>Запустить акцию, дающую скидку на товар в день рождения</td>\n",
       "      <td>1</td>\n",
       "      <td>9</td>\n",
       "      <td>9</td>\n",
       "      <td>5</td>\n",
       "      <td>16.20</td>\n",
       "      <td>5</td>\n",
       "    </tr>\n",
       "    <tr>\n",
       "      <th>3</th>\n",
       "      <td>Изменить структура категорий, что увеличит конверсию, т.к. пользователи быстрее найдут нужный товар</td>\n",
       "      <td>8</td>\n",
       "      <td>3</td>\n",
       "      <td>3</td>\n",
       "      <td>8</td>\n",
       "      <td>9.00</td>\n",
       "      <td>6</td>\n",
       "    </tr>\n",
       "    <tr>\n",
       "      <th>1</th>\n",
       "      <td>Запустить собственную службу доставки, что сократит срок доставки заказов</td>\n",
       "      <td>2</td>\n",
       "      <td>5</td>\n",
       "      <td>4</td>\n",
       "      <td>10</td>\n",
       "      <td>4.00</td>\n",
       "      <td>7</td>\n",
       "    </tr>\n",
       "    <tr>\n",
       "      <th>5</th>\n",
       "      <td>Добавить страницу отзывов клиентов о магазине, что позволит увеличить количество заказов</td>\n",
       "      <td>3</td>\n",
       "      <td>2</td>\n",
       "      <td>2</td>\n",
       "      <td>3</td>\n",
       "      <td>4.00</td>\n",
       "      <td>8</td>\n",
       "    </tr>\n",
       "    <tr>\n",
       "      <th>4</th>\n",
       "      <td>Изменить цвет фона главной страницы, чтобы увеличить вовлеченность пользователей</td>\n",
       "      <td>3</td>\n",
       "      <td>1</td>\n",
       "      <td>1</td>\n",
       "      <td>1</td>\n",
       "      <td>3.00</td>\n",
       "      <td>9</td>\n",
       "    </tr>\n",
       "  </tbody>\n",
       "</table>\n",
       "</div>"
      ],
      "text/plain": [
       "                                                                                                     hypothesis  \\\n",
       "7              Добавить форму подписки на все основные страницы, чтобы собрать базу клиентов для email-рассылок   \n",
       "2  Добавить блоки рекомендаций товаров на сайт интернет магазина, чтобы повысить конверсию и средний чек заказа   \n",
       "0            Добавить два новых канала привлечения трафика, что позволит привлекать на 30% больше пользователей   \n",
       "6          Показать на главной странице баннеры с актуальными акциями и распродажами, чтобы увеличить конверсию   \n",
       "8                                                       Запустить акцию, дающую скидку на товар в день рождения   \n",
       "3           Изменить структура категорий, что увеличит конверсию, т.к. пользователи быстрее найдут нужный товар   \n",
       "1                                     Запустить собственную службу доставки, что сократит срок доставки заказов   \n",
       "5                      Добавить страницу отзывов клиентов о магазине, что позволит увеличить количество заказов   \n",
       "4                              Изменить цвет фона главной страницы, чтобы увеличить вовлеченность пользователей   \n",
       "\n",
       "   reach  impact  confidence  efforts   RICE  RICE_Rank  \n",
       "7     10       7           8        5 112.00          1  \n",
       "2      8       3           7        3  56.00          2  \n",
       "0      3      10           8        6  40.00          3  \n",
       "6      5       3           8        3  40.00          4  \n",
       "8      1       9           9        5  16.20          5  \n",
       "3      8       3           3        8   9.00          6  \n",
       "1      2       5           4       10   4.00          7  \n",
       "5      3       2           2        3   4.00          8  \n",
       "4      3       1           1        1   3.00          9  "
      ]
     },
     "metadata": {},
     "output_type": "display_data"
    }
   ],
   "source": [
    "# Применяем фреёмворки RICE\n",
    "hypothesis_RICE = hypothesis.copy()\n",
    "hypothesis_RICE['RICE'] = hypothesis_RICE['reach'] * hypothesis_RICE['impact'] * hypothesis_RICE['confidence'] / hypothesis_RICE['efforts']\n",
    "hypothesis_RICE = hypothesis_RICE.sort_values(by='RICE', ascending=False)#.reset_index(drop=True)\n",
    "\n",
    "# Присваиваем ранги по столбцу RICE\n",
    "hypothesis_RICE['RICE_Rank'] = hypothesis_RICE['RICE'].rank(ascending=False, method='first').astype(int)\n",
    "\n",
    "display (hypothesis_RICE)"
   ]
  },
  {
   "cell_type": "code",
   "execution_count": 39,
   "id": "ff04799e-651c-4741-84fa-370d9ef30bdd",
   "metadata": {},
   "outputs": [
    {
     "name": "stdout",
     "output_type": "stream",
     "text": [
      "Наиболее приоритетная гипотеза по RICE: \"Добавить форму подписки на все основные страницы, чтобы собрать базу клиентов для email-рассылок\"\n",
      "Наименее приоритетная гипотеза по RICE: \"Изменить цвет фона главной страницы, чтобы увеличить вовлеченность пользователей\"\n"
     ]
    }
   ],
   "source": [
    "print (f'Наиболее приоритетная гипотеза по RICE: \"{hypothesis_RICE.iloc[0,0]}\"')\n",
    "print (f'Наименее приоритетная гипотеза по RICE: \"{hypothesis_RICE.iloc[8,0]}\"')"
   ]
  },
  {
   "cell_type": "markdown",
   "id": "d4c06f06-5642-4f93-bf34-c93ad4c125fe",
   "metadata": {},
   "source": [
    "- Положение наименее приоритетной теории (№4) осталось без изменений.\n",
    "- Тройка лидеров изменилась - теперь это теории №№ 7, 2 и 0, которая опустилась со второго места на третье.\n",
    "\n",
    "."
   ]
  },
  {
   "cell_type": "markdown",
   "id": "0ab1d15a-bb6c-4ac5-a9c4-1db65b57153e",
   "metadata": {},
   "source": [
    "**Сравним результвты двух методик приоритизации**.\\\n",
    "Объединим результаты двух методик c исходным датафреймом (для сохранения индексации гипотез) и сравним рейтинги теорий.\\\n",
    "Сортируем по RICE."
   ]
  },
  {
   "cell_type": "code",
   "execution_count": 42,
   "id": "3a5199a7-f1af-4078-9176-323209a2ce5b",
   "metadata": {},
   "outputs": [
    {
     "data": {
      "text/html": [
       "<div>\n",
       "<style scoped>\n",
       "    .dataframe tbody tr th:only-of-type {\n",
       "        vertical-align: middle;\n",
       "    }\n",
       "\n",
       "    .dataframe tbody tr th {\n",
       "        vertical-align: top;\n",
       "    }\n",
       "\n",
       "    .dataframe thead th {\n",
       "        text-align: right;\n",
       "    }\n",
       "</style>\n",
       "<table border=\"1\" class=\"dataframe\">\n",
       "  <thead>\n",
       "    <tr style=\"text-align: right;\">\n",
       "      <th></th>\n",
       "      <th>hypothesis</th>\n",
       "      <th>reach</th>\n",
       "      <th>impact</th>\n",
       "      <th>confidence</th>\n",
       "      <th>efforts</th>\n",
       "      <th>ICE_Rank</th>\n",
       "      <th>RICE_Rank</th>\n",
       "    </tr>\n",
       "  </thead>\n",
       "  <tbody>\n",
       "    <tr>\n",
       "      <th>7</th>\n",
       "      <td>Добавить форму подписки на все основные страницы, чтобы собрать базу клиентов для email-рассылок</td>\n",
       "      <td>10</td>\n",
       "      <td>7</td>\n",
       "      <td>8</td>\n",
       "      <td>5</td>\n",
       "      <td>3</td>\n",
       "      <td>1</td>\n",
       "    </tr>\n",
       "    <tr>\n",
       "      <th>2</th>\n",
       "      <td>Добавить блоки рекомендаций товаров на сайт интернет магазина, чтобы повысить конверсию и средний чек заказа</td>\n",
       "      <td>8</td>\n",
       "      <td>3</td>\n",
       "      <td>7</td>\n",
       "      <td>3</td>\n",
       "      <td>5</td>\n",
       "      <td>2</td>\n",
       "    </tr>\n",
       "    <tr>\n",
       "      <th>0</th>\n",
       "      <td>Добавить два новых канала привлечения трафика, что позволит привлекать на 30% больше пользователей</td>\n",
       "      <td>3</td>\n",
       "      <td>10</td>\n",
       "      <td>8</td>\n",
       "      <td>6</td>\n",
       "      <td>2</td>\n",
       "      <td>3</td>\n",
       "    </tr>\n",
       "    <tr>\n",
       "      <th>6</th>\n",
       "      <td>Показать на главной странице баннеры с актуальными акциями и распродажами, чтобы увеличить конверсию</td>\n",
       "      <td>5</td>\n",
       "      <td>3</td>\n",
       "      <td>8</td>\n",
       "      <td>3</td>\n",
       "      <td>4</td>\n",
       "      <td>4</td>\n",
       "    </tr>\n",
       "    <tr>\n",
       "      <th>8</th>\n",
       "      <td>Запустить акцию, дающую скидку на товар в день рождения</td>\n",
       "      <td>1</td>\n",
       "      <td>9</td>\n",
       "      <td>9</td>\n",
       "      <td>5</td>\n",
       "      <td>1</td>\n",
       "      <td>5</td>\n",
       "    </tr>\n",
       "    <tr>\n",
       "      <th>3</th>\n",
       "      <td>Изменить структура категорий, что увеличит конверсию, т.к. пользователи быстрее найдут нужный товар</td>\n",
       "      <td>8</td>\n",
       "      <td>3</td>\n",
       "      <td>3</td>\n",
       "      <td>8</td>\n",
       "      <td>8</td>\n",
       "      <td>6</td>\n",
       "    </tr>\n",
       "    <tr>\n",
       "      <th>1</th>\n",
       "      <td>Запустить собственную службу доставки, что сократит срок доставки заказов</td>\n",
       "      <td>2</td>\n",
       "      <td>5</td>\n",
       "      <td>4</td>\n",
       "      <td>10</td>\n",
       "      <td>6</td>\n",
       "      <td>7</td>\n",
       "    </tr>\n",
       "    <tr>\n",
       "      <th>5</th>\n",
       "      <td>Добавить страницу отзывов клиентов о магазине, что позволит увеличить количество заказов</td>\n",
       "      <td>3</td>\n",
       "      <td>2</td>\n",
       "      <td>2</td>\n",
       "      <td>3</td>\n",
       "      <td>7</td>\n",
       "      <td>8</td>\n",
       "    </tr>\n",
       "    <tr>\n",
       "      <th>4</th>\n",
       "      <td>Изменить цвет фона главной страницы, чтобы увеличить вовлеченность пользователей</td>\n",
       "      <td>3</td>\n",
       "      <td>1</td>\n",
       "      <td>1</td>\n",
       "      <td>1</td>\n",
       "      <td>9</td>\n",
       "      <td>9</td>\n",
       "    </tr>\n",
       "  </tbody>\n",
       "</table>\n",
       "</div>"
      ],
      "text/plain": [
       "                                                                                                     hypothesis  \\\n",
       "7              Добавить форму подписки на все основные страницы, чтобы собрать базу клиентов для email-рассылок   \n",
       "2  Добавить блоки рекомендаций товаров на сайт интернет магазина, чтобы повысить конверсию и средний чек заказа   \n",
       "0            Добавить два новых канала привлечения трафика, что позволит привлекать на 30% больше пользователей   \n",
       "6          Показать на главной странице баннеры с актуальными акциями и распродажами, чтобы увеличить конверсию   \n",
       "8                                                       Запустить акцию, дающую скидку на товар в день рождения   \n",
       "3           Изменить структура категорий, что увеличит конверсию, т.к. пользователи быстрее найдут нужный товар   \n",
       "1                                     Запустить собственную службу доставки, что сократит срок доставки заказов   \n",
       "5                      Добавить страницу отзывов клиентов о магазине, что позволит увеличить количество заказов   \n",
       "4                              Изменить цвет фона главной страницы, чтобы увеличить вовлеченность пользователей   \n",
       "\n",
       "   reach  impact  confidence  efforts  ICE_Rank  RICE_Rank  \n",
       "7     10       7           8        5         3          1  \n",
       "2      8       3           7        3         5          2  \n",
       "0      3      10           8        6         2          3  \n",
       "6      5       3           8        3         4          4  \n",
       "8      1       9           9        5         1          5  \n",
       "3      8       3           3        8         8          6  \n",
       "1      2       5           4       10         6          7  \n",
       "5      3       2           2        3         7          8  \n",
       "4      3       1           1        1         9          9  "
      ]
     },
     "execution_count": 42,
     "metadata": {},
     "output_type": "execute_result"
    }
   ],
   "source": [
    "hypothesis_ICE_RICE = hypothesis.merge(hypothesis_ICE[\n",
    "         ['hypothesis', 'ICE_Rank']],on='hypothesis', how = 'left').merge(hypothesis_RICE[\n",
    "         ['hypothesis', 'RICE_Rank']], on='hypothesis', how = 'left').sort_values(by='RICE_Rank', ascending=True)\n",
    "\n",
    "hypothesis_ICE_RICE"
   ]
  },
  {
   "cell_type": "markdown",
   "id": "da9e2e48-e83d-4748-8d76-6920065f661d",
   "metadata": {},
   "source": [
    "**Наблюдения**\\\n",
    "Мы видим влияние показателя reach (охват) на изменение приоритетности гипотез.\\\n",
    "**Благодаря высокой оценке охвата**:\n",
    "- гипотеза №7 поднялась с 3-го места на 1-е,\n",
    "- гипотеза №2 поднялась с 5-го на 2-е место,\n",
    "- приоритет гипотезы №8 - лидера по методике ICE - понизился по RICE до 5-го места.\n",
    " "
   ]
  },
  {
   "cell_type": "markdown",
   "id": "ff48be85-9d1d-44d5-b23f-9ce555ae814c",
   "metadata": {},
   "source": [
    "**Выводы**\\\n",
    "Для интернет-магазина методика приоритизации RICE более предпочтитела, чем ICE, так как:\n",
    "- размер аудитории работающего интернет-магазина легко оценить,\n",
    "- все гипотезы направлены на конкретные сегменты аудитории, размер которых можно определить.\n",
    "- метрика reach делает расчет более точным, поэтому исключать её нецелесообразно.\n",
    "\n",
    "**Таким образом, более адекватным результатом приоритизации предлагается считать расчёт, сделанный по методике  RICE.** \n"
   ]
  },
  {
   "cell_type": "markdown",
   "id": "dd99587d-1c4a-4a5f-ae5d-c70b49eb3440",
   "metadata": {},
   "source": [
    "<div style=\"background-color: #99FFFF; padding: 10px;\">"
   ]
  },
  {
   "cell_type": "markdown",
   "id": "516d0818-c042-43ee-b59f-9eacc02fdaf7",
   "metadata": {},
   "source": [
    "# Анализ A/B-теста"
   ]
  },
  {
   "cell_type": "markdown",
   "id": "1c69c073-c345-4389-8896-d01b26990bf2",
   "metadata": {},
   "source": [
    "## График кумулятивной выручки по группам"
   ]
  },
  {
   "cell_type": "code",
   "execution_count": 48,
   "id": "55007b63-7f67-4951-bc0d-83f8211cef22",
   "metadata": {
    "scrolled": true
   },
   "outputs": [
    {
     "data": {
      "image/png": "[encoded data removed]",
      "text/plain": [
       "<Figure size 800x400 with 1 Axes>"
      ]
     },
     "metadata": {},
     "output_type": "display_data"
    }
   ],
   "source": [
    "# создаём датасеты комулятивных данных orders и visitors\n",
    "datesGroups = orders[['date', 'group']].drop_duplicates()\n",
    "\n",
    "ordersAggregated = datesGroups.apply(\n",
    "    lambda x: orders[np.logical_and(\n",
    "            orders['date'] <= x['date'], orders['group'] == x['group'])\n",
    "    ].agg({'date': 'max',\n",
    "         'group': 'max',\n",
    "         'transactionId': 'nunique',\n",
    "         'visitorId': 'nunique',\n",
    "         'revenue': 'sum'}),axis=1).sort_values(by=['date', 'group'])\n",
    "\n",
    "visitorsAggregated = datesGroups.apply(\n",
    "    lambda x: visitors[np.logical_and(\n",
    "            visitors['date'] <= x['date'], visitors['group'] == x['group'])\n",
    "    ].agg({'date': 'max',\n",
    "         'group': 'max',\n",
    "         'visitors': 'sum'}),axis=1).sort_values(by=['date', 'group'])\n",
    "\n",
    "# объединяем датасеты в один\n",
    "cumulativeData = ordersAggregated.merge(\n",
    "                 visitorsAggregated, on=['date', 'group'])\n",
    "\n",
    "cumulativeData.columns = ['date', 'group', 'orders','buyers', 'revenue', 'visitors',]\n",
    "\n",
    "# выделяем датафрейм с кумулятивным количеством заказов и кумулятивной выручкой по дням в группе А\n",
    "cumulativeRevenueA = cumulativeData[cumulativeData['group']=='A'][['date','revenue', 'orders']]\n",
    "\n",
    "# выделяем датафрейм с кумулятивным количеством заказов и кумулятивной выручкой по дням в группе B\n",
    "cumulativeRevenueB = cumulativeData[cumulativeData['group']=='B'][['date','revenue', 'orders']]\n",
    "\n",
    "# задаём параметряя графика и строим его\n",
    "plt.figure(figsize=(8, 4))\n",
    "\n",
    "# строим график выручки группы А\n",
    "plt.plot(cumulativeRevenueA['date'], cumulativeRevenueA['revenue'], label='A')\n",
    "# строим график выручки группы B\n",
    "plt.plot(cumulativeRevenueB['date'], cumulativeRevenueB['revenue'], label='B')\n",
    "\n",
    "plt.title('Кумулятивная выручка ')\n",
    "plt.xlabel('')\n",
    "plt.ylabel('Руб (млн)')\n",
    "plt.xticks(rotation=45)\n",
    "plt.legend()\n",
    "plt.grid()\n",
    "plt.show()"
   ]
  },
  {
   "cell_type": "markdown",
   "id": "2bf064c2-66e6-470d-8b7c-b3acf16e8102",
   "metadata": {},
   "source": [
    "**Наблюдения**\n",
    "- Группа A ведёт себя стабильно - накопленная выручка растёт равномерно.\n",
    "- В группе B наблюдается скачёк 18 августа и дальше график равномерно растёт. Это свидетельствует либо о оезком росте количества заказов, либо о наличии аномально больших заказов, которые нужно будет проанализировать отдельно."
   ]
  },
  {
   "cell_type": "markdown",
   "id": "2445473e-da39-4022-84ff-9b3080692209",
   "metadata": {},
   "source": [
    "## График кумулятивного среднего чека по группам"
   ]
  },
  {
   "cell_type": "code",
   "execution_count": 51,
   "id": "6b3068d2-eab2-4955-a967-837275e46bdc",
   "metadata": {},
   "outputs": [
    {
     "data": {
      "image/png": "[encoded data removed]",
      "text/plain": [
       "<Figure size 800x400 with 1 Axes>"
      ]
     },
     "metadata": {},
     "output_type": "display_data"
    }
   ],
   "source": [
    "# задаём параметры графика и строим его\n",
    "plt.figure(figsize=(8, 4))\n",
    "\n",
    "# делим комулятивную выручку на комулятивное число заказов\n",
    "plt.plot(cumulativeRevenueA['date'], cumulativeRevenueA['revenue']/cumulativeRevenueA['orders'], label='A')\n",
    "plt.plot(cumulativeRevenueB['date'], cumulativeRevenueB['revenue']/cumulativeRevenueB['orders'], label='B')\n",
    "\n",
    "plt.xticks(rotation=45)\n",
    "plt.title('Кумулятивный средний чек')\n",
    "plt.xlabel('')\n",
    "plt.ylabel('Руб')\n",
    "plt.xticks(rotation=45)\n",
    "plt.legend()\n",
    "plt.grid()\n",
    "plt.show()"
   ]
  },
  {
   "cell_type": "markdown",
   "id": "a6dca253-f861-4b71-a9cc-935526d0591f",
   "metadata": {},
   "source": [
    "**Наблюдения**\n",
    "- Имеются сильные колебания среднего чека как в той, так и в другой группе.\n",
    "- В группе B - скачёк 18 августа и дальше график падает.\n",
    "  >Это подтверждает наличие аномально больших заказов, а не рост их количества."
   ]
  },
  {
   "cell_type": "markdown",
   "id": "17ab6067-1a20-434c-b256-5a4d87d1c3d9",
   "metadata": {},
   "source": [
    "## График относительного изменения кумулятивного среднего чека группы B к группе A"
   ]
  },
  {
   "cell_type": "code",
   "execution_count": 54,
   "id": "a55d6099-8f9a-4dd5-b4dc-edfe80c731b7",
   "metadata": {},
   "outputs": [
    {
     "data": {
      "image/png": "[encoded data removed]",
      "text/plain": [
       "<Figure size 800x400 with 1 Axes>"
      ]
     },
     "metadata": {},
     "output_type": "display_data"
    }
   ],
   "source": [
    "# собираём данные в одном датафрейме\n",
    "mergedCumulativeRevenue = cumulativeRevenueA.merge(\n",
    "    cumulativeRevenueB, on='date', how='left', suffixes=['A', 'B'])\n",
    "\n",
    "# cтроим график отношения средних чеков\n",
    "plt.figure(figsize=(8, 4))\n",
    "plt.plot(\n",
    "         mergedCumulativeRevenue['date'],\n",
    "        (mergedCumulativeRevenue['revenueB']/mergedCumulativeRevenue['ordersB'])\n",
    "       /(mergedCumulativeRevenue['revenueA']/mergedCumulativeRevenue['ordersA'])-1\n",
    "        )\n",
    "\n",
    "# добавляем нулевую ось X\n",
    "plt.axhline(y=0, color='black', linestyle='--')\n",
    "\n",
    "plt.title('Относительное изменение кумулятивного среднего чека')\n",
    "plt.xlabel('')\n",
    "plt.ylabel('Отношение')\n",
    "plt.xticks(rotation=45)\n",
    "#plt.legend()\n",
    "plt.grid()\n",
    "plt.show()"
   ]
  },
  {
   "cell_type": "markdown",
   "id": "4a5ab749-5aa1-4c9d-9866-79366efdcb9b",
   "metadata": {},
   "source": [
    "**Наблюдения**\n",
    "- В целом за время теста в группе В средний чек выше. Но отношение неравномерно.\n",
    "- Имеется провал с 8-го по 13-е августа - разрыв уменьшается и даже становится в пользу группы А.\n",
    "- Есть скачёк 18 августа и дальнейшее плавное снижение.\\\n",
    "  В этом график подобен поведению комулятивнго среднего чека группы В. Причина, как мы уже видели, - наличие аномально крупных заказов."
   ]
  },
  {
   "cell_type": "markdown",
   "id": "f330e142-9728-45a9-a1d9-49da7cf7e934",
   "metadata": {},
   "source": [
    "## График кумулятивного среднего количества заказов на посетителя по группам"
   ]
  },
  {
   "cell_type": "code",
   "execution_count": 57,
   "id": "6703f53c-2a12-4f96-a66e-ab2ae6726001",
   "metadata": {},
   "outputs": [
    {
     "data": {
      "image/png": "[encoded data removed]",
      "text/plain": [
       "<Figure size 800x400 with 1 Axes>"
      ]
     },
     "metadata": {},
     "output_type": "display_data"
    }
   ],
   "source": [
    "# считаем среднее количество заказов на посетителя\n",
    "cumulativeData['conversion'] = cumulativeData['orders']/cumulativeData['visitors']\n",
    "\n",
    "# выделяем данные группы A\n",
    "cumulativeDataA = cumulativeData[cumulativeData['group']=='A']\n",
    "\n",
    "# выделяем данные группы B\n",
    "cumulativeDataB = cumulativeData[cumulativeData['group']=='B']\n",
    "\n",
    "# строим графики\n",
    "plt.figure(figsize=(8, 4))\n",
    "plt.plot(cumulativeDataA['date'], cumulativeDataA['conversion'], label='A')\n",
    "plt.plot(cumulativeDataB['date'], cumulativeDataB['conversion'], label='B')\n",
    "plt.legend()\n",
    "\n",
    "# задаём масштаб осей\n",
    "plt.axis([\"2019-07-30\", '2019-09-01', 0, 0.05])\n",
    "\n",
    "plt.title('Кумулятивное среднее количества заказов на посетителя')\n",
    "plt.xlabel('')\n",
    "plt.ylabel('Конверсия')\n",
    "plt.xticks(rotation=45)\n",
    "plt.legend()\n",
    "plt.grid()\n",
    "plt.show()"
   ]
  },
  {
   "cell_type": "markdown",
   "id": "536abd16-968b-460e-b53d-227897567c5f",
   "metadata": {},
   "source": [
    "**Наблюдения**\\\n",
    "Показатель конверсии стабилизаровался к концу второй недели теста.\\\n",
    "Группа В стабильно оппережает группу А."
   ]
  },
  {
   "cell_type": "markdown",
   "id": "72353717-b1d9-4cf9-85ec-f48f2290bbf6",
   "metadata": {},
   "source": [
    "## График относительного изменения кумулятивного среднего количества заказов на посетителя группы B к группе A\n"
   ]
  },
  {
   "cell_type": "code",
   "execution_count": 60,
   "id": "020ecc7c-53f4-41d9-a96e-f044134ffcb0",
   "metadata": {},
   "outputs": [
    {
     "data": {
      "image/png": "[encoded data removed]",
      "text/plain": [
       "<Figure size 800x400 with 1 Axes>"
      ]
     },
     "metadata": {},
     "output_type": "display_data"
    }
   ],
   "source": [
    "# создаём датафрейм\n",
    "mergedCumulativeConversions = cumulativeDataA[['date','conversion']].merge(\n",
    "    cumulativeDataB[['date','conversion']], on='date', how='left', suffixes=['A', 'B'])\n",
    "\n",
    "# задаём параметры графика и строим его\n",
    "plt.figure(figsize=(8, 4))\n",
    "plt.plot(mergedCumulativeConversions['date'], mergedCumulativeConversions['conversionB']/mergedCumulativeConversions['conversionA']-1)\n",
    "\n",
    "plt.axhline(y=0, color='black', linestyle='--')\n",
    "plt.axhline(y=0.15, color='grey', linestyle='--')\n",
    "plt.axis([\"2019-07-30\", '2019-09-01', -0.5, 0.5])\n",
    "\n",
    "plt.title('Относительный прирост кумулятивного среднего количества заказов на посетителя гр. B относительно гр. A')\n",
    "plt.xlabel('')\n",
    "plt.ylabel('Отношение')\n",
    "plt.xticks(rotation=45)\n",
    "plt.legend('')\n",
    "plt.grid()\n",
    "plt.show()"
   ]
  },
  {
   "cell_type": "markdown",
   "id": "4b74726a-f3ee-4b3f-bbd0-5534a9292436",
   "metadata": {},
   "source": [
    "Показатель группы В стабильно выше, чем группы А.\\\n",
    "Начиная со второй недели метрика стабилизировалась вокруг значения +15%,"
   ]
  },
  {
   "cell_type": "markdown",
   "id": "c8b5b61f-b0c3-41df-8274-24f9871f8c58",
   "metadata": {},
   "source": [
    "## Точечный график количества заказов по пользователям."
   ]
  },
  {
   "cell_type": "code",
   "execution_count": 63,
   "id": "fd266d76-45c1-4873-b0c2-38a0b01309dd",
   "metadata": {},
   "outputs": [
    {
     "data": {
      "image/png": "[encoded data removed]",
      "text/plain": [
       "<Figure size 800x400 with 1 Axes>"
      ]
     },
     "metadata": {},
     "output_type": "display_data"
    }
   ],
   "source": [
    "# строим тпблицу ordersByUsers\n",
    "ordersByUsers = orders.groupby('visitorId', as_index=False).agg({'transactionId': 'nunique'})\n",
    "ordersByUsers.columns = ['userId', 'orders']\n",
    "\n",
    "#print(ordersByUsers.sort_values(by='orders', ascending=False).head(10))\n",
    "\n",
    "# серия из чисел от 0 до макс. кол-ва наблюдений\n",
    "x_values = pd.Series(range(0, len(ordersByUsers)))\n",
    "\n",
    "# строим график\n",
    "plt.figure(figsize=(8, 4))\n",
    "plt.scatter(x_values, ordersByUsers['orders'])\n",
    "\n",
    "plt.title('Количество заказов на каждого пользователя')\n",
    "plt.xlabel('Порядковый номер пользователя')\n",
    "plt.ylabel('Количество заказов')\n",
    "plt.grid()\n",
    "plt.show()"
   ]
  },
  {
   "cell_type": "markdown",
   "id": "46451edc-0107-4460-a94f-6dd1ffca6e84",
   "metadata": {},
   "source": [
    "Присутствуют выбросы - есть пользователи, сделавшие большое количество заказов - от 5 и выше."
   ]
  },
  {
   "cell_type": "markdown",
   "id": "d88a8d24-63e5-4891-ac41-c0c767eb6ae0",
   "metadata": {},
   "source": [
    "## 95-й и 99-й перцентили количества заказов на пользователя."
   ]
  },
  {
   "cell_type": "code",
   "execution_count": 66,
   "id": "df91e1b8-e45a-4e48-b0f3-cb57a1d725c0",
   "metadata": {},
   "outputs": [
    {
     "name": "stdout",
     "output_type": "stream",
     "text": [
      "[1. 1. 2.]\n"
     ]
    }
   ],
   "source": [
    "# Методом np.percentile находим перцентили\n",
    "print(np.percentile(ordersByUsers['orders'], [90, 95, 99])) "
   ]
  },
  {
   "cell_type": "markdown",
   "id": "4c66db5e-e51e-4069-94a1-7551a5bf42dc",
   "metadata": {},
   "source": [
    "- Не более 5% покупателей совершили больше 1 заказа.\n",
    "- Не более 1% пользователей совершили больше 2 покупок.\n",
    "\n",
    "Выберем границей, выше которой количество будем считать аномальным, 2 заказа.\\\n",
    "Больше этого количество заказывало только 1% пользователей."
   ]
  },
  {
   "cell_type": "markdown",
   "id": "5f80e51b-59ef-4ad1-b4dc-7e2ac76f6235",
   "metadata": {},
   "source": [
    "## Точечный график стоимостей заказов."
   ]
  },
  {
   "cell_type": "code",
   "execution_count": 69,
   "id": "b3a76916-b0a2-44aa-ac51-aeebd8a90ea5",
   "metadata": {},
   "outputs": [
    {
     "data": {
      "image/png": "[encoded data removed]",
      "text/plain": [
       "<Figure size 800x400 with 1 Axes>"
      ]
     },
     "metadata": {},
     "output_type": "display_data"
    }
   ],
   "source": [
    "# строим график\n",
    "# серия из чисел от 0 до макс. кол-ва наблюдений в ordersByUsers\n",
    "x_values = pd.Series(range(0, len(orders)))\n",
    "\n",
    "plt.figure(figsize=(8, 4))\n",
    "plt.scatter(x_values, orders['revenue'])\n",
    "\n",
    "plt.title('Стоимости заказов')\n",
    "plt.xlabel('Порядковый номер транзакции')\n",
    "plt.ylabel('Руб (млн)')\n",
    "plt.grid()\n",
    "plt.show()"
   ]
  },
  {
   "cell_type": "markdown",
   "id": "a112e58a-6b10-4d9c-8b47-f1dce1e8b9b2",
   "metadata": {},
   "source": [
    "Есть аномальные выбросы."
   ]
  },
  {
   "cell_type": "markdown",
   "id": "0f862c04-75b2-482f-b612-4d3f795683fd",
   "metadata": {},
   "source": [
    "## 95-й и 99-й перцентили стоимости заказов."
   ]
  },
  {
   "cell_type": "code",
   "execution_count": 72,
   "id": "e68c0ad8-29fe-4878-b707-45ed17f43375",
   "metadata": {},
   "outputs": [
    {
     "name": "stdout",
     "output_type": "stream",
     "text": [
      "[17990. 26785. 53904.]\n"
     ]
    }
   ],
   "source": [
    "# Методом np.percentile находит перцентили\n",
    "print(np.percentile(orders['revenue'], [90, 95, 99])) "
   ]
  },
  {
   "cell_type": "markdown",
   "id": "63561d2e-4070-465a-960f-cc5dbfc0ca32",
   "metadata": {},
   "source": [
    "- Не более 5% транзакций больше 26785 руб.\n",
    "- Не более 1% транзакций больш 53904 руб.\n",
    "\n",
    "Выыберем границей, выше которой сумму заказа будем считать аномальным, 26785 руб.\\\n",
    "Больше этой суммы только 5% заказов."
   ]
  },
  {
   "cell_type": "markdown",
   "id": "fd5e65f3-6f57-4c6d-8b1b-a20d495218ff",
   "metadata": {},
   "source": [
    "## Статистическая значимость различий в среднем количестве заказов на посетителя между группами по «сырым» данным."
   ]
  },
  {
   "cell_type": "markdown",
   "id": "504a645d-810f-4b48-bc15-e3d26ffb1b66",
   "metadata": {},
   "source": [
    "Сформулируем гипотезы для обеих метрик.\n",
    "- Нулевая - различия метрик между группами нет.\n",
    "- Альтернативная - различия метрик между группами есть."
   ]
  },
  {
   "cell_type": "code",
   "execution_count": 76,
   "id": "e4d3e324-b3f8-4aab-9344-e25d93956586",
   "metadata": {},
   "outputs": [],
   "source": [
    "# создаём необходимые датафреймы\n",
    "visitorsADaily = visitors[visitors['group'] == 'A'][['date', 'visitors']]\n",
    "visitorsADaily.columns = ['date', 'visitorsPerDateA']\n",
    "\n",
    "visitorsACummulative = visitorsADaily.apply(\n",
    "    lambda x: visitorsADaily[visitorsADaily['date'] <= x['date']].agg(\n",
    "        {'date': 'max', 'visitorsPerDateA': 'sum'}), axis=1)\n",
    "visitorsACummulative.columns = ['date', 'visitorsCummulativeA']\n",
    "\n",
    "visitorsBDaily = visitors[visitors['group'] == 'B'][['date', 'visitors']]\n",
    "visitorsBDaily.columns = ['date', 'visitorsPerDateB']\n",
    "\n",
    "visitorsBCummulative = visitorsBDaily.apply(\n",
    "    lambda x: visitorsBDaily[visitorsBDaily['date'] <= x['date']].agg(\n",
    "        {'date': 'max', 'visitorsPerDateB': 'sum'}), axis=1)\n",
    "visitorsBCummulative.columns = ['date', 'visitorsCummulativeB']\n",
    "\n",
    "ordersADaily = (\n",
    "    orders[orders['group'] == 'A'][['date', 'transactionId', 'visitorId', 'revenue']]\n",
    "    .groupby('date', as_index=False)\n",
    "    .agg({'transactionId': pd.Series.nunique, 'revenue': 'sum'})\n",
    "               )\n",
    "ordersADaily.columns = ['date', 'ordersPerDateA', 'revenuePerDateA']\n",
    "\n",
    "ordersACummulative = ordersADaily.apply(\n",
    "    lambda x: ordersADaily[ordersADaily['date'] <= x['date']].agg(\n",
    "        {'date': 'max', 'ordersPerDateA': 'sum', 'revenuePerDateA': 'sum'}), axis=1).sort_values(by=['date'])\n",
    "ordersACummulative.columns = ['date', 'ordersCummulativeA','revenueCummulativeA']\n",
    "\n",
    "ordersBDaily = (\n",
    "    orders[orders['group'] == 'B'][['date', 'transactionId', 'visitorId', 'revenue']]\n",
    "    .groupby('date', as_index=False)\n",
    "    .agg({'transactionId': pd.Series.nunique, 'revenue': 'sum'})\n",
    "               )\n",
    "ordersBDaily.columns = ['date', 'ordersPerDateB', 'revenuePerDateB']\n",
    "\n",
    "ordersBCummulative = ordersBDaily.apply(\n",
    "    lambda x: ordersBDaily[ordersBDaily['date'] <= x['date']].agg(\n",
    "        {'date': 'max', 'ordersPerDateB': 'sum', 'revenuePerDateB': 'sum'}), axis=1).sort_values(by=['date'])\n",
    "ordersBCummulative.columns = ['date','ordersCummulativeB','revenueCummulativeB']\n",
    "\n",
    "# объединяем в один датафрейм\n",
    "data = (ordersADaily.merge(ordersBDaily, on='date', how='left')\n",
    "                    .merge(ordersACummulative, on='date', how='left')\n",
    "                    .merge(ordersBCummulative, on='date', how='left')\n",
    "                    .merge(visitorsADaily, on='date', how='left')\n",
    "                    .merge(visitorsBDaily, on='date', how='left')\n",
    "                    .merge(visitorsACummulative, on='date', how='left')\n",
    "                    .merge(visitorsBCummulative, on='date', how='left'))\n",
    "\n",
    "#print(data.head(5))"
   ]
  },
  {
   "cell_type": "code",
   "execution_count": 77,
   "id": "613e1fd5-57de-4f4d-9c97-0f8b2c6a450e",
   "metadata": {},
   "outputs": [],
   "source": [
    "# готовим выборки количества заказов по группам теста\n",
    "ordersByUsersA = (orders[orders['group'] == 'A']\n",
    "    .groupby('visitorId', as_index=False)\n",
    "    .agg({'transactionId': pd.Series.nunique}))\n",
    "ordersByUsersA.columns = ['visitorId', 'orders']\n",
    "\n",
    "ordersByUsersB = (orders[orders['group'] == 'B']\n",
    "    .groupby('visitorId', as_index=False)\n",
    "    .agg({'transactionId': pd.Series.nunique}))\n",
    "ordersByUsersB.columns = ['visitorId', 'orders']\n",
    "\n",
    "sampleA = pd.concat([ordersByUsersA['orders'], pd.Series(0,\n",
    "            index=np.arange(data['visitorsPerDateA'].sum() - len(ordersByUsersA['orders'])\n",
    "                           ), name='orders')], axis=0)\n",
    "\n",
    "sampleB = pd.concat([ordersByUsersB['orders'], pd.Series(0,\n",
    "            index=np.arange (data['visitorsPerDateB'].sum() - len(ordersByUsersB['orders'])\n",
    "                            ), name='orders')], axis=0)\n",
    "#sampleB"
   ]
  },
  {
   "cell_type": "code",
   "execution_count": 78,
   "id": "7a0d6ecf-bff4-4853-bf92-cfd9aba96d8b",
   "metadata": {},
   "outputs": [
    {
     "name": "stdout",
     "output_type": "stream",
     "text": [
      "p-значение: 0.011\n",
      "Относительное различие групп: 0.16\n",
      "\n",
      "Отвергаем нулевую гипотезу. Есть значимые различия средних количеств заказов между группами\n",
      "по \"сырым\" данным\n"
     ]
    }
   ],
   "source": [
    "# cчитаем статистику применяя статистический критерий Манна-Уитни\n",
    "p_value = stats.mannwhitneyu(sampleA, sampleB)[1]\n",
    "differenceBA = sampleB.mean() / sampleA.mean() - 1\n",
    "\n",
    "# выводим результаты\n",
    "alpha = 0.05\n",
    "print(f\"p-значение: {p_value:.3f}\")\n",
    "print(f\"Относительное различие групп: {differenceBA:.2f}\")\n",
    "print()\n",
    "if p_value < alpha:\n",
    "    print('Отвергаем нулевую гипотезу. Есть значимые различия средних количеств заказов между группами')\n",
    "else:\n",
    "    print('Не отвергаем нулевую гипотезу. Нет значимых различий средних количеств заказов между группами')\n",
    "print('по \"сырым\" данным')"
   ]
  },
  {
   "cell_type": "markdown",
   "id": "476507c7-392d-425c-8f49-c9788c258b0c",
   "metadata": {},
   "source": [
    "**Наблюдения**\\\n",
    "Есть значимое различие между средними количествами заказов по группам.\\\n",
    "**В группе В, по \"сырым\" данным, среднее количество заказов на одного посетителя на 16% выше.**"
   ]
  },
  {
   "cell_type": "markdown",
   "id": "fd1fd365-41b6-4dea-a158-28a216641803",
   "metadata": {},
   "source": [
    "## Cтатистическая значимость различий в среднем чеке заказа между группами по «сырым» данным."
   ]
  },
  {
   "cell_type": "code",
   "execution_count": 81,
   "id": "47695311-450a-4e0f-ac56-d93e6ca54638",
   "metadata": {},
   "outputs": [
    {
     "name": "stdout",
     "output_type": "stream",
     "text": [
      "p-значение: 0.829\n",
      "Относительное различие групп: 0.29\n",
      "\n",
      "Не отвергаем нулевую гипотезу. Нет значимых различий в средних чеках между группами.\n",
      "по \"сырым\" данным\n"
     ]
    }
   ],
   "source": [
    "# cчитаем статистику применяя статистический критерий Манна-Уитни\n",
    "p_value = stats.mannwhitneyu(orders[orders['group']=='A']['revenue'], orders[orders['group']=='B']['revenue'])[1]\n",
    "differenceBA = orders[orders['group']=='B']['revenue'].mean()/orders[orders['group']=='A']['revenue'].mean()-1\n",
    "\n",
    "# выводим результаты\n",
    "alpha = 0.05\n",
    "print(f\"p-значение: {p_value:.3f}\")\n",
    "print(f\"Относительное различие групп: {differenceBA:.2f}\")\n",
    "print()\n",
    "if p_value < alpha:\n",
    "    print('Отвергаем нулевую гипотезу. Есть значимые различия в средних чеках между группами.')\n",
    "else:\n",
    "    print('Не отвергаем нулевую гипотезу. Нет значимых различий в средних чеках между группами.')\n",
    "print('по \"сырым\" данным')"
   ]
  },
  {
   "cell_type": "markdown",
   "id": "400e17f1-20de-4688-b700-32d42c66e532",
   "metadata": {},
   "source": [
    "**Наблюдения**\\\n",
    "По \"сырым\" данным разница между группами по среднему чеку составляет 29% в пользу нруппы В\\\n",
    "Однако эта разница не является статистически значимой и не выходит за пределы случайных отклонений.\\\n",
    "**В группе В, по \"сырым\" данным, средний чек не отличается от группы А.**"
   ]
  },
  {
   "cell_type": "markdown",
   "id": "18882976-3771-404a-b4e3-c55dfbe943d7",
   "metadata": {},
   "source": [
    "## Статистическая значимость различий в среднем количестве заказов на посетителя между группами по «очищенным» данным."
   ]
  },
  {
   "cell_type": "code",
   "execution_count": 84,
   "id": "5532bdf8-012c-4d73-b3a4-60cadc93cbac",
   "metadata": {},
   "outputs": [],
   "source": [
    "# собираем посетителей с аномальными данными в датафрейм abnormalUsers\n",
    "usersWithManyOrders = pd.concat(\n",
    "    [ordersByUsersA[ordersByUsersA['orders'] > 2]['visitorId'],\n",
    "        ordersByUsersB[ordersByUsersB['orders'] > 2]['visitorId']], axis=0)\n",
    "\n",
    "usersWithExpensiveOrders = orders[orders['revenue'] > 26785]['visitorId']\n",
    "\n",
    "abnormalUsers = (\n",
    "    pd.concat([usersWithManyOrders, usersWithExpensiveOrders], axis=0)\n",
    "    .drop_duplicates().sort_values()\n",
    "                )\n",
    "\n",
    "# выделяем \"очищенные\" группы А и В\n",
    "sampleAFiltered = pd.concat(\n",
    "            [ordersByUsersA[\n",
    "             np.logical_not(ordersByUsersA['visitorId'].isin(abnormalUsers))]['orders'],\n",
    "             pd.Series(0, index=np.arange(\n",
    "                 data['visitorsPerDateA'].sum() - len(ordersByUsersA['orders'])), name='orders')], axis=0\n",
    "                           )\n",
    "\n",
    "sampleBFiltered = pd.concat(\n",
    "            [ordersByUsersB[\n",
    "             np.logical_not(ordersByUsersB['visitorId'].isin(abnormalUsers))]['orders'],\n",
    "             pd.Series(0, index=np.arange(\n",
    "                 data['visitorsPerDateB'].sum() - len(ordersByUsersB['orders'])),name='orders')],axis=0\n",
    "                           )"
   ]
  },
  {
   "cell_type": "code",
   "execution_count": 85,
   "id": "3a4f181a-9d83-4968-af2f-dac40dcb3d0d",
   "metadata": {},
   "outputs": [
    {
     "name": "stdout",
     "output_type": "stream",
     "text": [
      "p-значение: 0.012\n",
      "Относительное различие групп: 0.182\n",
      "\n",
      "Отклоняем нулевую гипотезу. Есть значимые различия средних количеств заказов между группами\n",
      "по \"очищенным\" данным\n"
     ]
    }
   ],
   "source": [
    "# cчитаем статистику применяя статистический критерий Манна-Уитни и выводим результаты\n",
    "\n",
    "p_value = stats.mannwhitneyu(sampleAFiltered, sampleBFiltered)[1]\n",
    "differenceBA = sampleBFiltered.mean() / sampleAFiltered.mean() - 1\n",
    "\n",
    "alpha = 0.05\n",
    "print(f\"p-значение: {p_value:.3f}\")\n",
    "print(f\"Относительное различие групп: {differenceBA:.3f}\")\n",
    "print()\n",
    "if p_value < alpha:\n",
    "    print('Отклоняем нулевую гипотезу. Есть значимые различия средних количеств заказов между группами')\n",
    "else:\n",
    "    print('Не удаётся отклонить нулевую гипотезу. Нет значимых различий средних количеств заказов между группами')\n",
    "print('по \"очищенным\" данным')"
   ]
  },
  {
   "cell_type": "markdown",
   "id": "40c78fed-270d-48eb-aa1d-8a0cfb4142c4",
   "metadata": {},
   "source": [
    "**Наблюдения**\\\n",
    "**Имеется разница между группами по среднему количеству заказов в пользу нруппы В.**\\\n",
    "По \"очищенным\" данным она составляет 18%, что больше, чем по \"сырым\" данным (16%)."
   ]
  },
  {
   "cell_type": "markdown",
   "id": "915b59da-9870-4371-ae0e-7b74feed520d",
   "metadata": {},
   "source": [
    "## Статистическая значимость различий в среднем чеке заказа между группами по «очищенным» данным."
   ]
  },
  {
   "cell_type": "code",
   "execution_count": 88,
   "id": "0eb6c2ac-f172-4c64-a304-8c68c26e2b1d",
   "metadata": {},
   "outputs": [
    {
     "name": "stdout",
     "output_type": "stream",
     "text": [
      "p-значение: 0.646\n",
      "Относительное различие групп: -0.048\n",
      "\n",
      "Не отвергаем нулевую гипотезу. Нет значимых различий в средних чеках между группами.\n",
      "по \"очищенным\" данным\n"
     ]
    }
   ],
   "source": [
    "# cчитаем статистику применяя статистический критерий Манна-Уитни\n",
    "p_value = (\n",
    "            stats.mannwhitneyu(\n",
    "            orders[np.logical_and(orders['group'] == 'A',\n",
    "                    np.logical_not(orders['visitorId'].isin(abnormalUsers)))]['revenue'],\n",
    "            orders[np.logical_and(orders['group'] == 'B',\n",
    "                    np.logical_not(orders['visitorId'].isin(abnormalUsers)))]['revenue'])[1]\n",
    "          )  \n",
    "\n",
    "\n",
    "differenceBA = (\n",
    "                orders[np.logical_and(\n",
    "                orders['group'] == 'B',\n",
    "                np.logical_not(orders['visitorId'].isin(abnormalUsers)))]['revenue'].mean()\n",
    "              / orders[np.logical_and(\n",
    "                orders['group'] == 'A',\n",
    "                np.logical_not(orders['visitorId'].isin(abnormalUsers)))]['revenue'].mean()- 1\n",
    "               )\n",
    "\n",
    "# выводим результаты\n",
    "alpha = 0.05\n",
    "print(f\"p-значение: {p_value:.3f}\")\n",
    "print(f\"Относительное различие групп: {differenceBA:.3f}\")\n",
    "print()\n",
    "if p_value < alpha:\n",
    "    print('Отвергаем нулевую гипотезу. Есть значимые различия в средних чеках между группами.')\n",
    "else:\n",
    "    print('Не отвергаем нулевую гипотезу. Нет значимых различий в средних чеках между группами.')\n",
    "print('по \"очищенным\" данным')"
   ]
  },
  {
   "cell_type": "markdown",
   "id": "a2af00e9-9f87-41db-9962-5341ed4515ce",
   "metadata": {},
   "source": [
    "**Наблюдения**\\\n",
    "По \"очищенным\" данным разница между группами по среднему чеку составляет 4,8% в пользу нруппы А.\\\n",
    "Эта разница не является статистически значимой и находится в пределах случайных отклонений.\\\n",
    "**В группе В, по \"очищенным\" данным, средний чек НЕ отличается от группы А.**"
   ]
  },
  {
   "cell_type": "markdown",
   "id": "e627f70f-ef0e-4905-a968-5936728b5818",
   "metadata": {},
   "source": [
    "<div style=\"background-color: #99FFFF; padding: 10px;\">"
   ]
  },
  {
   "cell_type": "markdown",
   "id": "7b028898-6806-430d-b10b-ad22489d46ab",
   "metadata": {},
   "source": [
    "# A/B-тест -- итоги и выводы"
   ]
  },
  {
   "cell_type": "markdown",
   "id": "ca678e65-1277-4c3d-8d07-9ebb963714dc",
   "metadata": {},
   "source": [
    "**Качество данных:**\n",
    "- Группы теста не равны по объёму.\n",
    "- Есть группа клиентов, попавшая в обе группы.\n",
    "\n",
    "Это говорит о том, что тест не был подготовлен тщательным образом, не был проведён АА-тест.\\\n",
    "Можно рекомендовать доработать техническую реализацию теста и  провести тест повторно на других посетителях.\n",
    "\n",
    "Но, тем не менее, анализ был осуществлён на основе тех ланных, которые бали получены после их очистки."
   ]
  },
  {
   "cell_type": "markdown",
   "id": "8f44a658-67af-427f-a72f-064143521fff",
   "metadata": {},
   "source": [
    "**Итоги:**\\\n",
    "**среднее количество заказов на одного посетителя**\n",
    "- по \"сырым\" данным -- группа В > группы А на 16%\n",
    "- по \"очищенным\" данным -- группа В > группы А на 18%\n",
    "\n",
    "**средний чек**\n",
    "- по \"сырым\" данным -- группа В = группе А\n",
    "- по \"очищенным\" данным -- группа В = группе А\n",
    "  "
   ]
  },
  {
   "cell_type": "markdown",
   "id": "aa202c88-e7ff-4b21-bb9f-143c72126c0c",
   "metadata": {},
   "source": [
    "**Вывод:**\n",
    "> Мы знаем, что в расчётах использовался уровень ошибки первого рода (вероятность обнаружить отличия, когда их нет) в 5%.\\\n",
    "> Однако мы не знаем уровень ошибки втоого рода (вероятность не обнаружить отличия, когда они есть), применённый при определении объёма выборки. Поэтому в анализе результатов предположим уровень ошибки второго рода на уровне 20%..\n",
    "\n",
    "Таким образом, можно утверждать, что тестируемые изменения привели к росту количества заказов на одного посетителя на 17,3% (с вероятностью ошибки 5%)\\\n",
    "и не повлияли на средний чек (с вероятностью ошибки до 20%)."
   ]
  },
  {
   "cell_type": "markdown",
   "id": "dbd99b47-db4c-4923-ac00-f5105f3e02e0",
   "metadata": {},
   "source": [
    "**Решение:**\\\n",
    "Остановить тест, зафиксировать победу группы В по показателю \"Количество заказов на одного посетителя\".\\\n",
    "При этом показатель \"Средний чек\" в группах А и В не имеет значимых различий.\n"
   ]
  }
 ],
 "metadata": {
  "kernelspec": {
   "display_name": "Python 3 (ipykernel)",
   "language": "python",
   "name": "python3"
  },
  "language_info": {
   "codemirror_mode": {
    "name": "ipython",
    "version": 3
   },
   "file_extension": ".py",
   "mimetype": "text/x-python",
   "name": "python",
   "nbconvert_exporter": "python",
   "pygments_lexer": "ipython3",
   "version": "3.11.11"
  },
  "toc": {
   "base_numbering": 1,
   "nav_menu": {},
   "number_sections": true,
   "sideBar": true,
   "skip_h1_title": true,
   "title_cell": "Table of Contents",
   "title_sidebar": "Contents",
   "toc_cell": false,
   "toc_position": {},
   "toc_section_display": true,
   "toc_window_display": false
  }
 },
 "nbformat": 4,
 "nbformat_minor": 5
}
