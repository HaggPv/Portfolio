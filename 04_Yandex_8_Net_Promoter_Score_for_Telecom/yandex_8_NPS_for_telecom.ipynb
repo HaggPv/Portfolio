{
 "cells": [
  {
   "cell_type": "markdown",
   "id": "243a32c8",
   "metadata": {},
   "source": [
    "# Уровень потребительской лояльности (NPS -  Net Promoter Score)"
   ]
  },
  {
   "cell_type": "markdown",
   "id": "bc32b843",
   "metadata": {},
   "source": [
    "**ОПИСАНИЕ ПРОЕКТА**\n",
    "\n",
    "**Источник данных**: телекоммуникационная компания, которая оказывает услуги на территории всего СНГ.\\\n",
    "**Задача**:\n",
    "- Определить текущий уровень потребительской лояльности, или NPS (Net Promoter Score), среди клиентов из России на основании проведённого опроса.\n",
    "- Выявить наиболее и наименее лояльные группы пользователей.\n",
    "- Охарактеризовать клиентов, которые относятся к группе cторонников (promoters).\n",
    "\n",
    ">*Для работы использована часть базы данных предварительно выгруженая в SQLite*. "
   ]
  },
  {
   "cell_type": "markdown",
   "id": "f8470b42",
   "metadata": {},
   "source": [
    "**Формат представления результатов - дашборды tableau**\n",
    "\n",
    ">- Дашборды должны упроcтить менеджерам работу с данными. Удобство и вариативность получения информации стали главными ориентирами в работе над проектом.\n",
    ">- Дашборды сделаны независимыми - настройки одного дашборда не влияют на другой, несмотря на наличие функционально одинаковых элементов.\n"
   ]
  },
  {
   "cell_type": "markdown",
   "id": "97e2f8b3",
   "metadata": {},
   "source": [
    "**<p style=\"color: #0000FF;\">[Ссылка на дашборды (tableau)](https://public.tableau.com/views/NetPromoterScoreforTelecom/NPSstudy?:language=en-US&:sid=&:redirect=auth&:display_count=n&:origin=viz_share_link)</p>**\n",
    "\n",
    "Ниже в блокноте:\n",
    "- формирование датасета для tableau (SQL),\n",
    "- переименование сегментов клиентов в некоторых категориальных полях в более удобные для презентации (Python), \n",
    "- проверка итогового csv датасета (Python),\n",
    "- очистка данных. Выявлен дефект - отрицательные значения днеё \"жизни клиента\" в 13 строках. Из-за незначительности количества дефектных строк, они были удалены на уровне SQL-запроса."
   ]
  },
  {
   "cell_type": "code",
   "execution_count": 1,
   "id": "fc7efa54",
   "metadata": {},
   "outputs": [],
   "source": [
    "import os\n",
    "import pandas as pd\n",
    "import numpy as np\n",
    "\n",
    "from sqlalchemy import create_engine"
   ]
  },
  {
   "cell_type": "code",
   "execution_count": 2,
   "id": "0017f8e7",
   "metadata": {},
   "outputs": [],
   "source": [
    "path_to_db_local = 'telecomm_csi.db'\n",
    "path_to_db_platform = '/datasets/telecomm_csi.db'\n",
    "path_to_db = None\n",
    "\n",
    "if os.path.exists(path_to_db_local):\n",
    "    path_to_db = path_to_db_local\n",
    "elif os.path.exists(path_to_db_platform):\n",
    "    path_to_db = path_to_db_platform\n",
    "else:\n",
    "    raise Exception('Файл с базой данных SQLite не найден!')\n",
    "\n",
    "if path_to_db:\n",
    "    engine = create_engine(f'sqlite:///{path_to_db}', echo=False)"
   ]
  },
  {
   "cell_type": "code",
   "execution_count": 3,
   "id": "c0728ae8",
   "metadata": {},
   "outputs": [],
   "source": [
    "# Формируем датасет для построения дашботда\n",
    "\n",
    "# Создаём поле с информацией о том, является ли клиент новым (количество дней «жизни» не более 365)\n",
    "# Категориальные поля преобразуем в текстовый вид.\n",
    "# Результаты опроса, оценки делим на три группы.\n",
    "# Присоединяем к полям из таблицы user необходимые поля из других таблиц.\n",
    "\n",
    "query = \"\"\"\n",
    "SELECT user_id,\n",
    "       lt_day,\n",
    "       CASE\n",
    "           WHEN lt_day <= 365 THEN 'новые'\n",
    "           WHEN lt_day > 365 THEN 'старые'\n",
    "       END AS is_new,\n",
    "       age,\n",
    "       \n",
    "       CASE\n",
    "           WHEN gender_segment = 0 THEN 'мужчины'\n",
    "           WHEN gender_segment = 1 THEN 'женщины'\n",
    "           ELSE 'нет данных'\n",
    "       END AS gender_segment,\n",
    "       \n",
    "       os_name,\n",
    "       cpe_type_name,\n",
    "       location.country,\n",
    "       location.city,\n",
    "       CAST(age_segment.title AS char(10)) AS age_segment,\n",
    "       CAST(traffic_segment.title AS char(10)) AS traffic_segment,\n",
    "       CAST(lifetime_segment.title AS char(10)) AS lifetime_segment,\n",
    "       nps_score,\n",
    "       CASE\n",
    "           WHEN nps_score <= 6 THEN 'критики'\n",
    "           WHEN nps_score >= 7 AND nps_score <= 8 THEN 'нейтралы'\n",
    "           WHEN nps_score >= 9 THEN 'сторонники'\n",
    "       END AS nps_group\n",
    "       \n",
    "FROM user\n",
    "LEFT JOIN location         ON user.location_id = location.location_id\n",
    "LEFT JOIN age_segment      ON user.age_gr_id   = age_segment.age_gr_id\n",
    "LEFT JOIN traffic_segment  ON user.tr_gr_id    = traffic_segment.tr_gr_id\n",
    "LEFT JOIN lifetime_segment ON user.lt_gr_id    = lifetime_segment.lt_gr_id\n",
    "\n",
    "WHERE user.lt_day >= 0\n",
    ";\n",
    "\"\"\""
   ]
  },
  {
   "cell_type": "code",
   "execution_count": 4,
   "id": "c22d8f6c",
   "metadata": {},
   "outputs": [],
   "source": [
    "df = pd.read_sql(query, engine)\n",
    "#df.head(3)"
   ]
  },
  {
   "cell_type": "markdown",
   "id": "682163d4",
   "metadata": {},
   "source": [
    "<div class=\"alert alert-success\" style=\"background-color:#90EE90;\">\n",
    "</div>"
   ]
  },
  {
   "cell_type": "code",
   "execution_count": 5,
   "id": "a6d89d84",
   "metadata": {
    "scrolled": true
   },
   "outputs": [
    {
     "data": {
      "text/plain": [
       "(502480, 14)"
      ]
     },
     "execution_count": 5,
     "metadata": {},
     "output_type": "execute_result"
    }
   ],
   "source": [
    "# Контролируем объём таблицы на каждома этапе добавления кода SQL\n",
    "df.shape"
   ]
  },
  {
   "cell_type": "code",
   "execution_count": 6,
   "id": "ae7b5cbc",
   "metadata": {},
   "outputs": [],
   "source": [
    "# Преобразуем названия сегментов для целей презентации.\n",
    "\n",
    "# Разбиваем строку по пробелу, затем добавляем только элементы от 1 (с пробелом), т.е создаём новый список.\n",
    "def ext_segment(row):   \n",
    "    element = row.split(' ')\n",
    "    return ' '.join(element[1:])\n",
    "\n",
    "# Создаём для удобства новую переменну. и применяем функцию к интересующим столбцам\n",
    "df_ext = df\n",
    "df_ext['age_segment'] = df_ext['age_segment'].apply(ext_segment)\n",
    "df_ext['traffic_segment'] = df_ext['traffic_segment'].apply(ext_segment)\n",
    "df_ext['lifetime_segment'] = df_ext['lifetime_segment'].apply(ext_segment)\n",
    "\n",
    "#df_ext.sample(5)"
   ]
  },
  {
   "cell_type": "code",
   "execution_count": 7,
   "id": "3b1c7c9e",
   "metadata": {},
   "outputs": [
    {
     "data": {
      "text/plain": [
       "(0, 14)"
      ]
     },
     "execution_count": 7,
     "metadata": {},
     "output_type": "execute_result"
    }
   ],
   "source": [
    "# Контроль после корректировки данных\n",
    "\n",
    "#df_ext['age_segment'].value_counts()\n",
    "#df_ext['traffic_segment'].value_counts()\n",
    "#df_ext['lifetime_segment'].value_counts()\n",
    "#df_ext['is_new'].value_counts()\n",
    "\n",
    "df_defect = df_ext[df_ext['lt_day'] < 0]\n",
    "df_defect.shape"
   ]
  },
  {
   "cell_type": "code",
   "execution_count": 8,
   "id": "9db04858",
   "metadata": {},
   "outputs": [],
   "source": [
    "# Сохраняем переменную в файл csv\n",
    "df_ext.to_csv('telecom_tableau.csv', index=False)"
   ]
  },
  {
   "cell_type": "code",
   "execution_count": 9,
   "id": "3871627d",
   "metadata": {},
   "outputs": [
    {
     "name": "stdout",
     "output_type": "stream",
     "text": [
      "<class 'pandas.core.frame.DataFrame'>\n",
      "RangeIndex: 502480 entries, 0 to 502479\n",
      "Data columns (total 14 columns):\n",
      " #   Column            Non-Null Count   Dtype  \n",
      "---  ------            --------------   -----  \n",
      " 0   user_id           502480 non-null  object \n",
      " 1   lt_day            502480 non-null  int64  \n",
      " 2   is_new            502480 non-null  object \n",
      " 3   age               501939 non-null  float64\n",
      " 4   gender_segment    502480 non-null  object \n",
      " 5   os_name           502480 non-null  object \n",
      " 6   cpe_type_name     502480 non-null  object \n",
      " 7   country           502480 non-null  object \n",
      " 8   city              502480 non-null  object \n",
      " 9   age_segment       501939 non-null  object \n",
      " 10  traffic_segment   502480 non-null  object \n",
      " 11  lifetime_segment  502480 non-null  object \n",
      " 12  nps_score         502480 non-null  int64  \n",
      " 13  nps_group         502480 non-null  object \n",
      "dtypes: float64(1), int64(2), object(11)\n",
      "memory usage: 53.7+ MB\n"
     ]
    }
   ],
   "source": [
    "# Проверяем сохранённый для tableau файл csv\n",
    "\n",
    "df2 = pd.read_csv ('telecom_tableau.csv')\n",
    "#display (df2.sample(5))\n",
    "df2.info()"
   ]
  }
 ],
 "metadata": {
  "ExecuteTimeLog": [
   {
    "duration": 450,
    "start_time": "2024-06-28T18:44:52.309Z"
   },
   {
    "duration": 73,
    "start_time": "2024-06-28T18:44:52.761Z"
   },
   {
    "duration": 3,
    "start_time": "2024-06-28T18:44:52.836Z"
   },
   {
    "duration": 432,
    "start_time": "2024-06-28T18:44:52.840Z"
   },
   {
    "duration": 0,
    "start_time": "2024-06-28T18:44:53.274Z"
   },
   {
    "duration": 435,
    "start_time": "2024-06-29T09:01:14.064Z"
   },
   {
    "duration": 66,
    "start_time": "2024-06-29T09:01:14.501Z"
   },
   {
    "duration": 3,
    "start_time": "2024-06-29T09:01:14.568Z"
   },
   {
    "duration": 704,
    "start_time": "2024-06-29T09:01:14.574Z"
   },
   {
    "duration": 0,
    "start_time": "2024-06-29T09:01:15.279Z"
   },
   {
    "duration": 0,
    "start_time": "2024-06-29T09:01:15.280Z"
   },
   {
    "duration": 3,
    "start_time": "2024-06-29T09:02:34.095Z"
   },
   {
    "duration": 3,
    "start_time": "2024-06-29T09:02:50.447Z"
   },
   {
    "duration": 614,
    "start_time": "2024-06-29T09:02:51.189Z"
   },
   {
    "duration": 2,
    "start_time": "2024-06-29T09:03:51.182Z"
   },
   {
    "duration": 3567,
    "start_time": "2024-06-29T09:03:54.717Z"
   },
   {
    "duration": 3261,
    "start_time": "2024-06-29T09:04:10.143Z"
   },
   {
    "duration": 2,
    "start_time": "2024-06-29T09:05:27.842Z"
   },
   {
    "duration": 3209,
    "start_time": "2024-06-29T09:05:30.019Z"
   },
   {
    "duration": 3144,
    "start_time": "2024-06-29T09:06:30.711Z"
   },
   {
    "duration": 3318,
    "start_time": "2024-06-29T09:06:42.968Z"
   },
   {
    "duration": 3275,
    "start_time": "2024-06-29T09:07:05.371Z"
   },
   {
    "duration": 3288,
    "start_time": "2024-06-29T09:07:17.930Z"
   },
   {
    "duration": 3488,
    "start_time": "2024-06-29T09:07:58.813Z"
   },
   {
    "duration": 4,
    "start_time": "2024-06-29T09:09:08.184Z"
   },
   {
    "duration": 4,
    "start_time": "2024-06-29T09:12:23.578Z"
   },
   {
    "duration": 2,
    "start_time": "2024-06-29T09:57:31.882Z"
   },
   {
    "duration": 6431,
    "start_time": "2024-06-29T09:57:35.904Z"
   },
   {
    "duration": 4,
    "start_time": "2024-06-29T10:00:10.115Z"
   },
   {
    "duration": 3,
    "start_time": "2024-06-29T10:05:36.215Z"
   },
   {
    "duration": 3,
    "start_time": "2024-06-29T10:21:47.939Z"
   },
   {
    "duration": 4529,
    "start_time": "2024-06-29T10:21:51.401Z"
   },
   {
    "duration": 4,
    "start_time": "2024-06-29T10:21:57.695Z"
   },
   {
    "duration": 4,
    "start_time": "2024-06-29T10:22:06.289Z"
   },
   {
    "duration": 3,
    "start_time": "2024-06-29T10:23:50.141Z"
   },
   {
    "duration": 4663,
    "start_time": "2024-06-29T10:23:57.996Z"
   },
   {
    "duration": 3,
    "start_time": "2024-06-29T10:24:03.115Z"
   },
   {
    "duration": 3,
    "start_time": "2024-06-29T10:26:05.577Z"
   },
   {
    "duration": 442,
    "start_time": "2024-06-29T10:28:36.673Z"
   },
   {
    "duration": 49,
    "start_time": "2024-06-29T10:28:37.117Z"
   },
   {
    "duration": 3,
    "start_time": "2024-06-29T10:28:37.167Z"
   },
   {
    "duration": 4638,
    "start_time": "2024-06-29T10:28:37.172Z"
   },
   {
    "duration": 4,
    "start_time": "2024-06-29T10:28:41.811Z"
   },
   {
    "duration": 6,
    "start_time": "2024-06-29T10:28:41.816Z"
   },
   {
    "duration": 3904,
    "start_time": "2024-06-29T10:28:41.823Z"
   },
   {
    "duration": 2,
    "start_time": "2024-06-29T10:29:07.106Z"
   },
   {
    "duration": 4580,
    "start_time": "2024-06-29T10:29:32.449Z"
   },
   {
    "duration": 1322,
    "start_time": "2024-06-29T10:36:54.199Z"
   },
   {
    "duration": 1270,
    "start_time": "2024-06-29T10:40:32.922Z"
   },
   {
    "duration": 498,
    "start_time": "2024-06-29T11:05:49.984Z"
   },
   {
    "duration": 61,
    "start_time": "2024-06-29T11:05:50.484Z"
   },
   {
    "duration": 3,
    "start_time": "2024-06-29T11:05:50.546Z"
   },
   {
    "duration": 4615,
    "start_time": "2024-06-29T11:05:50.550Z"
   },
   {
    "duration": 3,
    "start_time": "2024-06-29T11:05:55.166Z"
   },
   {
    "duration": 8,
    "start_time": "2024-06-29T11:05:55.170Z"
   },
   {
    "duration": 3707,
    "start_time": "2024-06-29T11:05:55.179Z"
   },
   {
    "duration": 1378,
    "start_time": "2024-06-29T11:05:58.887Z"
   },
   {
    "duration": 516,
    "start_time": "2024-06-29T11:30:41.514Z"
   },
   {
    "duration": 49,
    "start_time": "2024-06-29T11:30:42.033Z"
   },
   {
    "duration": 3,
    "start_time": "2024-06-29T11:30:42.084Z"
   },
   {
    "duration": 4621,
    "start_time": "2024-06-29T11:30:42.089Z"
   },
   {
    "duration": 4,
    "start_time": "2024-06-29T11:30:46.711Z"
   },
   {
    "duration": 11,
    "start_time": "2024-06-29T11:30:46.716Z"
   },
   {
    "duration": 4028,
    "start_time": "2024-06-29T11:30:46.728Z"
   },
   {
    "duration": 1322,
    "start_time": "2024-06-29T11:30:50.758Z"
   },
   {
    "duration": 3,
    "start_time": "2024-06-29T11:49:15.879Z"
   },
   {
    "duration": 4500,
    "start_time": "2024-06-29T11:49:18.342Z"
   },
   {
    "duration": 3,
    "start_time": "2024-06-29T11:49:29.143Z"
   },
   {
    "duration": 3,
    "start_time": "2024-06-29T11:49:31.351Z"
   },
   {
    "duration": 3886,
    "start_time": "2024-06-29T11:49:32.648Z"
   },
   {
    "duration": 1386,
    "start_time": "2024-06-29T11:49:36.535Z"
   },
   {
    "duration": 13,
    "start_time": "2024-06-29T11:54:15.695Z"
   },
   {
    "duration": 399,
    "start_time": "2024-06-29T11:54:24.914Z"
   },
   {
    "duration": 392,
    "start_time": "2024-06-29T11:55:59.727Z"
   },
   {
    "duration": 403,
    "start_time": "2024-06-29T11:56:54.710Z"
   },
   {
    "duration": 440,
    "start_time": "2024-06-29T11:57:16.965Z"
   },
   {
    "duration": 49,
    "start_time": "2024-06-29T11:57:17.408Z"
   },
   {
    "duration": 4,
    "start_time": "2024-06-29T11:57:17.458Z"
   },
   {
    "duration": 4751,
    "start_time": "2024-06-29T11:57:17.464Z"
   },
   {
    "duration": 408,
    "start_time": "2024-06-29T11:57:22.216Z"
   },
   {
    "duration": 2,
    "start_time": "2024-06-29T11:57:22.626Z"
   },
   {
    "duration": 3938,
    "start_time": "2024-06-29T11:57:22.629Z"
   },
   {
    "duration": 1508,
    "start_time": "2024-06-29T11:57:26.568Z"
   },
   {
    "duration": 3,
    "start_time": "2024-06-29T11:58:41.651Z"
   },
   {
    "duration": 1444,
    "start_time": "2024-06-29T11:59:42.379Z"
   },
   {
    "duration": 504,
    "start_time": "2024-06-29T12:00:23.209Z"
   },
   {
    "duration": 48,
    "start_time": "2024-06-29T12:00:23.715Z"
   },
   {
    "duration": 3,
    "start_time": "2024-06-29T12:00:23.764Z"
   },
   {
    "duration": 4604,
    "start_time": "2024-06-29T12:00:23.769Z"
   },
   {
    "duration": 3,
    "start_time": "2024-06-29T12:00:28.375Z"
   },
   {
    "duration": 55,
    "start_time": "2024-06-29T12:00:28.379Z"
   },
   {
    "duration": 3856,
    "start_time": "2024-06-29T12:00:28.436Z"
   },
   {
    "duration": 1635,
    "start_time": "2024-06-29T12:00:32.293Z"
   },
   {
    "duration": 3,
    "start_time": "2024-06-29T12:05:01.183Z"
   },
   {
    "duration": 4549,
    "start_time": "2024-06-29T12:05:06.199Z"
   },
   {
    "duration": 3,
    "start_time": "2024-06-29T12:05:18.880Z"
   },
   {
    "duration": 2,
    "start_time": "2024-06-29T12:05:20.159Z"
   },
   {
    "duration": 3976,
    "start_time": "2024-06-29T12:05:20.901Z"
   },
   {
    "duration": 1522,
    "start_time": "2024-06-29T12:05:24.879Z"
   },
   {
    "duration": 510,
    "start_time": "2024-06-29T12:12:25.598Z"
   },
   {
    "duration": 51,
    "start_time": "2024-06-29T12:12:26.110Z"
   },
   {
    "duration": 4,
    "start_time": "2024-06-29T12:12:26.163Z"
   },
   {
    "duration": 4698,
    "start_time": "2024-06-29T12:12:26.169Z"
   },
   {
    "duration": 3,
    "start_time": "2024-06-29T12:12:30.868Z"
   },
   {
    "duration": 51,
    "start_time": "2024-06-29T12:12:30.872Z"
   },
   {
    "duration": 3810,
    "start_time": "2024-06-29T12:12:30.925Z"
   },
   {
    "duration": 1477,
    "start_time": "2024-06-29T12:12:34.736Z"
   },
   {
    "duration": 64,
    "start_time": "2024-06-29T15:22:53.430Z"
   },
   {
    "duration": 4,
    "start_time": "2024-06-29T15:23:13.879Z"
   },
   {
    "duration": 89,
    "start_time": "2024-06-29T15:23:23.433Z"
   },
   {
    "duration": 172,
    "start_time": "2024-06-29T15:31:55.642Z"
   },
   {
    "duration": 3824,
    "start_time": "2024-06-29T15:31:59.233Z"
   },
   {
    "duration": 289,
    "start_time": "2024-06-29T15:32:29.250Z"
   },
   {
    "duration": 568,
    "start_time": "2024-06-29T15:41:56.337Z"
   },
   {
    "duration": 254,
    "start_time": "2024-06-29T15:43:29.839Z"
   },
   {
    "duration": 265,
    "start_time": "2024-06-29T15:43:53.513Z"
   },
   {
    "duration": 254,
    "start_time": "2024-06-29T15:44:23.194Z"
   },
   {
    "duration": 485,
    "start_time": "2024-06-29T15:44:38.593Z"
   },
   {
    "duration": 52,
    "start_time": "2024-06-29T15:44:39.080Z"
   },
   {
    "duration": 3,
    "start_time": "2024-06-29T15:44:39.133Z"
   },
   {
    "duration": 4554,
    "start_time": "2024-06-29T15:44:39.137Z"
   },
   {
    "duration": 2,
    "start_time": "2024-06-29T15:44:43.693Z"
   },
   {
    "duration": 106,
    "start_time": "2024-06-29T15:44:43.696Z"
   },
   {
    "duration": 212,
    "start_time": "2024-06-29T15:44:43.803Z"
   },
   {
    "duration": 4046,
    "start_time": "2024-06-29T15:44:44.016Z"
   },
   {
    "duration": 1446,
    "start_time": "2024-06-29T15:44:48.064Z"
   },
   {
    "duration": 202,
    "start_time": "2024-06-29T15:46:19.530Z"
   },
   {
    "duration": 326,
    "start_time": "2024-06-29T15:47:44.798Z"
   },
   {
    "duration": 273,
    "start_time": "2024-06-29T15:48:30.747Z"
   },
   {
    "duration": 53,
    "start_time": "2024-06-29T15:49:20.822Z"
   },
   {
    "duration": 43,
    "start_time": "2024-06-29T15:49:58.889Z"
   },
   {
    "duration": 48,
    "start_time": "2024-06-29T15:50:12.474Z"
   },
   {
    "duration": 298,
    "start_time": "2024-06-29T15:50:54.807Z"
   },
   {
    "duration": 310,
    "start_time": "2024-06-29T15:52:14.974Z"
   },
   {
    "duration": 503,
    "start_time": "2024-06-29T15:52:30.778Z"
   },
   {
    "duration": 49,
    "start_time": "2024-06-29T15:52:31.282Z"
   },
   {
    "duration": 3,
    "start_time": "2024-06-29T15:52:31.333Z"
   },
   {
    "duration": 4636,
    "start_time": "2024-06-29T15:52:31.338Z"
   },
   {
    "duration": 3,
    "start_time": "2024-06-29T15:52:35.976Z"
   },
   {
    "duration": 104,
    "start_time": "2024-06-29T15:52:35.981Z"
   },
   {
    "duration": 216,
    "start_time": "2024-06-29T15:52:36.087Z"
   },
   {
    "duration": 4569,
    "start_time": "2024-06-29T15:52:36.305Z"
   },
   {
    "duration": 1669,
    "start_time": "2024-06-29T15:52:40.875Z"
   },
   {
    "duration": 311,
    "start_time": "2024-06-29T15:53:09.703Z"
   },
   {
    "duration": 455,
    "start_time": "2024-06-29T15:53:20.163Z"
   },
   {
    "duration": 49,
    "start_time": "2024-06-29T15:53:20.620Z"
   },
   {
    "duration": 3,
    "start_time": "2024-06-29T15:53:20.670Z"
   },
   {
    "duration": 4607,
    "start_time": "2024-06-29T15:53:20.674Z"
   },
   {
    "duration": 3,
    "start_time": "2024-06-29T15:53:25.284Z"
   },
   {
    "duration": 102,
    "start_time": "2024-06-29T15:53:25.289Z"
   },
   {
    "duration": 342,
    "start_time": "2024-06-29T15:53:25.392Z"
   },
   {
    "duration": 0,
    "start_time": "2024-06-29T15:53:25.735Z"
   },
   {
    "duration": 0,
    "start_time": "2024-06-29T15:53:25.736Z"
   },
   {
    "duration": 542,
    "start_time": "2024-06-29T15:53:45.554Z"
   },
   {
    "duration": 50,
    "start_time": "2024-06-29T15:55:48.921Z"
   },
   {
    "duration": 49,
    "start_time": "2024-06-29T15:56:07.232Z"
   },
   {
    "duration": 507,
    "start_time": "2024-06-29T15:56:28.420Z"
   },
   {
    "duration": 58,
    "start_time": "2024-06-29T15:56:28.929Z"
   },
   {
    "duration": 3,
    "start_time": "2024-06-29T15:56:28.988Z"
   },
   {
    "duration": 4557,
    "start_time": "2024-06-29T15:56:28.993Z"
   },
   {
    "duration": 3,
    "start_time": "2024-06-29T15:56:33.552Z"
   },
   {
    "duration": 103,
    "start_time": "2024-06-29T15:56:33.557Z"
   },
   {
    "duration": 48,
    "start_time": "2024-06-29T15:56:33.661Z"
   },
   {
    "duration": 0,
    "start_time": "2024-06-29T15:56:33.711Z"
   },
   {
    "duration": 0,
    "start_time": "2024-06-29T15:56:33.711Z"
   },
   {
    "duration": 518,
    "start_time": "2024-06-29T15:57:06.932Z"
   },
   {
    "duration": 51,
    "start_time": "2024-06-29T15:57:20.341Z"
   },
   {
    "duration": 332,
    "start_time": "2024-06-29T15:58:12.394Z"
   },
   {
    "duration": 248,
    "start_time": "2024-06-29T15:59:16.438Z"
   },
   {
    "duration": 258,
    "start_time": "2024-06-29T15:59:27.894Z"
   },
   {
    "duration": 466,
    "start_time": "2024-06-29T15:59:35.217Z"
   },
   {
    "duration": 51,
    "start_time": "2024-06-29T15:59:35.684Z"
   },
   {
    "duration": 3,
    "start_time": "2024-06-29T15:59:35.736Z"
   },
   {
    "duration": 4651,
    "start_time": "2024-06-29T15:59:35.740Z"
   },
   {
    "duration": 3,
    "start_time": "2024-06-29T15:59:40.393Z"
   },
   {
    "duration": 97,
    "start_time": "2024-06-29T15:59:40.398Z"
   },
   {
    "duration": 538,
    "start_time": "2024-06-29T15:59:40.497Z"
   },
   {
    "duration": 4321,
    "start_time": "2024-06-29T15:59:41.036Z"
   },
   {
    "duration": 1513,
    "start_time": "2024-06-29T15:59:45.362Z"
   },
   {
    "duration": 329,
    "start_time": "2024-06-29T16:03:30.084Z"
   },
   {
    "duration": 513,
    "start_time": "2024-06-29T16:03:39.696Z"
   },
   {
    "duration": 51,
    "start_time": "2024-06-29T16:03:40.213Z"
   },
   {
    "duration": 4,
    "start_time": "2024-06-29T16:03:40.265Z"
   },
   {
    "duration": 4802,
    "start_time": "2024-06-29T16:03:40.270Z"
   },
   {
    "duration": 3,
    "start_time": "2024-06-29T16:03:45.073Z"
   },
   {
    "duration": 127,
    "start_time": "2024-06-29T16:03:45.077Z"
   },
   {
    "duration": 587,
    "start_time": "2024-06-29T16:03:45.206Z"
   },
   {
    "duration": 4013,
    "start_time": "2024-06-29T16:03:45.794Z"
   },
   {
    "duration": 1516,
    "start_time": "2024-06-29T16:03:49.808Z"
   },
   {
    "duration": 334,
    "start_time": "2024-06-29T16:04:07.590Z"
   },
   {
    "duration": 475,
    "start_time": "2024-06-29T16:04:15.461Z"
   },
   {
    "duration": 57,
    "start_time": "2024-06-29T16:04:15.937Z"
   },
   {
    "duration": 4,
    "start_time": "2024-06-29T16:04:15.996Z"
   },
   {
    "duration": 4851,
    "start_time": "2024-06-29T16:04:16.002Z"
   },
   {
    "duration": 4,
    "start_time": "2024-06-29T16:04:20.854Z"
   },
   {
    "duration": 111,
    "start_time": "2024-06-29T16:04:20.860Z"
   },
   {
    "duration": 583,
    "start_time": "2024-06-29T16:04:20.972Z"
   },
   {
    "duration": 4346,
    "start_time": "2024-06-29T16:04:21.557Z"
   },
   {
    "duration": 1624,
    "start_time": "2024-06-29T16:04:25.904Z"
   },
   {
    "duration": 311,
    "start_time": "2024-06-29T16:08:19.802Z"
   },
   {
    "duration": 487,
    "start_time": "2024-06-29T16:08:26.930Z"
   },
   {
    "duration": 52,
    "start_time": "2024-06-29T16:08:27.426Z"
   },
   {
    "duration": 3,
    "start_time": "2024-06-29T16:08:27.479Z"
   },
   {
    "duration": 4751,
    "start_time": "2024-06-29T16:08:27.483Z"
   },
   {
    "duration": 3,
    "start_time": "2024-06-29T16:08:32.235Z"
   },
   {
    "duration": 165,
    "start_time": "2024-06-29T16:08:32.240Z"
   },
   {
    "duration": 430,
    "start_time": "2024-06-29T16:08:32.406Z"
   },
   {
    "duration": 0,
    "start_time": "2024-06-29T16:08:32.838Z"
   },
   {
    "duration": 0,
    "start_time": "2024-06-29T16:08:32.839Z"
   },
   {
    "duration": 244,
    "start_time": "2024-06-29T16:08:56.585Z"
   },
   {
    "duration": 183,
    "start_time": "2024-06-29T16:09:12.405Z"
   },
   {
    "duration": 3965,
    "start_time": "2024-06-29T16:09:23.340Z"
   },
   {
    "duration": 1590,
    "start_time": "2024-06-29T16:09:27.307Z"
   },
   {
    "duration": 455,
    "start_time": "2024-06-29T16:10:13.375Z"
   },
   {
    "duration": 51,
    "start_time": "2024-06-29T16:10:13.832Z"
   },
   {
    "duration": 3,
    "start_time": "2024-06-29T16:10:13.885Z"
   },
   {
    "duration": 4995,
    "start_time": "2024-06-29T16:10:13.890Z"
   },
   {
    "duration": 4,
    "start_time": "2024-06-29T16:10:18.887Z"
   },
   {
    "duration": 129,
    "start_time": "2024-06-29T16:10:18.892Z"
   },
   {
    "duration": 269,
    "start_time": "2024-06-29T16:10:19.022Z"
   },
   {
    "duration": 58,
    "start_time": "2024-06-29T16:10:19.292Z"
   },
   {
    "duration": 4239,
    "start_time": "2024-06-29T16:10:19.352Z"
   },
   {
    "duration": 1683,
    "start_time": "2024-06-29T16:10:23.593Z"
   },
   {
    "duration": 307,
    "start_time": "2024-06-29T16:14:32.857Z"
   },
   {
    "duration": 471,
    "start_time": "2024-06-29T16:14:38.547Z"
   },
   {
    "duration": 51,
    "start_time": "2024-06-29T16:14:39.022Z"
   },
   {
    "duration": 3,
    "start_time": "2024-06-29T16:14:39.074Z"
   },
   {
    "duration": 4765,
    "start_time": "2024-06-29T16:14:39.079Z"
   },
   {
    "duration": 3,
    "start_time": "2024-06-29T16:14:43.846Z"
   },
   {
    "duration": 133,
    "start_time": "2024-06-29T16:14:43.851Z"
   },
   {
    "duration": 388,
    "start_time": "2024-06-29T16:14:43.986Z"
   },
   {
    "duration": 0,
    "start_time": "2024-06-29T16:14:44.375Z"
   },
   {
    "duration": 0,
    "start_time": "2024-06-29T16:14:44.377Z"
   },
   {
    "duration": 0,
    "start_time": "2024-06-29T16:14:44.378Z"
   },
   {
    "duration": 14,
    "start_time": "2024-06-29T16:17:37.117Z"
   },
   {
    "duration": 386,
    "start_time": "2024-06-29T16:18:08.970Z"
   },
   {
    "duration": 514,
    "start_time": "2024-06-29T16:27:22.986Z"
   },
   {
    "duration": 56,
    "start_time": "2024-06-29T16:27:23.502Z"
   },
   {
    "duration": 4,
    "start_time": "2024-06-29T16:27:23.559Z"
   },
   {
    "duration": 4802,
    "start_time": "2024-06-29T16:27:23.565Z"
   },
   {
    "duration": 3,
    "start_time": "2024-06-29T16:27:28.368Z"
   },
   {
    "duration": 100,
    "start_time": "2024-06-29T16:27:28.372Z"
   },
   {
    "duration": 247,
    "start_time": "2024-06-29T16:27:28.474Z"
   },
   {
    "duration": 52,
    "start_time": "2024-06-29T16:27:28.722Z"
   },
   {
    "duration": 4194,
    "start_time": "2024-06-29T16:27:28.776Z"
   },
   {
    "duration": 1622,
    "start_time": "2024-06-29T16:27:32.973Z"
   },
   {
    "duration": 484,
    "start_time": "2024-06-29T16:32:20.831Z"
   },
   {
    "duration": 52,
    "start_time": "2024-06-29T16:32:21.323Z"
   },
   {
    "duration": 3,
    "start_time": "2024-06-29T16:32:21.376Z"
   },
   {
    "duration": 4756,
    "start_time": "2024-06-29T16:32:21.380Z"
   },
   {
    "duration": 3,
    "start_time": "2024-06-29T16:32:26.138Z"
   },
   {
    "duration": 196,
    "start_time": "2024-06-29T16:32:26.142Z"
   },
   {
    "duration": 855,
    "start_time": "2024-06-29T16:32:26.340Z"
   },
   {
    "duration": 203,
    "start_time": "2024-06-29T16:32:27.196Z"
   },
   {
    "duration": 4017,
    "start_time": "2024-06-29T16:32:27.401Z"
   },
   {
    "duration": 1672,
    "start_time": "2024-06-29T16:32:31.419Z"
   },
   {
    "duration": 89,
    "start_time": "2024-06-29T16:33:17.354Z"
   },
   {
    "duration": 501,
    "start_time": "2024-06-29T16:33:44.489Z"
   },
   {
    "duration": 59,
    "start_time": "2024-06-29T16:33:44.992Z"
   },
   {
    "duration": 3,
    "start_time": "2024-06-29T16:33:45.052Z"
   },
   {
    "duration": 5044,
    "start_time": "2024-06-29T16:33:45.057Z"
   },
   {
    "duration": 16,
    "start_time": "2024-06-29T16:33:50.102Z"
   },
   {
    "duration": 105,
    "start_time": "2024-06-29T16:33:50.120Z"
   },
   {
    "duration": 850,
    "start_time": "2024-06-29T16:33:50.227Z"
   },
   {
    "duration": 96,
    "start_time": "2024-06-29T16:33:51.079Z"
   },
   {
    "duration": 3949,
    "start_time": "2024-06-29T16:33:51.177Z"
   },
   {
    "duration": 1640,
    "start_time": "2024-06-29T16:33:55.128Z"
   },
   {
    "duration": 102,
    "start_time": "2024-06-29T16:36:31.703Z"
   },
   {
    "duration": 88,
    "start_time": "2024-06-29T16:36:48.337Z"
   },
   {
    "duration": 435,
    "start_time": "2024-06-29T16:37:24.970Z"
   },
   {
    "duration": 49,
    "start_time": "2024-06-29T16:37:25.407Z"
   },
   {
    "duration": 4,
    "start_time": "2024-06-29T16:37:25.457Z"
   },
   {
    "duration": 4925,
    "start_time": "2024-06-29T16:37:25.462Z"
   },
   {
    "duration": 4,
    "start_time": "2024-06-29T16:37:30.389Z"
   },
   {
    "duration": 168,
    "start_time": "2024-06-29T16:37:30.394Z"
   },
   {
    "duration": 863,
    "start_time": "2024-06-29T16:37:30.563Z"
   },
   {
    "duration": 104,
    "start_time": "2024-06-29T16:37:31.427Z"
   },
   {
    "duration": 4199,
    "start_time": "2024-06-29T16:37:31.532Z"
   },
   {
    "duration": 1693,
    "start_time": "2024-06-29T16:37:35.733Z"
   },
   {
    "duration": 477,
    "start_time": "2024-06-29T16:40:03.329Z"
   },
   {
    "duration": 57,
    "start_time": "2024-06-29T16:40:03.809Z"
   },
   {
    "duration": 3,
    "start_time": "2024-06-29T16:40:03.868Z"
   },
   {
    "duration": 4783,
    "start_time": "2024-06-29T16:40:03.873Z"
   },
   {
    "duration": 3,
    "start_time": "2024-06-29T16:40:08.658Z"
   },
   {
    "duration": 108,
    "start_time": "2024-06-29T16:40:08.662Z"
   },
   {
    "duration": 821,
    "start_time": "2024-06-29T16:40:08.772Z"
   },
   {
    "duration": 128,
    "start_time": "2024-06-29T16:40:09.595Z"
   },
   {
    "duration": 6013,
    "start_time": "2024-06-29T16:40:09.724Z"
   },
   {
    "duration": 2979,
    "start_time": "2024-06-29T16:40:15.739Z"
   },
   {
    "duration": 2,
    "start_time": "2024-06-29T16:40:24.028Z"
   },
   {
    "duration": 2,
    "start_time": "2024-06-29T16:40:31.702Z"
   },
   {
    "duration": 431,
    "start_time": "2024-06-29T16:52:07.471Z"
   },
   {
    "duration": 48,
    "start_time": "2024-06-29T16:52:07.903Z"
   },
   {
    "duration": 4,
    "start_time": "2024-06-29T16:52:07.952Z"
   },
   {
    "duration": 4792,
    "start_time": "2024-06-29T16:52:07.957Z"
   },
   {
    "duration": 3,
    "start_time": "2024-06-29T16:52:12.750Z"
   },
   {
    "duration": 4,
    "start_time": "2024-06-29T16:52:12.754Z"
   },
   {
    "duration": 893,
    "start_time": "2024-06-29T16:52:12.759Z"
   },
   {
    "duration": 2,
    "start_time": "2024-06-29T16:52:13.653Z"
   },
   {
    "duration": 3968,
    "start_time": "2024-06-29T16:52:13.657Z"
   },
   {
    "duration": 1665,
    "start_time": "2024-06-29T16:52:17.627Z"
   },
   {
    "duration": 464,
    "start_time": "2024-06-29T16:55:36.785Z"
   },
   {
    "duration": 54,
    "start_time": "2024-06-29T16:55:37.250Z"
   },
   {
    "duration": 3,
    "start_time": "2024-06-29T16:55:37.305Z"
   },
   {
    "duration": 4896,
    "start_time": "2024-06-29T16:55:37.323Z"
   },
   {
    "duration": 4,
    "start_time": "2024-06-29T16:55:42.221Z"
   },
   {
    "duration": 51,
    "start_time": "2024-06-29T16:55:42.226Z"
   },
   {
    "duration": 865,
    "start_time": "2024-06-29T16:55:42.279Z"
   },
   {
    "duration": 2,
    "start_time": "2024-06-29T16:55:43.145Z"
   },
   {
    "duration": 4118,
    "start_time": "2024-06-29T16:55:43.149Z"
   },
   {
    "duration": 1713,
    "start_time": "2024-06-29T16:55:47.269Z"
   },
   {
    "duration": 473,
    "start_time": "2024-06-29T17:09:02.028Z"
   },
   {
    "duration": 52,
    "start_time": "2024-06-29T17:09:02.503Z"
   },
   {
    "duration": 596,
    "start_time": "2024-06-29T17:09:02.556Z"
   },
   {
    "duration": 4920,
    "start_time": "2024-06-29T17:09:03.153Z"
   },
   {
    "duration": 3,
    "start_time": "2024-06-29T17:09:08.076Z"
   },
   {
    "duration": 14,
    "start_time": "2024-06-29T17:09:08.080Z"
   },
   {
    "duration": 830,
    "start_time": "2024-06-29T17:09:08.095Z"
   },
   {
    "duration": 2,
    "start_time": "2024-06-29T17:09:08.926Z"
   },
   {
    "duration": 4552,
    "start_time": "2024-06-29T17:09:08.929Z"
   },
   {
    "duration": 1673,
    "start_time": "2024-06-29T17:09:13.487Z"
   },
   {
    "duration": 486,
    "start_time": "2024-06-29T17:14:39.485Z"
   },
   {
    "duration": 63,
    "start_time": "2024-06-29T17:14:39.972Z"
   },
   {
    "duration": 4,
    "start_time": "2024-06-29T17:14:40.036Z"
   },
   {
    "duration": 4921,
    "start_time": "2024-06-29T17:14:40.042Z"
   },
   {
    "duration": 3,
    "start_time": "2024-06-29T17:14:44.964Z"
   },
   {
    "duration": 11,
    "start_time": "2024-06-29T17:14:44.968Z"
   },
   {
    "duration": 872,
    "start_time": "2024-06-29T17:14:44.980Z"
   },
   {
    "duration": 2,
    "start_time": "2024-06-29T17:14:45.854Z"
   },
   {
    "duration": 4873,
    "start_time": "2024-06-29T17:14:45.857Z"
   },
   {
    "duration": 1588,
    "start_time": "2024-06-29T17:14:50.733Z"
   },
   {
    "duration": 440,
    "start_time": "2024-06-29T17:19:51.557Z"
   },
   {
    "duration": 58,
    "start_time": "2024-06-29T17:19:51.999Z"
   },
   {
    "duration": 3,
    "start_time": "2024-06-29T17:19:52.059Z"
   },
   {
    "duration": 4835,
    "start_time": "2024-06-29T17:19:52.063Z"
   },
   {
    "duration": 20,
    "start_time": "2024-06-29T17:19:56.899Z"
   },
   {
    "duration": 20,
    "start_time": "2024-06-29T17:19:56.920Z"
   },
   {
    "duration": 885,
    "start_time": "2024-06-29T17:19:56.941Z"
   },
   {
    "duration": 2,
    "start_time": "2024-06-29T17:19:57.827Z"
   },
   {
    "duration": 4211,
    "start_time": "2024-06-29T17:19:57.831Z"
   },
   {
    "duration": 2338,
    "start_time": "2024-06-29T17:20:02.043Z"
   },
   {
    "duration": 514,
    "start_time": "2024-06-29T20:15:06.618Z"
   },
   {
    "duration": 52,
    "start_time": "2024-06-29T20:15:07.134Z"
   },
   {
    "duration": 4,
    "start_time": "2024-06-29T20:15:07.187Z"
   },
   {
    "duration": 4836,
    "start_time": "2024-06-29T20:15:07.193Z"
   },
   {
    "duration": 4,
    "start_time": "2024-06-29T20:15:12.030Z"
   },
   {
    "duration": 12,
    "start_time": "2024-06-29T20:15:12.035Z"
   },
   {
    "duration": 843,
    "start_time": "2024-06-29T20:15:12.049Z"
   },
   {
    "duration": 2,
    "start_time": "2024-06-29T20:15:12.893Z"
   },
   {
    "duration": 3968,
    "start_time": "2024-06-29T20:15:12.897Z"
   },
   {
    "duration": 1680,
    "start_time": "2024-06-29T20:15:16.867Z"
   },
   {
    "duration": 513,
    "start_time": "2024-06-30T12:49:02.203Z"
   },
   {
    "duration": 76,
    "start_time": "2024-06-30T12:49:02.717Z"
   },
   {
    "duration": 3,
    "start_time": "2024-06-30T12:49:02.794Z"
   },
   {
    "duration": 4362,
    "start_time": "2024-06-30T12:49:02.798Z"
   },
   {
    "duration": 3,
    "start_time": "2024-06-30T12:49:07.162Z"
   },
   {
    "duration": 86,
    "start_time": "2024-06-30T12:49:07.166Z"
   },
   {
    "duration": 758,
    "start_time": "2024-06-30T12:49:07.254Z"
   },
   {
    "duration": 2,
    "start_time": "2024-06-30T12:49:08.013Z"
   },
   {
    "duration": 3702,
    "start_time": "2024-06-30T12:49:08.017Z"
   },
   {
    "duration": 1551,
    "start_time": "2024-06-30T12:49:11.721Z"
   },
   {
    "duration": 449,
    "start_time": "2024-06-30T12:50:15.622Z"
   },
   {
    "duration": 62,
    "start_time": "2024-06-30T12:50:16.073Z"
   },
   {
    "duration": 98,
    "start_time": "2024-06-30T12:50:16.136Z"
   },
   {
    "duration": 4276,
    "start_time": "2024-06-30T12:50:16.235Z"
   },
   {
    "duration": 3,
    "start_time": "2024-06-30T12:50:20.513Z"
   },
   {
    "duration": 12,
    "start_time": "2024-06-30T12:50:20.517Z"
   },
   {
    "duration": 860,
    "start_time": "2024-06-30T12:50:20.531Z"
   },
   {
    "duration": 2,
    "start_time": "2024-06-30T12:50:21.392Z"
   },
   {
    "duration": 3489,
    "start_time": "2024-06-30T12:50:21.402Z"
   },
   {
    "duration": 1580,
    "start_time": "2024-06-30T12:50:24.892Z"
   },
   {
    "duration": 675,
    "start_time": "2024-07-01T21:27:30.360Z"
   },
   {
    "duration": 63,
    "start_time": "2024-07-01T21:27:31.038Z"
   },
   {
    "duration": 5,
    "start_time": "2024-07-01T21:27:31.103Z"
   },
   {
    "duration": 6621,
    "start_time": "2024-07-01T21:27:31.111Z"
   },
   {
    "duration": 5,
    "start_time": "2024-07-01T21:27:37.733Z"
   },
   {
    "duration": 8,
    "start_time": "2024-07-01T21:27:37.739Z"
   },
   {
    "duration": 1276,
    "start_time": "2024-07-01T21:27:37.756Z"
   },
   {
    "duration": 3,
    "start_time": "2024-07-01T21:27:39.033Z"
   },
   {
    "duration": 5802,
    "start_time": "2024-07-01T21:27:39.038Z"
   },
   {
    "duration": 2315,
    "start_time": "2024-07-01T21:27:44.842Z"
   },
   {
    "duration": 124,
    "start_time": "2024-07-01T21:28:55.492Z"
   },
   {
    "duration": 3,
    "start_time": "2024-07-01T21:29:34.272Z"
   },
   {
    "duration": 521,
    "start_time": "2024-07-01T21:29:41.696Z"
   },
   {
    "duration": 55,
    "start_time": "2024-07-01T21:29:42.220Z"
   },
   {
    "duration": 5,
    "start_time": "2024-07-01T21:29:42.277Z"
   },
   {
    "duration": 6191,
    "start_time": "2024-07-01T21:29:42.285Z"
   },
   {
    "duration": 4,
    "start_time": "2024-07-01T21:29:48.477Z"
   },
   {
    "duration": 3,
    "start_time": "2024-07-01T21:29:48.483Z"
   },
   {
    "duration": 1224,
    "start_time": "2024-07-01T21:29:48.488Z"
   },
   {
    "duration": 2,
    "start_time": "2024-07-01T21:29:49.715Z"
   },
   {
    "duration": 6157,
    "start_time": "2024-07-01T21:29:49.719Z"
   },
   {
    "duration": 2433,
    "start_time": "2024-07-01T21:29:55.879Z"
   },
   {
    "duration": 47,
    "start_time": "2024-07-02T11:05:29.990Z"
   },
   {
    "duration": 519,
    "start_time": "2024-07-02T11:05:42.358Z"
   },
   {
    "duration": 72,
    "start_time": "2024-07-02T11:05:42.878Z"
   },
   {
    "duration": 4,
    "start_time": "2024-07-02T11:05:42.951Z"
   },
   {
    "duration": 5491,
    "start_time": "2024-07-02T11:05:42.957Z"
   },
   {
    "duration": 4,
    "start_time": "2024-07-02T11:05:48.450Z"
   },
   {
    "duration": 11,
    "start_time": "2024-07-02T11:05:48.461Z"
   },
   {
    "duration": 1018,
    "start_time": "2024-07-02T11:05:48.474Z"
   },
   {
    "duration": 35,
    "start_time": "2024-07-02T11:05:49.493Z"
   },
   {
    "duration": 4523,
    "start_time": "2024-07-02T11:05:49.529Z"
   },
   {
    "duration": 1896,
    "start_time": "2024-07-02T11:05:54.055Z"
   },
   {
    "duration": 4,
    "start_time": "2024-07-02T11:08:51.164Z"
   },
   {
    "duration": 66,
    "start_time": "2024-07-02T11:09:27.888Z"
   },
   {
    "duration": 7,
    "start_time": "2024-07-02T11:09:41.963Z"
   },
   {
    "duration": 6,
    "start_time": "2024-07-02T11:09:58.573Z"
   },
   {
    "duration": 18,
    "start_time": "2024-07-02T11:10:44.587Z"
   },
   {
    "duration": 14,
    "start_time": "2024-07-02T11:12:45.696Z"
   },
   {
    "duration": 16,
    "start_time": "2024-07-02T11:24:54.734Z"
   },
   {
    "duration": 529,
    "start_time": "2024-07-02T11:25:58.267Z"
   },
   {
    "duration": 61,
    "start_time": "2024-07-02T11:25:58.798Z"
   },
   {
    "duration": 4,
    "start_time": "2024-07-02T11:25:58.860Z"
   },
   {
    "duration": 609,
    "start_time": "2024-07-02T11:25:58.871Z"
   },
   {
    "duration": 0,
    "start_time": "2024-07-02T11:25:59.482Z"
   },
   {
    "duration": 0,
    "start_time": "2024-07-02T11:25:59.483Z"
   },
   {
    "duration": 0,
    "start_time": "2024-07-02T11:25:59.484Z"
   },
   {
    "duration": 0,
    "start_time": "2024-07-02T11:25:59.485Z"
   },
   {
    "duration": 0,
    "start_time": "2024-07-02T11:25:59.486Z"
   },
   {
    "duration": 0,
    "start_time": "2024-07-02T11:25:59.487Z"
   },
   {
    "duration": 535,
    "start_time": "2024-07-02T11:27:19.642Z"
   },
   {
    "duration": 58,
    "start_time": "2024-07-02T11:27:20.179Z"
   },
   {
    "duration": 3,
    "start_time": "2024-07-02T11:27:20.239Z"
   },
   {
    "duration": 5297,
    "start_time": "2024-07-02T11:27:20.244Z"
   },
   {
    "duration": 3,
    "start_time": "2024-07-02T11:27:25.543Z"
   },
   {
    "duration": 14,
    "start_time": "2024-07-02T11:27:25.547Z"
   },
   {
    "duration": 1067,
    "start_time": "2024-07-02T11:27:25.563Z"
   },
   {
    "duration": 303,
    "start_time": "2024-07-02T11:27:26.631Z"
   },
   {
    "duration": 0,
    "start_time": "2024-07-02T11:27:26.935Z"
   },
   {
    "duration": 0,
    "start_time": "2024-07-02T11:27:26.936Z"
   },
   {
    "duration": 10,
    "start_time": "2024-07-02T11:28:55.125Z"
   },
   {
    "duration": 537,
    "start_time": "2024-07-02T11:29:12.829Z"
   },
   {
    "duration": 67,
    "start_time": "2024-07-02T11:29:13.368Z"
   },
   {
    "duration": 4,
    "start_time": "2024-07-02T11:29:13.437Z"
   },
   {
    "duration": 5279,
    "start_time": "2024-07-02T11:29:13.443Z"
   },
   {
    "duration": 3,
    "start_time": "2024-07-02T11:29:18.724Z"
   },
   {
    "duration": 9,
    "start_time": "2024-07-02T11:29:18.729Z"
   },
   {
    "duration": 1047,
    "start_time": "2024-07-02T11:29:18.740Z"
   },
   {
    "duration": 12,
    "start_time": "2024-07-02T11:29:19.788Z"
   },
   {
    "duration": 4838,
    "start_time": "2024-07-02T11:29:19.801Z"
   },
   {
    "duration": 1995,
    "start_time": "2024-07-02T11:29:24.640Z"
   },
   {
    "duration": 13,
    "start_time": "2024-07-02T14:01:09.191Z"
   },
   {
    "duration": 10,
    "start_time": "2024-07-02T14:01:15.342Z"
   },
   {
    "duration": 515,
    "start_time": "2024-07-02T14:04:45.370Z"
   },
   {
    "duration": 60,
    "start_time": "2024-07-02T14:04:45.887Z"
   },
   {
    "duration": 3,
    "start_time": "2024-07-02T14:04:45.949Z"
   },
   {
    "duration": 5356,
    "start_time": "2024-07-02T14:04:45.953Z"
   },
   {
    "duration": 3,
    "start_time": "2024-07-02T14:04:51.311Z"
   },
   {
    "duration": 1142,
    "start_time": "2024-07-02T14:04:51.315Z"
   },
   {
    "duration": 11,
    "start_time": "2024-07-02T14:04:52.461Z"
   },
   {
    "duration": 4721,
    "start_time": "2024-07-02T14:04:52.473Z"
   },
   {
    "duration": 1994,
    "start_time": "2024-07-02T14:04:57.196Z"
   },
   {
    "duration": 538,
    "start_time": "2024-07-02T18:43:21.428Z"
   },
   {
    "duration": 58,
    "start_time": "2024-07-02T18:43:21.968Z"
   },
   {
    "duration": 4,
    "start_time": "2024-07-02T18:43:22.027Z"
   },
   {
    "duration": 5266,
    "start_time": "2024-07-02T18:43:22.034Z"
   },
   {
    "duration": 3,
    "start_time": "2024-07-02T18:43:27.302Z"
   },
   {
    "duration": 1120,
    "start_time": "2024-07-02T18:43:27.307Z"
   },
   {
    "duration": 11,
    "start_time": "2024-07-02T18:43:28.428Z"
   },
   {
    "duration": 4601,
    "start_time": "2024-07-02T18:43:28.441Z"
   },
   {
    "duration": 1863,
    "start_time": "2024-07-02T18:43:33.044Z"
   },
   {
    "duration": 542,
    "start_time": "2024-07-03T08:18:44.154Z"
   },
   {
    "duration": 74,
    "start_time": "2024-07-03T08:18:44.698Z"
   },
   {
    "duration": 4,
    "start_time": "2024-07-03T08:18:44.774Z"
   },
   {
    "duration": 5409,
    "start_time": "2024-07-03T08:18:44.780Z"
   },
   {
    "duration": 3,
    "start_time": "2024-07-03T08:18:50.192Z"
   },
   {
    "duration": 915,
    "start_time": "2024-07-03T08:18:50.197Z"
   },
   {
    "duration": 11,
    "start_time": "2024-07-03T08:18:51.113Z"
   },
   {
    "duration": 4923,
    "start_time": "2024-07-03T08:18:51.126Z"
   },
   {
    "duration": 1967,
    "start_time": "2024-07-03T08:18:56.051Z"
   },
   {
    "duration": 522,
    "start_time": "2024-07-03T08:37:55.851Z"
   },
   {
    "duration": 60,
    "start_time": "2024-07-03T08:37:56.375Z"
   },
   {
    "duration": 4,
    "start_time": "2024-07-03T08:37:56.437Z"
   },
   {
    "duration": 5436,
    "start_time": "2024-07-03T08:37:56.442Z"
   },
   {
    "duration": 4,
    "start_time": "2024-07-03T08:38:01.880Z"
   },
   {
    "duration": 1059,
    "start_time": "2024-07-03T08:38:01.886Z"
   },
   {
    "duration": 20,
    "start_time": "2024-07-03T08:38:02.947Z"
   },
   {
    "duration": 4794,
    "start_time": "2024-07-03T08:38:02.969Z"
   },
   {
    "duration": 2005,
    "start_time": "2024-07-03T08:38:07.765Z"
   },
   {
    "duration": 520,
    "start_time": "2024-07-03T16:06:17.720Z"
   },
   {
    "duration": 69,
    "start_time": "2024-07-03T16:06:18.242Z"
   },
   {
    "duration": 3,
    "start_time": "2024-07-03T16:06:18.313Z"
   },
   {
    "duration": 5628,
    "start_time": "2024-07-03T16:06:18.318Z"
   },
   {
    "duration": 3,
    "start_time": "2024-07-03T16:06:23.947Z"
   },
   {
    "duration": 928,
    "start_time": "2024-07-03T16:06:23.951Z"
   },
   {
    "duration": 12,
    "start_time": "2024-07-03T16:06:24.880Z"
   },
   {
    "duration": 4907,
    "start_time": "2024-07-03T16:06:24.899Z"
   },
   {
    "duration": 2239,
    "start_time": "2024-07-03T16:06:29.808Z"
   },
   {
    "duration": 539,
    "start_time": "2024-07-03T18:53:06.471Z"
   },
   {
    "duration": 54,
    "start_time": "2024-07-03T18:53:07.011Z"
   },
   {
    "duration": 4,
    "start_time": "2024-07-03T18:53:07.066Z"
   },
   {
    "duration": 5424,
    "start_time": "2024-07-03T18:53:07.071Z"
   },
   {
    "duration": 5,
    "start_time": "2024-07-03T18:53:12.497Z"
   },
   {
    "duration": 939,
    "start_time": "2024-07-03T18:53:12.504Z"
   },
   {
    "duration": 11,
    "start_time": "2024-07-03T18:53:13.445Z"
   },
   {
    "duration": 4644,
    "start_time": "2024-07-03T18:53:13.457Z"
   },
   {
    "duration": 2043,
    "start_time": "2024-07-03T18:53:18.102Z"
   },
   {
    "duration": 495,
    "start_time": "2024-07-03T19:22:21.717Z"
   },
   {
    "duration": 54,
    "start_time": "2024-07-03T19:22:22.214Z"
   },
   {
    "duration": 4,
    "start_time": "2024-07-03T19:22:22.269Z"
   },
   {
    "duration": 5513,
    "start_time": "2024-07-03T19:22:22.275Z"
   },
   {
    "duration": 4,
    "start_time": "2024-07-03T19:22:27.790Z"
   },
   {
    "duration": 979,
    "start_time": "2024-07-03T19:22:27.799Z"
   },
   {
    "duration": 19,
    "start_time": "2024-07-03T19:22:28.780Z"
   },
   {
    "duration": 5036,
    "start_time": "2024-07-03T19:22:28.801Z"
   },
   {
    "duration": 2035,
    "start_time": "2024-07-03T19:22:33.839Z"
   },
   {
    "duration": 474,
    "start_time": "2024-07-05T11:52:27.770Z"
   },
   {
    "duration": 69,
    "start_time": "2024-07-05T11:52:28.246Z"
   },
   {
    "duration": 4,
    "start_time": "2024-07-05T11:52:28.317Z"
   },
   {
    "duration": 5860,
    "start_time": "2024-07-05T11:52:28.323Z"
   },
   {
    "duration": 3,
    "start_time": "2024-07-05T11:52:34.185Z"
   },
   {
    "duration": 967,
    "start_time": "2024-07-05T11:52:34.190Z"
   },
   {
    "duration": 12,
    "start_time": "2024-07-05T11:52:35.159Z"
   },
   {
    "duration": 4814,
    "start_time": "2024-07-05T11:52:35.173Z"
   },
   {
    "duration": 2005,
    "start_time": "2024-07-05T11:52:39.989Z"
   },
   {
    "duration": 578,
    "start_time": "2024-07-06T17:13:03.170Z"
   },
   {
    "duration": 76,
    "start_time": "2024-07-06T17:13:03.749Z"
   },
   {
    "duration": 3,
    "start_time": "2024-07-06T17:13:03.827Z"
   },
   {
    "duration": 6376,
    "start_time": "2024-07-06T17:13:03.831Z"
   },
   {
    "duration": 5,
    "start_time": "2024-07-06T17:13:10.210Z"
   },
   {
    "duration": 1134,
    "start_time": "2024-07-06T17:13:10.216Z"
   },
   {
    "duration": 14,
    "start_time": "2024-07-06T17:13:11.352Z"
   },
   {
    "duration": 4917,
    "start_time": "2024-07-06T17:13:11.368Z"
   },
   {
    "duration": 2309,
    "start_time": "2024-07-06T17:13:16.287Z"
   },
   {
    "duration": 539,
    "start_time": "2024-07-06T17:33:10.928Z"
   },
   {
    "duration": 50,
    "start_time": "2024-07-06T17:33:11.469Z"
   },
   {
    "duration": 3,
    "start_time": "2024-07-06T17:33:11.521Z"
   },
   {
    "duration": 5835,
    "start_time": "2024-07-06T17:33:11.525Z"
   },
   {
    "duration": 4,
    "start_time": "2024-07-06T17:33:17.362Z"
   },
   {
    "duration": 1102,
    "start_time": "2024-07-06T17:33:17.368Z"
   },
   {
    "duration": 11,
    "start_time": "2024-07-06T17:33:18.472Z"
   },
   {
    "duration": 5092,
    "start_time": "2024-07-06T17:33:18.491Z"
   },
   {
    "duration": 2103,
    "start_time": "2024-07-06T17:33:23.585Z"
   },
   {
    "duration": 541,
    "start_time": "2024-07-06T17:36:06.858Z"
   },
   {
    "duration": 56,
    "start_time": "2024-07-06T17:36:07.402Z"
   },
   {
    "duration": 5,
    "start_time": "2024-07-06T17:36:07.460Z"
   },
   {
    "duration": 5861,
    "start_time": "2024-07-06T17:36:07.467Z"
   },
   {
    "duration": 4,
    "start_time": "2024-07-06T17:36:13.329Z"
   },
   {
    "duration": 1069,
    "start_time": "2024-07-06T17:36:13.335Z"
   },
   {
    "duration": 13,
    "start_time": "2024-07-06T17:36:14.406Z"
   },
   {
    "duration": 4947,
    "start_time": "2024-07-06T17:36:14.421Z"
   },
   {
    "duration": 2181,
    "start_time": "2024-07-06T17:36:19.369Z"
   },
   {
    "duration": 5860,
    "start_time": "2024-07-06T17:39:41.057Z"
   },
   {
    "duration": 1046,
    "start_time": "2024-07-06T17:39:52.307Z"
   },
   {
    "duration": 1815,
    "start_time": "2024-07-06T17:40:03.179Z"
   },
   {
    "duration": 2185,
    "start_time": "2024-07-06T17:40:15.622Z"
   },
   {
    "duration": 6,
    "start_time": "2024-07-06T17:41:19.967Z"
   },
   {
    "duration": 565,
    "start_time": "2024-07-06T17:41:42.874Z"
   },
   {
    "duration": 72,
    "start_time": "2024-07-06T17:41:43.441Z"
   },
   {
    "duration": 3,
    "start_time": "2024-07-06T17:41:43.515Z"
   },
   {
    "duration": 5812,
    "start_time": "2024-07-06T17:41:43.521Z"
   },
   {
    "duration": 8,
    "start_time": "2024-07-06T17:41:49.335Z"
   },
   {
    "duration": 1068,
    "start_time": "2024-07-06T17:41:49.345Z"
   },
   {
    "duration": 7,
    "start_time": "2024-07-06T17:41:50.415Z"
   },
   {
    "duration": 5905,
    "start_time": "2024-07-06T17:41:50.423Z"
   },
   {
    "duration": 2183,
    "start_time": "2024-07-06T17:41:56.330Z"
   },
   {
    "duration": 501,
    "start_time": "2024-07-27T13:03:52.307Z"
   },
   {
    "duration": 72,
    "start_time": "2024-07-27T13:03:52.811Z"
   },
   {
    "duration": 3,
    "start_time": "2024-07-27T13:03:52.884Z"
   },
   {
    "duration": 5696,
    "start_time": "2024-07-27T13:03:52.889Z"
   },
   {
    "duration": 14,
    "start_time": "2024-07-27T13:03:58.587Z"
   },
   {
    "duration": 881,
    "start_time": "2024-07-27T13:03:58.602Z"
   },
   {
    "duration": 23,
    "start_time": "2024-07-27T13:03:59.485Z"
   },
   {
    "duration": 4575,
    "start_time": "2024-07-27T13:03:59.510Z"
   },
   {
    "duration": 2046,
    "start_time": "2024-07-27T13:04:04.086Z"
   },
   {
    "duration": 469,
    "start_time": "2024-07-27T13:15:41.163Z"
   },
   {
    "duration": 60,
    "start_time": "2024-07-27T13:15:41.633Z"
   },
   {
    "duration": 10,
    "start_time": "2024-07-27T13:15:41.695Z"
   },
   {
    "duration": 5447,
    "start_time": "2024-07-27T13:15:41.707Z"
   },
   {
    "duration": 8,
    "start_time": "2024-07-27T13:15:47.156Z"
   },
   {
    "duration": 902,
    "start_time": "2024-07-27T13:15:47.166Z"
   },
   {
    "duration": 8,
    "start_time": "2024-07-27T13:15:48.070Z"
   },
   {
    "duration": 4633,
    "start_time": "2024-07-27T13:15:48.079Z"
   },
   {
    "duration": 2020,
    "start_time": "2024-07-27T13:15:52.714Z"
   }
  ],
  "kernelspec": {
   "display_name": "Python 3 (ipykernel)",
   "language": "python",
   "name": "python3"
  },
  "language_info": {
   "codemirror_mode": {
    "name": "ipython",
    "version": 3
   },
   "file_extension": ".py",
   "mimetype": "text/x-python",
   "name": "python",
   "nbconvert_exporter": "python",
   "pygments_lexer": "ipython3",
   "version": "3.9.18"
  },
  "toc": {
   "base_numbering": 1,
   "nav_menu": {},
   "number_sections": true,
   "sideBar": true,
   "skip_h1_title": true,
   "title_cell": "Table of Contents",
   "title_sidebar": "Contents",
   "toc_cell": false,
   "toc_position": {},
   "toc_section_display": true,
   "toc_window_display": false
  }
 },
 "nbformat": 4,
 "nbformat_minor": 5
}
