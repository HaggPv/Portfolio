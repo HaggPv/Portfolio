{
 "cells": [
  {
   "cell_type": "markdown",
   "id": "4b45d0a9",
   "metadata": {},
   "source": [
    "# Анализ точек роста бизнеса сервиса аренды самокатов"
   ]
  },
  {
   "cell_type": "markdown",
   "id": "2a180949",
   "metadata": {},
   "source": [
    "**Описание проекта**\\\n",
    "Изучение данных о клиентах сервиса проката самокатов и данных об их потребительском поведении.\\\n",
    "Проверка ряда гипотез.\n",
    "\n",
    "**Цель**\\\n",
    "Определить потенциальные точки роста бизнеса компании.\n",
    "\n",
    "**План**\n",
    "- Изучить предоставленные данные, проверсти их предобработку.\n",
    "- Проверсти анализ текущей маркетинговой ситуации.\n",
    "- Проверить ряд гипотез (с применением t-test), призванных определить точки роста сервиса проката самокатов.\n",
    "\n",
    "**Исходные данные**\\\n",
    "Информация о позьзовании услугами сервиса за один календарный год клиентами из восьми городов.\\\n",
    "Имеются три датасета:\n",
    "- Данные о пользователях - id, возраст, город, тип тарифного плана.\n",
    "- Данные о поездках - дата, расстояние, продолжительность.\n",
    "- Параметры тарифных планов."
   ]
  },
  {
   "cell_type": "markdown",
   "id": "f498cd8d",
   "metadata": {},
   "source": [
    "## Загрузка данных и изучение качества данных"
   ]
  },
  {
   "cell_type": "code",
   "execution_count": 4,
   "id": "75c27196",
   "metadata": {},
   "outputs": [],
   "source": [
    "import pandas as pd\n",
    "from datetime import datetime, timedelta\n",
    "import seaborn as sns\n",
    "from matplotlib import pyplot as plt\n",
    "from scipy import stats\n",
    "import numpy as np\n",
    "\n",
    "# Отображение вывода в той же ячейке\n",
    "%matplotlib inline\n",
    "\n",
    "# глобальный формат для десятичных дробей\n",
    "pd.options.display.float_format = '{:.2f}'.format"
   ]
  },
  {
   "cell_type": "code",
   "execution_count": 5,
   "id": "90e6b735",
   "metadata": {},
   "outputs": [],
   "source": [
    "try:\n",
    "    rides_raw = pd.read_csv('rides_go.csv')\n",
    "except:\n",
    "    rides_raw = pd.read_csv('/datasets/rides_go.csv')\n",
    "try:\n",
    "    subscriptions_raw = pd.read_csv('subscriptions_go.csv')\n",
    "except:\n",
    "    subscriptions_raw = pd.read_csv('/datasets/subscriptions_go.csv')\n",
    "try:\n",
    "    users_raw = pd.read_csv('users_go.csv')\n",
    "except:\n",
    "    users_raw = pd.read_csv('/datasets/users_go.csv')"
   ]
  },
  {
   "cell_type": "code",
   "execution_count": 6,
   "id": "26e5de61",
   "metadata": {
    "scrolled": true
   },
   "outputs": [
    {
     "data": {
      "text/html": [
       "<div>\n",
       "<style scoped>\n",
       "    .dataframe tbody tr th:only-of-type {\n",
       "        vertical-align: middle;\n",
       "    }\n",
       "\n",
       "    .dataframe tbody tr th {\n",
       "        vertical-align: top;\n",
       "    }\n",
       "\n",
       "    .dataframe thead th {\n",
       "        text-align: right;\n",
       "    }\n",
       "</style>\n",
       "<table border=\"1\" class=\"dataframe\">\n",
       "  <thead>\n",
       "    <tr style=\"text-align: right;\">\n",
       "      <th></th>\n",
       "      <th>user_id</th>\n",
       "      <th>distance</th>\n",
       "      <th>duration</th>\n",
       "      <th>date</th>\n",
       "    </tr>\n",
       "  </thead>\n",
       "  <tbody>\n",
       "    <tr>\n",
       "      <th>0</th>\n",
       "      <td>1</td>\n",
       "      <td>4409.92</td>\n",
       "      <td>25.60</td>\n",
       "      <td>2021-01-01</td>\n",
       "    </tr>\n",
       "    <tr>\n",
       "      <th>1</th>\n",
       "      <td>1</td>\n",
       "      <td>2617.59</td>\n",
       "      <td>15.82</td>\n",
       "      <td>2021-01-18</td>\n",
       "    </tr>\n",
       "    <tr>\n",
       "      <th>2</th>\n",
       "      <td>1</td>\n",
       "      <td>754.16</td>\n",
       "      <td>6.23</td>\n",
       "      <td>2021-04-20</td>\n",
       "    </tr>\n",
       "  </tbody>\n",
       "</table>\n",
       "</div>"
      ],
      "text/plain": [
       "   user_id  distance  duration        date\n",
       "0        1   4409.92     25.60  2021-01-01\n",
       "1        1   2617.59     15.82  2021-01-18\n",
       "2        1    754.16      6.23  2021-04-20"
      ]
     },
     "metadata": {},
     "output_type": "display_data"
    },
    {
     "data": {
      "text/html": [
       "<div>\n",
       "<style scoped>\n",
       "    .dataframe tbody tr th:only-of-type {\n",
       "        vertical-align: middle;\n",
       "    }\n",
       "\n",
       "    .dataframe tbody tr th {\n",
       "        vertical-align: top;\n",
       "    }\n",
       "\n",
       "    .dataframe thead th {\n",
       "        text-align: right;\n",
       "    }\n",
       "</style>\n",
       "<table border=\"1\" class=\"dataframe\">\n",
       "  <thead>\n",
       "    <tr style=\"text-align: right;\">\n",
       "      <th></th>\n",
       "      <th>subscription_type</th>\n",
       "      <th>minute_price</th>\n",
       "      <th>start_ride_price</th>\n",
       "      <th>subscription_fee</th>\n",
       "    </tr>\n",
       "  </thead>\n",
       "  <tbody>\n",
       "    <tr>\n",
       "      <th>0</th>\n",
       "      <td>free</td>\n",
       "      <td>8</td>\n",
       "      <td>50</td>\n",
       "      <td>0</td>\n",
       "    </tr>\n",
       "    <tr>\n",
       "      <th>1</th>\n",
       "      <td>ultra</td>\n",
       "      <td>6</td>\n",
       "      <td>0</td>\n",
       "      <td>199</td>\n",
       "    </tr>\n",
       "  </tbody>\n",
       "</table>\n",
       "</div>"
      ],
      "text/plain": [
       "  subscription_type  minute_price  start_ride_price  subscription_fee\n",
       "0              free             8                50                 0\n",
       "1             ultra             6                 0               199"
      ]
     },
     "metadata": {},
     "output_type": "display_data"
    },
    {
     "data": {
      "text/html": [
       "<div>\n",
       "<style scoped>\n",
       "    .dataframe tbody tr th:only-of-type {\n",
       "        vertical-align: middle;\n",
       "    }\n",
       "\n",
       "    .dataframe tbody tr th {\n",
       "        vertical-align: top;\n",
       "    }\n",
       "\n",
       "    .dataframe thead th {\n",
       "        text-align: right;\n",
       "    }\n",
       "</style>\n",
       "<table border=\"1\" class=\"dataframe\">\n",
       "  <thead>\n",
       "    <tr style=\"text-align: right;\">\n",
       "      <th></th>\n",
       "      <th>user_id</th>\n",
       "      <th>name</th>\n",
       "      <th>age</th>\n",
       "      <th>city</th>\n",
       "      <th>subscription_type</th>\n",
       "    </tr>\n",
       "  </thead>\n",
       "  <tbody>\n",
       "    <tr>\n",
       "      <th>0</th>\n",
       "      <td>1</td>\n",
       "      <td>Кира</td>\n",
       "      <td>22</td>\n",
       "      <td>Тюмень</td>\n",
       "      <td>ultra</td>\n",
       "    </tr>\n",
       "    <tr>\n",
       "      <th>1</th>\n",
       "      <td>2</td>\n",
       "      <td>Станислав</td>\n",
       "      <td>31</td>\n",
       "      <td>Омск</td>\n",
       "      <td>ultra</td>\n",
       "    </tr>\n",
       "    <tr>\n",
       "      <th>2</th>\n",
       "      <td>3</td>\n",
       "      <td>Алексей</td>\n",
       "      <td>20</td>\n",
       "      <td>Москва</td>\n",
       "      <td>ultra</td>\n",
       "    </tr>\n",
       "  </tbody>\n",
       "</table>\n",
       "</div>"
      ],
      "text/plain": [
       "   user_id       name  age    city subscription_type\n",
       "0        1       Кира   22  Тюмень             ultra\n",
       "1        2  Станислав   31    Омск             ultra\n",
       "2        3    Алексей   20  Москва             ultra"
      ]
     },
     "metadata": {},
     "output_type": "display_data"
    }
   ],
   "source": [
    "# Смотрим исходные датасеты\n",
    "display (rides_raw.head(3))\n",
    "display (subscriptions_raw.head(5))\n",
    "display (users_raw.head(3))"
   ]
  },
  {
   "cell_type": "code",
   "execution_count": 7,
   "id": "8643895a",
   "metadata": {},
   "outputs": [
    {
     "name": "stdout",
     "output_type": "stream",
     "text": [
      "<class 'pandas.core.frame.DataFrame'>\n",
      "RangeIndex: 18068 entries, 0 to 18067\n",
      "Data columns (total 4 columns):\n",
      " #   Column    Non-Null Count  Dtype  \n",
      "---  ------    --------------  -----  \n",
      " 0   user_id   18068 non-null  int64  \n",
      " 1   distance  18068 non-null  float64\n",
      " 2   duration  18068 non-null  float64\n",
      " 3   date      18068 non-null  object \n",
      "dtypes: float64(2), int64(1), object(1)\n",
      "memory usage: 564.8+ KB\n",
      "None\n",
      "\n",
      "<class 'pandas.core.frame.DataFrame'>\n",
      "RangeIndex: 2 entries, 0 to 1\n",
      "Data columns (total 4 columns):\n",
      " #   Column             Non-Null Count  Dtype \n",
      "---  ------             --------------  ----- \n",
      " 0   subscription_type  2 non-null      object\n",
      " 1   minute_price       2 non-null      int64 \n",
      " 2   start_ride_price   2 non-null      int64 \n",
      " 3   subscription_fee   2 non-null      int64 \n",
      "dtypes: int64(3), object(1)\n",
      "memory usage: 196.0+ bytes\n",
      "None\n",
      "\n",
      "<class 'pandas.core.frame.DataFrame'>\n",
      "RangeIndex: 1565 entries, 0 to 1564\n",
      "Data columns (total 5 columns):\n",
      " #   Column             Non-Null Count  Dtype \n",
      "---  ------             --------------  ----- \n",
      " 0   user_id            1565 non-null   int64 \n",
      " 1   name               1565 non-null   object\n",
      " 2   age                1565 non-null   int64 \n",
      " 3   city               1565 non-null   object\n",
      " 4   subscription_type  1565 non-null   object\n",
      "dtypes: int64(2), object(3)\n",
      "memory usage: 61.3+ KB\n"
     ]
    }
   ],
   "source": [
    "# Смотрим состав данных датасетов\n",
    "print (rides_raw.info())\n",
    "print ('')\n",
    "print (subscriptions_raw.info())\n",
    "print ('')\n",
    "users_raw.info()"
   ]
  },
  {
   "cell_type": "code",
   "execution_count": 8,
   "id": "258334e8",
   "metadata": {},
   "outputs": [
    {
     "data": {
      "image/png": "[encoded data removed]",
      "text/plain": [
       "<Figure size 900x300 with 2 Axes>"
      ]
     },
     "metadata": {},
     "output_type": "display_data"
    }
   ],
   "source": [
    "# Проверяем наличие выбросов в столбцах distance и duration в rides\n",
    "rides_raw[['distance', 'duration']].hist(bins=100, figsize=(9, 3))\n",
    "plt.show()"
   ]
  },
  {
   "cell_type": "markdown",
   "id": "0e3b197b",
   "metadata": {},
   "source": [
    "Обращает на себя внимание пик  в duration в районе меньше 1 минуты.\\\n",
    "**В дальнейшем проверим, есть ли он во всех городах**,\\\n",
    "и примем решение, что с ним делать."
   ]
  },
  {
   "cell_type": "code",
   "execution_count": 10,
   "id": "e2e814e5",
   "metadata": {},
   "outputs": [
    {
     "data": {
      "image/png": "[encoded data removed]",
      "text/plain": [
       "<Figure size 800x300 with 1 Axes>"
      ]
     },
     "metadata": {},
     "output_type": "display_data"
    }
   ],
   "source": [
    "# Проверяем наличие выбросов в столбце age в users\n",
    "users_raw['age'].hist(bins=100,figsize=(8, 3))\n",
    "plt.show()"
   ]
  },
  {
   "cell_type": "code",
   "execution_count": 11,
   "id": "751ab56b",
   "metadata": {},
   "outputs": [
    {
     "data": {
      "text/plain": [
       "'Количество полных дубликатов в таблице rides: 0'"
      ]
     },
     "metadata": {},
     "output_type": "display_data"
    },
    {
     "data": {
      "text/plain": [
       "'Количество полных дубликатов в таблице users: 31'"
      ]
     },
     "metadata": {},
     "output_type": "display_data"
    }
   ],
   "source": [
    "# Проверяем наличие полных дубликатов в датасетах rides и users. В датасете subscriptions дубликатов нет.\n",
    "\n",
    "duplicated_rides_raw = rides_raw.duplicated().sum()\n",
    "display(f\"Количество полных дубликатов в таблице rides: {duplicated_rides_raw}\")\n",
    "duplicated_users_raw = users_raw.duplicated().sum()\n",
    "display(f\"Количество полных дубликатов в таблице users: {duplicated_users_raw}\")"
   ]
  },
  {
   "cell_type": "code",
   "execution_count": 12,
   "id": "f4f84097",
   "metadata": {},
   "outputs": [],
   "source": [
    "# Смотрим состав строк-полных дубликатов\n",
    "#display(users_raw[users_raw.duplicated()])"
   ]
  },
  {
   "cell_type": "code",
   "execution_count": 13,
   "id": "5ee31769",
   "metadata": {},
   "outputs": [
    {
     "data": {
      "text/plain": [
       "array(['Тюмень', 'Омск', 'Москва', 'Ростов-на-Дону', 'Краснодар',\n",
       "       'Пятигорск', 'Екатеринбург', 'Сочи'], dtype=object)"
      ]
     },
     "execution_count": 13,
     "metadata": {},
     "output_type": "execute_result"
    }
   ],
   "source": [
    "# Проверяем наличие скрытых дубликатов в сторбце city. В других столбцах скрытые дубликаты маловерочтны.\n",
    "users_raw ['city'].unique ()\n",
    "#users_raw ['city'].value_counts()"
   ]
  },
  {
   "cell_type": "markdown",
   "id": "ad539e26",
   "metadata": {},
   "source": [
    "**Результат предварительной проверки данных**:\n",
    "- Пропущенных данных в датасетах нет.\n",
    "- Выбросов, которые стоило бы удалить, в проверенных столбцах нет.\n",
    "- Скрытых дубликатов в столбце city нет.\\\n",
    "  В других полях критичные скрытые дубликаты маловероятны.\n",
    "- Есть 31 строка-дубликат в датасете users.\\\n",
    "  Удалим их на этапе предобработки данных"
   ]
  },
  {
   "cell_type": "markdown",
   "id": "7f79cf57",
   "metadata": {},
   "source": [
    "## Предобработка данных"
   ]
  },
  {
   "cell_type": "code",
   "execution_count": 16,
   "id": "4bb58201-0900-496a-959b-ad38e8dbd609",
   "metadata": {},
   "outputs": [],
   "source": [
    "# Для обработанных данных для удобства вводим новые переменные и дальше работаем с ними.\n",
    "subscriptions = subscriptions_raw.copy()\n",
    "rides = rides_raw.copy()"
   ]
  },
  {
   "cell_type": "markdown",
   "id": "50b7d964",
   "metadata": {},
   "source": [
    "- Удаляем 31 строку-дубликат в датасете users.\n",
    "- Меняем даты на формат danetime.\n",
    "- Создаём столбец month с номером месяца на основе дат."
   ]
  },
  {
   "cell_type": "code",
   "execution_count": 18,
   "id": "8c3b301b",
   "metadata": {},
   "outputs": [],
   "source": [
    "# Осуществляем запланированные действия по предобработке.\n",
    "# Меняем формат даты\n",
    "rides['date'] = pd.to_datetime(rides['date']).dt.normalize()\n",
    "\n",
    "# Добавляем столбец month\n",
    "rides['month'] = rides['date'].dt.month\n",
    "\n",
    "# Удаляем дубликаты в users\n",
    "users = users_raw.drop_duplicates().reset_index(drop=True)"
   ]
  },
  {
   "cell_type": "markdown",
   "id": "034d4a0d-63ac-4d56-a53d-b567f9e56e1b",
   "metadata": {},
   "source": [
    "Проверяем результат предобработки"
   ]
  },
  {
   "cell_type": "code",
   "execution_count": 20,
   "id": "0132dec6-5589-4e56-8cd2-3fbc929c541f",
   "metadata": {},
   "outputs": [
    {
     "data": {
      "text/html": [
       "<div>\n",
       "<style scoped>\n",
       "    .dataframe tbody tr th:only-of-type {\n",
       "        vertical-align: middle;\n",
       "    }\n",
       "\n",
       "    .dataframe tbody tr th {\n",
       "        vertical-align: top;\n",
       "    }\n",
       "\n",
       "    .dataframe thead th {\n",
       "        text-align: right;\n",
       "    }\n",
       "</style>\n",
       "<table border=\"1\" class=\"dataframe\">\n",
       "  <thead>\n",
       "    <tr style=\"text-align: right;\">\n",
       "      <th></th>\n",
       "      <th>user_id</th>\n",
       "      <th>distance</th>\n",
       "      <th>duration</th>\n",
       "      <th>date</th>\n",
       "      <th>month</th>\n",
       "    </tr>\n",
       "  </thead>\n",
       "  <tbody>\n",
       "    <tr>\n",
       "      <th>0</th>\n",
       "      <td>1</td>\n",
       "      <td>4409.92</td>\n",
       "      <td>25.60</td>\n",
       "      <td>2021-01-01</td>\n",
       "      <td>1</td>\n",
       "    </tr>\n",
       "    <tr>\n",
       "      <th>1</th>\n",
       "      <td>1</td>\n",
       "      <td>2617.59</td>\n",
       "      <td>15.82</td>\n",
       "      <td>2021-01-18</td>\n",
       "      <td>1</td>\n",
       "    </tr>\n",
       "    <tr>\n",
       "      <th>2</th>\n",
       "      <td>1</td>\n",
       "      <td>754.16</td>\n",
       "      <td>6.23</td>\n",
       "      <td>2021-04-20</td>\n",
       "      <td>4</td>\n",
       "    </tr>\n",
       "  </tbody>\n",
       "</table>\n",
       "</div>"
      ],
      "text/plain": [
       "   user_id  distance  duration       date  month\n",
       "0        1   4409.92     25.60 2021-01-01      1\n",
       "1        1   2617.59     15.82 2021-01-18      1\n",
       "2        1    754.16      6.23 2021-04-20      4"
      ]
     },
     "metadata": {},
     "output_type": "display_data"
    },
    {
     "name": "stdout",
     "output_type": "stream",
     "text": [
      "<class 'pandas.core.frame.DataFrame'>\n",
      "RangeIndex: 18068 entries, 0 to 18067\n",
      "Data columns (total 5 columns):\n",
      " #   Column    Non-Null Count  Dtype         \n",
      "---  ------    --------------  -----         \n",
      " 0   user_id   18068 non-null  int64         \n",
      " 1   distance  18068 non-null  float64       \n",
      " 2   duration  18068 non-null  float64       \n",
      " 3   date      18068 non-null  datetime64[ns]\n",
      " 4   month     18068 non-null  int32         \n",
      "dtypes: datetime64[ns](1), float64(2), int32(1), int64(1)\n",
      "memory usage: 635.3 KB\n",
      "None\n",
      "\n",
      "<class 'pandas.core.frame.DataFrame'>\n",
      "RangeIndex: 1534 entries, 0 to 1533\n",
      "Data columns (total 5 columns):\n",
      " #   Column             Non-Null Count  Dtype \n",
      "---  ------             --------------  ----- \n",
      " 0   user_id            1534 non-null   int64 \n",
      " 1   name               1534 non-null   object\n",
      " 2   age                1534 non-null   int64 \n",
      " 3   city               1534 non-null   object\n",
      " 4   subscription_type  1534 non-null   object\n",
      "dtypes: int64(2), object(3)\n",
      "memory usage: 60.1+ KB\n",
      "None\n"
     ]
    }
   ],
   "source": [
    "# Проверяем результат\n",
    "\n",
    "display(rides.head(3))\n",
    "print (rides.info())\n",
    "print ('')\n",
    "print (users.info())"
   ]
  },
  {
   "cell_type": "code",
   "execution_count": 21,
   "id": "bf13f07a-5791-4ab9-a3b8-bfa3c30cdc96",
   "metadata": {},
   "outputs": [
    {
     "name": "stdout",
     "output_type": "stream",
     "text": [
      "Данные представлены за  [2021]  год\n",
      "Данные представлены за  12  месяцев\n"
     ]
    }
   ],
   "source": [
    "# Проверяем, за один ли год данные\n",
    "print (f\"Данные представлены за  {rides['date'].dt.year.unique()}  год\")\n",
    "# Проверяем, за сколько месяцев данные\n",
    "print (f\"Данные представлены за  {rides['month'].nunique()}  месяцев\")"
   ]
  },
  {
   "cell_type": "markdown",
   "id": "099b9261",
   "metadata": {},
   "source": [
    "**Результат предобработки**\n",
    "- Удалены 31 строка-дубликат в датасете users. Что составляет 1,98 % данных. \n",
    "- Изменён формат даты на формат danetime.\n",
    "- Создан столбец momnh с номером месяца на основе дат.\n",
    "- После изменения формата проверен диапазон дат, за который есть данные. "
   ]
  },
  {
   "cell_type": "markdown",
   "id": "f34d2e64",
   "metadata": {},
   "source": [
    "## Исследовательский анализ данных\n",
    "**Общая информация о пользователях и поездках**"
   ]
  },
  {
   "cell_type": "markdown",
   "id": "344f75b8",
   "metadata": {},
   "source": [
    "### Частота встречаемости городов"
   ]
  },
  {
   "cell_type": "code",
   "execution_count": 25,
   "id": "0a6883c6",
   "metadata": {},
   "outputs": [
    {
     "data": {
      "text/html": [
       "<div>\n",
       "<style scoped>\n",
       "    .dataframe tbody tr th:only-of-type {\n",
       "        vertical-align: middle;\n",
       "    }\n",
       "\n",
       "    .dataframe tbody tr th {\n",
       "        vertical-align: top;\n",
       "    }\n",
       "\n",
       "    .dataframe thead th {\n",
       "        text-align: right;\n",
       "    }\n",
       "</style>\n",
       "<table border=\"1\" class=\"dataframe\">\n",
       "  <thead>\n",
       "    <tr style=\"text-align: right;\">\n",
       "      <th></th>\n",
       "      <th>user_id</th>\n",
       "      <th>%_from_total</th>\n",
       "    </tr>\n",
       "    <tr>\n",
       "      <th>city</th>\n",
       "      <th></th>\n",
       "      <th></th>\n",
       "    </tr>\n",
       "  </thead>\n",
       "  <tbody>\n",
       "    <tr>\n",
       "      <th>Пятигорск</th>\n",
       "      <td>219</td>\n",
       "      <td>14.28</td>\n",
       "    </tr>\n",
       "    <tr>\n",
       "      <th>Екатеринбург</th>\n",
       "      <td>204</td>\n",
       "      <td>13.30</td>\n",
       "    </tr>\n",
       "    <tr>\n",
       "      <th>Ростов-на-Дону</th>\n",
       "      <td>198</td>\n",
       "      <td>12.91</td>\n",
       "    </tr>\n",
       "    <tr>\n",
       "      <th>Краснодар</th>\n",
       "      <td>193</td>\n",
       "      <td>12.58</td>\n",
       "    </tr>\n",
       "    <tr>\n",
       "      <th>Сочи</th>\n",
       "      <td>189</td>\n",
       "      <td>12.32</td>\n",
       "    </tr>\n",
       "    <tr>\n",
       "      <th>Омск</th>\n",
       "      <td>183</td>\n",
       "      <td>11.93</td>\n",
       "    </tr>\n",
       "    <tr>\n",
       "      <th>Тюмень</th>\n",
       "      <td>180</td>\n",
       "      <td>11.73</td>\n",
       "    </tr>\n",
       "    <tr>\n",
       "      <th>Москва</th>\n",
       "      <td>168</td>\n",
       "      <td>10.95</td>\n",
       "    </tr>\n",
       "  </tbody>\n",
       "</table>\n",
       "</div>"
      ],
      "text/plain": [
       "                user_id  %_from_total\n",
       "city                                 \n",
       "Пятигорск           219         14.28\n",
       "Екатеринбург        204         13.30\n",
       "Ростов-на-Дону      198         12.91\n",
       "Краснодар           193         12.58\n",
       "Сочи                189         12.32\n",
       "Омск                183         11.93\n",
       "Тюмень              180         11.73\n",
       "Москва              168         10.95"
      ]
     },
     "metadata": {},
     "output_type": "display_data"
    },
    {
     "data": {
      "image/png": "[encoded data removed]",
      "text/plain": [
       "<Figure size 800x400 with 2 Axes>"
      ]
     },
     "metadata": {},
     "output_type": "display_data"
    }
   ],
   "source": [
    "# Строим таблицу количества пользователей по городам\n",
    "count_id_cities = users.pivot_table(index='city', values=['user_id'], aggfunc={'user_id': 'count'})\n",
    "\n",
    "# Вычисляем долю города в общем количестве\n",
    "total_per_user_id = count_id_cities['user_id'].sum()\n",
    "count_id_cities['%_from_total'] = round (((count_id_cities['user_id'] / total_per_user_id) *100),2)\n",
    "\n",
    "# Сортируем данные по количеству пользователей по убыванию (по оси Y1)\n",
    "count_id_cities = count_id_cities.sort_values(by='user_id', ascending=False)\n",
    "\n",
    "# Создаем фигуру и оси\n",
    "fig, ax1 = plt.subplots(figsize=(8, 4))\n",
    "\n",
    "# Строим первый график - количество пользователей по городам\n",
    "sns.barplot(x=count_id_cities.index, y=count_id_cities['user_id'], ax=ax1, color='g')\n",
    "ax1.set_ylabel('Количество пользователей', color='g')\n",
    "ax1.tick_params(axis='y', labelcolor='g')\n",
    "\n",
    "# строим вторую ось Y2 для доли пользователей\n",
    "ax2 = ax1.twinx()\n",
    "sns.lineplot(x=count_id_cities.index, y=count_id_cities['%_from_total'], ax=ax2, color='r', marker='o')\n",
    "ax2.set_ylabel('Доля пользователей (%)', color='r')\n",
    "ax2.tick_params(axis='y', labelcolor='r')\n",
    "\n",
    "# Настройка оси X\n",
    "ax1.set_xlabel('')\n",
    "ax1.set_xticklabels(ax1.get_xticklabels(), rotation=45)\n",
    "# Настраиваем диапазон значений для второй оси Y2, чтобы график был более плоским\n",
    "ax2.set_ylim(6, 18)\n",
    "\n",
    "plt.title('Количество и доля пользователей по городам')\n",
    "plt.tight_layout()\n",
    "display (count_id_cities)\n",
    "plt.show()"
   ]
  },
  {
   "cell_type": "markdown",
   "id": "6a1edf16",
   "metadata": {},
   "source": [
    "**Наблюдения**"
   ]
  },
  {
   "cell_type": "markdown",
   "id": "d51f6b7c",
   "metadata": {},
   "source": [
    "Чаще всего в системе регистрируются пользователи из Пятигорска (14.28 %), реже всего - из Москвы (10,95 %).\\\n",
    "Разница составляет 3,33 %. На первй взгляд, не много, но Москва по численности потенциальных пользователей в десятки раз больше Пятигорска. **Следовательно, положение Москвы по данному показателю очень низкое**.\n",
    ">Возможно, это связано или с низкой доступностью сервиса в Москве, или с особенностями выборки."
   ]
  },
  {
   "cell_type": "markdown",
   "id": "e59709c9",
   "metadata": {},
   "source": [
    "### Соотношение пользователей с подпиской и без подписки"
   ]
  },
  {
   "cell_type": "code",
   "execution_count": 29,
   "id": "0975703f",
   "metadata": {},
   "outputs": [],
   "source": [
    "# ФУНКЦИЯ ГРУППИРОВКИ И СОРТИРОВКИ group_and_sort \n",
    "def group_and_sort(df, group_col1, group_col2=None, agg_col=None, agg_func='sum'):\n",
    "    # Создаем сводную таблицу с группировкой\n",
    "    if group_col2 is not None:\n",
    "        # Группируем по двум столбцам, если group_col2 указан\n",
    "        pivot_table = df.groupby([group_col1, group_col2])[agg_col].agg(agg_func).reset_index()\n",
    "    else:\n",
    "        # Группируем только по одному столбцу\n",
    "        pivot_table = df.groupby([group_col1])[agg_col].agg(agg_func).reset_index()\n",
    "\n",
    "    # Суммируем данные по group_col1, чтобы использовать для сортировки\n",
    "    group_totals = pivot_table.groupby(group_col1)[agg_col].sum().reset_index()\n",
    "\n",
    "    # Сортируем group_col1 по общему количеству агрегатных значений\n",
    "    group_totals = group_totals.sort_values(by=agg_col, ascending=False)\n",
    "\n",
    "    # Добавляем столбец с общим количеством для сортировки\n",
    "    pivot_table['group_order'] = pivot_table[group_col1].map(group_totals.set_index(group_col1)[agg_col])\n",
    "\n",
    "    # Если указана вторая группировка\n",
    "    if group_col2 is not None:\n",
    "        pivot_table = pivot_table.sort_values(by=['group_order', group_col2, agg_col], ascending=[False, True, False])\n",
    "    else:\n",
    "        pivot_table = pivot_table.sort_values(by=['group_order', agg_col], ascending=[False, False])\n",
    "\n",
    "    # Удаляем временный столбец для сортировки\n",
    "    pivot_table = pivot_table.drop(columns='group_order').reset_index(drop=True)\n",
    "\n",
    "    return pivot_table"
   ]
  },
  {
   "cell_type": "code",
   "execution_count": 30,
   "id": "614420fc",
   "metadata": {},
   "outputs": [
    {
     "data": {
      "text/html": [
       "<div>\n",
       "<style scoped>\n",
       "    .dataframe tbody tr th:only-of-type {\n",
       "        vertical-align: middle;\n",
       "    }\n",
       "\n",
       "    .dataframe tbody tr th {\n",
       "        vertical-align: top;\n",
       "    }\n",
       "\n",
       "    .dataframe thead th {\n",
       "        text-align: right;\n",
       "    }\n",
       "</style>\n",
       "<table border=\"1\" class=\"dataframe\">\n",
       "  <thead>\n",
       "    <tr style=\"text-align: right;\">\n",
       "      <th></th>\n",
       "      <th>city</th>\n",
       "      <th>subscription_type</th>\n",
       "      <th>user_id</th>\n",
       "    </tr>\n",
       "  </thead>\n",
       "  <tbody>\n",
       "    <tr>\n",
       "      <th>0</th>\n",
       "      <td>Пятигорск</td>\n",
       "      <td>free</td>\n",
       "      <td>125</td>\n",
       "    </tr>\n",
       "    <tr>\n",
       "      <th>1</th>\n",
       "      <td>Пятигорск</td>\n",
       "      <td>ultra</td>\n",
       "      <td>94</td>\n",
       "    </tr>\n",
       "    <tr>\n",
       "      <th>2</th>\n",
       "      <td>Екатеринбург</td>\n",
       "      <td>free</td>\n",
       "      <td>112</td>\n",
       "    </tr>\n",
       "    <tr>\n",
       "      <th>3</th>\n",
       "      <td>Екатеринбург</td>\n",
       "      <td>ultra</td>\n",
       "      <td>92</td>\n",
       "    </tr>\n",
       "    <tr>\n",
       "      <th>4</th>\n",
       "      <td>Ростов-на-Дону</td>\n",
       "      <td>free</td>\n",
       "      <td>109</td>\n",
       "    </tr>\n",
       "    <tr>\n",
       "      <th>5</th>\n",
       "      <td>Ростов-на-Дону</td>\n",
       "      <td>ultra</td>\n",
       "      <td>89</td>\n",
       "    </tr>\n",
       "    <tr>\n",
       "      <th>6</th>\n",
       "      <td>Краснодар</td>\n",
       "      <td>free</td>\n",
       "      <td>112</td>\n",
       "    </tr>\n",
       "    <tr>\n",
       "      <th>7</th>\n",
       "      <td>Краснодар</td>\n",
       "      <td>ultra</td>\n",
       "      <td>81</td>\n",
       "    </tr>\n",
       "    <tr>\n",
       "      <th>8</th>\n",
       "      <td>Сочи</td>\n",
       "      <td>free</td>\n",
       "      <td>103</td>\n",
       "    </tr>\n",
       "    <tr>\n",
       "      <th>9</th>\n",
       "      <td>Сочи</td>\n",
       "      <td>ultra</td>\n",
       "      <td>86</td>\n",
       "    </tr>\n",
       "    <tr>\n",
       "      <th>10</th>\n",
       "      <td>Омск</td>\n",
       "      <td>free</td>\n",
       "      <td>92</td>\n",
       "    </tr>\n",
       "    <tr>\n",
       "      <th>11</th>\n",
       "      <td>Омск</td>\n",
       "      <td>ultra</td>\n",
       "      <td>91</td>\n",
       "    </tr>\n",
       "    <tr>\n",
       "      <th>12</th>\n",
       "      <td>Тюмень</td>\n",
       "      <td>free</td>\n",
       "      <td>98</td>\n",
       "    </tr>\n",
       "    <tr>\n",
       "      <th>13</th>\n",
       "      <td>Тюмень</td>\n",
       "      <td>ultra</td>\n",
       "      <td>82</td>\n",
       "    </tr>\n",
       "    <tr>\n",
       "      <th>14</th>\n",
       "      <td>Москва</td>\n",
       "      <td>free</td>\n",
       "      <td>84</td>\n",
       "    </tr>\n",
       "    <tr>\n",
       "      <th>15</th>\n",
       "      <td>Москва</td>\n",
       "      <td>ultra</td>\n",
       "      <td>84</td>\n",
       "    </tr>\n",
       "  </tbody>\n",
       "</table>\n",
       "</div>"
      ],
      "text/plain": [
       "              city subscription_type  user_id\n",
       "0        Пятигорск              free      125\n",
       "1        Пятигорск             ultra       94\n",
       "2     Екатеринбург              free      112\n",
       "3     Екатеринбург             ultra       92\n",
       "4   Ростов-на-Дону              free      109\n",
       "5   Ростов-на-Дону             ultra       89\n",
       "6        Краснодар              free      112\n",
       "7        Краснодар             ultra       81\n",
       "8             Сочи              free      103\n",
       "9             Сочи             ultra       86\n",
       "10            Омск              free       92\n",
       "11            Омск             ultra       91\n",
       "12          Тюмень              free       98\n",
       "13          Тюмень             ultra       82\n",
       "14          Москва              free       84\n",
       "15          Москва             ultra       84"
      ]
     },
     "execution_count": 30,
     "metadata": {},
     "output_type": "execute_result"
    }
   ],
   "source": [
    "subscription_cities_count = group_and_sort(users, 'city', 'subscription_type',  'user_id',np.size)\n",
    "subscription_cities_count"
   ]
  },
  {
   "cell_type": "code",
   "execution_count": 31,
   "id": "13ee1298",
   "metadata": {
    "scrolled": true
   },
   "outputs": [
    {
     "data": {
      "image/png": "[encoded data removed]",
      "text/plain": [
       "<Figure size 1000x300 with 1 Axes>"
      ]
     },
     "metadata": {},
     "output_type": "display_data"
    }
   ],
   "source": [
    "plt.figure(figsize=(10, 3))\n",
    "# строим столбчатый график\n",
    "sns.barplot(x='city', y='user_id', data=subscription_cities_count, hue='subscription_type')\n",
    "\n",
    "#plt.yscale('log')\n",
    "\n",
    "plt.title('Распределение подписок по городам')\n",
    "plt.xlabel('')\n",
    "plt.ylabel('Количество пользователей.')\n",
    "plt.xticks(rotation=45)\n",
    "plt.legend(loc='upper right', fontsize=10)\n",
    "plt.grid()\n",
    "plt.show()"
   ]
  },
  {
   "cell_type": "markdown",
   "id": "2680a404-7239-445e-9855-55fe2a2b0c23",
   "metadata": {},
   "source": [
    "**Соотношение платных и бесплатных пользователей по городам**"
   ]
  },
  {
   "cell_type": "code",
   "execution_count": 33,
   "id": "411e0f20",
   "metadata": {},
   "outputs": [
    {
     "data": {
      "text/html": [
       "<div>\n",
       "<style scoped>\n",
       "    .dataframe tbody tr th:only-of-type {\n",
       "        vertical-align: middle;\n",
       "    }\n",
       "\n",
       "    .dataframe tbody tr th {\n",
       "        vertical-align: top;\n",
       "    }\n",
       "\n",
       "    .dataframe thead th {\n",
       "        text-align: right;\n",
       "    }\n",
       "</style>\n",
       "<table border=\"1\" class=\"dataframe\">\n",
       "  <thead>\n",
       "    <tr style=\"text-align: right;\">\n",
       "      <th>subscription_type</th>\n",
       "      <th>free</th>\n",
       "      <th>ultra</th>\n",
       "      <th>users_total</th>\n",
       "      <th>share_ultra</th>\n",
       "    </tr>\n",
       "    <tr>\n",
       "      <th>city</th>\n",
       "      <th></th>\n",
       "      <th></th>\n",
       "      <th></th>\n",
       "      <th></th>\n",
       "    </tr>\n",
       "  </thead>\n",
       "  <tbody>\n",
       "    <tr>\n",
       "      <th>Москва</th>\n",
       "      <td>84</td>\n",
       "      <td>84</td>\n",
       "      <td>168</td>\n",
       "      <td>0.50</td>\n",
       "    </tr>\n",
       "    <tr>\n",
       "      <th>Тюмень</th>\n",
       "      <td>98</td>\n",
       "      <td>82</td>\n",
       "      <td>180</td>\n",
       "      <td>0.46</td>\n",
       "    </tr>\n",
       "    <tr>\n",
       "      <th>Омск</th>\n",
       "      <td>92</td>\n",
       "      <td>91</td>\n",
       "      <td>183</td>\n",
       "      <td>0.50</td>\n",
       "    </tr>\n",
       "    <tr>\n",
       "      <th>Сочи</th>\n",
       "      <td>103</td>\n",
       "      <td>86</td>\n",
       "      <td>189</td>\n",
       "      <td>0.46</td>\n",
       "    </tr>\n",
       "    <tr>\n",
       "      <th>Краснодар</th>\n",
       "      <td>112</td>\n",
       "      <td>81</td>\n",
       "      <td>193</td>\n",
       "      <td>0.42</td>\n",
       "    </tr>\n",
       "    <tr>\n",
       "      <th>Ростов-на-Дону</th>\n",
       "      <td>109</td>\n",
       "      <td>89</td>\n",
       "      <td>198</td>\n",
       "      <td>0.45</td>\n",
       "    </tr>\n",
       "    <tr>\n",
       "      <th>Екатеринбург</th>\n",
       "      <td>112</td>\n",
       "      <td>92</td>\n",
       "      <td>204</td>\n",
       "      <td>0.45</td>\n",
       "    </tr>\n",
       "    <tr>\n",
       "      <th>Пятигорск</th>\n",
       "      <td>125</td>\n",
       "      <td>94</td>\n",
       "      <td>219</td>\n",
       "      <td>0.43</td>\n",
       "    </tr>\n",
       "  </tbody>\n",
       "</table>\n",
       "</div>"
      ],
      "text/plain": [
       "subscription_type  free  ultra  users_total  share_ultra\n",
       "city                                                    \n",
       "Москва               84     84          168         0.50\n",
       "Тюмень               98     82          180         0.46\n",
       "Омск                 92     91          183         0.50\n",
       "Сочи                103     86          189         0.46\n",
       "Краснодар           112     81          193         0.42\n",
       "Ростов-на-Дону      109     89          198         0.45\n",
       "Екатеринбург        112     92          204         0.45\n",
       "Пятигорск           125     94          219         0.43"
      ]
     },
     "execution_count": 33,
     "metadata": {},
     "output_type": "execute_result"
    }
   ],
   "source": [
    "#Рассчитаем соотношение платных и бесплатных пользователей по городам.\n",
    "subscription_cities_share = users.pivot_table(index='subscription_type', columns='city', values='user_id', aggfunc='count').T\n",
    "\n",
    "subscription_cities_share['users_total'] = subscription_cities_share['free']+subscription_cities_share['ultra']\n",
    "subscription_cities_share['share_ultra'] = subscription_cities_share['ultra']/ subscription_cities_share['users_total']\n",
    "subscription_cities_share = subscription_cities_share.sort_values(by='users_total', ascending=True)\n",
    "subscription_cities_share"
   ]
  },
  {
   "cell_type": "code",
   "execution_count": 34,
   "id": "2627635a",
   "metadata": {},
   "outputs": [
    {
     "data": {
      "image/png": "[encoded data removed]",
      "text/plain": [
       "<Figure size 900x300 with 2 Axes>"
      ]
     },
     "metadata": {},
     "output_type": "display_data"
    }
   ],
   "source": [
    "fig, ax1 = plt.subplots(figsize=(9, 3))\n",
    "\n",
    "# Первая диаграмма - количество пользователей\n",
    "ax1.plot(subscription_cities_share.index, subscription_cities_share['users_total'], marker='o', color='b', label='users_total')\n",
    "ax1.set_xlabel('')\n",
    "ax1.set_ylabel('users_total')\n",
    "ax1.grid(True)\n",
    "ax1.set_title('Города - количество пользователей и доля платящих')\n",
    "\n",
    "# Поворачиваем подписи оси X на 45 градусов\n",
    "ax1.set_xticks(range(len(subscription_cities_share.index)))\n",
    "ax1.set_xticklabels(subscription_cities_share.index, rotation=45)\n",
    "\n",
    "# Вторая ось Y\n",
    "ax2 = ax1.twinx()\n",
    "\n",
    "# Вторая диаграмма - доля заплативших в процентах\n",
    "ax2.plot(subscription_cities_share.index, subscription_cities_share['share_ultra'], marker='o', color='r', label='share_ultra')\n",
    "ax2.set_ylabel('share_ultra (%)')\n",
    "ax2.grid(False)\n",
    "\n",
    "# Настройки легенды\n",
    "ax1.legend(loc='upper right')\n",
    "ax2.legend(loc='lower right')\n",
    "\n",
    "plt.show()\n"
   ]
  },
  {
   "cell_type": "markdown",
   "id": "df3cb9b4",
   "metadata": {},
   "source": [
    "**Наблюдения**"
   ]
  },
  {
   "cell_type": "markdown",
   "id": "efbf020b",
   "metadata": {},
   "source": [
    "Во всех городах количество бесплатных пользователей больше, чем платных.\\\n",
    "За исключением Москвы, где эти количества практически равны. Но мы помним, что позиция Москвы с учвётом населения - аномальна. "
   ]
  },
  {
   "cell_type": "markdown",
   "id": "fd607d2e",
   "metadata": {},
   "source": [
    "Доля платных пользователей по всем городам сопоставима - от 43 до 50 процентов.\\\n",
    "**С ростом количества пользователей, доля платных подписок падает**.\n",
    "\n"
   ]
  },
  {
   "cell_type": "markdown",
   "id": "75a034cb",
   "metadata": {},
   "source": [
    "### Возраст пользователей"
   ]
  },
  {
   "cell_type": "markdown",
   "id": "6ff359f3",
   "metadata": {},
   "source": [
    "#### Распределение пользователей по возрастам"
   ]
  },
  {
   "cell_type": "code",
   "execution_count": 40,
   "id": "b0dd39c5",
   "metadata": {},
   "outputs": [
    {
     "data": {
      "image/png": "[encoded data removed]",
      "text/plain": [
       "<Figure size 800x300 with 1 Axes>"
      ]
     },
     "metadata": {},
     "output_type": "display_data"
    }
   ],
   "source": [
    "# Гистограмма для age в users\n",
    "users['age'].hist(bins=100,figsize=(8, 3))\n",
    "# Добавление заголовка, подписей осей и легенды\n",
    "plt.title('Распределение пользователей по возрастам')\n",
    "plt.xlabel('Возраст')\n",
    "plt.ylabel('Количество пользователей')\n",
    "plt.show()"
   ]
  },
  {
   "cell_type": "code",
   "execution_count": 41,
   "id": "54f76ef1",
   "metadata": {},
   "outputs": [
    {
     "data": {
      "image/png": "[encoded data removed]",
      "text/plain": [
       "<Figure size 800x300 with 1 Axes>"
      ]
     },
     "metadata": {},
     "output_type": "display_data"
    }
   ],
   "source": [
    "# Строим ящик с усами для age (других числовых столбцов в датасете нет)\n",
    "plt.figure(figsize=(8, 3))\n",
    "#sns.boxplot(data=users)\n",
    "age_box = sns.boxplot(data=users['age'])  # Сохраняем объект оси в переменную ax\n",
    "\n",
    "plt.title('Распределение для age')\n",
    "#plt.xlabel('Возраст')\n",
    "plt.show()"
   ]
  },
  {
   "cell_type": "code",
   "execution_count": 42,
   "id": "6bbfa9b3",
   "metadata": {},
   "outputs": [],
   "source": [
    "# ФУНКЦИЯ РАСЧЁТА СТАТИСТИКИ calculate_statistics\n",
    "\n",
    "def calculate_statistics(data, column):\n",
    "    # Среднее значение\n",
    "    mean_value = np.mean(data[column])\n",
    "    # Стандартное отклонение\n",
    "    std_value = np.std(data[column], ddof=1)\n",
    "    # Минимальное значение\n",
    "    min_value = np.min(data[column])\n",
    "    # 25-й процентиль (первая кварть)\n",
    "    p25 = np.percentile(data[column], 25)\n",
    "    # Медиана (50-й процентиль)\n",
    "    median_value = np.percentile(data[column], 50)\n",
    "    # 75-й процентиль (третья кварть)\n",
    "    p75 = np.percentile(data[column], 75)\n",
    "    # Максимальное значение\n",
    "    max_value = np.max(data[column])\n",
    "    # Межквартильный размах (IQR)\n",
    "    iqr_value = stats.iqr(data[column])\n",
    "    # Границы усов для ящика с усами\n",
    "    lower_whisker = p25 - 1.5 * iqr_value\n",
    "    upper_whisker = p75 + 1.5 * iqr_value\n",
    "\n",
    "    # Создаём DataFrame с результатами\n",
    "    result_df = pd.DataFrame({\n",
    "        'Metric': ['Mean', 'Std', 'Min', 'P25', 'Median', 'P75', 'Max', 'IQR', 'Lower Whisker', 'Upper Whisker'],\n",
    "        'Value': [mean_value, std_value, min_value, p25, median_value, p75, max_value, iqr_value, lower_whisker, upper_whisker]\n",
    "    })\n",
    "\n",
    "    return result_df"
   ]
  },
  {
   "cell_type": "code",
   "execution_count": 43,
   "id": "85f53109",
   "metadata": {
    "scrolled": true
   },
   "outputs": [
    {
     "data": {
      "text/html": [
       "<div>\n",
       "<style scoped>\n",
       "    .dataframe tbody tr th:only-of-type {\n",
       "        vertical-align: middle;\n",
       "    }\n",
       "\n",
       "    .dataframe tbody tr th {\n",
       "        vertical-align: top;\n",
       "    }\n",
       "\n",
       "    .dataframe thead th {\n",
       "        text-align: right;\n",
       "    }\n",
       "</style>\n",
       "<table border=\"1\" class=\"dataframe\">\n",
       "  <thead>\n",
       "    <tr style=\"text-align: right;\">\n",
       "      <th></th>\n",
       "      <th>Metric</th>\n",
       "      <th>Value</th>\n",
       "    </tr>\n",
       "  </thead>\n",
       "  <tbody>\n",
       "    <tr>\n",
       "      <th>0</th>\n",
       "      <td>Mean</td>\n",
       "      <td>24.90</td>\n",
       "    </tr>\n",
       "    <tr>\n",
       "      <th>1</th>\n",
       "      <td>Std</td>\n",
       "      <td>4.57</td>\n",
       "    </tr>\n",
       "    <tr>\n",
       "      <th>2</th>\n",
       "      <td>Min</td>\n",
       "      <td>12.00</td>\n",
       "    </tr>\n",
       "    <tr>\n",
       "      <th>3</th>\n",
       "      <td>P25</td>\n",
       "      <td>22.00</td>\n",
       "    </tr>\n",
       "    <tr>\n",
       "      <th>4</th>\n",
       "      <td>Median</td>\n",
       "      <td>25.00</td>\n",
       "    </tr>\n",
       "    <tr>\n",
       "      <th>5</th>\n",
       "      <td>P75</td>\n",
       "      <td>28.00</td>\n",
       "    </tr>\n",
       "    <tr>\n",
       "      <th>6</th>\n",
       "      <td>Max</td>\n",
       "      <td>43.00</td>\n",
       "    </tr>\n",
       "    <tr>\n",
       "      <th>7</th>\n",
       "      <td>IQR</td>\n",
       "      <td>6.00</td>\n",
       "    </tr>\n",
       "    <tr>\n",
       "      <th>8</th>\n",
       "      <td>Lower Whisker</td>\n",
       "      <td>13.00</td>\n",
       "    </tr>\n",
       "    <tr>\n",
       "      <th>9</th>\n",
       "      <td>Upper Whisker</td>\n",
       "      <td>37.00</td>\n",
       "    </tr>\n",
       "  </tbody>\n",
       "</table>\n",
       "</div>"
      ],
      "text/plain": [
       "          Metric  Value\n",
       "0           Mean  24.90\n",
       "1            Std   4.57\n",
       "2            Min  12.00\n",
       "3            P25  22.00\n",
       "4         Median  25.00\n",
       "5            P75  28.00\n",
       "6            Max  43.00\n",
       "7            IQR   6.00\n",
       "8  Lower Whisker  13.00\n",
       "9  Upper Whisker  37.00"
      ]
     },
     "metadata": {},
     "output_type": "display_data"
    }
   ],
   "source": [
    "# вызаем функцию calculate_statistics\n",
    "user_age_stat = calculate_statistics(users, 'age')\n",
    "\n",
    "# Выводим таблицу с результатами\n",
    "display(user_age_stat)\n"
   ]
  },
  {
   "cell_type": "markdown",
   "id": "d5a42ba4",
   "metadata": {},
   "source": [
    "**Наблюдения**"
   ]
  },
  {
   "cell_type": "markdown",
   "id": "ab07bc58",
   "metadata": {},
   "source": [
    "Распределение пользоватедей по возрастам близко к стандартному.\\\n",
    "Половина пользователей находятся в границай 22-28 лет со стандартным отклонение 4,57 года\\\n",
    "Средний возраст - 24,9 лет.\n",
    "Основная масса данных находится в диапазоне 13- 37 лет.\n",
    "Нетипичных данных (выбросов) нет. "
   ]
  },
  {
   "cell_type": "markdown",
   "id": "42e63bc2",
   "metadata": {},
   "source": [
    "#### Распределение возрастов по городам"
   ]
  },
  {
   "cell_type": "code",
   "execution_count": 47,
   "id": "9f59ae47",
   "metadata": {},
   "outputs": [
    {
     "data": {
      "text/html": [
       "<div>\n",
       "<style scoped>\n",
       "    .dataframe tbody tr th:only-of-type {\n",
       "        vertical-align: middle;\n",
       "    }\n",
       "\n",
       "    .dataframe tbody tr th {\n",
       "        vertical-align: top;\n",
       "    }\n",
       "\n",
       "    .dataframe thead th {\n",
       "        text-align: right;\n",
       "    }\n",
       "</style>\n",
       "<table border=\"1\" class=\"dataframe\">\n",
       "  <thead>\n",
       "    <tr style=\"text-align: right;\">\n",
       "      <th></th>\n",
       "      <th>city</th>\n",
       "      <th>age</th>\n",
       "    </tr>\n",
       "  </thead>\n",
       "  <tbody>\n",
       "    <tr>\n",
       "      <th>0</th>\n",
       "      <td>Омск</td>\n",
       "      <td>25.38</td>\n",
       "    </tr>\n",
       "    <tr>\n",
       "      <th>1</th>\n",
       "      <td>Краснодар</td>\n",
       "      <td>25.29</td>\n",
       "    </tr>\n",
       "    <tr>\n",
       "      <th>2</th>\n",
       "      <td>Москва</td>\n",
       "      <td>25.27</td>\n",
       "    </tr>\n",
       "    <tr>\n",
       "      <th>3</th>\n",
       "      <td>Екатеринбург</td>\n",
       "      <td>24.96</td>\n",
       "    </tr>\n",
       "    <tr>\n",
       "      <th>4</th>\n",
       "      <td>Пятигорск</td>\n",
       "      <td>24.72</td>\n",
       "    </tr>\n",
       "    <tr>\n",
       "      <th>5</th>\n",
       "      <td>Тюмень</td>\n",
       "      <td>24.64</td>\n",
       "    </tr>\n",
       "    <tr>\n",
       "      <th>6</th>\n",
       "      <td>Ростов-на-Дону</td>\n",
       "      <td>24.55</td>\n",
       "    </tr>\n",
       "    <tr>\n",
       "      <th>7</th>\n",
       "      <td>Сочи</td>\n",
       "      <td>24.51</td>\n",
       "    </tr>\n",
       "  </tbody>\n",
       "</table>\n",
       "</div>"
      ],
      "text/plain": [
       "             city   age\n",
       "0            Омск 25.38\n",
       "1       Краснодар 25.29\n",
       "2          Москва 25.27\n",
       "3    Екатеринбург 24.96\n",
       "4       Пятигорск 24.72\n",
       "5          Тюмень 24.64\n",
       "6  Ростов-на-Дону 24.55\n",
       "7            Сочи 24.51"
      ]
     },
     "execution_count": 47,
     "metadata": {},
     "output_type": "execute_result"
    }
   ],
   "source": [
    "# Строим таблицу (функцией group_and_sort)\n",
    "age_cities_mean = group_and_sort(users, 'city', None,  'age',np.mean)\n",
    "age_cities_mean"
   ]
  },
  {
   "cell_type": "code",
   "execution_count": 48,
   "id": "daaa64dd",
   "metadata": {},
   "outputs": [
    {
     "name": "stdout",
     "output_type": "stream",
     "text": [
      "Стандартное отклонение 0.34\n"
     ]
    }
   ],
   "source": [
    "# Считаем стандартное отклонение\n",
    "mean = age_cities_mean['age'].mean()\n",
    "var = 0\n",
    "for i in age_cities_mean['age']:\n",
    "    var += (i - mean) * (i - mean)\n",
    "var /= len(age_cities_mean['age'])\n",
    "std = var**0.5 # извлекаем корень\n",
    "\n",
    "print(f'Стандартное отклонение {round(std, 2)}')"
   ]
  },
  {
   "cell_type": "markdown",
   "id": "8a09f5c3",
   "metadata": {},
   "source": [
    "**Наблюдения**"
   ]
  },
  {
   "cell_type": "markdown",
   "id": "e0d95c71",
   "metadata": {},
   "source": [
    "Средний возраст пользователей с расчётом по городам имеет незначительный разброс, меньше 1 года и лежит а диапазоне 24,51 - 25.38 лет.\\\n",
    "Так как суммарные данные по всем городам имеют стандартное распределение, группируются вокруг среднего значения 24,9 с отклонением всего 0,34 года, то **делать разбивку возрастов по городам представляется не целесообразным**.   "
   ]
  },
  {
   "cell_type": "markdown",
   "id": "bc6ac8e9",
   "metadata": {},
   "source": [
    "#### Распределение подписок по возрастам"
   ]
  },
  {
   "cell_type": "code",
   "execution_count": 52,
   "id": "c21a8ffb",
   "metadata": {
    "scrolled": true
   },
   "outputs": [
    {
     "data": {
      "image/png": "[encoded data removed]",
      "text/plain": [
       "<Figure size 800x300 with 1 Axes>"
      ]
     },
     "metadata": {},
     "output_type": "display_data"
    }
   ],
   "source": [
    "# Раpделяем данные и строим гистограммы\n",
    "filtered_free = users.query(\"subscription_type == 'free'\")\n",
    "filtered_ultra = users.query(\"subscription_type == 'ultra'\")\n",
    "\n",
    "filtered_free['age'].hist(bins=60,figsize=(8, 3), label='Free');\n",
    "filtered_ultra['age'].hist(bins=60,figsize=(8, 3), alpha=0.8, label='ultra')\n",
    "\n",
    "# Добавление заголовка, подписей осей и легенды\n",
    "plt.title('Распределение возрастов по типу подписки')\n",
    "plt.xlabel('Возраст')\n",
    "plt.ylabel('Количество пользователей')\n",
    "plt.legend(loc='upper right')\n",
    "plt.show()"
   ]
  },
  {
   "cell_type": "markdown",
   "id": "9d48b2b2",
   "metadata": {},
   "source": [
    "Распределение пользователей по возрастам в том и другом виде подписок имеет различие.\\\n",
    "Посмотрим, в чём оно заключается."
   ]
  },
  {
   "cell_type": "markdown",
   "id": "e2a5810e",
   "metadata": {},
   "source": [
    "**Исследуем параметры распределения в той и другой группе**"
   ]
  },
  {
   "cell_type": "code",
   "execution_count": 55,
   "id": "9b53b22e",
   "metadata": {},
   "outputs": [
    {
     "data": {
      "image/png": "[encoded data removed]",
      "text/plain": [
       "<Figure size 1000x400 with 2 Axes>"
      ]
     },
     "metadata": {},
     "output_type": "display_data"
    }
   ],
   "source": [
    "# Создаем фигуру с двумя подграфиками\n",
    "fig, ax = plt.subplots(1, 2, figsize=(10, 4))\n",
    "\n",
    "# Первый ящик с усами (например, для возраста)\n",
    "age_dox_free = sns.boxplot(data=filtered_free, y='age', ax=ax[0])\n",
    "ax[0].set_title('Распределение для free')\n",
    "\n",
    "# Второй ящик с усами (например, для другого параметра, например, города)\n",
    "age_dox_ultra = sns.boxplot(data=filtered_ultra, y='age', ax=ax[1])\n",
    "ax[1].set_title('Распределение для ultra')\n",
    "\n",
    "plt.tight_layout()  # Подгоняем расположение графиков\n",
    "plt.show()\n",
    "\n",
    "#age_box = sns.boxplot(data=users['age'])"
   ]
  },
  {
   "cell_type": "code",
   "execution_count": 56,
   "id": "3c8a8fdf",
   "metadata": {},
   "outputs": [
    {
     "name": "stdout",
     "output_type": "stream",
     "text": [
      "age stat\n"
     ]
    },
    {
     "data": {
      "text/html": [
       "<div>\n",
       "<style scoped>\n",
       "    .dataframe tbody tr th:only-of-type {\n",
       "        vertical-align: middle;\n",
       "    }\n",
       "\n",
       "    .dataframe tbody tr th {\n",
       "        vertical-align: top;\n",
       "    }\n",
       "\n",
       "    .dataframe thead th {\n",
       "        text-align: right;\n",
       "    }\n",
       "</style>\n",
       "<table border=\"1\" class=\"dataframe\">\n",
       "  <thead>\n",
       "    <tr style=\"text-align: right;\">\n",
       "      <th></th>\n",
       "      <th>Metric</th>\n",
       "      <th>Value_free</th>\n",
       "      <th>Value_ultra</th>\n",
       "    </tr>\n",
       "  </thead>\n",
       "  <tbody>\n",
       "    <tr>\n",
       "      <th>0</th>\n",
       "      <td>Mean</td>\n",
       "      <td>24.87</td>\n",
       "      <td>24.94</td>\n",
       "    </tr>\n",
       "    <tr>\n",
       "      <th>1</th>\n",
       "      <td>Std</td>\n",
       "      <td>4.43</td>\n",
       "      <td>4.74</td>\n",
       "    </tr>\n",
       "    <tr>\n",
       "      <th>2</th>\n",
       "      <td>Min</td>\n",
       "      <td>12.00</td>\n",
       "      <td>12.00</td>\n",
       "    </tr>\n",
       "    <tr>\n",
       "      <th>3</th>\n",
       "      <td>P25</td>\n",
       "      <td>22.00</td>\n",
       "      <td>22.00</td>\n",
       "    </tr>\n",
       "    <tr>\n",
       "      <th>4</th>\n",
       "      <td>Median</td>\n",
       "      <td>25.00</td>\n",
       "      <td>25.00</td>\n",
       "    </tr>\n",
       "    <tr>\n",
       "      <th>5</th>\n",
       "      <td>P75</td>\n",
       "      <td>28.00</td>\n",
       "      <td>28.00</td>\n",
       "    </tr>\n",
       "    <tr>\n",
       "      <th>6</th>\n",
       "      <td>Max</td>\n",
       "      <td>43.00</td>\n",
       "      <td>38.00</td>\n",
       "    </tr>\n",
       "    <tr>\n",
       "      <th>7</th>\n",
       "      <td>IQR</td>\n",
       "      <td>6.00</td>\n",
       "      <td>6.00</td>\n",
       "    </tr>\n",
       "    <tr>\n",
       "      <th>8</th>\n",
       "      <td>Lower Whisker</td>\n",
       "      <td>13.00</td>\n",
       "      <td>13.00</td>\n",
       "    </tr>\n",
       "    <tr>\n",
       "      <th>9</th>\n",
       "      <td>Upper Whisker</td>\n",
       "      <td>37.00</td>\n",
       "      <td>37.00</td>\n",
       "    </tr>\n",
       "  </tbody>\n",
       "</table>\n",
       "</div>"
      ],
      "text/plain": [
       "          Metric  Value_free  Value_ultra\n",
       "0           Mean       24.87        24.94\n",
       "1            Std        4.43         4.74\n",
       "2            Min       12.00        12.00\n",
       "3            P25       22.00        22.00\n",
       "4         Median       25.00        25.00\n",
       "5            P75       28.00        28.00\n",
       "6            Max       43.00        38.00\n",
       "7            IQR        6.00         6.00\n",
       "8  Lower Whisker       13.00        13.00\n",
       "9  Upper Whisker       37.00        37.00"
      ]
     },
     "metadata": {},
     "output_type": "display_data"
    }
   ],
   "source": [
    "# вызаем функцию calculate_statistics для filtered_free\n",
    "age_free_stat = calculate_statistics(filtered_free, 'age')\n",
    "\n",
    "# вызаем функцию calculate_statistics для filtered_ultra\n",
    "age_ultra_stat = calculate_statistics(filtered_ultra, 'age')\n",
    "\n",
    "# Объединяем\n",
    "age_free_ultra_stat = age_free_stat.merge(age_ultra_stat, on = 'Metric', how = 'left')\n",
    "# Переименовываем столбцы в более логичные\n",
    "age_free_ultra_stat = age_free_ultra_stat.rename(columns={'Value_x': 'Value_free',\n",
    "                                                'Value_y': 'Value_ultra'})\n",
    "\n",
    "# Выводим таблицу с результатами\n",
    "print ('age stat')\n",
    "display(age_free_ultra_stat)\n"
   ]
  },
  {
   "cell_type": "markdown",
   "id": "6e9a5c5f",
   "metadata": {},
   "source": [
    "**Наблюдения**"
   ]
  },
  {
   "cell_type": "markdown",
   "id": "961ffd17",
   "metadata": {},
   "source": [
    "Распределение платных и бесплатных подписок во многом схоже.\\\n",
    "Различие в стандартном отклонении 4,43 у бесплатных и  4,74 у платных, показвает более равномерное распределение платных подписок по возрастам.\\\n",
    "И в той и в другой группе наибольшаое количество пользователей сосредоточено в возрастном диапазоне 22-28 лет."
   ]
  },
  {
   "cell_type": "markdown",
   "id": "98c68ef3",
   "metadata": {},
   "source": [
    "На совмещйнной гистограмме видно, что:\n",
    "- **в диапазоне наиболее активных возрастов, составляющищих 50% всех польльзователей - 22-28 лет - бесплатные пользователи преобладают**,\n",
    "-  в группе от 29 лет - преобладают платные подписки."
   ]
  },
  {
   "cell_type": "markdown",
   "id": "8ff3f585",
   "metadata": {},
   "source": [
    "### Расстояние, которое пользователь преодолел за одну поездку"
   ]
  },
  {
   "cell_type": "code",
   "execution_count": 61,
   "id": "63584b94",
   "metadata": {},
   "outputs": [
    {
     "data": {
      "image/png": "[encoded data removed]",
      "text/plain": [
       "<Figure size 800x300 with 1 Axes>"
      ]
     },
     "metadata": {},
     "output_type": "display_data"
    }
   ],
   "source": [
    "# Гистограмма для distance в rides\n",
    "rides['distance'].hist(bins=300,figsize=(8, 3))\n",
    "# Добавление заголовка, подписей осей и легенды\n",
    "plt.title('Расспределение расстояния поездок')\n",
    "plt.xlabel('Расстояние (метр)')\n",
    "plt.ylabel('Количество поездок')\n",
    "plt.show()"
   ]
  },
  {
   "cell_type": "code",
   "execution_count": 62,
   "id": "ff9aedfe",
   "metadata": {},
   "outputs": [],
   "source": [
    "#distance_box = sns.boxplot(data=rides['distance'])\n",
    "#distance_box"
   ]
  },
  {
   "cell_type": "code",
   "execution_count": 63,
   "id": "c26b7c57",
   "metadata": {},
   "outputs": [
    {
     "data": {
      "text/html": [
       "<div>\n",
       "<style scoped>\n",
       "    .dataframe tbody tr th:only-of-type {\n",
       "        vertical-align: middle;\n",
       "    }\n",
       "\n",
       "    .dataframe tbody tr th {\n",
       "        vertical-align: top;\n",
       "    }\n",
       "\n",
       "    .dataframe thead th {\n",
       "        text-align: right;\n",
       "    }\n",
       "</style>\n",
       "<table border=\"1\" class=\"dataframe\">\n",
       "  <thead>\n",
       "    <tr style=\"text-align: right;\">\n",
       "      <th></th>\n",
       "      <th>Metric</th>\n",
       "      <th>Value</th>\n",
       "    </tr>\n",
       "  </thead>\n",
       "  <tbody>\n",
       "    <tr>\n",
       "      <th>0</th>\n",
       "      <td>Mean</td>\n",
       "      <td>3070.66</td>\n",
       "    </tr>\n",
       "    <tr>\n",
       "      <th>1</th>\n",
       "      <td>Std</td>\n",
       "      <td>1116.83</td>\n",
       "    </tr>\n",
       "    <tr>\n",
       "      <th>2</th>\n",
       "      <td>Min</td>\n",
       "      <td>0.86</td>\n",
       "    </tr>\n",
       "    <tr>\n",
       "      <th>3</th>\n",
       "      <td>P25</td>\n",
       "      <td>2543.23</td>\n",
       "    </tr>\n",
       "    <tr>\n",
       "      <th>4</th>\n",
       "      <td>Median</td>\n",
       "      <td>3133.61</td>\n",
       "    </tr>\n",
       "    <tr>\n",
       "      <th>5</th>\n",
       "      <td>P75</td>\n",
       "      <td>3776.22</td>\n",
       "    </tr>\n",
       "    <tr>\n",
       "      <th>6</th>\n",
       "      <td>Max</td>\n",
       "      <td>7211.01</td>\n",
       "    </tr>\n",
       "    <tr>\n",
       "      <th>7</th>\n",
       "      <td>IQR</td>\n",
       "      <td>1233.00</td>\n",
       "    </tr>\n",
       "    <tr>\n",
       "      <th>8</th>\n",
       "      <td>Lower Whisker</td>\n",
       "      <td>693.73</td>\n",
       "    </tr>\n",
       "    <tr>\n",
       "      <th>9</th>\n",
       "      <td>Upper Whisker</td>\n",
       "      <td>5625.72</td>\n",
       "    </tr>\n",
       "  </tbody>\n",
       "</table>\n",
       "</div>"
      ],
      "text/plain": [
       "          Metric   Value\n",
       "0           Mean 3070.66\n",
       "1            Std 1116.83\n",
       "2            Min    0.86\n",
       "3            P25 2543.23\n",
       "4         Median 3133.61\n",
       "5            P75 3776.22\n",
       "6            Max 7211.01\n",
       "7            IQR 1233.00\n",
       "8  Lower Whisker  693.73\n",
       "9  Upper Whisker 5625.72"
      ]
     },
     "metadata": {},
     "output_type": "display_data"
    }
   ],
   "source": [
    "# вызаем функцию calculate_statistic\n",
    "distance_stat = calculate_statistics(rides, 'distance')\n",
    "\n",
    "# Выводим таблицу с результатами\n",
    "display(distance_stat)\n"
   ]
  },
  {
   "cell_type": "markdown",
   "id": "38b52334",
   "metadata": {},
   "source": [
    "Мы получили гистограмму с неравномерностью в области 0-1500 м.\n",
    ">Можно предполодить, что сегмент \"Короткие поездки\" стоит выделить как самостоятельный.\n",
    ">Проверим это предположение, выяснив - этот феномен свойственнен всем городам, или мы имеем дело с влиянием какого-то одного города.\\\n",
    ">Для этого **сравним показатель средней дистанции по городам с полученным общим средним**.\\\n",
    ">Если средние значения будут сильно отличаться друг от друга и от общего среднего, то феномен зависит от города.\\\n",
    ">**Если разница будет невелика, то данное распределение в той или иной форме можно обнаружить в лбьом городе**."
   ]
  },
  {
   "cell_type": "code",
   "execution_count": 65,
   "id": "e878dc44",
   "metadata": {
    "scrolled": true
   },
   "outputs": [
    {
     "name": "stdout",
     "output_type": "stream",
     "text": [
      "Общее среднее расстояние поездок с учётом округлений: 3070.53\n"
     ]
    },
    {
     "data": {
      "text/html": [
       "<div>\n",
       "<style scoped>\n",
       "    .dataframe tbody tr th:only-of-type {\n",
       "        vertical-align: middle;\n",
       "    }\n",
       "\n",
       "    .dataframe tbody tr th {\n",
       "        vertical-align: top;\n",
       "    }\n",
       "\n",
       "    .dataframe thead th {\n",
       "        text-align: right;\n",
       "    }\n",
       "</style>\n",
       "<table border=\"1\" class=\"dataframe\">\n",
       "  <thead>\n",
       "    <tr style=\"text-align: right;\">\n",
       "      <th></th>\n",
       "      <th>city</th>\n",
       "      <th>distance</th>\n",
       "      <th>diff_mean</th>\n",
       "      <th>diff_share_%</th>\n",
       "    </tr>\n",
       "  </thead>\n",
       "  <tbody>\n",
       "    <tr>\n",
       "      <th>0</th>\n",
       "      <td>Пятигорск</td>\n",
       "      <td>3118.68</td>\n",
       "      <td>48.14</td>\n",
       "      <td>1.54</td>\n",
       "    </tr>\n",
       "    <tr>\n",
       "      <th>1</th>\n",
       "      <td>Екатеринбург</td>\n",
       "      <td>3110.91</td>\n",
       "      <td>40.38</td>\n",
       "      <td>1.30</td>\n",
       "    </tr>\n",
       "    <tr>\n",
       "      <th>2</th>\n",
       "      <td>Москва</td>\n",
       "      <td>3101.00</td>\n",
       "      <td>30.46</td>\n",
       "      <td>0.98</td>\n",
       "    </tr>\n",
       "    <tr>\n",
       "      <th>3</th>\n",
       "      <td>Тюмень</td>\n",
       "      <td>3076.24</td>\n",
       "      <td>5.71</td>\n",
       "      <td>0.19</td>\n",
       "    </tr>\n",
       "    <tr>\n",
       "      <th>4</th>\n",
       "      <td>Краснодар</td>\n",
       "      <td>3054.30</td>\n",
       "      <td>-16.24</td>\n",
       "      <td>-0.53</td>\n",
       "    </tr>\n",
       "    <tr>\n",
       "      <th>5</th>\n",
       "      <td>Сочи</td>\n",
       "      <td>3052.96</td>\n",
       "      <td>-17.57</td>\n",
       "      <td>-0.58</td>\n",
       "    </tr>\n",
       "    <tr>\n",
       "      <th>6</th>\n",
       "      <td>Омск</td>\n",
       "      <td>3038.68</td>\n",
       "      <td>-31.85</td>\n",
       "      <td>-1.05</td>\n",
       "    </tr>\n",
       "    <tr>\n",
       "      <th>7</th>\n",
       "      <td>Ростов-на-Дону</td>\n",
       "      <td>3011.51</td>\n",
       "      <td>-59.03</td>\n",
       "      <td>-1.96</td>\n",
       "    </tr>\n",
       "  </tbody>\n",
       "</table>\n",
       "</div>"
      ],
      "text/plain": [
       "             city  distance  diff_mean  diff_share_%\n",
       "0       Пятигорск   3118.68      48.14          1.54\n",
       "1    Екатеринбург   3110.91      40.38          1.30\n",
       "2          Москва   3101.00      30.46          0.98\n",
       "3          Тюмень   3076.24       5.71          0.19\n",
       "4       Краснодар   3054.30     -16.24         -0.53\n",
       "5            Сочи   3052.96     -17.57         -0.58\n",
       "6            Омск   3038.68     -31.85         -1.05\n",
       "7  Ростов-на-Дону   3011.51     -59.03         -1.96"
      ]
     },
     "execution_count": 65,
     "metadata": {},
     "output_type": "execute_result"
    }
   ],
   "source": [
    "# Строим таблицу\n",
    "rides_n_cities = rides.merge(users, on = 'user_id', how = 'left')\n",
    "\n",
    "distance_cities_mean = group_and_sort(rides_n_cities, 'city', None,  'distance',np.mean)\n",
    "distance_cities_mean['diff_mean'] = (distance_cities_mean['distance'].mean() - distance_cities_mean ['distance'])*(-1)\n",
    "distance_cities_mean['diff_share_%'] = distance_cities_mean['diff_mean'] / distance_cities_mean ['distance']*100\n",
    "print (f'Общее среднее расстояние поездок с учётом округлений: {round(distance_cities_mean[\"distance\"].mean(),2)}')\n",
    "\n",
    "distance_cities_mean"
   ]
  },
  {
   "cell_type": "markdown",
   "id": "085bba6d",
   "metadata": {},
   "source": [
    "**Наблюдения**"
   ]
  },
  {
   "cell_type": "markdown",
   "id": "fa2a8ca0",
   "metadata": {},
   "source": [
    "Средние дистанции по городам очень близки. Их отличие от общего среднего не превышает 2 процентов.\n",
    "\n",
    "**Вывод**:\n",
    "- Полученное распределение с особой группой коротких поездок характерно для всех городов.\n",
    "- Целесообразно выделить группу \"Короткие поездки\" в отдельную категорию."
   ]
  },
  {
   "cell_type": "markdown",
   "id": "4f4c1a40",
   "metadata": {},
   "source": [
    "### Продолжительность поездок"
   ]
  },
  {
   "cell_type": "code",
   "execution_count": 69,
   "id": "9b32e1b9",
   "metadata": {
    "scrolled": true
   },
   "outputs": [
    {
     "data": {
      "image/png": "[encoded data removed]",
      "text/plain": [
       "<Figure size 800x300 with 1 Axes>"
      ]
     },
     "metadata": {},
     "output_type": "display_data"
    }
   ],
   "source": [
    "# Гистограмма для duration в rides\n",
    "rides['duration'].hist(bins=300,figsize=(8, 3))\n",
    "# Добавление заголовка, подписей осей и легенды\n",
    "plt.title('Расспределение продолжительности поездок')\n",
    "plt.xlabel('Время (мин)')\n",
    "plt.ylabel('Количество поездок')\n",
    "plt.show()"
   ]
  },
  {
   "cell_type": "markdown",
   "id": "6051ad55",
   "metadata": {},
   "source": [
    "Обращает на себя внимание пик в районе меньше 1 минуты.\\\n",
    "**Проверим, есть ли он во всех городах и в каком количестве**.\\\n",
    "Для отого отфильтруем из объединённой таблицы поездки меньше 1 минуты."
   ]
  },
  {
   "cell_type": "code",
   "execution_count": 71,
   "id": "e7830465",
   "metadata": {},
   "outputs": [
    {
     "data": {
      "text/html": [
       "<div>\n",
       "<style scoped>\n",
       "    .dataframe tbody tr th:only-of-type {\n",
       "        vertical-align: middle;\n",
       "    }\n",
       "\n",
       "    .dataframe tbody tr th {\n",
       "        vertical-align: top;\n",
       "    }\n",
       "\n",
       "    .dataframe thead th {\n",
       "        text-align: right;\n",
       "    }\n",
       "</style>\n",
       "<table border=\"1\" class=\"dataframe\">\n",
       "  <thead>\n",
       "    <tr style=\"text-align: right;\">\n",
       "      <th></th>\n",
       "      <th>city</th>\n",
       "      <th>subscription_type</th>\n",
       "      <th>user_id</th>\n",
       "    </tr>\n",
       "  </thead>\n",
       "  <tbody>\n",
       "    <tr>\n",
       "      <th>0</th>\n",
       "      <td>Ростов-на-Дону</td>\n",
       "      <td>free</td>\n",
       "      <td>17</td>\n",
       "    </tr>\n",
       "    <tr>\n",
       "      <th>1</th>\n",
       "      <td>Москва</td>\n",
       "      <td>free</td>\n",
       "      <td>14</td>\n",
       "    </tr>\n",
       "    <tr>\n",
       "      <th>2</th>\n",
       "      <td>Пятигорск</td>\n",
       "      <td>free</td>\n",
       "      <td>13</td>\n",
       "    </tr>\n",
       "    <tr>\n",
       "      <th>3</th>\n",
       "      <td>Омск</td>\n",
       "      <td>free</td>\n",
       "      <td>11</td>\n",
       "    </tr>\n",
       "    <tr>\n",
       "      <th>4</th>\n",
       "      <td>Сочи</td>\n",
       "      <td>free</td>\n",
       "      <td>11</td>\n",
       "    </tr>\n",
       "    <tr>\n",
       "      <th>5</th>\n",
       "      <td>Краснодар</td>\n",
       "      <td>free</td>\n",
       "      <td>10</td>\n",
       "    </tr>\n",
       "    <tr>\n",
       "      <th>6</th>\n",
       "      <td>Тюмень</td>\n",
       "      <td>free</td>\n",
       "      <td>10</td>\n",
       "    </tr>\n",
       "    <tr>\n",
       "      <th>7</th>\n",
       "      <td>Екатеринбург</td>\n",
       "      <td>free</td>\n",
       "      <td>9</td>\n",
       "    </tr>\n",
       "  </tbody>\n",
       "</table>\n",
       "</div>"
      ],
      "text/plain": [
       "             city subscription_type  user_id\n",
       "0  Ростов-на-Дону              free       17\n",
       "1          Москва              free       14\n",
       "2       Пятигорск              free       13\n",
       "3            Омск              free       11\n",
       "4            Сочи              free       11\n",
       "5       Краснодар              free       10\n",
       "6          Тюмень              free       10\n",
       "7    Екатеринбург              free        9"
      ]
     },
     "execution_count": 71,
     "metadata": {},
     "output_type": "execute_result"
    }
   ],
   "source": [
    "duration_min = rides_n_cities.query('duration < 1.0')\n",
    "\n",
    "duration_min_cities = group_and_sort(duration_min, 'city', 'subscription_type',  'user_id',np.size)\n",
    "duration_min_cities"
   ]
  },
  {
   "cell_type": "markdown",
   "id": "789f1b39",
   "metadata": {},
   "source": [
    "Поездки меньше 1 минуты есть во всех городах и всегда это - бесплатная подписка."
   ]
  },
  {
   "cell_type": "markdown",
   "id": "9808813b-4def-476c-a259-4f5ebd4ca5f8",
   "metadata": {},
   "source": [
    "**Рассмотрим подробнее поездки не превышающие 1 минуту**"
   ]
  },
  {
   "cell_type": "code",
   "execution_count": 74,
   "id": "7e34342d-ae24-4c93-8747-c15b7fdd0e98",
   "metadata": {},
   "outputs": [
    {
     "data": {
      "text/html": [
       "<div>\n",
       "<style scoped>\n",
       "    .dataframe tbody tr th:only-of-type {\n",
       "        vertical-align: middle;\n",
       "    }\n",
       "\n",
       "    .dataframe tbody tr th {\n",
       "        vertical-align: top;\n",
       "    }\n",
       "\n",
       "    .dataframe thead th {\n",
       "        text-align: right;\n",
       "    }\n",
       "</style>\n",
       "<table border=\"1\" class=\"dataframe\">\n",
       "  <thead>\n",
       "    <tr style=\"text-align: right;\">\n",
       "      <th></th>\n",
       "      <th>city</th>\n",
       "      <th>subscription_type</th>\n",
       "      <th>distance</th>\n",
       "    </tr>\n",
       "  </thead>\n",
       "  <tbody>\n",
       "    <tr>\n",
       "      <th>0</th>\n",
       "      <td>Сочи</td>\n",
       "      <td>free</td>\n",
       "      <td>5409.75</td>\n",
       "    </tr>\n",
       "    <tr>\n",
       "      <th>1</th>\n",
       "      <td>Пятигорск</td>\n",
       "      <td>free</td>\n",
       "      <td>5353.19</td>\n",
       "    </tr>\n",
       "    <tr>\n",
       "      <th>2</th>\n",
       "      <td>Москва</td>\n",
       "      <td>free</td>\n",
       "      <td>5146.43</td>\n",
       "    </tr>\n",
       "    <tr>\n",
       "      <th>3</th>\n",
       "      <td>Екатеринбург</td>\n",
       "      <td>free</td>\n",
       "      <td>5071.58</td>\n",
       "    </tr>\n",
       "    <tr>\n",
       "      <th>4</th>\n",
       "      <td>Ростов-на-Дону</td>\n",
       "      <td>free</td>\n",
       "      <td>4881.39</td>\n",
       "    </tr>\n",
       "    <tr>\n",
       "      <th>5</th>\n",
       "      <td>Тюмень</td>\n",
       "      <td>free</td>\n",
       "      <td>4856.42</td>\n",
       "    </tr>\n",
       "    <tr>\n",
       "      <th>6</th>\n",
       "      <td>Омск</td>\n",
       "      <td>free</td>\n",
       "      <td>4835.93</td>\n",
       "    </tr>\n",
       "    <tr>\n",
       "      <th>7</th>\n",
       "      <td>Краснодар</td>\n",
       "      <td>free</td>\n",
       "      <td>4737.04</td>\n",
       "    </tr>\n",
       "  </tbody>\n",
       "</table>\n",
       "</div>"
      ],
      "text/plain": [
       "             city subscription_type  distance\n",
       "0            Сочи              free   5409.75\n",
       "1       Пятигорск              free   5353.19\n",
       "2          Москва              free   5146.43\n",
       "3    Екатеринбург              free   5071.58\n",
       "4  Ростов-на-Дону              free   4881.39\n",
       "5          Тюмень              free   4856.42\n",
       "6            Омск              free   4835.93\n",
       "7       Краснодар              free   4737.04"
      ]
     },
     "execution_count": 74,
     "metadata": {},
     "output_type": "execute_result"
    }
   ],
   "source": [
    "# Посмотрим на дистанции поездок меньше 1 минуту\n",
    "duration_min_cities = group_and_sort(duration_min, 'city', 'subscription_type',  'distance',np.median)\n",
    "duration_min_cities"
   ]
  },
  {
   "cell_type": "code",
   "execution_count": 75,
   "id": "54b93991-1e23-4f7e-a035-c2c090156d6d",
   "metadata": {},
   "outputs": [
    {
     "data": {
      "text/html": [
       "<div>\n",
       "<style scoped>\n",
       "    .dataframe tbody tr th:only-of-type {\n",
       "        vertical-align: middle;\n",
       "    }\n",
       "\n",
       "    .dataframe tbody tr th {\n",
       "        vertical-align: top;\n",
       "    }\n",
       "\n",
       "    .dataframe thead th {\n",
       "        text-align: right;\n",
       "    }\n",
       "</style>\n",
       "<table border=\"1\" class=\"dataframe\">\n",
       "  <thead>\n",
       "    <tr style=\"text-align: right;\">\n",
       "      <th></th>\n",
       "      <th>month</th>\n",
       "      <th>distance</th>\n",
       "    </tr>\n",
       "  </thead>\n",
       "  <tbody>\n",
       "    <tr>\n",
       "      <th>3</th>\n",
       "      <td>1</td>\n",
       "      <td>9</td>\n",
       "    </tr>\n",
       "    <tr>\n",
       "      <th>4</th>\n",
       "      <td>2</td>\n",
       "      <td>8</td>\n",
       "    </tr>\n",
       "    <tr>\n",
       "      <th>0</th>\n",
       "      <td>3</td>\n",
       "      <td>11</td>\n",
       "    </tr>\n",
       "    <tr>\n",
       "      <th>7</th>\n",
       "      <td>4</td>\n",
       "      <td>7</td>\n",
       "    </tr>\n",
       "    <tr>\n",
       "      <th>5</th>\n",
       "      <td>5</td>\n",
       "      <td>8</td>\n",
       "    </tr>\n",
       "    <tr>\n",
       "      <th>10</th>\n",
       "      <td>6</td>\n",
       "      <td>5</td>\n",
       "    </tr>\n",
       "    <tr>\n",
       "      <th>8</th>\n",
       "      <td>7</td>\n",
       "      <td>7</td>\n",
       "    </tr>\n",
       "    <tr>\n",
       "      <th>6</th>\n",
       "      <td>8</td>\n",
       "      <td>8</td>\n",
       "    </tr>\n",
       "    <tr>\n",
       "      <th>9</th>\n",
       "      <td>9</td>\n",
       "      <td>6</td>\n",
       "    </tr>\n",
       "    <tr>\n",
       "      <th>11</th>\n",
       "      <td>10</td>\n",
       "      <td>4</td>\n",
       "    </tr>\n",
       "    <tr>\n",
       "      <th>1</th>\n",
       "      <td>11</td>\n",
       "      <td>11</td>\n",
       "    </tr>\n",
       "    <tr>\n",
       "      <th>2</th>\n",
       "      <td>12</td>\n",
       "      <td>11</td>\n",
       "    </tr>\n",
       "  </tbody>\n",
       "</table>\n",
       "</div>"
      ],
      "text/plain": [
       "    month  distance\n",
       "3       1         9\n",
       "4       2         8\n",
       "0       3        11\n",
       "7       4         7\n",
       "5       5         8\n",
       "10      6         5\n",
       "8       7         7\n",
       "6       8         8\n",
       "9       9         6\n",
       "11     10         4\n",
       "1      11        11\n",
       "2      12        11"
      ]
     },
     "execution_count": 75,
     "metadata": {},
     "output_type": "execute_result"
    }
   ],
   "source": [
    "# Посмотрим на распределение по месяцам поездок меньше 1 минуту\n",
    "duration_min_cities = group_and_sort(duration_min, 'month', None,  'distance',np.size)\n",
    "duration_min_cities.sort_values('month')"
   ]
  },
  {
   "cell_type": "markdown",
   "id": "106a8856-a95f-4a0a-86f1-ebdf6afa5d97",
   "metadata": {},
   "source": [
    "Дистанция поездок меньше 1 минуты по всем городам в районе 5 км. Также они присутствуют в каждом месяце. Но в малом количестве.\\\n",
    "Вполне вероятно, что это бонусные поездки по фиксированной цене, равной эквиваленту 1 минте.\n",
    ">Малое количенство и присутствие во всех месяцах можно считать результатом сценария маркетинговой акции в котором (предположим) бонусную первую поездку получает каждый N польхователь.\\\n",
    "> Для самого же пользователя получение такой поездки равноценно случайному выигрышу.\n",
    "\n",
    "**Представляется правильным их удалить**, так как в данном случае мы не знаем сценарий акции, и её экономику."
   ]
  },
  {
   "cell_type": "code",
   "execution_count": 77,
   "id": "bf5de364",
   "metadata": {},
   "outputs": [],
   "source": [
    "# Удаляем сверх-короткие поездки\n",
    "rides_n_cities = rides_n_cities.query ('duration >= 1').reset_index(drop=True)\n",
    "#rides_n_cities"
   ]
  },
  {
   "cell_type": "markdown",
   "id": "3ad8345d-909b-4253-a295-3f9be9cf09c5",
   "metadata": {},
   "source": [
    "Выводим статистику после удаления строк."
   ]
  },
  {
   "cell_type": "code",
   "execution_count": 79,
   "id": "f5dc2e5b-5539-4cad-a94a-63acdc70a742",
   "metadata": {},
   "outputs": [
    {
     "name": "stdout",
     "output_type": "stream",
     "text": [
      "<class 'pandas.core.frame.DataFrame'>\n",
      "RangeIndex: 17973 entries, 0 to 17972\n",
      "Data columns (total 9 columns):\n",
      " #   Column             Non-Null Count  Dtype         \n",
      "---  ------             --------------  -----         \n",
      " 0   user_id            17973 non-null  int64         \n",
      " 1   distance           17973 non-null  float64       \n",
      " 2   duration           17973 non-null  float64       \n",
      " 3   date               17973 non-null  datetime64[ns]\n",
      " 4   month              17973 non-null  int32         \n",
      " 5   name               17973 non-null  object        \n",
      " 6   age                17973 non-null  int64         \n",
      " 7   city               17973 non-null  object        \n",
      " 8   subscription_type  17973 non-null  object        \n",
      "dtypes: datetime64[ns](1), float64(2), int32(1), int64(2), object(3)\n",
      "memory usage: 1.2+ MB\n"
     ]
    }
   ],
   "source": [
    "rides_n_cities.info()"
   ]
  },
  {
   "cell_type": "markdown",
   "id": "2afa3369-7604-4119-b1b3-4b7beb9ce85b",
   "metadata": {},
   "source": [
    "Удалены 85 строк (18068-17973). Что соответствует нашей гистограмме."
   ]
  },
  {
   "cell_type": "code",
   "execution_count": 81,
   "id": "049c9fdc",
   "metadata": {},
   "outputs": [
    {
     "data": {
      "text/html": [
       "<div>\n",
       "<style scoped>\n",
       "    .dataframe tbody tr th:only-of-type {\n",
       "        vertical-align: middle;\n",
       "    }\n",
       "\n",
       "    .dataframe tbody tr th {\n",
       "        vertical-align: top;\n",
       "    }\n",
       "\n",
       "    .dataframe thead th {\n",
       "        text-align: right;\n",
       "    }\n",
       "</style>\n",
       "<table border=\"1\" class=\"dataframe\">\n",
       "  <thead>\n",
       "    <tr style=\"text-align: right;\">\n",
       "      <th></th>\n",
       "      <th>Metric</th>\n",
       "      <th>Value</th>\n",
       "    </tr>\n",
       "  </thead>\n",
       "  <tbody>\n",
       "    <tr>\n",
       "      <th>0</th>\n",
       "      <td>Mean</td>\n",
       "      <td>17.90</td>\n",
       "    </tr>\n",
       "    <tr>\n",
       "      <th>1</th>\n",
       "      <td>Std</td>\n",
       "      <td>5.98</td>\n",
       "    </tr>\n",
       "    <tr>\n",
       "      <th>2</th>\n",
       "      <td>Min</td>\n",
       "      <td>2.04</td>\n",
       "    </tr>\n",
       "    <tr>\n",
       "      <th>3</th>\n",
       "      <td>P25</td>\n",
       "      <td>13.67</td>\n",
       "    </tr>\n",
       "    <tr>\n",
       "      <th>4</th>\n",
       "      <td>Median</td>\n",
       "      <td>17.71</td>\n",
       "    </tr>\n",
       "    <tr>\n",
       "      <th>5</th>\n",
       "      <td>P75</td>\n",
       "      <td>21.75</td>\n",
       "    </tr>\n",
       "    <tr>\n",
       "      <th>6</th>\n",
       "      <td>Max</td>\n",
       "      <td>40.82</td>\n",
       "    </tr>\n",
       "    <tr>\n",
       "      <th>7</th>\n",
       "      <td>IQR</td>\n",
       "      <td>8.08</td>\n",
       "    </tr>\n",
       "    <tr>\n",
       "      <th>8</th>\n",
       "      <td>Lower Whisker</td>\n",
       "      <td>1.56</td>\n",
       "    </tr>\n",
       "    <tr>\n",
       "      <th>9</th>\n",
       "      <td>Upper Whisker</td>\n",
       "      <td>33.86</td>\n",
       "    </tr>\n",
       "  </tbody>\n",
       "</table>\n",
       "</div>"
      ],
      "text/plain": [
       "          Metric  Value\n",
       "0           Mean  17.90\n",
       "1            Std   5.98\n",
       "2            Min   2.04\n",
       "3            P25  13.67\n",
       "4         Median  17.71\n",
       "5            P75  21.75\n",
       "6            Max  40.82\n",
       "7            IQR   8.08\n",
       "8  Lower Whisker   1.56\n",
       "9  Upper Whisker  33.86"
      ]
     },
     "metadata": {},
     "output_type": "display_data"
    }
   ],
   "source": [
    "# вызаем функцию calculate_statistic\n",
    "duration_stat = calculate_statistics(rides_n_cities, 'duration')\n",
    "\n",
    "# Выводим таблицу с результатами\n",
    "display(duration_stat)"
   ]
  },
  {
   "cell_type": "markdown",
   "id": "0336a6b6",
   "metadata": {},
   "source": [
    "**Наблюдения**"
   ]
  },
  {
   "cell_type": "markdown",
   "id": "d4c1c421",
   "metadata": {},
   "source": [
    "1) Среднее время понздки 17,9 минуты.\\\n",
    "   50% поездок находятся в диапазоне 13.67 - 21.75 минуты.\\\n",
    "   При этом разброс времени поездок высок - диапазон основного массива данных - от 1,56 до почти 34 минут."
   ]
  },
  {
   "cell_type": "markdown",
   "id": "c84f5c54",
   "metadata": {},
   "source": [
    "2) На гистограмме распределения времени нет неравномерности в районе коротких по времени поездок, которая бы кореллировала с неравномерностью в области коротких по расстоянию поездок.\n",
    "   >Эта особенность может быть объяснена тем, что прямой связи между расстоянием и временем нет.\n",
    "   > Время поездки зависит не только от расстояния, но и от скорости движения, на которую влияют многие внешние факторы."
   ]
  },
  {
   "cell_type": "markdown",
   "id": "4d283cc3-a283-497c-9b1a-35a753d4b998",
   "metadata": {},
   "source": [
    "##  Объединение датасетов"
   ]
  },
  {
   "cell_type": "markdown",
   "id": "37de770b",
   "metadata": {},
   "source": [
    "### Объединение и добавление категоризации"
   ]
  },
  {
   "cell_type": "markdown",
   "id": "a629624e-17d6-4450-8a19-16555e714e4c",
   "metadata": {},
   "source": [
    "План:\n",
    "- Объединяем датасеты в один.\n",
    "- Вводим категоризацию по расстоянию (см. п.4.4 \"Продолжительность поездок\").\n",
    "- Разделяем датасет на 2 части по типу подписки.\n",
    "- Визуализируем данные о расстоянии и времени поездок для каждого вида подписок."
   ]
  },
  {
   "cell_type": "code",
   "execution_count": 88,
   "id": "36388752",
   "metadata": {
    "scrolled": true
   },
   "outputs": [
    {
     "name": "stdout",
     "output_type": "stream",
     "text": [
      "<class 'pandas.core.frame.DataFrame'>\n",
      "RangeIndex: 17973 entries, 0 to 17972\n",
      "Data columns (total 13 columns):\n",
      " #   Column             Non-Null Count  Dtype         \n",
      "---  ------             --------------  -----         \n",
      " 0   user_id            17973 non-null  int64         \n",
      " 1   distance           17973 non-null  float64       \n",
      " 2   duration           17973 non-null  float64       \n",
      " 3   date               17973 non-null  datetime64[ns]\n",
      " 4   month              17973 non-null  int32         \n",
      " 5   name               17973 non-null  object        \n",
      " 6   age                17973 non-null  int64         \n",
      " 7   city               17973 non-null  object        \n",
      " 8   subscription_type  17973 non-null  object        \n",
      " 9   minute_price       17973 non-null  int64         \n",
      " 10  start_ride_price   17973 non-null  int64         \n",
      " 11  subscription_fee   17973 non-null  int64         \n",
      " 12  distance_bin       17973 non-null  object        \n",
      "dtypes: datetime64[ns](1), float64(2), int32(1), int64(5), object(4)\n",
      "memory usage: 1.7+ MB\n"
     ]
    }
   ],
   "source": [
    "# Так как 2 датасета мы уже объединили раньше, то добавляем третий датасет\n",
    "data_total = rides_n_cities.merge(subscriptions, on = 'subscription_type', how = 'left')\n",
    "\n",
    "# Вводим категоризацию по дистанции\n",
    "def categorize_distance(distance):\n",
    "    try:\n",
    "        if 0 <= distance < 1500:\n",
    "            return 'Малое расстояние'\n",
    "        else:\n",
    "            return 'Стандартное расстояние'\n",
    "    except TypeError:\n",
    "        return 'None'\n",
    "# Категоризация\n",
    "data_total['distance_bin'] = data_total['distance'].apply(categorize_distance)\n",
    "\n",
    "# Проверяем результат\n",
    "#display (data_total.sample(3))\n",
    "data_total.info()"
   ]
  },
  {
   "cell_type": "markdown",
   "id": "1d6b70e0-fd25-4544-84cb-19054a555315",
   "metadata": {},
   "source": [
    "В объединённой таблице 17973 записи. Столько же в самом большом из объединяемых датасетов rides_n_cities.\\\n",
    "Пропусков в объединённой таблице нет."
   ]
  },
  {
   "cell_type": "markdown",
   "id": "cd235aec-847e-4208-84ed-bde6e6f67724",
   "metadata": {},
   "source": [
    "### Исследование коротких по расстоянию поездок. "
   ]
  },
  {
   "cell_type": "code",
   "execution_count": 91,
   "id": "7c86e408-16f7-4b64-847b-c71ffa884eaf",
   "metadata": {},
   "outputs": [
    {
     "name": "stdout",
     "output_type": "stream",
     "text": [
      "distance_bin\n",
      "Стандартное расстояние    16177\n",
      "Малое расстояние           1796\n",
      "Name: count, dtype: int64\n"
     ]
    }
   ],
   "source": [
    "# Посмотрим на распределение поездок по категориям расстояния distance_bin\n",
    "print (data_total['distance_bin'].value_counts())"
   ]
  },
  {
   "cell_type": "markdown",
   "id": "bf628cf5-3cd8-4828-90bc-0c28e3a9251e",
   "metadata": {},
   "source": [
    "Изучим короткие поездки. В каждом ли месяце есть такие поездки и в каждом ли виде подписки."
   ]
  },
  {
   "cell_type": "code",
   "execution_count": 93,
   "id": "46ce9945-a925-419d-a751-4abdc25b3a66",
   "metadata": {},
   "outputs": [],
   "source": [
    "# Выделим Короткие поезжки\n",
    "short_distance = data_total.query(\"distance <= 1500\")"
   ]
  },
  {
   "cell_type": "code",
   "execution_count": 94,
   "id": "c2378730-13da-4f41-a848-7df0e0abfecd",
   "metadata": {},
   "outputs": [
    {
     "data": {
      "text/html": [
       "<div>\n",
       "<style scoped>\n",
       "    .dataframe tbody tr th:only-of-type {\n",
       "        vertical-align: middle;\n",
       "    }\n",
       "\n",
       "    .dataframe tbody tr th {\n",
       "        vertical-align: top;\n",
       "    }\n",
       "\n",
       "    .dataframe thead th {\n",
       "        text-align: right;\n",
       "    }\n",
       "</style>\n",
       "<table border=\"1\" class=\"dataframe\">\n",
       "  <thead>\n",
       "    <tr style=\"text-align: right;\">\n",
       "      <th></th>\n",
       "      <th>subscription_type</th>\n",
       "      <th>month</th>\n",
       "      <th>distance_count</th>\n",
       "    </tr>\n",
       "  </thead>\n",
       "  <tbody>\n",
       "    <tr>\n",
       "      <th>0</th>\n",
       "      <td>free</td>\n",
       "      <td>1</td>\n",
       "      <td>108</td>\n",
       "    </tr>\n",
       "    <tr>\n",
       "      <th>1</th>\n",
       "      <td>free</td>\n",
       "      <td>2</td>\n",
       "      <td>106</td>\n",
       "    </tr>\n",
       "    <tr>\n",
       "      <th>2</th>\n",
       "      <td>free</td>\n",
       "      <td>3</td>\n",
       "      <td>130</td>\n",
       "    </tr>\n",
       "    <tr>\n",
       "      <th>3</th>\n",
       "      <td>free</td>\n",
       "      <td>4</td>\n",
       "      <td>107</td>\n",
       "    </tr>\n",
       "    <tr>\n",
       "      <th>4</th>\n",
       "      <td>free</td>\n",
       "      <td>5</td>\n",
       "      <td>96</td>\n",
       "    </tr>\n",
       "    <tr>\n",
       "      <th>5</th>\n",
       "      <td>free</td>\n",
       "      <td>6</td>\n",
       "      <td>104</td>\n",
       "    </tr>\n",
       "    <tr>\n",
       "      <th>6</th>\n",
       "      <td>free</td>\n",
       "      <td>7</td>\n",
       "      <td>98</td>\n",
       "    </tr>\n",
       "    <tr>\n",
       "      <th>7</th>\n",
       "      <td>free</td>\n",
       "      <td>8</td>\n",
       "      <td>127</td>\n",
       "    </tr>\n",
       "    <tr>\n",
       "      <th>8</th>\n",
       "      <td>free</td>\n",
       "      <td>9</td>\n",
       "      <td>106</td>\n",
       "    </tr>\n",
       "    <tr>\n",
       "      <th>9</th>\n",
       "      <td>free</td>\n",
       "      <td>10</td>\n",
       "      <td>117</td>\n",
       "    </tr>\n",
       "    <tr>\n",
       "      <th>10</th>\n",
       "      <td>free</td>\n",
       "      <td>11</td>\n",
       "      <td>111</td>\n",
       "    </tr>\n",
       "    <tr>\n",
       "      <th>11</th>\n",
       "      <td>free</td>\n",
       "      <td>12</td>\n",
       "      <td>118</td>\n",
       "    </tr>\n",
       "    <tr>\n",
       "      <th>12</th>\n",
       "      <td>ultra</td>\n",
       "      <td>1</td>\n",
       "      <td>51</td>\n",
       "    </tr>\n",
       "    <tr>\n",
       "      <th>13</th>\n",
       "      <td>ultra</td>\n",
       "      <td>2</td>\n",
       "      <td>37</td>\n",
       "    </tr>\n",
       "    <tr>\n",
       "      <th>14</th>\n",
       "      <td>ultra</td>\n",
       "      <td>3</td>\n",
       "      <td>39</td>\n",
       "    </tr>\n",
       "    <tr>\n",
       "      <th>15</th>\n",
       "      <td>ultra</td>\n",
       "      <td>4</td>\n",
       "      <td>30</td>\n",
       "    </tr>\n",
       "    <tr>\n",
       "      <th>16</th>\n",
       "      <td>ultra</td>\n",
       "      <td>5</td>\n",
       "      <td>32</td>\n",
       "    </tr>\n",
       "    <tr>\n",
       "      <th>17</th>\n",
       "      <td>ultra</td>\n",
       "      <td>6</td>\n",
       "      <td>38</td>\n",
       "    </tr>\n",
       "    <tr>\n",
       "      <th>18</th>\n",
       "      <td>ultra</td>\n",
       "      <td>7</td>\n",
       "      <td>41</td>\n",
       "    </tr>\n",
       "    <tr>\n",
       "      <th>19</th>\n",
       "      <td>ultra</td>\n",
       "      <td>8</td>\n",
       "      <td>40</td>\n",
       "    </tr>\n",
       "    <tr>\n",
       "      <th>20</th>\n",
       "      <td>ultra</td>\n",
       "      <td>9</td>\n",
       "      <td>41</td>\n",
       "    </tr>\n",
       "    <tr>\n",
       "      <th>21</th>\n",
       "      <td>ultra</td>\n",
       "      <td>10</td>\n",
       "      <td>33</td>\n",
       "    </tr>\n",
       "    <tr>\n",
       "      <th>22</th>\n",
       "      <td>ultra</td>\n",
       "      <td>11</td>\n",
       "      <td>46</td>\n",
       "    </tr>\n",
       "    <tr>\n",
       "      <th>23</th>\n",
       "      <td>ultra</td>\n",
       "      <td>12</td>\n",
       "      <td>40</td>\n",
       "    </tr>\n",
       "  </tbody>\n",
       "</table>\n",
       "</div>"
      ],
      "text/plain": [
       "   subscription_type  month  distance_count\n",
       "0               free      1             108\n",
       "1               free      2             106\n",
       "2               free      3             130\n",
       "3               free      4             107\n",
       "4               free      5              96\n",
       "5               free      6             104\n",
       "6               free      7              98\n",
       "7               free      8             127\n",
       "8               free      9             106\n",
       "9               free     10             117\n",
       "10              free     11             111\n",
       "11              free     12             118\n",
       "12             ultra      1              51\n",
       "13             ultra      2              37\n",
       "14             ultra      3              39\n",
       "15             ultra      4              30\n",
       "16             ultra      5              32\n",
       "17             ultra      6              38\n",
       "18             ultra      7              41\n",
       "19             ultra      8              40\n",
       "20             ultra      9              41\n",
       "21             ultra     10              33\n",
       "22             ultra     11              46\n",
       "23             ultra     12              40"
      ]
     },
     "execution_count": 94,
     "metadata": {},
     "output_type": "execute_result"
    }
   ],
   "source": [
    "short_distance_month = group_and_sort(short_distance, 'subscription_type', 'month',  'distance',np.size)\n",
    "# Переименовываем столбцы в более логичные\n",
    "short_distance_month = short_distance_month.rename(columns={'distance': 'distance_count'})\n",
    "short_distance_month"
   ]
  },
  {
   "cell_type": "markdown",
   "id": "9532d03b-7ac9-4d11-8bdd-fa05245f7c1c",
   "metadata": {},
   "source": [
    "**Наблюдения**\\\n",
    "Более 10 % поездок это - поездки на малые расстояния, не более 1,5 км при средней дальности более 3 км (3070 м)"
   ]
  },
  {
   "cell_type": "markdown",
   "id": "cdd084df-0804-428a-95de-c8c0b31377a2",
   "metadata": {},
   "source": [
    "Поездки на короткие расстояния (до 1,5 км) есть во всех городах и в каждом месяце года.\\\n",
    "как у платных, так и у бесплатных пользователей."
   ]
  },
  {
   "cell_type": "markdown",
   "id": "297faf93-878b-4bca-8853-f91dfe2904c8",
   "metadata": {},
   "source": [
    "**Возможное объяснение**\n",
    "Так как это явление не зависит от подписки, географии, времени, то, видимо, это эффект технический.\\\n",
    "И вызван запасом хода батареи в момент активации поездки.\\\n",
    "Если бы батарея была вечной, то этого пика бы не было и хвост был бы равномерный.\n",
    "> Мы ищем ответ **уже имея данные о распределении поездок в засисимости от подписки и рассчё, того, что короткие поездки составляют 10% общего объёма**.\\\n",
    "> Поэтому можем дополнить предположение следующим - 10% это именно те случаи, когда пользователь не смотрит заранее на остаток заряда (хода) перед активацией поездки, либо считает, что ему достаточно.\\\n",
    "> Платные пользователи, естественно, более ответсвенны и более внимательны к этой информации - этим можно объяснить смещение дистанции сегмента коротких поездок (это будет проиллюстрировано в дальнейшем) в большую сторону."
   ]
  },
  {
   "cell_type": "markdown",
   "id": "72871df4",
   "metadata": {},
   "source": [
    "### Разделение объединённого датасета по видам подписки"
   ]
  },
  {
   "cell_type": "code",
   "execution_count": 99,
   "id": "0c9cf8c5",
   "metadata": {
    "scrolled": true
   },
   "outputs": [],
   "source": [
    "# Вводим две новые переменные и разделяем датасет\n",
    "data_free = data_total.query(\"subscription_type == 'free'\")\n",
    "data_ultra = data_total.query(\"subscription_type == 'ultra'\")\n",
    "\n",
    "# Проверяем результат\n",
    "#display (data_free.sample(3))\n",
    "#display (data_ultra.sample(3))"
   ]
  },
  {
   "cell_type": "markdown",
   "id": "5503a0ed",
   "metadata": {},
   "source": [
    "### Дополнительные визуализации данных"
   ]
  },
  {
   "cell_type": "markdown",
   "id": "50a7537e",
   "metadata": {},
   "source": [
    "Выше, в разделе Исследовательский анализ данных, уже были визуализированы данные с разбивкой по видам подписки:\n",
    "- пользователи с подпиской и без с разбивкой по городам,\n",
    "- распределение подписок по возрастам.\n",
    "\n",
    "**Дополним исследование визуализациями**:\n",
    "- распределение расстояния в зависимости от видов подписки.\n",
    "- распределение времени поездки в зависимости от видов подписки."
   ]
  },
  {
   "cell_type": "markdown",
   "id": "d1b12c65",
   "metadata": {},
   "source": [
    "#### Распределение расстояния поездок"
   ]
  },
  {
   "cell_type": "code",
   "execution_count": 103,
   "id": "1256e3bb",
   "metadata": {
    "scrolled": true
   },
   "outputs": [
    {
     "data": {
      "image/png": "[encoded data removed]",
      "text/plain": [
       "<Figure size 800x300 with 1 Axes>"
      ]
     },
     "metadata": {},
     "output_type": "display_data"
    }
   ],
   "source": [
    "# Строим гистограммы\n",
    "data_free['distance'].hist(bins=200,figsize=(8, 3), label='Free', color='skyblue');\n",
    "data_ultra['distance'].hist(bins=200,figsize=(8, 3), alpha=0.9,  label='ultra')\n",
    "\n",
    "# Добавление заголовка, подписей осей и легенды\n",
    "plt.title('Распределение расстояния по типу подписки')\n",
    "plt.xlabel('Расстояние (м)')\n",
    "plt.ylabel('Количество поездок')\n",
    "plt.legend(loc='upper right')\n",
    "plt.show()"
   ]
  },
  {
   "cell_type": "code",
   "execution_count": 104,
   "id": "23f35b31",
   "metadata": {
    "scrolled": true
   },
   "outputs": [
    {
     "name": "stdout",
     "output_type": "stream",
     "text": [
      "distance stat\n"
     ]
    },
    {
     "data": {
      "text/html": [
       "<div>\n",
       "<style scoped>\n",
       "    .dataframe tbody tr th:only-of-type {\n",
       "        vertical-align: middle;\n",
       "    }\n",
       "\n",
       "    .dataframe tbody tr th {\n",
       "        vertical-align: top;\n",
       "    }\n",
       "\n",
       "    .dataframe thead th {\n",
       "        text-align: right;\n",
       "    }\n",
       "</style>\n",
       "<table border=\"1\" class=\"dataframe\">\n",
       "  <thead>\n",
       "    <tr style=\"text-align: right;\">\n",
       "      <th></th>\n",
       "      <th>Metric</th>\n",
       "      <th>Value_free</th>\n",
       "      <th>Value_ultra</th>\n",
       "    </tr>\n",
       "  </thead>\n",
       "  <tbody>\n",
       "    <tr>\n",
       "      <th>0</th>\n",
       "      <td>Mean</td>\n",
       "      <td>3028.37</td>\n",
       "      <td>3115.45</td>\n",
       "    </tr>\n",
       "    <tr>\n",
       "      <th>1</th>\n",
       "      <td>Std</td>\n",
       "      <td>1235.54</td>\n",
       "      <td>836.90</td>\n",
       "    </tr>\n",
       "    <tr>\n",
       "      <th>2</th>\n",
       "      <td>Min</td>\n",
       "      <td>0.86</td>\n",
       "      <td>244.21</td>\n",
       "    </tr>\n",
       "    <tr>\n",
       "      <th>3</th>\n",
       "      <td>P25</td>\n",
       "      <td>2360.88</td>\n",
       "      <td>2785.44</td>\n",
       "    </tr>\n",
       "    <tr>\n",
       "      <th>4</th>\n",
       "      <td>Median</td>\n",
       "      <td>3102.08</td>\n",
       "      <td>3148.64</td>\n",
       "    </tr>\n",
       "    <tr>\n",
       "      <th>5</th>\n",
       "      <td>P75</td>\n",
       "      <td>3883.98</td>\n",
       "      <td>3560.57</td>\n",
       "    </tr>\n",
       "    <tr>\n",
       "      <th>6</th>\n",
       "      <td>Max</td>\n",
       "      <td>7066.00</td>\n",
       "      <td>5699.77</td>\n",
       "    </tr>\n",
       "    <tr>\n",
       "      <th>7</th>\n",
       "      <td>IQR</td>\n",
       "      <td>1523.10</td>\n",
       "      <td>775.13</td>\n",
       "    </tr>\n",
       "    <tr>\n",
       "      <th>8</th>\n",
       "      <td>Lower Whisker</td>\n",
       "      <td>76.23</td>\n",
       "      <td>1622.75</td>\n",
       "    </tr>\n",
       "    <tr>\n",
       "      <th>9</th>\n",
       "      <td>Upper Whisker</td>\n",
       "      <td>6168.63</td>\n",
       "      <td>4723.27</td>\n",
       "    </tr>\n",
       "  </tbody>\n",
       "</table>\n",
       "</div>"
      ],
      "text/plain": [
       "          Metric  Value_free  Value_ultra\n",
       "0           Mean     3028.37      3115.45\n",
       "1            Std     1235.54       836.90\n",
       "2            Min        0.86       244.21\n",
       "3            P25     2360.88      2785.44\n",
       "4         Median     3102.08      3148.64\n",
       "5            P75     3883.98      3560.57\n",
       "6            Max     7066.00      5699.77\n",
       "7            IQR     1523.10       775.13\n",
       "8  Lower Whisker       76.23      1622.75\n",
       "9  Upper Whisker     6168.63      4723.27"
      ]
     },
     "metadata": {},
     "output_type": "display_data"
    }
   ],
   "source": [
    "# вызаем функцию calculate_statistics для data_free\n",
    "distance_free_stat = calculate_statistics(data_free, 'distance')\n",
    "\n",
    "# вызаем функцию calculate_statistics для data_ultra\n",
    "distance_ultra_stat = calculate_statistics(data_ultra, 'distance')\n",
    "\n",
    "# Объединяем\n",
    "distance_free_ultra_stat = distance_free_stat.merge(distance_ultra_stat, on = 'Metric', how = 'left')\n",
    "# Переименовываем столбцы в более логичные\n",
    "distance_free_ultra_stat = distance_free_ultra_stat.rename(columns={'Value_x': 'Value_free',\n",
    "                                                'Value_y': 'Value_ultra'})\n",
    "\n",
    "# Выводим таблицу с результатами\n",
    "print ('distance stat')\n",
    "display(distance_free_ultra_stat)\n"
   ]
  },
  {
   "cell_type": "markdown",
   "id": "bc1ef1f7",
   "metadata": {},
   "source": [
    "**Наблюдения**\n",
    "- Среднии и медианные расстояния у двух видов пользователей практически равны.\n",
    "- Максимальное расстояние больше в бесплатной группе.\n",
    "- Но разброс значений в платной группе заметно меньше.\\\n",
    "  Значение более близки к среднему, меньше коротких поездок и нет пробных (близких к нулю\n",
    "  >И если левая часть графика легко объяснима наличием абонентской платы, то правая требует детальной проработки маркетологами - почему **при наличии платного абонемента, пользователи не увеличивают дальность поездок, а уменьшают её**, что видно при сравнении метрик Max и Upper Whisker в таблице статистики."
   ]
  },
  {
   "cell_type": "markdown",
   "id": "f3349a34",
   "metadata": {},
   "source": [
    "#### Распределение времени поездок"
   ]
  },
  {
   "cell_type": "code",
   "execution_count": 108,
   "id": "e8387f26",
   "metadata": {},
   "outputs": [
    {
     "data": {
      "image/png": "[encoded data removed]",
      "text/plain": [
       "<Figure size 800x300 with 1 Axes>"
      ]
     },
     "metadata": {},
     "output_type": "display_data"
    }
   ],
   "source": [
    "# Строим гистограммы\n",
    "data_free['duration'].hist(bins=200,figsize=(8, 3), label='Free', color='skyblue');\n",
    "data_ultra['duration'].hist(bins=200,figsize=(8, 3), alpha=0.9, label='ultra')\n",
    "\n",
    "# Добавление заголовка, подписей осей и легенды\n",
    "plt.title('Распределение времени по типу подписки')\n",
    "plt.xlabel('Время (мин)')\n",
    "plt.ylabel('Количество поездок')\n",
    "plt.legend(loc='upper right')\n",
    "plt.show()"
   ]
  },
  {
   "cell_type": "code",
   "execution_count": 109,
   "id": "0f27592b",
   "metadata": {},
   "outputs": [
    {
     "name": "stdout",
     "output_type": "stream",
     "text": [
      "duration stat\n"
     ]
    },
    {
     "data": {
      "text/html": [
       "<div>\n",
       "<style scoped>\n",
       "    .dataframe tbody tr th:only-of-type {\n",
       "        vertical-align: middle;\n",
       "    }\n",
       "\n",
       "    .dataframe tbody tr th {\n",
       "        vertical-align: top;\n",
       "    }\n",
       "\n",
       "    .dataframe thead th {\n",
       "        text-align: right;\n",
       "    }\n",
       "</style>\n",
       "<table border=\"1\" class=\"dataframe\">\n",
       "  <thead>\n",
       "    <tr style=\"text-align: right;\">\n",
       "      <th></th>\n",
       "      <th>Metric</th>\n",
       "      <th>Value_free</th>\n",
       "      <th>Value_ultra</th>\n",
       "      <th>Delta_free_ultra</th>\n",
       "    </tr>\n",
       "  </thead>\n",
       "  <tbody>\n",
       "    <tr>\n",
       "      <th>0</th>\n",
       "      <td>Mean</td>\n",
       "      <td>17.53</td>\n",
       "      <td>18.54</td>\n",
       "      <td>1.06</td>\n",
       "    </tr>\n",
       "    <tr>\n",
       "      <th>1</th>\n",
       "      <td>Std</td>\n",
       "      <td>6.16</td>\n",
       "      <td>5.57</td>\n",
       "      <td>0.90</td>\n",
       "    </tr>\n",
       "    <tr>\n",
       "      <th>2</th>\n",
       "      <td>Min</td>\n",
       "      <td>2.04</td>\n",
       "      <td>3.76</td>\n",
       "      <td>1.85</td>\n",
       "    </tr>\n",
       "    <tr>\n",
       "      <th>3</th>\n",
       "      <td>P25</td>\n",
       "      <td>13.09</td>\n",
       "      <td>14.52</td>\n",
       "      <td>1.11</td>\n",
       "    </tr>\n",
       "    <tr>\n",
       "      <th>4</th>\n",
       "      <td>Median</td>\n",
       "      <td>17.38</td>\n",
       "      <td>18.18</td>\n",
       "      <td>1.05</td>\n",
       "    </tr>\n",
       "    <tr>\n",
       "      <th>5</th>\n",
       "      <td>P75</td>\n",
       "      <td>21.64</td>\n",
       "      <td>21.88</td>\n",
       "      <td>1.01</td>\n",
       "    </tr>\n",
       "    <tr>\n",
       "      <th>6</th>\n",
       "      <td>Max</td>\n",
       "      <td>34.95</td>\n",
       "      <td>40.82</td>\n",
       "      <td>1.17</td>\n",
       "    </tr>\n",
       "    <tr>\n",
       "      <th>7</th>\n",
       "      <td>IQR</td>\n",
       "      <td>8.55</td>\n",
       "      <td>7.36</td>\n",
       "      <td>0.86</td>\n",
       "    </tr>\n",
       "    <tr>\n",
       "      <th>8</th>\n",
       "      <td>Lower Whisker</td>\n",
       "      <td>0.26</td>\n",
       "      <td>3.49</td>\n",
       "      <td>13.55</td>\n",
       "    </tr>\n",
       "    <tr>\n",
       "      <th>9</th>\n",
       "      <td>Upper Whisker</td>\n",
       "      <td>34.47</td>\n",
       "      <td>32.92</td>\n",
       "      <td>0.96</td>\n",
       "    </tr>\n",
       "  </tbody>\n",
       "</table>\n",
       "</div>"
      ],
      "text/plain": [
       "          Metric  Value_free  Value_ultra  Delta_free_ultra\n",
       "0           Mean       17.53        18.54              1.06\n",
       "1            Std        6.16         5.57              0.90\n",
       "2            Min        2.04         3.76              1.85\n",
       "3            P25       13.09        14.52              1.11\n",
       "4         Median       17.38        18.18              1.05\n",
       "5            P75       21.64        21.88              1.01\n",
       "6            Max       34.95        40.82              1.17\n",
       "7            IQR        8.55         7.36              0.86\n",
       "8  Lower Whisker        0.26         3.49             13.55\n",
       "9  Upper Whisker       34.47        32.92              0.96"
      ]
     },
     "metadata": {},
     "output_type": "display_data"
    }
   ],
   "source": [
    "# вызаем функцию calculate_statistics для data_free\n",
    "duration_free_stat = calculate_statistics(data_free, 'duration')\n",
    "\n",
    "# вызаем функцию calculate_statistics для data_ultra\n",
    "duration_ultra_stat = calculate_statistics(data_ultra, 'duration')\n",
    "\n",
    "# Объединяем\n",
    "duration_free_ultra_stat = duration_free_stat.merge(duration_ultra_stat, on = 'Metric', how = 'left')\n",
    "\n",
    "# Переименовываем столбцы в более логичные\n",
    "duration_free_ultra_stat = duration_free_ultra_stat.rename(columns={'Value_x': 'Value_free',\n",
    "                                                'Value_y': 'Value_ultra'})\n",
    "# Добавляем столбец отношения\n",
    "duration_free_ultra_stat['Delta_free_ultra'] = (\n",
    "    duration_free_ultra_stat['Value_ultra'] / duration_free_ultra_stat['Value_free']\n",
    "    )\n",
    "# Выводим таблицу с результатами\n",
    "print ('duration stat')\n",
    "display(duration_free_ultra_stat)"
   ]
  },
  {
   "cell_type": "markdown",
   "id": "32db0206",
   "metadata": {},
   "source": [
    "**Наблюдения и предварительные выводы**\n",
    "- Минимальное время поездки с подпиской на 85% больше.\n",
    "- Среднее время и медиана также больше у платных пользователей на 6 и на 5 процентов соответсенно.\n",
    "- Максимальное значение времени у платных также больше - на 17%.\n",
    "- И хотя бесплатные пользователи имеют более высокую границу значимых данных (без учёта выбросов), Данные о платных подписках имеют меньший разброс и лучше сгруппированы вокруг среднего значения."
   ]
  },
  {
   "cell_type": "markdown",
   "id": "527b6951",
   "metadata": {},
   "source": [
    "**Верны ли предварительные выводы или они - результата статистической ошибки или случайного колебания данных в выборке, проверим на этапе проверки гипотез**."
   ]
  },
  {
   "cell_type": "markdown",
   "id": "04887e1c",
   "metadata": {},
   "source": [
    "## Исследование выручки"
   ]
  },
  {
   "cell_type": "markdown",
   "id": "447defb3",
   "metadata": {},
   "source": [
    "### Агрегирование данных по пользователям"
   ]
  },
  {
   "cell_type": "code",
   "execution_count": 114,
   "id": "a5835467",
   "metadata": {},
   "outputs": [
    {
     "data": {
      "text/html": [
       "<div>\n",
       "<style scoped>\n",
       "    .dataframe tbody tr th:only-of-type {\n",
       "        vertical-align: middle;\n",
       "    }\n",
       "\n",
       "    .dataframe tbody tr th {\n",
       "        vertical-align: top;\n",
       "    }\n",
       "\n",
       "    .dataframe thead th {\n",
       "        text-align: right;\n",
       "    }\n",
       "</style>\n",
       "<table border=\"1\" class=\"dataframe\">\n",
       "  <thead>\n",
       "    <tr style=\"text-align: right;\">\n",
       "      <th></th>\n",
       "      <th>user_id</th>\n",
       "      <th>month</th>\n",
       "      <th>subscription_type</th>\n",
       "      <th>rides_count_m</th>\n",
       "      <th>distance_m</th>\n",
       "      <th>duration_m</th>\n",
       "    </tr>\n",
       "  </thead>\n",
       "  <tbody>\n",
       "    <tr>\n",
       "      <th>7684</th>\n",
       "      <td>1092</td>\n",
       "      <td>10</td>\n",
       "      <td>free</td>\n",
       "      <td>1</td>\n",
       "      <td>2086.31</td>\n",
       "      <td>20.00</td>\n",
       "    </tr>\n",
       "    <tr>\n",
       "      <th>8761</th>\n",
       "      <td>1223</td>\n",
       "      <td>10</td>\n",
       "      <td>free</td>\n",
       "      <td>1</td>\n",
       "      <td>3631.71</td>\n",
       "      <td>17.00</td>\n",
       "    </tr>\n",
       "    <tr>\n",
       "      <th>4084</th>\n",
       "      <td>623</td>\n",
       "      <td>9</td>\n",
       "      <td>ultra</td>\n",
       "      <td>1</td>\n",
       "      <td>3099.61</td>\n",
       "      <td>26.00</td>\n",
       "    </tr>\n",
       "  </tbody>\n",
       "</table>\n",
       "</div>"
      ],
      "text/plain": [
       "      user_id  month subscription_type  rides_count_m  distance_m  duration_m\n",
       "7684     1092     10              free              1     2086.31       20.00\n",
       "8761     1223     10              free              1     3631.71       17.00\n",
       "4084      623      9             ultra              1     3099.61       26.00"
      ]
     },
     "metadata": {},
     "output_type": "display_data"
    }
   ],
   "source": [
    "# Округляем длительность поездок до верхнего целого (потолка)\n",
    "data_total['duration'] = np.ceil(data_total['duration'])\n",
    "\n",
    "user_profiles = data_total.pivot_table (index = ['user_id', 'month','subscription_type'],\n",
    "                values=['date', 'distance', 'duration'],\n",
    "                aggfunc= {'date':'count', 'distance':'sum', 'duration':'sum'})\n",
    "\n",
    "# Переименовываем столбцы в более логичные\n",
    "user_profiles = user_profiles.rename(\n",
    "    columns={'date': 'rides_count_m', 'distance': 'distance_m', 'duration': 'duration_m' })\n",
    "user_profiles = pd.DataFrame(user_profiles).reset_index()\n",
    "\n",
    "display(user_profiles.sample(3))"
   ]
  },
  {
   "cell_type": "markdown",
   "id": "5f14d132",
   "metadata": {},
   "source": [
    "### Расчёт выручки"
   ]
  },
  {
   "cell_type": "code",
   "execution_count": 116,
   "id": "2e52d252",
   "metadata": {
    "scrolled": true
   },
   "outputs": [
    {
     "data": {
      "text/html": [
       "<div>\n",
       "<style scoped>\n",
       "    .dataframe tbody tr th:only-of-type {\n",
       "        vertical-align: middle;\n",
       "    }\n",
       "\n",
       "    .dataframe tbody tr th {\n",
       "        vertical-align: top;\n",
       "    }\n",
       "\n",
       "    .dataframe thead th {\n",
       "        text-align: right;\n",
       "    }\n",
       "</style>\n",
       "<table border=\"1\" class=\"dataframe\">\n",
       "  <thead>\n",
       "    <tr style=\"text-align: right;\">\n",
       "      <th></th>\n",
       "      <th>user_id</th>\n",
       "      <th>month</th>\n",
       "      <th>subscription_type</th>\n",
       "      <th>rides_count_m</th>\n",
       "      <th>distance_m</th>\n",
       "      <th>duration_m</th>\n",
       "      <th>minute_price</th>\n",
       "      <th>start_ride_price</th>\n",
       "      <th>subscription_fee</th>\n",
       "      <th>month_revenue</th>\n",
       "    </tr>\n",
       "  </thead>\n",
       "  <tbody>\n",
       "    <tr>\n",
       "      <th>1648</th>\n",
       "      <td>251</td>\n",
       "      <td>8</td>\n",
       "      <td>ultra</td>\n",
       "      <td>1</td>\n",
       "      <td>4085.26</td>\n",
       "      <td>14.00</td>\n",
       "      <td>6.00</td>\n",
       "      <td>0.00</td>\n",
       "      <td>199.00</td>\n",
       "      <td>283.00</td>\n",
       "    </tr>\n",
       "    <tr>\n",
       "      <th>3266</th>\n",
       "      <td>502</td>\n",
       "      <td>2</td>\n",
       "      <td>ultra</td>\n",
       "      <td>1</td>\n",
       "      <td>3431.62</td>\n",
       "      <td>21.00</td>\n",
       "      <td>6.00</td>\n",
       "      <td>0.00</td>\n",
       "      <td>199.00</td>\n",
       "      <td>325.00</td>\n",
       "    </tr>\n",
       "    <tr>\n",
       "      <th>5694</th>\n",
       "      <td>847</td>\n",
       "      <td>11</td>\n",
       "      <td>free</td>\n",
       "      <td>1</td>\n",
       "      <td>4021.30</td>\n",
       "      <td>23.00</td>\n",
       "      <td>8.00</td>\n",
       "      <td>50.00</td>\n",
       "      <td>0.00</td>\n",
       "      <td>234.00</td>\n",
       "    </tr>\n",
       "  </tbody>\n",
       "</table>\n",
       "</div>"
      ],
      "text/plain": [
       "      user_id  month subscription_type  rides_count_m  distance_m  duration_m  \\\n",
       "1648      251      8             ultra              1     4085.26       14.00   \n",
       "3266      502      2             ultra              1     3431.62       21.00   \n",
       "5694      847     11              free              1     4021.30       23.00   \n",
       "\n",
       "      minute_price  start_ride_price  subscription_fee  month_revenue  \n",
       "1648          6.00              0.00            199.00         283.00  \n",
       "3266          6.00              0.00            199.00         325.00  \n",
       "5694          8.00             50.00              0.00         234.00  "
      ]
     },
     "execution_count": 116,
     "metadata": {},
     "output_type": "execute_result"
    }
   ],
   "source": [
    "# Добавляем необходимые данные\n",
    "add_data = data_total[['user_id','minute_price','start_ride_price', 'subscription_fee']].pivot_table (index = 'user_id')\n",
    "\n",
    "user_profiles_rev = user_profiles.merge(\n",
    "                       add_data, on = 'user_id', how = 'left')\n",
    "\n",
    "# Добавляем столбец с выручкой\n",
    "user_profiles_rev['month_revenue'] = (\n",
    "            user_profiles_rev['start_ride_price'] * user_profiles_rev['rides_count_m']) + (\n",
    "                user_profiles_rev['minute_price'] * user_profiles_rev['duration_m']\n",
    "                     ) + user_profiles_rev['subscription_fee']\n",
    "\n",
    "user_profiles_rev.sample(3)"
   ]
  },
  {
   "cell_type": "markdown",
   "id": "a2b5a759",
   "metadata": {},
   "source": [
    "**Итог**:\\\n",
    "Создана таблица профилей клиентов и добавлен расчёт ежемесячной выручки от каждого клиента."
   ]
  },
  {
   "cell_type": "markdown",
   "id": "355d2f66",
   "metadata": {},
   "source": [
    "## Проверка гипотез"
   ]
  },
  {
   "cell_type": "markdown",
   "id": "4a964b69",
   "metadata": {},
   "source": [
    "### Гипотеза 1. Вид подписки и время поездок."
   ]
  },
  {
   "cell_type": "markdown",
   "id": "4dd7a931",
   "metadata": {},
   "source": [
    "**Пользователи с подпиской тратят больше времени на поездки**.\n",
    ">Если да, то пользователи с подпиской могут быть более выгодными для компании."
   ]
  },
  {
   "cell_type": "markdown",
   "id": "d04a94cb",
   "metadata": {},
   "source": [
    "**Нулевая гипотеза**:\\\n",
    "Среднее время поездок с подпиской равно среднему времени поездок без подписки.\\\n",
    "**Альтернативная гипотеза**:\\\n",
    "Среднее ремя с подпиской больше среднего времени без подписок."
   ]
  },
  {
   "cell_type": "code",
   "execution_count": 122,
   "id": "8d94a208",
   "metadata": {},
   "outputs": [
    {
     "name": "stdout",
     "output_type": "stream",
     "text": [
      "\n",
      "p-значение: 1.6162210195311066e-29\n",
      "Отвергаем нулевую гипотезу. Среднее время с подпиской больше среднего времени без подписки\n"
     ]
    }
   ],
   "source": [
    "# Проверяем гипотезу\n",
    "# уровень статистической значимости 0.05\n",
    "alpha = 0.05 \n",
    "\n",
    "results = stats.ttest_ind(\n",
    "    data_ultra['duration'], \n",
    "    data_free['duration'],  alternative= 'greater', equal_var=False)\n",
    "\n",
    "print('p-значение:', results.pvalue)\n",
    "\n",
    "if results.pvalue < alpha:\n",
    "    print('Отвергаем нулевую гипотезу. Среднее время с подпиской больше среднего времени без подписки')\n",
    "else:\n",
    "    print('Не получилось отвергнуть нулевую гипотезу. Среднее время с подпиской не больше среднего без подписки')"
   ]
  },
  {
   "cell_type": "markdown",
   "id": "fec246f6",
   "metadata": {},
   "source": [
    "**Тест подтверждает альтернативную гипотезу**.\n",
    "Позьзователи с подпиской тратят больше временин на поездки, чем пользователи без подписки.\\\n",
    "Это позволяет утверждать, что пердварительные выводы, сделанные ранее на основе визуализации и статистики, обоснованы и не являются статистической ошибкой.\n",
    ">Повторим их:\n",
    ">- Минимальное время поездки с подпиской на 85% больше.\n",
    ">- Среднее время и медиана также больше у платных пользователей на 6 и на 5 процентов соответсенно.\n",
    ".- Максимальное значение времени у платных также больше - на 17%\n",
    ">- И хотя бесплатные пользователи имеют более высокую границу значимых данных (без учёта выбросов), данные о платных подписках имеют меньший разброс и лучше сгруппированы вокруг среднего значения."
   ]
  },
  {
   "cell_type": "markdown",
   "id": "cc7df73d",
   "metadata": {},
   "source": [
    "**Более высокие показатели длительности поездок по подписокам\\\n",
    "не означают автоматически, что они более выгодны для компании**.\\\n",
    "Большая длительность использования самокатов может быть нивелирована более низкой средней стоимостью минуты поездки.\n",
    "\n",
    "Проверим это."
   ]
  },
  {
   "cell_type": "markdown",
   "id": "a53b960c",
   "metadata": {},
   "source": [
    "У нас уже есть таблица с выручкой по месяцам. Используем её."
   ]
  },
  {
   "cell_type": "code",
   "execution_count": 126,
   "id": "f67fbb81",
   "metadata": {},
   "outputs": [
    {
     "data": {
      "text/html": [
       "<div>\n",
       "<style scoped>\n",
       "    .dataframe tbody tr th:only-of-type {\n",
       "        vertical-align: middle;\n",
       "    }\n",
       "\n",
       "    .dataframe tbody tr th {\n",
       "        vertical-align: top;\n",
       "    }\n",
       "\n",
       "    .dataframe thead th {\n",
       "        text-align: right;\n",
       "    }\n",
       "</style>\n",
       "<table border=\"1\" class=\"dataframe\">\n",
       "  <thead>\n",
       "    <tr style=\"text-align: right;\">\n",
       "      <th></th>\n",
       "      <th>duration_ttl</th>\n",
       "      <th>revenue_ttl</th>\n",
       "      <th>real_profit_minute</th>\n",
       "    </tr>\n",
       "    <tr>\n",
       "      <th>subscription_type</th>\n",
       "      <th></th>\n",
       "      <th></th>\n",
       "      <th></th>\n",
       "    </tr>\n",
       "  </thead>\n",
       "  <tbody>\n",
       "    <tr>\n",
       "      <th>free</th>\n",
       "      <td>206868.00</td>\n",
       "      <td>2228594.00</td>\n",
       "      <td>10.77</td>\n",
       "    </tr>\n",
       "    <tr>\n",
       "      <th>ultra</th>\n",
       "      <td>123745.00</td>\n",
       "      <td>1644537.00</td>\n",
       "      <td>13.29</td>\n",
       "    </tr>\n",
       "  </tbody>\n",
       "</table>\n",
       "</div>"
      ],
      "text/plain": [
       "                   duration_ttl  revenue_ttl  real_profit_minute\n",
       "subscription_type                                               \n",
       "free                  206868.00   2228594.00               10.77\n",
       "ultra                 123745.00   1644537.00               13.29"
      ]
     },
     "execution_count": 126,
     "metadata": {},
     "output_type": "execute_result"
    }
   ],
   "source": [
    "free_ultra_rev_grouped = user_profiles_rev.pivot_table(index = 'subscription_type',\n",
    "                values=['duration_m', 'month_revenue'],\n",
    "                aggfunc= {'duration_m':'sum', 'month_revenue':'sum'})\n",
    "free_ultra_rev_grouped['real_profit_minute'] = free_ultra_rev_grouped['month_revenue'] / free_ultra_rev_grouped['duration_m']\n",
    "\n",
    "# Переименовываем столбцы в более логичные\n",
    "free_ultra_rev_grouped = free_ultra_rev_grouped.rename(columns={'duration_m': 'duration_ttl',\n",
    "                                'month_revenue': 'revenue_ttl'})\n",
    "free_ultra_rev_grouped"
   ]
  },
  {
   "cell_type": "markdown",
   "id": "895b263f",
   "metadata": {},
   "source": [
    "**Наблюдение**\\\n",
    "У платных пользователей не только время поездок выше, чем у бесплатных.\\\n",
    "Но и, в соответствии с ретроспективными данными, - доходность 1 минуты ultra - выше почти на 30%, чем free."
   ]
  },
  {
   "cell_type": "markdown",
   "id": "a1dab432",
   "metadata": {},
   "source": [
    "### Гипотеза 2. Оптимальное расстояние - 3130 м"
   ]
  },
  {
   "cell_type": "markdown",
   "id": "ccaf32ef",
   "metadata": {},
   "source": [
    "Расстояние одной поездки в 3130 метров — оптимальное с точки зрения износа самоката.\\\n",
    "Можно ли сказать, что среднее расстояние, которое проезжают пользователи с подпиской за одну поездку, не превышает 3130 метров?"
   ]
  },
  {
   "cell_type": "markdown",
   "id": "37480a03",
   "metadata": {},
   "source": [
    "**Нулевая гипотеза**:\\\n",
    "Среднее расстояние, которое проезжают пользователи с подпиской за одну поездку равно 3130 метров.\\\n",
    "**Альтернативная гипотеза**:\\\n",
    "Среднее расстояние, которое проезжают пользователи с подпиской за одну поездку больше 3130 метров.."
   ]
  },
  {
   "cell_type": "code",
   "execution_count": 131,
   "id": "3eaf3df2",
   "metadata": {},
   "outputs": [
    {
     "name": "stdout",
     "output_type": "stream",
     "text": [
      "p-значение: 0.9195368847849785\n",
      "Не получилось отвергнуть нулевую гипотезу. Среднее расстояние поездки с подпиской не больше 3130 метров\n"
     ]
    }
   ],
   "source": [
    "# Проверяем гипотезу\n",
    "# Срасстояние, которое проезжают пользователи с подпиской за одну поездку\n",
    "interested_value = 3130\n",
    "\n",
    "# уровень статистической значимости 0.05\n",
    "alpha = 0.05 \n",
    "\n",
    "results = stats.ttest_1samp(\n",
    "    data_ultra['distance'], \n",
    "    interested_value, alternative= 'greater')\n",
    "\n",
    "print('p-значение:', results.pvalue)\n",
    "\n",
    "if results.pvalue < alpha:\n",
    "    print('Отвергаем нулевую гипотезу. Среднее расстояние поездки с подпиской больше 3130 метров')\n",
    "else:\n",
    "    print('Не получилось отвергнуть нулевую гипотезу. Среднее расстояние поездки с подпиской не больше 3130 метров')"
   ]
  },
  {
   "cell_type": "markdown",
   "id": "b328a496",
   "metadata": {},
   "source": [
    "**Результат t-test для ultra**:\\\n",
    "среднее расстояние поездки с подпиской не превышает 3130 метров."
   ]
  },
  {
   "cell_type": "markdown",
   "id": "6beb4a80",
   "metadata": {},
   "source": [
    "**Сделаем такую же проверку для пользователей free**"
   ]
  },
  {
   "cell_type": "code",
   "execution_count": 134,
   "id": "649fd3a6",
   "metadata": {},
   "outputs": [
    {
     "name": "stdout",
     "output_type": "stream",
     "text": [
      "p-значение: 1.0\n",
      "Не получилось отвергнуть нулевую гипотезу. Среднее расстояние ьесплатных поездок не больше 3130 метров\n"
     ]
    }
   ],
   "source": [
    "# Проверяем гипотезу\n",
    "# Срасстояние, которое проезжают пользователи с подпиской за одну поездку\n",
    "interested_value = 3130\n",
    "\n",
    "# уровень статистической значимости 0.05\n",
    "alpha = 0.05 \n",
    "\n",
    "results = stats.ttest_1samp(\n",
    "    data_free['distance'], \n",
    "    interested_value, alternative= 'greater')\n",
    "\n",
    "print('p-значение:', results.pvalue)\n",
    "\n",
    "if results.pvalue < alpha:\n",
    "    print('Отвергаем нулевую гипотезу. Среднее расстояние бесплатных поездок больше 3130 метров')\n",
    "else:\n",
    "    print('Не получилось отвергнуть нулевую гипотезу. Среднее расстояние ьесплатных поездок не больше 3130 метров')"
   ]
  },
  {
   "cell_type": "markdown",
   "id": "a357787b",
   "metadata": {},
   "source": [
    "**Результат t-test для free**:\\\n",
    "среднее расстояние поездки без подписки не больше 3130 метров."
   ]
  },
  {
   "cell_type": "markdown",
   "id": "181d78d9",
   "metadata": {},
   "source": [
    "**Вывод**\\\n",
    "Среднее расстояние поездок как ultra, так и free не выше максимального с точки зрения износа самоката."
   ]
  },
  {
   "cell_type": "markdown",
   "id": "759572d4",
   "metadata": {},
   "source": [
    "### Гипотеза 3. Вид подписки и выручка."
   ]
  },
  {
   "cell_type": "markdown",
   "id": "61314261",
   "metadata": {},
   "source": [
    "Будет ли помесячная выручка от пользователей с подпиской по месяцам выше, чем выручка от пользователей без подписки."
   ]
  },
  {
   "cell_type": "markdown",
   "id": "def79713",
   "metadata": {},
   "source": [
    "**Нулевая гипотеза**:\\\n",
    "Выручка от пользователей с подпиской по месяцам равна выручке от пользователей без подписки.\\\n",
    "**Альтернативная гипотеза**:\\\n",
    "выручка от пользователей с подпиской по месяцам выше, чем выручка от пользователей без подписки."
   ]
  },
  {
   "cell_type": "code",
   "execution_count": 140,
   "id": "d3a1973d",
   "metadata": {},
   "outputs": [],
   "source": [
    "# Делим таблицу с помесячной выручкой на 2 части по виду подписки\n",
    "month_rev_free = user_profiles_rev.query(\"subscription_type == 'free'\")\n",
    "month_rev_ultra = user_profiles_rev.query(\"subscription_type == 'ultra'\")"
   ]
  },
  {
   "cell_type": "code",
   "execution_count": 141,
   "id": "c2a2ec38",
   "metadata": {},
   "outputs": [
    {
     "name": "stdout",
     "output_type": "stream",
     "text": [
      "p-значение: 2.497024287285847e-38\n",
      "Отвергаем нулевую гипотезу. Выручка от пользователей с подпиской по месяцам больше выручки от пользователей без подписки.\n"
     ]
    }
   ],
   "source": [
    "# Проверяем гипотезу\n",
    "# уровень статистической значимости 0.05\n",
    "alpha = 0.05 \n",
    "\n",
    "results = stats.ttest_ind(\n",
    "    month_rev_ultra['month_revenue'], \n",
    "    month_rev_free['month_revenue'], alternative= 'greater', equal_var=False)\n",
    "\n",
    "print('p-значение:', results.pvalue)\n",
    "\n",
    "if results.pvalue < alpha:\n",
    "    print('Отвергаем нулевую гипотезу. Выручка от пользователей с подпиской по месяцам больше выручки от пользователей без подписки.')\n",
    "else:\n",
    "    print('Не получилось отвергнуть нулевую гипотезу. Выручка от пользователей с подпиской по месяцам не больше выручкт от пользователей без подписки.')"
   ]
  },
  {
   "cell_type": "markdown",
   "id": "4db6e18c",
   "metadata": {},
   "source": [
    "**Результат t-test**:\\\n",
    "Выручка от пользователей с подпиской по месяцам больше выручки от пользователей без подписки."
   ]
  },
  {
   "cell_type": "markdown",
   "id": "5d3f0d5c",
   "metadata": {},
   "source": [
    "## Заключение и выводы"
   ]
  },
  {
   "cell_type": "markdown",
   "id": "e91d7a8c",
   "metadata": {},
   "source": [
    "### Исследование данных в датасете"
   ]
  },
  {
   "cell_type": "markdown",
   "id": "51b837e4",
   "metadata": {},
   "source": [
    "1) Чаще всего в системе регистрируются пользователи из Пятигорска (14.28 %), реже всего - из Москвы (10,95 %).\n",
    "Разница составляет 3,33 %. На первй взгляд, не много, но Москва по численности потенциальных пользователей в десятки раз больше Пятигорска. Следовательно, положение Москвы по данному показателю очень низкое.\n",
    ">Возможно, это связано или с низкой доступностью сервиса в Москве, или с завышенной стоимостью услуги в городе.\n",
    "\n",
    "2) Во всех городах количество бесплатных пользователей больше, чем платных.\n",
    "За исключением Москвы, где эти количества практически равны, но позиция Москвы с учвётом населения - аномальна.\\\n",
    "Доля платных пользователей по всем городам сопоставима - от 43 до 50 процентов.\n",
    "С ростом количества пользователей, доля платных подписок падает.\n",
    "\n",
    "3) Средний возраст пользователей - 24,9 лет.\n",
    "Основная масса данных находится в диапазоне 13- 37 лет.\n",
    "\n",
    "4) В диапазоне наиболее активных возрастов, составляющищих 50% всех польльзователей - 22-28 лет - бесплатные пользователи преобладают. В группе от 29 лет - преобладают платные подписки."
   ]
  },
  {
   "cell_type": "markdown",
   "id": "17cea18a",
   "metadata": {},
   "source": [
    "5) График продолжительности поездок имеет неравномерность в области 0-1500 м.\\\n",
    "   Более 10 % поездок это - поездки на малые расстояния, не более 1,5 км при средней дальности более 3 км (3070 м)\n",
    "Такое распределение с особой группой коротких поездок характерно для всех городов.\n",
    "\n",
    ">**Рекомендация**\\\n",
    ">Можно предложить маркетологам выделить сегмент \"Короткие поездки\" как самостоятельный.\\\n",
    ">И разработать меры по его уменьщению. Предложения - в следующем разделе.\n",
    "\n",
    "6) Среднее время понздки 17,9 минуты. 50% поездок находятся в диапазоне 13.67 - 21.75 минуты.\n",
    "   \n",
    "8) Сравнение проезжаемого расстояния от вида подписки показало:\n",
    "   - Среднии и медианные расстояния у двух видов пользователей практически равны.\n",
    "   - -Максимальное расстояние больше в бесплатной группе.\n",
    "   - Но разброс значений в платной группе заметно меньше.\n",
    "> Cмещение малых расстояний в сторону увеличения у платных подписок вполне объяснимо фактом наличия абонентской платы. Но почему при наличии платного абонемента, пользователи не увеличивают дальность поездок, а уменьшают её - этот факт требует отдельного исследования. "
   ]
  },
  {
   "cell_type": "markdown",
   "id": "7012bd3c",
   "metadata": {},
   "source": [
    "### Результаты проверки гипотез"
   ]
  },
  {
   "cell_type": "markdown",
   "id": "5cdfe9a4",
   "metadata": {},
   "source": [
    "1) Позьзователи с подпиской тратят больше временин на поездки, чем пользователи без подписки.\\\n",
    "   t-test подтвердил, что пердварительные выводы, сделанные на основе визуализации и статистики, обоснованы и не являются статистической ошибкой.\n",
    "   - Минимальное время поездки с подпиской на 85% больше.\n",
    "   - Среднее время и медиана также больше у платных пользователей на 6 и на 5 процентов соответсенно.\n",
    "   - Максимальное значение времени у платных также больше - на 17%\n",
    "   - У платных пользователей не только время поездок выше, но и, в соответствии с имеющимися данными, доходность 1 минуты ultra - выше почти на 30%, чем free.\n",
    "\n",
    "\n",
    "2) Среднее расстояние поездки как с подпиской, так и без не превышает оптимальных с точки зрения износа  3130 метров.\n",
    "\n",
    "\n",
    "4) Выручка от пользователей с подпиской в рассчёте по месяцам больше выручки от пользователей без подписки.\n",
    "\n",
    "> **Рекомендации**\\\n",
    "> Развитие группы платных подписок переспективно для компании.\\\n",
    "> Также можно рекоменловать:\n",
    "> - разработать меры по уменьшению количества коротких по расстоянию поездок. Если наше предположение об исчерпаемости батареи верно, то уменьшить количество таких поездок можно переключив выбор пользователя на более заряженные экземпляры. Вероятно стоит переработать систему информирования.\n",
    "> - принять тарифные меры для компенсации износа самокатов больше оптимального у платных пользователей при дальних поездках.\n",
    ">    >Мы видели, что средняя дистанция не превышает критическую точку. Но это - среднее значение. Половина самокатов проходят большее расстояние.\n",
    "> - Также целесообразно ограничить дистанцию для категории free. Например, введя тариф без абонентской платы, но с ограничением по дистанции.\n",
    "> - Обратить внимание на Москву, представленность которой в датасете непропорциональна количеству населения. Если это не особенности выборки, то стоит приложить усилия к развивитию сервиса в городе.\n",
    "\n"
   ]
  }
 ],
 "metadata": {
  "ExecuteTimeLog": [
   {
    "duration": 1146,
    "start_time": "2024-10-17T17:10:09.491Z"
   },
   {
    "duration": 149,
    "start_time": "2024-10-17T17:10:10.638Z"
   },
   {
    "duration": 17,
    "start_time": "2024-10-17T17:10:10.789Z"
   },
   {
    "duration": 23,
    "start_time": "2024-10-17T17:10:10.809Z"
   },
   {
    "duration": 374,
    "start_time": "2024-10-17T17:10:10.833Z"
   },
   {
    "duration": 198,
    "start_time": "2024-10-17T17:10:11.208Z"
   },
   {
    "duration": 14,
    "start_time": "2024-10-17T17:10:11.412Z"
   },
   {
    "duration": 3,
    "start_time": "2024-10-17T17:10:11.434Z"
   },
   {
    "duration": 5,
    "start_time": "2024-10-17T17:10:11.438Z"
   },
   {
    "duration": 37,
    "start_time": "2024-10-17T17:10:11.445Z"
   },
   {
    "duration": 399,
    "start_time": "2024-10-17T17:10:11.483Z"
   },
   {
    "duration": 5,
    "start_time": "2024-10-17T17:10:11.884Z"
   },
   {
    "duration": 34,
    "start_time": "2024-10-17T17:10:11.891Z"
   },
   {
    "duration": 191,
    "start_time": "2024-10-17T17:10:11.927Z"
   },
   {
    "duration": 17,
    "start_time": "2024-10-17T17:10:12.119Z"
   },
   {
    "duration": 263,
    "start_time": "2024-10-17T17:10:12.138Z"
   },
   {
    "duration": 217,
    "start_time": "2024-10-17T17:10:12.403Z"
   },
   {
    "duration": 115,
    "start_time": "2024-10-17T17:10:12.621Z"
   },
   {
    "duration": 5,
    "start_time": "2024-10-17T17:10:12.737Z"
   },
   {
    "duration": 14,
    "start_time": "2024-10-17T17:10:12.743Z"
   },
   {
    "duration": 13,
    "start_time": "2024-10-17T17:10:12.759Z"
   },
   {
    "duration": 4,
    "start_time": "2024-10-17T17:10:12.773Z"
   },
   {
    "duration": 271,
    "start_time": "2024-10-17T17:10:12.778Z"
   },
   {
    "duration": 295,
    "start_time": "2024-10-17T17:10:13.050Z"
   },
   {
    "duration": 15,
    "start_time": "2024-10-17T17:10:13.346Z"
   },
   {
    "duration": 409,
    "start_time": "2024-10-17T17:10:13.362Z"
   },
   {
    "duration": 2,
    "start_time": "2024-10-17T17:10:13.773Z"
   },
   {
    "duration": 9,
    "start_time": "2024-10-17T17:10:13.778Z"
   },
   {
    "duration": 48,
    "start_time": "2024-10-17T17:10:13.788Z"
   },
   {
    "duration": 493,
    "start_time": "2024-10-17T17:10:13.837Z"
   },
   {
    "duration": 18,
    "start_time": "2024-10-17T17:10:14.332Z"
   },
   {
    "duration": 6,
    "start_time": "2024-10-17T17:10:14.352Z"
   },
   {
    "duration": 9,
    "start_time": "2024-10-17T17:10:14.359Z"
   },
   {
    "duration": 12,
    "start_time": "2024-10-17T17:10:14.369Z"
   },
   {
    "duration": 30,
    "start_time": "2024-10-17T17:10:14.383Z"
   },
   {
    "duration": 72,
    "start_time": "2024-10-17T17:10:14.414Z"
   },
   {
    "duration": 502,
    "start_time": "2024-10-17T17:10:14.487Z"
   },
   {
    "duration": 22,
    "start_time": "2024-10-17T17:10:14.991Z"
   },
   {
    "duration": 629,
    "start_time": "2024-10-17T17:10:15.014Z"
   },
   {
    "duration": 18,
    "start_time": "2024-10-17T17:10:15.645Z"
   },
   {
    "duration": 28,
    "start_time": "2024-10-17T17:10:15.664Z"
   },
   {
    "duration": 22,
    "start_time": "2024-10-17T17:10:15.712Z"
   },
   {
    "duration": 6,
    "start_time": "2024-10-17T17:10:15.735Z"
   },
   {
    "duration": 19,
    "start_time": "2024-10-17T17:10:15.743Z"
   },
   {
    "duration": 6,
    "start_time": "2024-10-17T17:10:15.764Z"
   },
   {
    "duration": 5,
    "start_time": "2024-10-17T17:10:15.772Z"
   },
   {
    "duration": 34,
    "start_time": "2024-10-17T17:10:15.779Z"
   },
   {
    "duration": 5,
    "start_time": "2024-10-17T17:10:15.815Z"
   },
   {
    "duration": 17,
    "start_time": "2024-10-17T17:20:32.708Z"
   },
   {
    "duration": 6,
    "start_time": "2024-10-17T17:22:19.933Z"
   },
   {
    "duration": 1474,
    "start_time": "2024-10-18T16:30:46.174Z"
   },
   {
    "duration": 387,
    "start_time": "2024-10-18T16:30:47.650Z"
   },
   {
    "duration": 25,
    "start_time": "2024-10-18T16:30:48.039Z"
   },
   {
    "duration": 24,
    "start_time": "2024-10-18T16:30:48.066Z"
   },
   {
    "duration": 497,
    "start_time": "2024-10-18T16:30:48.092Z"
   },
   {
    "duration": 255,
    "start_time": "2024-10-18T16:30:48.590Z"
   },
   {
    "duration": 17,
    "start_time": "2024-10-18T16:30:48.852Z"
   },
   {
    "duration": 2,
    "start_time": "2024-10-18T16:30:48.871Z"
   },
   {
    "duration": 5,
    "start_time": "2024-10-18T16:30:48.874Z"
   },
   {
    "duration": 17,
    "start_time": "2024-10-18T16:30:48.881Z"
   },
   {
    "duration": 13,
    "start_time": "2024-10-18T16:30:48.899Z"
   },
   {
    "duration": 21,
    "start_time": "2024-10-18T16:30:48.914Z"
   },
   {
    "duration": 26,
    "start_time": "2024-10-18T16:30:48.936Z"
   },
   {
    "duration": 445,
    "start_time": "2024-10-18T16:30:48.966Z"
   },
   {
    "duration": 6,
    "start_time": "2024-10-18T16:30:49.412Z"
   },
   {
    "duration": 77,
    "start_time": "2024-10-18T16:30:49.419Z"
   },
   {
    "duration": 219,
    "start_time": "2024-10-18T16:30:49.497Z"
   },
   {
    "duration": 21,
    "start_time": "2024-10-18T16:30:49.718Z"
   },
   {
    "duration": 328,
    "start_time": "2024-10-18T16:30:49.740Z"
   },
   {
    "duration": 276,
    "start_time": "2024-10-18T16:30:50.070Z"
   },
   {
    "duration": 125,
    "start_time": "2024-10-18T16:30:50.348Z"
   },
   {
    "duration": 9,
    "start_time": "2024-10-18T16:30:50.475Z"
   },
   {
    "duration": 22,
    "start_time": "2024-10-18T16:30:50.486Z"
   },
   {
    "duration": 16,
    "start_time": "2024-10-18T16:30:50.510Z"
   },
   {
    "duration": 17,
    "start_time": "2024-10-18T16:30:50.528Z"
   },
   {
    "duration": 323,
    "start_time": "2024-10-18T16:30:50.547Z"
   },
   {
    "duration": 282,
    "start_time": "2024-10-18T16:30:50.872Z"
   },
   {
    "duration": 19,
    "start_time": "2024-10-18T16:30:51.156Z"
   },
   {
    "duration": 542,
    "start_time": "2024-10-18T16:30:51.177Z"
   },
   {
    "duration": 2,
    "start_time": "2024-10-18T16:30:51.721Z"
   },
   {
    "duration": 37,
    "start_time": "2024-10-18T16:30:51.725Z"
   },
   {
    "duration": 30,
    "start_time": "2024-10-18T16:30:51.764Z"
   },
   {
    "duration": 609,
    "start_time": "2024-10-18T16:30:51.796Z"
   },
   {
    "duration": 19,
    "start_time": "2024-10-18T16:30:52.407Z"
   },
   {
    "duration": 26,
    "start_time": "2024-10-18T16:30:52.427Z"
   },
   {
    "duration": 14,
    "start_time": "2024-10-18T16:30:52.455Z"
   },
   {
    "duration": 6,
    "start_time": "2024-10-18T16:30:52.470Z"
   },
   {
    "duration": 14,
    "start_time": "2024-10-18T16:30:52.478Z"
   },
   {
    "duration": 10,
    "start_time": "2024-10-18T16:30:52.494Z"
   },
   {
    "duration": 52,
    "start_time": "2024-10-18T16:30:52.506Z"
   },
   {
    "duration": 5,
    "start_time": "2024-10-18T16:30:52.562Z"
   },
   {
    "duration": 19,
    "start_time": "2024-10-18T16:30:52.569Z"
   },
   {
    "duration": 19,
    "start_time": "2024-10-18T16:30:52.589Z"
   },
   {
    "duration": 10,
    "start_time": "2024-10-18T16:30:52.610Z"
   },
   {
    "duration": 667,
    "start_time": "2024-10-18T16:30:52.622Z"
   },
   {
    "duration": 18,
    "start_time": "2024-10-18T16:30:53.290Z"
   },
   {
    "duration": 730,
    "start_time": "2024-10-18T16:30:53.310Z"
   },
   {
    "duration": 22,
    "start_time": "2024-10-18T16:30:54.042Z"
   },
   {
    "duration": 33,
    "start_time": "2024-10-18T16:30:54.066Z"
   },
   {
    "duration": 23,
    "start_time": "2024-10-18T16:30:54.101Z"
   },
   {
    "duration": 45,
    "start_time": "2024-10-18T16:30:54.153Z"
   },
   {
    "duration": 20,
    "start_time": "2024-10-18T16:30:54.199Z"
   },
   {
    "duration": 5,
    "start_time": "2024-10-18T16:30:54.220Z"
   },
   {
    "duration": 5,
    "start_time": "2024-10-18T16:30:54.226Z"
   },
   {
    "duration": 11,
    "start_time": "2024-10-18T16:30:54.233Z"
   },
   {
    "duration": 13,
    "start_time": "2024-10-18T16:30:54.246Z"
   }
  ],
  "kernelspec": {
   "display_name": "Python 3 (ipykernel)",
   "language": "python",
   "name": "python3"
  },
  "language_info": {
   "codemirror_mode": {
    "name": "ipython",
    "version": 3
   },
   "file_extension": ".py",
   "mimetype": "text/x-python",
   "name": "python",
   "nbconvert_exporter": "python",
   "pygments_lexer": "ipython3",
   "version": "3.11.11"
  },
  "toc": {
   "base_numbering": 1,
   "nav_menu": {},
   "number_sections": true,
   "sideBar": true,
   "skip_h1_title": true,
   "title_cell": "Table of Contents",
   "title_sidebar": "Contents",
   "toc_cell": false,
   "toc_position": {},
   "toc_section_display": true,
   "toc_window_display": true
  }
 },
 "nbformat": 4,
 "nbformat_minor": 5
}
